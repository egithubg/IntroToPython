<!DOCTYPE html>

<html lang="en" class="no-js">
  <head>
    <meta charset="utf-8">
<script type="text/javascript">window.NREUM||(NREUM={});NREUM.info={"beacon":"bam.nr-data.net","errorBeacon":"bam.nr-data.net","licenseKey":"57d55ed8a3","applicationID":"10682","transactionName":"cgpcFRZbVV5cQEpTEV4SQQQWG1BcXVcd","queueTime":0,"applicationTime":181,"agent":""}</script>
<script type="text/javascript">window.NREUM||(NREUM={}),__nr_require=function(e,t,n){function r(n){if(!t[n]){var o=t[n]={exports:{}};e[n][0].call(o.exports,function(t){var o=e[n][1][t];return r(o||t)},o,o.exports)}return t[n].exports}if("function"==typeof __nr_require)return __nr_require;for(var o=0;o<n.length;o++)r(n[o]);return r}({1:[function(e,t,n){function r(){}function o(e,t,n){return function(){return i(e,[(new Date).getTime()].concat(u(arguments)),t?null:this,n),t?void 0:this}}var i=e("handle"),a=e(2),u=e(3),c=e("ee").get("tracer"),f=NREUM;"undefined"==typeof window.newrelic&&(newrelic=f);var s=["setPageViewName","setCustomAttribute","setErrorHandler","finished","addToTrace","inlineHit","addRelease"],l="api-",p=l+"ixn-";a(s,function(e,t){f[t]=o(l+t,!0,"api")}),f.addPageAction=o(l+"addPageAction",!0),f.setCurrentRouteName=o(l+"routeName",!0),t.exports=newrelic,f.interaction=function(){return(new r).get()};var d=r.prototype={createTracer:function(e,t){var n={},r=this,o="function"==typeof t;return i(p+"tracer",[Date.now(),e,n],r),function(){if(c.emit((o?"":"no-")+"fn-start",[Date.now(),r,o],n),o)try{return t.apply(this,arguments)}finally{c.emit("fn-end",[Date.now()],n)}}}};a("setName,setAttribute,save,ignore,onEnd,getContext,end,get".split(","),function(e,t){d[t]=o(p+t)}),newrelic.noticeError=function(e){"string"==typeof e&&(e=new Error(e)),i("err",[e,(new Date).getTime()])}},{}],2:[function(e,t,n){function r(e,t){var n=[],r="",i=0;for(r in e)o.call(e,r)&&(n[i]=t(r,e[r]),i+=1);return n}var o=Object.prototype.hasOwnProperty;t.exports=r},{}],3:[function(e,t,n){function r(e,t,n){t||(t=0),"undefined"==typeof n&&(n=e?e.length:0);for(var r=-1,o=n-t||0,i=Array(o<0?0:o);++r<o;)i[r]=e[t+r];return i}t.exports=r},{}],ee:[function(e,t,n){function r(){}function o(e){function t(e){return e&&e instanceof r?e:e?c(e,u,i):i()}function n(n,r,o){if(!p.aborted){e&&e(n,r,o);for(var i=t(o),a=v(n),u=a.length,c=0;c<u;c++)a[c].apply(i,r);var f=s[w[n]];return f&&f.push([y,n,r,i]),i}}function d(e,t){b[e]=v(e).concat(t)}function v(e){return b[e]||[]}function g(e){return l[e]=l[e]||o(n)}function m(e,t){f(e,function(e,n){t=t||"feature",w[n]=t,t in s||(s[t]=[])})}var b={},w={},y={on:d,emit:n,get:g,listeners:v,context:t,buffer:m,abort:a,aborted:!1};return y}function i(){return new r}function a(){(s.api||s.feature)&&(p.aborted=!0,s=p.backlog={})}var u="nr@context",c=e("gos"),f=e(2),s={},l={},p=t.exports=o();p.backlog=s},{}],gos:[function(e,t,n){function r(e,t,n){if(o.call(e,t))return e[t];var r=n();if(Object.defineProperty&&Object.keys)try{return Object.defineProperty(e,t,{value:r,writable:!0,enumerable:!1}),r}catch(i){}return e[t]=r,r}var o=Object.prototype.hasOwnProperty;t.exports=r},{}],handle:[function(e,t,n){function r(e,t,n,r){o.buffer([e],r),o.emit(e,t,n)}var o=e("ee").get("handle");t.exports=r,r.ee=o},{}],id:[function(e,t,n){function r(e){var t=typeof e;return!e||"object"!==t&&"function"!==t?-1:e===window?0:a(e,i,function(){return o++})}var o=1,i="nr@id",a=e("gos");t.exports=r},{}],loader:[function(e,t,n){function r(){if(!h++){var e=y.info=NREUM.info,t=l.getElementsByTagName("script")[0];if(setTimeout(f.abort,3e4),!(e&&e.licenseKey&&e.applicationID&&t))return f.abort();c(b,function(t,n){e[t]||(e[t]=n)}),u("mark",["onload",a()],null,"api");var n=l.createElement("script");n.src="https://"+e.agent,t.parentNode.insertBefore(n,t)}}function o(){"complete"===l.readyState&&i()}function i(){u("mark",["domContent",a()],null,"api")}function a(){return(new Date).getTime()}var u=e("handle"),c=e(2),f=e("ee"),s=window,l=s.document,p="addEventListener",d="attachEvent",v=s.XMLHttpRequest,g=v&&v.prototype;NREUM.o={ST:setTimeout,CT:clearTimeout,XHR:v,REQ:s.Request,EV:s.Event,PR:s.Promise,MO:s.MutationObserver},e(1);var m=""+location,b={beacon:"bam.nr-data.net",errorBeacon:"bam.nr-data.net",agent:"js-agent.newrelic.com/nr-1016.min.js"},w=v&&g&&g[p]&&!/CriOS/.test(navigator.userAgent),y=t.exports={offset:a(),origin:m,features:{},xhrWrappable:w};l[p]?(l[p]("DOMContentLoaded",i,!1),s[p]("load",r,!1)):(l[d]("onreadystatechange",o),s[d]("onload",r)),u("mark",["firstbyte",a()],null,"api");var h=0},{}]},{},["loader"]);</script>
    <meta name="robots" content="noindex, nofollow">
    <meta name="viewport" content="width=1080">
    <meta name="globalsign-domain-verification" content="KpMEC6CPrdUBWUjMhQ81DWBefsL1xNbdHh1QkJt6yt" />
    
    <title>fc_training: Browser</title>

    <link rel="shortcut icon" href="https://assets.beanstalkapp.com/images/favicon.ico" type="image/x-icon">
<link rel="mask-icon" href="https://assets.beanstalkapp.com/images/icon-pinned-tab.svg" color="#5FAC6C">
<link rel="apple-touch-icon-precomposed" href="https://assets.beanstalkapp.com/images/apple-touch-icon-144x144-precomposed.png" sizes="144x144"> 
<link rel="apple-touch-icon-precomposed" href="https://assets.beanstalkapp.com/images/apple-touch-icon-114x114-precomposed.png" sizes="114x114"> 
<link rel="apple-touch-icon-precomposed" href="https://assets.beanstalkapp.com/images/apple-touch-icon-72x72-precomposed.png" sizes="72x72"> 
<link rel="apple-touch-icon-precomposed" href="https://assets.beanstalkapp.com/images/apple-touch-icon-precomposed.png">
<meta property="og:image" content="https://assets.beanstalkapp.com/images/apple-touch-icon-144x144-precomposed.png">

    <link rel="stylesheet" media="all" href="https://assets.beanstalkapp.com/stylesheets/global.css?1ac3c16d07f23ac188d327d52bb144f1" />
    <script src="//ajax.googleapis.com/ajax/libs/jquery/1.10.1/jquery.min.js"></script>
    <script src="https://d3dy5gmtp8yhk7.cloudfront.net/2.1/pusher.min.js"></script>
    <script src="https://assets.beanstalkapp.com/javascripts/bundle.application.min.js?15c393e61de67d4c02f0f9d0bfe59811"></script>


    <meta name="csrf-param" content="authenticity_token" />
<meta name="csrf-token" content="3g270bILrge8HglVWS19glHQZMjGPt1s4X3/bmqje2b2GqYt/3KgeJG/HQ6npO3icXREGcgaiRj1wWE2Ww+2Lg==" />
    <link title="FoundationCenter&#39;s Beanstalk" type="application/opensearchdescription+xml" rel="search" href="https://foundationcenter.beanstalkapp.com/opensearch.xml" />
    <meta name="current-user" content="350219" /><meta name="current-user-tzoffset" content="-18000" />

    
  </head>

  <body id="">
    
  <script>
    dataLayer = [{
      'siteType': 'application'
    }];
  </script>

  <!-- Google Tag Manager -->
  <noscript><iframe src="//www.googletagmanager.com/ns.html?id=GTM-PXZVN2"
                    height="0" width="0" style="display:none;visibility:hidden"></iframe></noscript>
  <script>(function(w,d,s,l,i){w[l]=w[l]||[];w[l].push({'gtm.start':
      new Date().getTime(),event:'gtm.js'});var f=d.getElementsByTagName(s)[0],
      j=d.createElement(s),dl=l!='dataLayer'?'&l='+l:'';j.async=true;j.src=
      '//www.googletagmanager.com/gtm.js?id='+i+dl;f.parentNode.insertBefore(j,f);
  })(window,document,'script','dataLayer','GTM-PXZVN2');</script>
  <!-- End Google Tag Manager -->

       <div id="viewer-settings" class="hide">
  <fieldset class="viewer-settings">

    <div class="form-row l-vertical setting-lang">
      <div class="form-label">
        <label for="viewer-settings-type">File Language:</label>
      </div>
      <div class="form-field">
        <select name="viewer-settings-type" id="settings-mode"><option value="">Automatic</option>
<option value="apache">Apache</option>
<option value="applescript">AppleScript</option>
<option value="actionscript">ActionScript</option>
<option value="bash">Bash</option>
<option value="bat">Batch</option>
<option value="befunge">Befunge</option>
<option value="boo">BOO</option>
<option value="brainfuck">Brainfuck</option>
<option value="c-objdump">C objdump</option>
<option value="c">C</option>
<option value="cheetah">Cheetah</option>
<option value="clojure">Clojure</option>
<option value="common-lisp">Common Lisp</option>
<option value="control">Control</option>
<option value="coffeescript">CoffeeScript</option>
<option value="cpp">C++</option>
<option value="cpp-objdump">C++ objdump</option>
<option value="csharp">C#</option>
<option value="css">CSS</option>
<option value="d-objdump">D objdump</option>
<option value="d">D</option>
<option value="pascal">Pascal</option>
<option value="diff">Diff</option>
<option value="dpatch">Darcs Patch</option>
<option value="dylan">Dylan</option>
<option value="rhtml">ERB HTML</option>
<option value="erb">ERB</option>
<option value="erlang">Erlang</option>
<option value="fortran">Fortran</option>
<option value="genshi">Genshi</option>
<option value="gnuplot">Gnuplot</option>
<option value="groff">Groff</option>
<option value="groovy">Groovy</option>
<option value="go">Google Go</option>
<option value="haskell">Haskell</option>
<option value="powershell">PowerShell</option>
<option value="html+php">PHP HTML</option>
<option value="haml">HAML</option>
<option value="html">(X)HTML</option>
<option value="io">Io</option>
<option value="java">Java</option>
<option value="javascript">JavaScript</option>
<option value="jsp">JSP</option>
<option value="json">JSON</option>
<option value="literate-haskell">Literate Haskell</option>
<option value="llvm">LLVM</option>
<option value="logtalk">Logtalk</option>
<option value="lua">Lua</option>
<option value="make">Makefile</option>
<option value="mako">Mako</option>
<option value="markdown">Markdown</option>
<option value="moocode">Moocode</option>
<option value="mupad">MuPAD</option>
<option value="myghty">Myghty</option>
<option value="nasm">NASM</option>
<option value="objective-c">Objective C</option>
<option value="matlab">MatLab</option>
<option value="ocaml">OCaml</option>
<option value="perl">Perl</option>
<option value="php">PHP</option>
<option value="python">Python</option>
<option value="ruby">Ruby</option>
<option value="redcode">Redcode</option>
<option value="sass">Sass</option>
<option value="scss">SCSS</option>
<option value="scala">Scala</option>
<option value="scheme">Scheme</option>
<option value="smalltalk">Smalltalk</option>
<option value="smarty">Smarty</option>
<option value="sql">SQL</option>
<option value="sqlite3">SQLite 3</option>
<option value="swift">Swift</option>
<option value="tcl">Tcl</option>
<option value="tcsh">tcsh</option>
<option value="latex">LaTeX</option>
<option value="text">Plain Text</option>
<option value="vb.net">Visual Basic .NET</option>
<option value="vim">Vim</option>
<option value="xml">XML</option>
<option value="xslt">XSLT</option>
<option value="yaml">YAML</option></select>
      </div>
    </div>

    <div class="form-row l-vertical">
      <div class="form-label">
        <label for="viewer-settings-type">Notifications:</label>
      </div>
      <div class="form-field">
        <form class="js-comments-subscribe" action="/fc_training/file_subscription?repo_path=trunk%2Fpython_01%2F_notebooks%2F02_ReadingData.ipynb" accept-charset="UTF-8" method="post"><input name="utf8" type="hidden" value="&#x2713;" /><input type="hidden" name="authenticity_token" value="Siy2a3fv6vzoU/f+VHHWCAVhCsAF5cH2j9LFV9vrQRdiO6uXOpbkg8Xy46Wq+EZoJcUqEQvBlYKbblsP6keMXw==" />
          <fieldset>
            <button type="submit" name="subscribe" value="POST" class="link-subscribe"><u>Subscribe to comments</u></button>
            <button type="submit" name="unsubscribe" value="DELETE" class="link-unsubscribe hide"><u>Unsubscribe from comments</u></button>
          </fieldset>
</form>      </div>
    </div>

  </fieldset>
</div>


    
    
    <div id="container">
      <div id="top_announce_container"></div>
      
      <div class="header">
        <div class="metanav clearfix">
  <ul class="meta-global">
    <li class="nav-item">
      <a class="metanav-item" href="/"><u>Dashboard</u></a>
    </li>

    <li class="nav-item">
        <a class="metanav-item" href="/repositories"><u>Repositories</u> <span class="count">133</span></a> <a class="dd-arrow dd-arrow--metanav js-open-dropdown" data-dropdown="recent-repositories" title="Repositories" href="/navigation/repositories"></a>
        <div class="dropdown dropdown--metanav hide" id="recent-repositories"></div>
    </li>

      <li class="nav-item">
        <a class="metanav-item" href="/users"><u>Users</u> <span class="count">64</span></a>
      </li>
  </ul>

  <ul class="meta-personal">
    <li class="nav-item">
      <a class="metanav-item" href="/profile/edit"><span class="userpic size-small " title="Gordon Green"><img alt="Gordon Green" class="photo" src="https://secure.gravatar.com/avatar/7cb106702befb9ca1530d2456f593379?s=48&d=https://assets.beanstalkapp.com/images/users/default.gif" width="24" height="24" /><b></b></span> <u>Gordon Green</u></a>
    </li>

    
    <li class="nav-item">
      <a class="metanav-item" rel="nofollow" data-method="delete" href="/session"><u>Logout</u></a>
    </li>
    
    <li class="nav-item">
      <a title="Help" class="metanav-item metanav-item--help" rel="help" href="/help">Help</a>
    </li>
  </ul>
</div>

        <div class="header-bar clearfix">
  <h1 class="header-title">
    <span class="color-badge color-badge--repo color-badge--white "></span> <strong>fc_training</strong>
  </h1>

  <ul class="mainnav">
    <li class="nav-item">
      <a class="mainnav-item" href="/fc_training"><u>Activity</u></a>
    </li>

    <li class="nav-item">
      <a class="mainnav-item mainnav-item--current" href="/fc_training/browse"><u>Browse</u></a>
    </li>

    <li class="nav-item">
      <a class="mainnav-item" href="/fc_training/branches"><u>Branches</u></a>
    </li>

    <li class="nav-item" id="tour-reviews">
          <a class="mainnav-item" href="/fc_training/code_reviews"><u>Reviews</u></a>
    </li>

        <li class="nav-item">
              <a class="mainnav-item" href="/fc_training/environments"><u>Deployments</u></a>
        </li>

        <li class="nav-item">
          <a class="mainnav-item" href="/repositories/fc_training/edit"><u>Settings</u></a>
        </li>
  </ul>

  <div class="search">
  <form action="/search" accept-charset="UTF-8" method="get"><input name="utf8" type="hidden" value="&#x2713;" />
    <fieldset class="search-main">
      <a href="/search/users.json?r=fc_training" class="a-advanced-search js-open-dropdown" data-dropdown="advanced-search" title="Advanced search">Advanced search</a>
      <a href="/search/users.json?r=fc_training" class="userpic size-medium a-advanced-filter js-open-dropdown hide" data-dropdown="advanced-search"><b></b></a>

      <input type="hidden" name="u" id="search-by-user">

      <div class="search-field-wrap">
          <input type="hidden" name="r" id="r" value="fc_training" />
          <input type="search" name="q" id="q" class="search-field" placeholder="Search fc_training repository" />
        <a href="#" class="search-reset hide">Reset</a>
      </div>

      <input type="submit" class="search-submit">
    </fieldset>
</form>
  <div class="dropdown dropdown--search hide" id="advanced-search"></div>
</div>

</div>

      </div>
  
      <div id="page">
        <div class="content " id="">
          <div class="toolbar">
    <h2 class="toolbar-title icon-file">

        <span class="editable-name">02_ReadingData.ipynb</span>
        <form class="editable-name_form hide" action="/fc_training/rename" accept-charset="UTF-8" method="post"><input name="utf8" type="hidden" value="&#x2713;" /><input type="hidden" name="authenticity_token" value="rJf9q1kCDg/De/kPQOUWEdZzErKaQCw65fottQSGeveEgOBXFHsAcO7a7VS+bIZx9tcyY5RkeE7xRrPtNSq3vw==" />
  <fieldset>
    <input type="text" name="new_filename" size="30" maxlength="255" placeholder="untitled" class="editable-name_input js-filename-input" value="02_ReadingData.ipynb" data-allow-moving="false">
    <input type="hidden" name="repo_path" id="repo_path" value="trunk/python_01/_notebooks/02_ReadingData.ipynb" />
    <input type="hidden" name="ref" id="ref" />
    <span class="editable-name_submit">
      <input type="submit" disabled value="Rename">
      <span class="sep">or</span>
      <a href="#" class="link-action">Cancel</a>
    </span>
  </fieldset>
</form>
    </h2>
  
  <span class="toolbar-sep"></span>

  <a class="button js-change-refs" rel="commits-container" data-ref-pattern="?ref=--scope-----ref--" data-repo-path="trunk/python_01/_notebooks/02_ReadingData.ipynb" href="/fc_training/navigation/hud_data.json?repo_path=trunk%2Fpython_01%2F_notebooks%2F02_ReadingData.ipynb&amp;scope=commits"><span class="icon-arrow-ab">Revision: 4</span></a>
  <a class="button js-change-refs" rel="commits-container" data-ref-pattern="/fc_training/diff/trunk/python_01/_notebooks/02_ReadingData.ipynb?target=--scope-----ref--" data-repo-path="trunk/python_01/_notebooks/02_ReadingData.ipynb" href="/fc_training/navigation/hud_data.json?repo_path=trunk%2Fpython_01%2F_notebooks%2F02_ReadingData.ipynb&amp;scope=commits"><span class="icon-arrow-ab">Diff 4 to&hellip;</span></a>

  <ul class="tabs">
    <li class="tab--history"><a class="tab" href="/fc_training/history/trunk/python_01/_notebooks/02_ReadingData.ipynb"><u>File history</u></a></li>
  </ul>
</div>


            
    <div class="js-code-comments" data-comments-uri="/fc_training/comments.json?repo_path=trunk%2Fpython_01%2F_notebooks%2F02_ReadingData.ipynb&amp;revision=4">
  <div class="cv-container" data-file-revision="4">
    <div class="ct">
  <ul class="ct_actions">
      <li class="ct_actions_item">
    <a href="#" onclick="return false;" rel="tooltip" class="ct_button ct_button--preview disabled" title="Preview is not available for this file">
      <span class="ct_button_icon"></span> Preview
    </a>
  </li>

        <li class="ct_actions_item">
      <a href="/fc_training/edit//trunk/python_01/_notebooks/02_ReadingData.ipynb" class="ct_button ct_button--edit">
        <span class="ct_button_icon"></span> Edit
      </a>
    </li>

      <li class="ct_actions_item">
    <a href="/fc_training/blame/trunk/python_01/_notebooks/02_ReadingData.ipynb" class="ct_button ct_button--blame">
      <span class="ct_button_icon"></span> Blame
    </a>
  </li>

    <li class="ct_actions_item">
      <a href="/fc_training/download//trunk/python_01/_notebooks/02_ReadingData.ipynb" class="ct_button ct_button--download">
        <span class="ct_button_icon"></span> Download
      </a>
    </li>
      <li class="ct_actions_item">
    <a href="#" class="ct_button ct_button--settings" rel="viewer-settings">
      <span class="ct_button_icon"></span> Settings
    </a>
  </li>

  </ul>

    <a href="#" class="ct_comments-toggle is-loading" title="Show inline comments"></a>

  <div class="ct_path">
      <a class="ct_path_rev" href="/fc_training/changesets/3">3</a>
    <a class="path_item" href="/fc_training/browse/trunk">trunk</a><span class="path_sep">/</span><a class="path_item" href="/fc_training/browse/trunk/python_01">python_01</a><span class="path_sep">/</span><a class="path_item" href="/fc_training/browse/trunk/python_01/_notebooks">_notebooks</a><span class="path_sep">/</span><a class="path_item path_item--current" href="/fc_training/browse//trunk/python_01/_notebooks/02_ReadingData.ipynb">02_ReadingData.ipynb</a>
  </div>
</div>


    <div class="cv cv--commentable" data-blame-uri="/fc_training/blame_line/trunk/python_01/_notebooks/02_ReadingData.ipynb">
        <table>
<tbody>
<tr id="L5388364226">
<td class="ln"><a href="#L5388364226">1</a></td>
<td class="loc"><pre>{</pre></td>
</tr><tr id="L3626285080">
<td class="ln"><a href="#L3626285080">2</a></td>
<td class="loc"><pre> &quot;cells&quot;: [</pre></td>
</tr><tr id="L5018585254">
<td class="ln"><a href="#L5018585254">3</a></td>
<td class="loc"><pre>  {</pre></td>
</tr><tr id="L7264867651">
<td class="ln"><a href="#L7264867651">4</a></td>
<td class="loc"><pre>   &quot;cell_type&quot;: &quot;code&quot;,</pre></td>
</tr><tr id="L5402273209">
<td class="ln"><a href="#L5402273209">5</a></td>
<td class="loc"><pre>   &quot;execution_count&quot;: null,</pre></td>
</tr><tr id="L3674698783">
<td class="ln"><a href="#L3674698783">6</a></td>
<td class="loc"><pre>   &quot;metadata&quot;: {</pre></td>
</tr><tr id="L4966990989">
<td class="ln"><a href="#L4966990989">7</a></td>
<td class="loc"><pre>    &quot;collapsed&quot;: true</pre></td>
</tr><tr id="L7370395934">
<td class="ln"><a href="#L7370395934">8</a></td>
<td class="loc"><pre>   },</pre></td>
</tr><tr id="L5542142352">
<td class="ln"><a href="#L5542142352">9</a></td>
<td class="loc"><pre>   &quot;outputs&quot;: [],</pre></td>
</tr><tr id="L5883305964">
<td class="ln"><a href="#L5883305964">10</a></td>
<td class="loc"><pre>   &quot;source&quot;: [</pre></td>
</tr><tr id="L6772297602">
<td class="ln"><a href="#L6772297602">11</a></td>
<td class="loc"><pre>    &quot;%matplotlib inline&quot;</pre></td>
</tr><tr id="L4506926808">
<td class="ln"><a href="#L4506926808">12</a></td>
<td class="loc"><pre>   ]</pre></td>
</tr><tr id="L4121128550">
<td class="ln"><a href="#L4121128550">13</a></td>
<td class="loc"><pre>  },</pre></td>
</tr><tr id="L5964291075">
<td class="ln"><a href="#L5964291075">14</a></td>
<td class="loc"><pre>  {</pre></td>
</tr><tr id="L6686165881">
<td class="ln"><a href="#L6686165881">15</a></td>
<td class="loc"><pre>   &quot;cell_type&quot;: &quot;markdown&quot;,</pre></td>
</tr><tr id="L4388125407">
<td class="ln"><a href="#L4388125407">16</a></td>
<td class="loc"><pre>   &quot;metadata&quot;: {},</pre></td>
</tr><tr id="L4236814925">
<td class="ln"><a href="#L4236814925">17</a></td>
<td class="loc"><pre>   &quot;source&quot;: [</pre></td>
</tr><tr id="L6120908766">
<td class="ln"><a href="#L6120908766">18</a></td>
<td class="loc"><pre>    &quot;## Reading data from text files&quot;</pre></td>
</tr><tr id="L6808442704">
<td class="ln"><a href="#L6808442704">19</a></td>
<td class="loc"><pre>   ]</pre></td>
</tr><tr id="L5498695725">
<td class="ln"><a href="#L5498695725">20</a></td>
<td class="loc"><pre>  },</pre></td>
</tr><tr id="L7428522175">
<td class="ln"><a href="#L7428522175">21</a></td>
<td class="loc"><pre>  {</pre></td>
</tr><tr id="L4862054681">
<td class="ln"><a href="#L4862054681">22</a></td>
<td class="loc"><pre>   &quot;cell_type&quot;: &quot;markdown&quot;,</pre></td>
</tr><tr id="L3502776739">
<td class="ln"><a href="#L3502776739">23</a></td>
<td class="loc"><pre>   &quot;metadata&quot;: {},</pre></td>
</tr><tr id="L5543603270">
<td class="ln"><a href="#L5543603270">24</a></td>
<td class="loc"><pre>   &quot;source&quot;: [</pre></td>
</tr><tr id="L7372111032">
<td class="ln"><a href="#L7372111032">25</a></td>
<td class="loc"><pre>    &quot;Note backslash indicates escape characters - see https://learnpythonthehardway.org/book/ex10.html &quot;</pre></td>
</tr><tr id="L4838313250">
<td class="ln"><a href="#L4838313250">26</a></td>
<td class="loc"><pre>   ]</pre></td>
</tr><tr id="L3512982924">
<td class="ln"><a href="#L3512982924">27</a></td>
<td class="loc"><pre>  },</pre></td>
</tr><tr id="L5401933851">
<td class="ln"><a href="#L5401933851">28</a></td>
<td class="loc"><pre>  {</pre></td>
</tr><tr id="L7264258193">
<td class="ln"><a href="#L7264258193">29</a></td>
<td class="loc"><pre>   &quot;cell_type&quot;: &quot;code&quot;,</pre></td>
</tr><tr id="L5649351022">
<td class="ln"><a href="#L5649351022">30</a></td>
<td class="loc"><pre>   &quot;execution_count&quot;: null,</pre></td>
</tr><tr id="L7008383488">
<td class="ln"><a href="#L7008383488">31</a></td>
<td class="loc"><pre>   &quot;metadata&quot;: {</pre></td>
</tr><tr id="L5279850586">
<td class="ln"><a href="#L5279850586">32</a></td>
<td class="loc"><pre>    &quot;collapsed&quot;: false</pre></td>
</tr><tr id="L3350270180">
<td class="ln"><a href="#L3350270180">33</a></td>
<td class="loc"><pre>   },</pre></td>
</tr><tr id="L5659524485">
<td class="ln"><a href="#L5659524485">34</a></td>
<td class="loc"><pre>   &quot;outputs&quot;: [],</pre></td>
</tr><tr id="L6984609271">
<td class="ln"><a href="#L6984609271">35</a></td>
<td class="loc"><pre>   &quot;source&quot;: [</pre></td>
</tr><tr id="L5223472225">
<td class="ln"><a href="#L5223472225">36</a></td>
<td class="loc"><pre>    &quot;with open(\&quot;arts_funding_by_state.txt\&quot;) as f:\n&quot;,</pre></td>
</tr><tr id="L3395210443">
<td class="ln"><a href="#L3395210443">37</a></td>
<td class="loc"><pre>    &quot;    content = f.readlines()\n&quot;,</pre></td>
</tr><tr id="L5821679964">
<td class="ln"><a href="#L5821679964">38</a></td>
<td class="loc"><pre>    &quot;    for row in content:\n&quot;,</pre></td>
</tr><tr id="L7113996754">
<td class="ln"><a href="#L7113996754">39</a></td>
<td class="loc"><pre>    &quot;        print(row.replace(\&quot;\\n\&quot;, \&quot;\&quot;))&quot;</pre></td>
</tr><tr id="L6869863343">
<td class="ln"><a href="#L6869863343">40</a></td>
<td class="loc"><pre>   ]</pre></td>
</tr><tr id="L6047980349">
<td class="ln"><a href="#L6047980349">41</a></td>
<td class="loc"><pre>  },</pre></td>
</tr><tr id="L4017334931">
<td class="ln"><a href="#L4017334931">42</a></td>
<td class="loc"><pre>  {</pre></td>
</tr><tr id="L4336024105">
<td class="ln"><a href="#L4336024105">43</a></td>
<td class="loc"><pre>   &quot;cell_type&quot;: &quot;markdown&quot;,</pre></td>
</tr><tr id="L6854938568">
<td class="ln"><a href="#L6854938568">44</a></td>
<td class="loc"><pre>   &quot;metadata&quot;: {</pre></td>
</tr><tr id="L6065954614">
<td class="ln"><a href="#L6065954614">45</a></td>
<td class="loc"><pre>    &quot;collapsed&quot;: true</pre></td>
</tr><tr id="L4070076060">
<td class="ln"><a href="#L4070076060">46</a></td>
<td class="loc"><pre>   },</pre></td>
</tr><tr id="L4288495122">
<td class="ln"><a href="#L4288495122">47</a></td>
<td class="loc"><pre>   &quot;source&quot;: [</pre></td>
</tr><tr id="L6715102113">
<td class="ln"><a href="#L6715102113">48</a></td>
<td class="loc"><pre>    &quot;We can use the split function to split the lines into lists or a dictionary. In this case the lines are tab-delimited:&quot;</pre></td>
</tr><tr id="L5960459019">
<td class="ln"><a href="#L5960459019">49</a></td>
<td class="loc"><pre>   ]</pre></td>
</tr><tr id="L6484450032">
<td class="ln"><a href="#L6484450032">50</a></td>
<td class="loc"><pre>  },</pre></td>
</tr><tr id="L6166006398">
<td class="ln"><a href="#L6166006398">51</a></td>
<td class="loc"><pre>  {</pre></td>
</tr><tr id="L3901651924">
<td class="ln"><a href="#L3901651924">52</a></td>
<td class="loc"><pre>   &quot;cell_type&quot;: &quot;code&quot;,</pre></td>
</tr><tr id="L4723288938">
<td class="ln"><a href="#L4723288938">53</a></td>
<td class="loc"><pre>   &quot;execution_count&quot;: null,</pre></td>
</tr><tr id="L6436888327">
<td class="ln"><a href="#L6436888327">54</a></td>
<td class="loc"><pre>   &quot;metadata&quot;: {</pre></td>
</tr><tr id="L6218714741">
<td class="ln"><a href="#L6218714741">55</a></td>
<td class="loc"><pre>    &quot;collapsed&quot;: false</pre></td>
</tr><tr id="L3919658971">
<td class="ln"><a href="#L3919658971">56</a></td>
<td class="loc"><pre>   },</pre></td>
</tr><tr id="L4708396881">
<td class="ln"><a href="#L4708396881">57</a></td>
<td class="loc"><pre>   &quot;outputs&quot;: [],</pre></td>
</tr><tr id="L6597206754">
<td class="ln"><a href="#L6597206754">58</a></td>
<td class="loc"><pre>   &quot;source&quot;: [</pre></td>
</tr><tr id="L6345740876">
<td class="ln"><a href="#L6345740876">59</a></td>
<td class="loc"><pre>    &quot;with open(\&quot;arts_funding_by_state.txt\&quot;) as f:\n&quot;,</pre></td>
</tr><tr id="L7170927921">
<td class="ln"><a href="#L7170927921">60</a></td>
<td class="loc"><pre>    &quot;    content = f.readlines()\n&quot;,</pre></td>
</tr><tr id="L5744786875">
<td class="ln"><a href="#L5744786875">61</a></td>
<td class="loc"><pre>    &quot;    split_results = []\n&quot;,</pre></td>
</tr><tr id="L3177303061">
<td class="ln"><a href="#L3177303061">62</a></td>
<td class="loc"><pre>    &quot;    for row in content:\n&quot;,</pre></td>
</tr><tr id="L5173992615">
<td class="ln"><a href="#L5173992615">63</a></td>
<td class="loc"><pre>    &quot;        lst = row.replace(\&quot;\\n\&quot;, \&quot;\&quot;).split(\&quot;\\t\&quot;)\n&quot;,</pre></td>
</tr><tr id="L7092597066">
<td class="ln"><a href="#L7092597066">64</a></td>
<td class="loc"><pre>    &quot;        split_results.append(lst)\n&quot;,</pre></td>
</tr><tr id="L5834621364">
<td class="ln"><a href="#L5834621364">65</a></td>
<td class="loc"><pre>    &quot;    print(split_results)&quot;</pre></td>
</tr><tr id="L3301838878">
<td class="ln"><a href="#L3301838878">66</a></td>
<td class="loc"><pre>   ]</pre></td>
</tr><tr id="L5062992016">
<td class="ln"><a href="#L5062992016">67</a></td>
<td class="loc"><pre>  },</pre></td>
</tr><tr id="L6947222815">
<td class="ln"><a href="#L6947222815">68</a></td>
<td class="loc"><pre>  {</pre></td>
</tr><tr id="L5722015117">
<td class="ln"><a href="#L5722015117">69</a></td>
<td class="loc"><pre>   &quot;cell_type&quot;: &quot;code&quot;,</pre></td>
</tr><tr id="L7320534130">
<td class="ln"><a href="#L7320534130">70</a></td>
<td class="loc"><pre>   &quot;execution_count&quot;: null,</pre></td>
</tr><tr id="L5323599100">
<td class="ln"><a href="#L5323599100">71</a></td>
<td class="loc"><pre>   &quot;metadata&quot;: {</pre></td>
</tr><tr id="L3596148054">
<td class="ln"><a href="#L3596148054">72</a></td>
<td class="loc"><pre>    &quot;collapsed&quot;: false</pre></td>
</tr><tr id="L5022535144">
<td class="ln"><a href="#L5022535144">73</a></td>
<td class="loc"><pre>   },</pre></td>
</tr><tr id="L7209566345">
<td class="ln"><a href="#L7209566345">74</a></td>
<td class="loc"><pre>   &quot;outputs&quot;: [],</pre></td>
</tr><tr id="L5448167667">
<td class="ln"><a href="#L5448167667">75</a></td>
<td class="loc"><pre>   &quot;source&quot;: [</pre></td>
</tr><tr id="L3685949789">
<td class="ln"><a href="#L3685949789">76</a></td>
<td class="loc"><pre>    &quot;with open(\&quot;arts_funding_by_state.txt\&quot;) as f:\n&quot;,</pre></td>
</tr><tr id="L4944171471">
<td class="ln"><a href="#L4944171471">77</a></td>
<td class="loc"><pre>    &quot;    next(f)  # Skip over header line\n&quot;,</pre></td>
</tr><tr id="L7368016992">
<td class="ln"><a href="#L7368016992">78</a></td>
<td class="loc"><pre>    &quot;    content = f.readlines()\n&quot;,</pre></td>
</tr><tr id="L5572801742">
<td class="ln"><a href="#L5572801742">79</a></td>
<td class="loc"><pre>    &quot;    dict_results = dict()\n&quot;,</pre></td>
</tr><tr id="L5065578675">
<td class="ln"><a href="#L5065578675">80</a></td>
<td class="loc"><pre>    &quot;    for row in content:\n&quot;,</pre></td>
</tr><tr id="L3303516233">
<td class="ln"><a href="#L3303516233">81</a></td>
<td class="loc"><pre>    &quot;        lst = row.replace(\&quot;\\n\&quot;, \&quot;\&quot;).split(\&quot;\\t\&quot;)\n&quot;,</pre></td>
</tr><tr id="L5836437903">
<td class="ln"><a href="#L5836437903">82</a></td>
<td class="loc"><pre>    &quot;        dict_results[lst[0]] = { \&quot;population\&quot;: lst[1], \&quot;funding\&quot;: lst[2] }\n&quot;,</pre></td>
</tr><tr id="L7095044381">
<td class="ln"><a href="#L7095044381">83</a></td>
<td class="loc"><pre>    &quot;    print(dict_results)&quot;</pre></td>
</tr><tr id="L5188441276">
<td class="ln"><a href="#L5188441276">84</a></td>
<td class="loc"><pre>   ]</pre></td>
</tr><tr id="L3192153138">
<td class="ln"><a href="#L3192153138">85</a></td>
<td class="loc"><pre>  },</pre></td>
</tr><tr id="L5759514024">
<td class="ln"><a href="#L5759514024">86</a></td>
<td class="loc"><pre>  {</pre></td>
</tr><tr id="L7185499414">
<td class="ln"><a href="#L7185499414">87</a></td>
<td class="loc"><pre>   &quot;cell_type&quot;: &quot;markdown&quot;,</pre></td>
</tr><tr id="L5294461093">
<td class="ln"><a href="#L5294461093">88</a></td>
<td class="loc"><pre>   &quot;metadata&quot;: {},</pre></td>
</tr><tr id="L3331465239">
<td class="ln"><a href="#L3331465239">89</a></td>
<td class="loc"><pre>   &quot;source&quot;: [</pre></td>
</tr><tr id="L4946373108">
<td class="ln"><a href="#L4946373108">90</a></td>
<td class="loc"><pre>    &quot;Reading data using the CSV Reader - handles some of the complexities for you. it also supports reading text into a dictionary:&quot;</pre></td>
</tr><tr id="L3688012170">
<td class="ln"><a href="#L3688012170">91</a></td>
<td class="loc"><pre>   ]</pre></td>
</tr><tr id="L5450090704">
<td class="ln"><a href="#L5450090704">92</a></td>
<td class="loc"><pre>  },</pre></td>
</tr><tr id="L7211907166">
<td class="ln"><a href="#L7211907166">93</a></td>
<td class="loc"><pre>  {</pre></td>
</tr><tr id="L5036860923">
<td class="ln"><a href="#L5036860923">94</a></td>
<td class="loc"><pre>   &quot;cell_type&quot;: &quot;code&quot;,</pre></td>
</tr><tr id="L3611121009">
<td class="ln"><a href="#L3611121009">95</a></td>
<td class="loc"><pre>   &quot;execution_count&quot;: null,</pre></td>
</tr><tr id="L5338694887">
<td class="ln"><a href="#L5338694887">96</a></td>
<td class="loc"><pre>   &quot;metadata&quot;: {</pre></td>
</tr><tr id="L7334736981">
<td class="ln"><a href="#L7334736981">97</a></td>
<td class="loc"><pre>    &quot;collapsed&quot;: false</pre></td>
</tr><tr id="L4910359014">
<td class="ln"><a href="#L4910359014">98</a></td>
<td class="loc"><pre>   },</pre></td>
</tr><tr id="L3450278232">
<td class="ln"><a href="#L3450278232">99</a></td>
<td class="loc"><pre>   &quot;outputs&quot;: [],</pre></td>
</tr><tr id="L3771091701">
<td class="ln"><a href="#L3771091701">100</a></td>
<td class="loc"><pre>   &quot;source&quot;: [</pre></td>
</tr><tr id="L4592720519">
<td class="ln"><a href="#L4592720519">101</a></td>
<td class="loc"><pre>    &quot;import csv\n&quot;,</pre></td>
</tr><tr id="L6623341521">
<td class="ln"><a href="#L6623341521">102</a></td>
<td class="loc"><pre>    &quot;with open(\&quot;arts_funding_by_state.txt\&quot;) as csv_file:\n&quot;,</pre></td>
</tr><tr id="L6304889691">
<td class="ln"><a href="#L6304889691">103</a></td>
<td class="loc"><pre>    &quot;    rdr = csv.reader(csv_file, delimiter=&#39;\\t&#39;)\n&quot;,</pre></td>
</tr><tr id="L3781791486">
<td class="ln"><a href="#L3781791486">104</a></td>
<td class="loc"><pre>    &quot;    for row in rdr:\n&quot;,</pre></td>
</tr><tr id="L4570521200">
<td class="ln"><a href="#L4570521200">105</a></td>
<td class="loc"><pre>    &quot;        print (row[0], row[1], row[2])&quot;</pre></td>
</tr><tr id="L6566440938">
<td class="ln"><a href="#L6566440938">106</a></td>
<td class="loc"><pre>   ]</pre></td>
</tr><tr id="L6348259156">
<td class="ln"><a href="#L6348259156">107</a></td>
<td class="loc"><pre>  },</pre></td>
</tr><tr id="L3942372067">
<td class="ln"><a href="#L3942372067">108</a></td>
<td class="loc"><pre>  {</pre></td>
</tr><tr id="L4697285209">
<td class="ln"><a href="#L4697285209">109</a></td>
<td class="loc"><pre>   &quot;cell_type&quot;: &quot;markdown&quot;,</pre></td>
</tr><tr id="L4156251062">
<td class="ln"><a href="#L4156251062">110</a></td>
<td class="loc"><pre>   &quot;metadata&quot;: {</pre></td>
</tr><tr id="L4474948424">
<td class="ln"><a href="#L4474948424">111</a></td>
<td class="loc"><pre>    &quot;collapsed&quot;: true</pre></td>
</tr><tr id="L6739262098">
<td class="ln"><a href="#L6739262098">112</a></td>
<td class="loc"><pre>   },</pre></td>
</tr><tr id="L5917387292">
<td class="ln"><a href="#L5917387292">113</a></td>
<td class="loc"><pre>   &quot;source&quot;: [</pre></td>
</tr><tr id="L4199587773">
<td class="ln"><a href="#L4199587773">114</a></td>
<td class="loc"><pre>    &quot;Reading data from text files into a dictionary for each line.&quot;</pre></td>
</tr><tr id="L4418015023">
<td class="ln"><a href="#L4418015023">115</a></td>
<td class="loc"><pre>   ]</pre></td>
</tr><tr id="L6717095593">
<td class="ln"><a href="#L6717095593">116</a></td>
<td class="loc"><pre>  },</pre></td>
</tr><tr id="L5928119827">
<td class="ln"><a href="#L5928119827">117</a></td>
<td class="loc"><pre>  {</pre></td>
</tr><tr id="L4060537764">
<td class="ln"><a href="#L4060537764">118</a></td>
<td class="loc"><pre>   &quot;cell_type&quot;: &quot;code&quot;,</pre></td>
</tr><tr id="L4311733018">
<td class="ln"><a href="#L4311733018">119</a></td>
<td class="loc"><pre>   &quot;execution_count&quot;: null,</pre></td>
</tr><tr id="L3465555059">
<td class="ln"><a href="#L3465555059">120</a></td>
<td class="loc"><pre>   &quot;metadata&quot;: {</pre></td>
</tr><tr id="L4891933961">
<td class="ln"><a href="#L4891933961">121</a></td>
<td class="loc"><pre>    &quot;collapsed&quot;: false</pre></td>
</tr><tr id="L7459458383">
<td class="ln"><a href="#L7459458383">122</a></td>
<td class="loc"><pre>   },</pre></td>
</tr><tr id="L5462515165">
<td class="ln"><a href="#L5462515165">123</a></td>
<td class="loc"><pre>   &quot;outputs&quot;: [],</pre></td>
</tr><tr id="L3548115068">
<td class="ln"><a href="#L3548115068">124</a></td>
<td class="loc"><pre>   &quot;source&quot;: [</pre></td>
</tr><tr id="L4806328562">
<td class="ln"><a href="#L4806328562">125</a></td>
<td class="loc"><pre>    &quot;import csv\n&quot;,</pre></td>
</tr><tr id="L7339086184">
<td class="ln"><a href="#L7339086184">126</a></td>
<td class="loc"><pre>    &quot;with open(\&quot;arts_funding_by_state.txt\&quot;) as csv_file:\n&quot;,</pre></td>
</tr><tr id="L5577679318">
<td class="ln"><a href="#L5577679318">127</a></td>
<td class="loc"><pre>    &quot;    rdr = csv.DictReader(csv_file, delimiter=&#39;\\t&#39;)\n&quot;,</pre></td>
</tr><tr id="L3706303589">
<td class="ln"><a href="#L3706303589">128</a></td>
<td class="loc"><pre>    &quot;    for row in rdr:\n&quot;,</pre></td>
</tr><tr id="L4931224791">
<td class="ln"><a href="#L4931224791">129</a></td>
<td class="loc"><pre>    &quot;        print (row)&quot;</pre></td>
</tr><tr id="L3316186420">
<td class="ln"><a href="#L3316186420">130</a></td>
<td class="loc"><pre>   ]</pre></td>
</tr><tr id="L5312884170">
<td class="ln"><a href="#L5312884170">131</a></td>
<td class="loc"><pre>  },</pre></td>
</tr><tr id="L7040359440">
<td class="ln"><a href="#L7040359440">132</a></td>
<td class="loc"><pre>  {</pre></td>
</tr><tr id="L5614226590">
<td class="ln"><a href="#L5614226590">133</a></td>
<td class="loc"><pre>   &quot;cell_type&quot;: &quot;markdown&quot;,</pre></td>
</tr><tr id="L3431383355">
<td class="ln"><a href="#L3431383355">134</a></td>
<td class="loc"><pre>   &quot;metadata&quot;: {</pre></td>
</tr><tr id="L5192544689">
<td class="ln"><a href="#L5192544689">135</a></td>
<td class="loc"><pre>    &quot;collapsed&quot;: true</pre></td>
</tr><tr id="L6954721319">
<td class="ln"><a href="#L6954721319">136</a></td>
<td class="loc"><pre>   },</pre></td>
</tr><tr id="L5696753813">
<td class="ln"><a href="#L5696753813">137</a></td>
<td class="loc"><pre>   &quot;source&quot;: [</pre></td>
</tr><tr id="L3285222694">
<td class="ln"><a href="#L3285222694">138</a></td>
<td class="loc"><pre>    &quot;### Question - Can you write code that reads the contents of the text file using the csvreader, and adds the funding per capita to each list/dictionary as an additional key / value pair?&quot;</pre></td>
</tr><tr id="L5080724888">
<td class="ln"><a href="#L5080724888">139</a></td>
<td class="loc"><pre>   ]</pre></td>
</tr><tr id="L4369059833">
<td class="ln"><a href="#L4369059833">140</a></td>
<td class="loc"><pre>  },</pre></td>
</tr><tr id="L3983253379">
<td class="ln"><a href="#L3983253379">141</a></td>
<td class="loc"><pre>  {</pre></td>
</tr><tr id="L6012858061">
<td class="ln"><a href="#L6012858061">142</a></td>
<td class="loc"><pre>   &quot;cell_type&quot;: &quot;code&quot;,</pre></td>
</tr><tr id="L6901841503">
<td class="ln"><a href="#L6901841503">143</a></td>
<td class="loc"><pre>   &quot;execution_count&quot;: null,</pre></td>
</tr><tr id="L4257565698">
<td class="ln"><a href="#L4257565698">144</a></td>
<td class="loc"><pre>   &quot;metadata&quot;: {</pre></td>
</tr><tr id="L4106247020">
<td class="ln"><a href="#L4106247020">145</a></td>
<td class="loc"><pre>    &quot;collapsed&quot;: true</pre></td>
</tr><tr id="L6103182054">
<td class="ln"><a href="#L6103182054">146</a></td>
<td class="loc"><pre>   },</pre></td>
</tr><tr id="L6825048664">
<td class="ln"><a href="#L6825048664">147</a></td>
<td class="loc"><pre>   &quot;outputs&quot;: [],</pre></td>
</tr><tr id="L4413396967">
<td class="ln"><a href="#L4413396967">148</a></td>
<td class="loc"><pre>   &quot;source&quot;: []</pre></td>
</tr><tr id="L4229310293">
<td class="ln"><a href="#L4229310293">149</a></td>
<td class="loc"><pre>  },</pre></td>
</tr><tr id="L4753170106">
<td class="ln"><a href="#L4753170106">150</a></td>
<td class="loc"><pre>  {</pre></td>
</tr><tr id="L3864432196">
<td class="ln"><a href="#L3864432196">151</a></td>
<td class="loc"><pre>   &quot;cell_type&quot;: &quot;markdown&quot;,</pre></td>
</tr><tr id="L6129827726">
<td class="ln"><a href="#L6129827726">152</a></td>
<td class="loc"><pre>   &quot;metadata&quot;: {},</pre></td>
</tr><tr id="L6515388192">
<td class="ln"><a href="#L6515388192">153</a></td>
<td class="loc"><pre>   &quot;source&quot;: [</pre></td>
</tr><tr id="L4676410049">
<td class="ln"><a href="#L4676410049">154</a></td>
<td class="loc"><pre>    &quot;Here is some sample code for writing a text file.  &quot;</pre></td>
</tr><tr id="L3954788907">
<td class="ln"><a href="#L3954788907">155</a></td>
<td class="loc"><pre>   ]</pre></td>
</tr><tr id="L6252788645">
<td class="ln"><a href="#L6252788645">156</a></td>
<td class="loc"><pre>  },</pre></td>
</tr><tr id="L6403861271">
<td class="ln"><a href="#L6403861271">157</a></td>
<td class="loc"><pre>  {</pre></td>
</tr><tr id="L4532610728">
<td class="ln"><a href="#L4532610728">158</a></td>
<td class="loc"><pre>   &quot;cell_type&quot;: &quot;code&quot;,</pre></td>
</tr><tr id="L3844806166">
<td class="ln"><a href="#L3844806166">159</a></td>
<td class="loc"><pre>   &quot;execution_count&quot;: null,</pre></td>
</tr><tr id="L5142016375">
<td class="ln"><a href="#L5142016375">160</a></td>
<td class="loc"><pre>   &quot;metadata&quot;: {</pre></td>
</tr><tr id="L3212427781">
<td class="ln"><a href="#L3212427781">161</a></td>
<td class="loc"><pre>    &quot;collapsed&quot;: false</pre></td>
</tr><tr id="L5778870347">
<td class="ln"><a href="#L5778870347">162</a></td>
<td class="loc"><pre>   },</pre></td>
</tr><tr id="L7137894625">
<td class="ln"><a href="#L7137894625">163</a></td>
<td class="loc"><pre>   &quot;outputs&quot;: [],</pre></td>
</tr><tr id="L5092879744">
<td class="ln"><a href="#L5092879744">164</a></td>
<td class="loc"><pre>   &quot;source&quot;: [</pre></td>
</tr><tr id="L3264609774">
<td class="ln"><a href="#L3264609774">165</a></td>
<td class="loc"><pre>    &quot;import csv\n&quot;,</pre></td>
</tr><tr id="L5798448228">
<td class="ln"><a href="#L5798448228">166</a></td>
<td class="loc"><pre>    &quot;\n&quot;,</pre></td>
</tr><tr id="L7123524826">
<td class="ln"><a href="#L7123524826">167</a></td>
<td class="loc"><pre>    &quot;lines = []\n&quot;,</pre></td>
</tr><tr id="L5255821673">
<td class="ln"><a href="#L5255821673">168</a></td>
<td class="loc"><pre>    &quot;with open(\&quot;arts_funding_by_state.txt\&quot;) as csv_file:\n&quot;,</pre></td>
</tr><tr id="L3393210835">
<td class="ln"><a href="#L3393210835">169</a></td>
<td class="loc"><pre>    &quot;    rdr = csv.reader(csv_file, delimiter=&#39;\\t&#39;)\n&quot;,</pre></td>
</tr><tr id="L4991598648">
<td class="ln"><a href="#L4991598648">170</a></td>
<td class="loc"><pre>    &quot;    for row in rdr:\n&quot;,</pre></td>
</tr><tr id="L3632328902">
<td class="ln"><a href="#L3632328902">171</a></td>
<td class="loc"><pre>    &quot;        lines.append([row[0], row[1], row[2], \&quot;0\&quot;])\n&quot;,</pre></td>
</tr><tr id="L5360820492">
<td class="ln"><a href="#L5360820492">172</a></td>
<td class="loc"><pre>    &quot;\n&quot;,</pre></td>
</tr><tr id="L7290655138">
<td class="ln"><a href="#L7290655138">173</a></td>
<td class="loc"><pre>    &quot;with open (&#39;output.txt&#39;,&#39;a&#39;) as output_file:\n&quot;,</pre></td>
</tr><tr id="L4977196095">
<td class="ln"><a href="#L4977196095">174</a></td>
<td class="loc"><pre>    &quot;    for line in lines:\n&quot;,</pre></td>
</tr><tr id="L3651873965">
<td class="ln"><a href="#L3651873965">175</a></td>
<td class="loc"><pre>    &quot;        output_file.write(\&quot;\\t\&quot;.join(line) + \&quot;\\n\&quot;)\n&quot;,</pre></td>
</tr><tr id="L5413035299">
<td class="ln"><a href="#L5413035299">176</a></td>
<td class="loc"><pre>    &quot;\n&quot;,</pre></td>
</tr><tr id="L7241551257">
<td class="ln"><a href="#L7241551257">177</a></td>
<td class="loc"><pre>    &quot;print (\&quot;done\&quot;)&quot;</pre></td>
</tr><tr id="L4835788842">
<td class="ln"><a href="#L4835788842">178</a></td>
<td class="loc"><pre>   ]</pre></td>
</tr><tr id="L3543758996">
<td class="ln"><a href="#L3543758996">179</a></td>
<td class="loc"><pre>  },</pre></td>
</tr><tr id="L7130174701">
<td class="ln"><a href="#L7130174701">180</a></td>
<td class="loc"><pre>  {</pre></td>
</tr><tr id="L5804450943">
<td class="ln"><a href="#L5804450943">181</a></td>
<td class="loc"><pre>   &quot;cell_type&quot;: &quot;markdown&quot;,</pre></td>
</tr><tr id="L3270489561">
<td class="ln"><a href="#L3270489561">182</a></td>
<td class="loc"><pre>   &quot;metadata&quot;: {},</pre></td>
</tr><tr id="L5099652451">
<td class="ln"><a href="#L5099652451">183</a></td>
<td class="loc"><pre>   &quot;source&quot;: [</pre></td>
</tr><tr id="L7148280070">
<td class="ln"><a href="#L7148280070">184</a></td>
<td class="loc"><pre>    &quot;### Question: Can you write a program that appends the funding per capita column to the output?&quot;</pre></td>
</tr><tr id="L5789395064">
<td class="ln"><a href="#L5789395064">185</a></td>
<td class="loc"><pre>   ]</pre></td>
</tr><tr id="L3223091682">
<td class="ln"><a href="#L3223091682">186</a></td>
<td class="loc"><pre>  },</pre></td>
</tr><tr id="L5152262476">
<td class="ln"><a href="#L5152262476">187</a></td>
<td class="loc"><pre>  {</pre></td>
</tr><tr id="L7025741019">
<td class="ln"><a href="#L7025741019">188</a></td>
<td class="loc"><pre>   &quot;cell_type&quot;: &quot;code&quot;,</pre></td>
</tr><tr id="L5633039441">
<td class="ln"><a href="#L5633039441">189</a></td>
<td class="loc"><pre>   &quot;execution_count&quot;: null,</pre></td>
</tr><tr id="L7248078254">
<td class="ln"><a href="#L7248078254">190</a></td>
<td class="loc"><pre>   &quot;metadata&quot;: {</pre></td>
</tr><tr id="L5419160896">
<td class="ln"><a href="#L5419160896">191</a></td>
<td class="loc"><pre>    &quot;collapsed&quot;: true</pre></td>
</tr><tr id="L3658122394">
<td class="ln"><a href="#L3658122394">192</a></td>
<td class="loc"><pre>   },</pre></td>
</tr><tr id="L4983600164">
<td class="ln"><a href="#L4983600164">193</a></td>
<td class="loc"><pre>   &quot;outputs&quot;: [],</pre></td>
</tr><tr id="L7300655557">
<td class="ln"><a href="#L7300655557">194</a></td>
<td class="loc"><pre>   &quot;source&quot;: []</pre></td>
</tr><tr id="L5371730231">
<td class="ln"><a href="#L5371730231">195</a></td>
<td class="loc"><pre>  },</pre></td>
</tr><tr id="L3643099297">
<td class="ln"><a href="#L3643099297">196</a></td>
<td class="loc"><pre>  {</pre></td>
</tr><tr id="L5001738251">
<td class="ln"><a href="#L5001738251">197</a></td>
<td class="loc"><pre>   &quot;cell_type&quot;: &quot;markdown&quot;,</pre></td>
</tr><tr id="L7411162524">
<td class="ln"><a href="#L7411162524">198</a></td>
<td class="loc"><pre>   &quot;metadata&quot;: {</pre></td>
</tr><tr id="L5515005202">
<td class="ln"><a href="#L5515005202">199</a></td>
<td class="loc"><pre>    &quot;collapsed&quot;: true</pre></td>
</tr><tr id="L3732990142">
<td class="ln"><a href="#L3732990142">200</a></td>
<td class="loc"><pre>   },</pre></td>
</tr><tr id="L4622506032">
<td class="ln"><a href="#L4622506032">201</a></td>
<td class="loc"><pre>   &quot;source&quot;: [</pre></td>
</tr><tr id="L6653118890">
<td class="ln"><a href="#L6653118890">202</a></td>
<td class="loc"><pre>    &quot;### Reading data from SQL Server\n&quot;,</pre></td>
</tr><tr id="L6266796308">
<td class="ln"><a href="#L6266796308">203</a></td>
<td class="loc"><pre>    &quot;\n&quot;,</pre></td>
</tr><tr id="L3819644085">
<td class="ln"><a href="#L3819644085">204</a></td>
<td class="loc"><pre>    &quot;The class machines should be set up with access to the fc_sample database.  Here is sample code that shows how to connect and read data:&quot;</pre></td>
</tr><tr id="L4540994631">
<td class="ln"><a href="#L4540994631">205</a></td>
<td class="loc"><pre>   ]</pre></td>
</tr><tr id="L6536906129">
<td class="ln"><a href="#L6536906129">206</a></td>
<td class="loc"><pre>  },</pre></td>
</tr><tr id="L6386119963">
<td class="ln"><a href="#L6386119963">207</a></td>
<td class="loc"><pre>  {</pre></td>
</tr><tr id="L3979960460">
<td class="ln"><a href="#L3979960460">208</a></td>
<td class="loc"><pre>   &quot;cell_type&quot;: &quot;code&quot;,</pre></td>
</tr><tr id="L4668018722">
<td class="ln"><a href="#L4668018722">209</a></td>
<td class="loc"><pre>   &quot;execution_count&quot;: null,</pre></td>
</tr><tr id="L4118403581">
<td class="ln"><a href="#L4118403581">210</a></td>
<td class="loc"><pre>   &quot;metadata&quot;: {</pre></td>
</tr><tr id="L4504480111">
<td class="ln"><a href="#L4504480111">211</a></td>
<td class="loc"><pre>    &quot;collapsed&quot;: false</pre></td>
</tr><tr id="L6768802025">
<td class="ln"><a href="#L6768802025">212</a></td>
<td class="loc"><pre>   },</pre></td>
</tr><tr id="L5879531603">
<td class="ln"><a href="#L5879531603">213</a></td>
<td class="loc"><pre>   &quot;outputs&quot;: [],</pre></td>
</tr><tr id="L4237694454">
<td class="ln"><a href="#L4237694454">214</a></td>
<td class="loc"><pre>   &quot;source&quot;: [</pre></td>
</tr><tr id="L4388234632">
<td class="ln"><a href="#L4388234632">215</a></td>
<td class="loc"><pre>    &quot;import pyodbc\n&quot;,</pre></td>
</tr><tr id="L6687323346">
<td class="ln"><a href="#L6687323346">216</a></td>
<td class="loc"><pre>    &quot;import matplotlib.pyplot as plt\n&quot;,</pre></td>
</tr><tr id="L5966218332">
<td class="ln"><a href="#L5966218332">217</a></td>
<td class="loc"><pre>    &quot;\n&quot;,</pre></td>
</tr><tr id="L4097855947">
<td class="ln"><a href="#L4097855947">218</a></td>
<td class="loc"><pre>    &quot;cnxn = pyodbc.connect(\&quot;DRIVER={SQL Server};SERVER=172.16.7.121;DATABASE=fc_sample;uid=python_class_user;pwd=[provided in class]\&quot;)\n&quot;,</pre></td>
</tr><tr id="L4282736993">
<td class="ln"><a href="#L4282736993">219</a></td>
<td class="loc"><pre>    &quot;sql = \&quot;select top 10 gm_type, count(*) FROM grantmaker where isnull(gm_type, &#39;&#39;) &lt;&gt; &#39;&#39; group by gm_type order by count(*) desc\&quot;\n&quot;,</pre></td>
</tr><tr id="L3495331388">
<td class="ln"><a href="#L3495331388">220</a></td>
<td class="loc"><pre>    &quot;cursor = cnxn.cursor()\n&quot;,</pre></td>
</tr><tr id="L4853839538">
<td class="ln"><a href="#L4853839538">221</a></td>
<td class="loc"><pre>    &quot;values = []\n&quot;,</pre></td>
</tr><tr id="L7421355816">
<td class="ln"><a href="#L7421355816">222</a></td>
<td class="loc"><pre>    &quot;labels = []\n&quot;,</pre></td>
</tr><tr id="L5492299670">
<td class="ln"><a href="#L5492299670">223</a></td>
<td class="loc"><pre>    &quot;\n&quot;,</pre></td>
</tr><tr id="L3518579251">
<td class="ln"><a href="#L3518579251">224</a></td>
<td class="loc"><pre>    &quot;for row in cursor.execute(sql):\n&quot;,</pre></td>
</tr><tr id="L4844188361">
<td class="ln"><a href="#L4844188361">225</a></td>
<td class="loc"><pre>    &quot;    labels.append(row[0])\n&quot;,</pre></td>
</tr><tr id="L7376937743">
<td class="ln"><a href="#L7376937743">226</a></td>
<td class="loc"><pre>    &quot;    values.append(row[1])\n&quot;,</pre></td>
</tr><tr id="L5548151709">
<td class="ln"><a href="#L5548151709">227</a></td>
<td class="loc"><pre>    &quot;cursor.close()\n&quot;,</pre></td>
</tr><tr id="L3677027854">
<td class="ln"><a href="#L3677027854">228</a></td>
<td class="loc"><pre>    &quot;\n&quot;,</pre></td>
</tr><tr id="L4968820384">
<td class="ln"><a href="#L4968820384">229</a></td>
<td class="loc"><pre>    &quot;plt.xticks(range(len(values)), labels)\n&quot;,</pre></td>
</tr><tr id="L3345725307">
<td class="ln"><a href="#L3345725307">230</a></td>
<td class="loc"><pre>    &quot;plt.bar(range(len(values)), height=values)\n&quot;,</pre></td>
</tr><tr id="L5275027441">
<td class="ln"><a href="#L5275027441">231</a></td>
<td class="loc"><pre>    &quot;plt.show()&quot;</pre></td>
</tr><tr id="L7002510951">
<td class="ln"><a href="#L7002510951">232</a></td>
<td class="loc"><pre>   ]</pre></td>
</tr><tr id="L5643757269">
<td class="ln"><a href="#L5643757269">233</a></td>
<td class="loc"><pre>  },</pre></td>
</tr><tr id="L3401610100">
<td class="ln"><a href="#L3401610100">234</a></td>
<td class="loc"><pre>  {</pre></td>
</tr><tr id="L5230642186">
<td class="ln"><a href="#L5230642186">235</a></td>
<td class="loc"><pre>   &quot;cell_type&quot;: &quot;markdown&quot;,</pre></td>
</tr><tr id="L6992826960">
<td class="ln"><a href="#L6992826960">236</a></td>
<td class="loc"><pre>   &quot;metadata&quot;: {},</pre></td>
</tr><tr id="L5666972382">
<td class="ln"><a href="#L5666972382">237</a></td>
<td class="loc"><pre>   &quot;source&quot;: [</pre></td>
</tr><tr id="L3256233805">
<td class="ln"><a href="#L3256233805">238</a></td>
<td class="loc"><pre>    &quot;Some other useful pyodbbc methods - more info here: https://code.google.com/archive/p/pyodbc/wikis/GettingStarted.wiki\n&quot;,</pre></td>
</tr><tr id="L5118033887">
<td class="ln"><a href="#L5118033887">239</a></td>
<td class="loc"><pre>    &quot;* execute - use this to execute any SQL, especially insert/update/delete. Note that .commit() on the database connection needs to be called for the save to be committed and visible to other db users.\n&quot;,</pre></td>
</tr><tr id="L4339803586">
<td class="ln"><a href="#L4339803586">240</a></td>
<td class="loc"><pre>    &quot;* fetchone - useful if you knot that your query only returns a single records.\n&quot;,</pre></td>
</tr><tr id="L4020835628">
<td class="ln"><a href="#L4020835628">241</a></td>
<td class="loc"><pre>    &quot;* fetchall - gets all records into a list.&quot;</pre></td>
</tr><tr id="L6050432166">
<td class="ln"><a href="#L6050432166">242</a></td>
<td class="loc"><pre>   ]</pre></td>
</tr><tr id="L6872593432">
<td class="ln"><a href="#L6872593432">243</a></td>
<td class="loc"><pre>  },</pre></td>
</tr><tr id="L4286572985">
<td class="ln"><a href="#L4286572985">244</a></td>
<td class="loc"><pre>  {</pre></td>
</tr><tr id="L4068923715">
<td class="ln"><a href="#L4068923715">245</a></td>
<td class="loc"><pre>   &quot;cell_type&quot;: &quot;markdown&quot;,</pre></td>
</tr><tr id="L6065850509">
<td class="ln"><a href="#L6065850509">246</a></td>
<td class="loc"><pre>   &quot;metadata&quot;: {},</pre></td>
</tr><tr id="L6854064159">
<td class="ln"><a href="#L6854064159">247</a></td>
<td class="loc"><pre>   &quot;source&quot;: [</pre></td>
</tr><tr id="L4443184528">
<td class="ln"><a href="#L4443184528">248</a></td>
<td class="loc"><pre>    &quot;### Question: can you write python code that queries the fc_sample database to get the number of recipients and grantmakers per state and compare the two in a scatterplot?&quot;</pre></td>
</tr><tr id="L4191194398">
<td class="ln"><a href="#L4191194398">249</a></td>
<td class="loc"><pre>   ]</pre></td>
</tr><tr id="L4724167937">
<td class="ln"><a href="#L4724167937">250</a></td>
<td class="loc"><pre>  },</pre></td>
</tr><tr id="L3901760619">
<td class="ln"><a href="#L3901760619">251</a></td>
<td class="loc"><pre>  {</pre></td>
</tr><tr id="L6167164389">
<td class="ln"><a href="#L6167164389">252</a></td>
<td class="loc"><pre>   &quot;cell_type&quot;: &quot;code&quot;,</pre></td>
</tr><tr id="L6486377815">
<td class="ln"><a href="#L6486377815">253</a></td>
<td class="loc"><pre>   &quot;execution_count&quot;: null,</pre></td>
</tr><tr id="L4705671418">
<td class="ln"><a href="#L4705671418">254</a></td>
<td class="loc"><pre>   &quot;metadata&quot;: {</pre></td>
</tr><tr id="L3917211780">
<td class="ln"><a href="#L3917211780">255</a></td>
<td class="loc"><pre>    &quot;collapsed&quot;: true</pre></td>
</tr><tr id="L6215219662">
<td class="ln"><a href="#L6215219662">256</a></td>
<td class="loc"><pre>   },</pre></td>
</tr><tr id="L6433114464">
<td class="ln"><a href="#L6433114464">257</a></td>
<td class="loc"><pre>   &quot;outputs&quot;: [],</pre></td>
</tr><tr id="L4562128079">
<td class="ln"><a href="#L4562128079">258</a></td>
<td class="loc"><pre>   &quot;source&quot;: []</pre></td>
</tr><tr id="L3806960733">
<td class="ln"><a href="#L3806960733">259</a></td>
<td class="loc"><pre>  },</pre></td>
</tr><tr id="L5179589440">
<td class="ln"><a href="#L5179589440">260</a></td>
<td class="loc"><pre>  {</pre></td>
</tr><tr id="L3183178670">
<td class="ln"><a href="#L3183178670">261</a></td>
<td class="loc"><pre>   &quot;cell_type&quot;: &quot;markdown&quot;,</pre></td>
</tr><tr id="L5749613092">
<td class="ln"><a href="#L5749613092">262</a></td>
<td class="loc"><pre>   &quot;metadata&quot;: {},</pre></td>
</tr><tr id="L7175475866">
<td class="ln"><a href="#L7175475866">263</a></td>
<td class="loc"><pre>   &quot;source&quot;: [</pre></td>
</tr><tr id="L5055547191">
<td class="ln"><a href="#L5055547191">264</a></td>
<td class="loc"><pre>    &quot;***\n&quot;,</pre></td>
</tr><tr id="L3293624261">
<td class="ln"><a href="#L3293624261">265</a></td>
<td class="loc"><pre>    &quot;### Reading data from web services&quot;</pre></td>
</tr><tr id="L5827454475">
<td class="ln"><a href="#L5827454475">266</a></td>
<td class="loc"><pre>   ]</pre></td>
</tr><tr id="L7086200481">
<td class="ln"><a href="#L7086200481">267</a></td>
<td class="loc"><pre>  },</pre></td>
</tr><tr id="L5217696530">
<td class="ln"><a href="#L5217696530">268</a></td>
<td class="loc"><pre>  {</pre></td>
</tr><tr id="L3423005596">
<td class="ln"><a href="#L3423005596">269</a></td>
<td class="loc"><pre>   &quot;cell_type&quot;: &quot;markdown&quot;,</pre></td>
</tr><tr id="L5028934271">
<td class="ln"><a href="#L5028934271">270</a></td>
<td class="loc"><pre>   &quot;metadata&quot;: {</pre></td>
</tr><tr id="L3603317485">
<td class="ln"><a href="#L3603317485">271</a></td>
<td class="loc"><pre>    &quot;collapsed&quot;: true</pre></td>
</tr><tr id="L5331817315">
<td class="ln"><a href="#L5331817315">272</a></td>
<td class="loc"><pre>   },</pre></td>
</tr><tr id="L7327982553">
<td class="ln"><a href="#L7327982553">273</a></td>
<td class="loc"><pre>   &quot;source&quot;: [</pre></td>
</tr><tr id="L4939626104">
<td class="ln"><a href="#L4939626104">274</a></td>
<td class="loc"><pre>    &quot;Python dictionaries can be populated to JSON data from web serices.  The json library has two workhorse functions that handle most cases (loads (load string), and dumps (dump string)).&quot;</pre></td>
</tr><tr id="L3681126150">
<td class="ln"><a href="#L3681126150">275</a></td>
<td class="loc"><pre>   ]</pre></td>
</tr><tr id="L5442295628">
<td class="ln"><a href="#L5442295628">276</a></td>
<td class="loc"><pre>  },</pre></td>
</tr><tr id="L7203973090">
<td class="ln"><a href="#L7203973090">277</a></td>
<td class="loc"><pre>  {</pre></td>
</tr><tr id="L4797950545">
<td class="ln"><a href="#L4797950545">278</a></td>
<td class="loc"><pre>   &quot;cell_type&quot;: &quot;code&quot;,</pre></td>
</tr><tr id="L3573267163">
<td class="ln"><a href="#L3573267163">279</a></td>
<td class="loc"><pre>   &quot;execution_count&quot;: null,</pre></td>
</tr><tr id="L7100391110">
<td class="ln"><a href="#L7100391110">280</a></td>
<td class="loc"><pre>   &quot;metadata&quot;: {</pre></td>
</tr><tr id="L5842554424">
<td class="ln"><a href="#L5842554424">281</a></td>
<td class="loc"><pre>    &quot;collapsed&quot;: false</pre></td>
</tr><tr id="L3308584866">
<td class="ln"><a href="#L3308584866">282</a></td>
<td class="loc"><pre>   },</pre></td>
</tr><tr id="L5069877004">
<td class="ln"><a href="#L5069877004">283</a></td>
<td class="loc"><pre>   &quot;outputs&quot;: [],</pre></td>
</tr><tr id="L7177804461">
<td class="ln"><a href="#L7177804461">284</a></td>
<td class="loc"><pre>   &quot;source&quot;: [</pre></td>
</tr><tr id="L5751540287">
<td class="ln"><a href="#L5751540287">285</a></td>
<td class="loc"><pre>    &quot;# JSON - represents data objects (dictionaries) as a string. Can be converted directly to a dictionary in python:\n&quot;,</pre></td>
</tr><tr id="L3185228697">
<td class="ln"><a href="#L3185228697">286</a></td>
<td class="loc"><pre>    &quot;import json as js\n&quot;,</pre></td>
</tr><tr id="L5181795107">
<td class="ln"><a href="#L5181795107">287</a></td>
<td class="loc"><pre>    &quot;json_string = &#39;{ \&quot;test1\&quot;: 987.65, \&quot;test2\&quot;: 124.56 }&#39;\n&quot;,</pre></td>
</tr><tr id="L7055009428">
<td class="ln"><a href="#L7055009428">288</a></td>
<td class="loc"><pre>    &quot;obj = js.loads(json_string)\n&quot;,</pre></td>
</tr><tr id="L5595452970">
<td class="ln"><a href="#L5595452970">289</a></td>
<td class="loc"><pre>    &quot;print (obj[\&quot;test1\&quot;] + obj[\&quot;test2\&quot;])&quot;</pre></td>
</tr><tr id="L7218548741">
<td class="ln"><a href="#L7218548741">290</a></td>
<td class="loc"><pre>   ]</pre></td>
</tr><tr id="L5457010551">
<td class="ln"><a href="#L5457010551">291</a></td>
<td class="loc"><pre>  },</pre></td>
</tr><tr id="L3695980257">
<td class="ln"><a href="#L3695980257">292</a></td>
<td class="loc"><pre>  {</pre></td>
</tr><tr id="L4954062411">
<td class="ln"><a href="#L4954062411">293</a></td>
<td class="loc"><pre>   &quot;cell_type&quot;: &quot;markdown&quot;,</pre></td>
</tr><tr id="L7330434030">
<td class="ln"><a href="#L7330434030">294</a></td>
<td class="loc"><pre>   &quot;metadata&quot;: {</pre></td>
</tr><tr id="L5333621632">
<td class="ln"><a href="#L5333621632">295</a></td>
<td class="loc"><pre>    &quot;collapsed&quot;: true</pre></td>
</tr><tr id="L3604998874">
<td class="ln"><a href="#L3604998874">296</a></td>
<td class="loc"><pre>   },</pre></td>
</tr><tr id="L5031508580">
<td class="ln"><a href="#L5031508580">297</a></td>
<td class="loc"><pre>   &quot;source&quot;: [</pre></td>
</tr><tr id="L7440160723">
<td class="ln"><a href="#L7440160723">298</a></td>
<td class="loc"><pre>    &quot;The requests library (http://docs.python-requests.org/en/master/user/quickstart/) lets us read data from web sites, for example:&quot;</pre></td>
</tr><tr id="L5477689193">
<td class="ln"><a href="#L5477689193">299</a></td>
<td class="loc"><pre>   ]</pre></td>
</tr><tr id="L3728899727">
<td class="ln"><a href="#L3728899727">300</a></td>
<td class="loc"><pre>  },</pre></td>
</tr><tr id="L4651724317">
<td class="ln"><a href="#L4651724317">301</a></td>
<td class="loc"><pre>  {</pre></td>
</tr><tr id="L6648815539">
<td class="ln"><a href="#L6648815539">302</a></td>
<td class="loc"><pre>   &quot;cell_type&quot;: &quot;code&quot;,</pre></td>
</tr><tr id="L6296293193">
<td class="ln"><a href="#L6296293193">303</a></td>
<td class="loc"><pre>   &quot;execution_count&quot;: null,</pre></td>
</tr><tr id="L3840752296">
<td class="ln"><a href="#L3840752296">304</a></td>
<td class="loc"><pre>   &quot;metadata&quot;: {</pre></td>
</tr><tr id="L4528302614">
<td class="ln"><a href="#L4528302614">305</a></td>
<td class="loc"><pre>    &quot;collapsed&quot;: false</pre></td>
</tr><tr id="L6557735868">
<td class="ln"><a href="#L6557735868">306</a></td>
<td class="loc"><pre>   },</pre></td>
</tr><tr id="L6373641010">
<td class="ln"><a href="#L6373641010">307</a></td>
<td class="loc"><pre>   &quot;outputs&quot;: [],</pre></td>
</tr><tr id="L3950446273">
<td class="ln"><a href="#L3950446273">308</a></td>
<td class="loc"><pre>   &quot;source&quot;: [</pre></td>
</tr><tr id="L4672337451">
<td class="ln"><a href="#L4672337451">309</a></td>
<td class="loc"><pre>    &quot;import requests\n&quot;,</pre></td>
</tr><tr id="L4147621840">
<td class="ln"><a href="#L4147621840">310</a></td>
<td class="loc"><pre>    &quot;r = requests.get(&#39;http://google.com&#39;)\n&quot;,</pre></td>
</tr><tr id="L4500389726">
<td class="ln"><a href="#L4500389726">311</a></td>
<td class="loc"><pre>    &quot;print (r.text)&quot;</pre></td>
</tr><tr id="L6798298868">
<td class="ln"><a href="#L6798298868">312</a></td>
<td class="loc"><pre>   ]</pre></td>
</tr><tr id="L5875228298">
<td class="ln"><a href="#L5875228298">313</a></td>
<td class="loc"><pre>  },</pre></td>
</tr><tr id="L4225002471">
<td class="ln"><a href="#L4225002471">314</a></td>
<td class="loc"><pre>  {</pre></td>
</tr><tr id="L4409342805">
<td class="ln"><a href="#L4409342805">315</a></td>
<td class="loc"><pre>   &quot;cell_type&quot;: &quot;markdown&quot;,</pre></td>
</tr><tr id="L6674844411">
<td class="ln"><a href="#L6674844411">316</a></td>
<td class="loc"><pre>   &quot;metadata&quot;: {},</pre></td>
</tr><tr id="L5987048049">
<td class="ln"><a href="#L5987048049">317</a></td>
<td class="loc"><pre>   &quot;source&quot;: [</pre></td>
</tr><tr id="L4102174722">
<td class="ln"><a href="#L4102174722">318</a></td>
<td class="loc"><pre>    &quot;Reading json data from a web service&quot;</pre></td>
</tr><tr id="L4253222764">
<td class="ln"><a href="#L4253222764">319</a></td>
<td class="loc"><pre>   ]</pre></td>
</tr><tr id="L3491029009">
<td class="ln"><a href="#L3491029009">320</a></td>
<td class="loc"><pre>  },</pre></td>
</tr><tr id="L4883337371">
<td class="ln"><a href="#L4883337371">321</a></td>
<td class="loc"><pre>  {</pre></td>
</tr><tr id="L7417266485">
<td class="ln"><a href="#L7417266485">322</a></td>
<td class="loc"><pre>   &quot;cell_type&quot;: &quot;code&quot;,</pre></td>
</tr><tr id="L5521519047">
<td class="ln"><a href="#L5521519047">323</a></td>
<td class="loc"><pre>   &quot;execution_count&quot;: null,</pre></td>
</tr><tr id="L3539409962">
<td class="ln"><a href="#L3539409962">324</a></td>
<td class="loc"><pre>   &quot;metadata&quot;: {</pre></td>
</tr><tr id="L4831710356">
<td class="ln"><a href="#L4831710356">325</a></td>
<td class="loc"><pre>    &quot;collapsed&quot;: false</pre></td>
</tr><tr id="L7398047038">
<td class="ln"><a href="#L7398047038">326</a></td>
<td class="loc"><pre>   },</pre></td>
</tr><tr id="L5535460784">
<td class="ln"><a href="#L5535460784">327</a></td>
<td class="loc"><pre>   &quot;outputs&quot;: [],</pre></td>
</tr><tr id="L3647825983">
<td class="ln"><a href="#L3647825983">328</a></td>
<td class="loc"><pre>   &quot;source&quot;: [</pre></td>
</tr><tr id="L4972894381">
<td class="ln"><a href="#L4972894381">329</a></td>
<td class="loc"><pre>    &quot;import requests\n&quot;,</pre></td>
</tr><tr id="L3375223122">
<td class="ln"><a href="#L3375223122">330</a></td>
<td class="loc"><pre>    &quot;import json\n&quot;,</pre></td>
</tr><tr id="L5270725084">
<td class="ln"><a href="#L5270725084">331</a></td>
<td class="loc"><pre>    &quot;r = requests.get(\&quot;http://ws.geonames.net/searchJSON?featureClass=A&amp;featureClass=P&amp;maxRows=10&amp;username=fcgis&amp;q=New York\&quot;)\n&quot;,</pre></td>
</tr><tr id="L7031730294">
<td class="ln"><a href="#L7031730294">332</a></td>
<td class="loc"><pre>    &quot;obj = json.loads(r.text)\n&quot;,</pre></td>
</tr><tr id="L5639667976">
<td class="ln"><a href="#L5639667976">333</a></td>
<td class="loc"><pre>    &quot;print(json.dumps(obj, indent=2))&quot;</pre></td>
</tr><tr id="L3389132137">
<td class="ln"><a href="#L3389132137">334</a></td>
<td class="loc"><pre>   ]</pre></td>
</tr><tr id="L5251472851">
<td class="ln"><a href="#L5251472851">335</a></td>
<td class="loc"><pre>  },</pre></td>
</tr><tr id="L6980136061">
<td class="ln"><a href="#L6980136061">336</a></td>
<td class="loc"><pre>  {</pre></td>
</tr><tr id="L5688081647">
<td class="ln"><a href="#L5688081647">337</a></td>
<td class="loc"><pre>   &quot;cell_type&quot;: &quot;markdown&quot;,</pre></td>
</tr><tr id="L3260307840">
<td class="ln"><a href="#L3260307840">338</a></td>
<td class="loc"><pre>   &quot;metadata&quot;: {</pre></td>
</tr><tr id="L5088831982">
<td class="ln"><a href="#L5088831982">339</a></td>
<td class="loc"><pre>    &quot;collapsed&quot;: true</pre></td>
</tr><tr id="L4327357323">
<td class="ln"><a href="#L4327357323">340</a></td>
<td class="loc"><pre>   },</pre></td>
</tr><tr id="L4041698081">
<td class="ln"><a href="#L4041698081">341</a></td>
<td class="loc"><pre>   &quot;source&quot;: [</pre></td>
</tr><tr id="L6037707447">
<td class="ln"><a href="#L6037707447">342</a></td>
<td class="loc"><pre>    &quot;Accesing data from new FC API Beta:&quot;</pre></td>
</tr><tr id="L6893668933">
<td class="ln"><a href="#L6893668933">343</a></td>
<td class="loc"><pre>   ]</pre></td>
</tr><tr id="L4316037028">
<td class="ln"><a href="#L4316037028">344</a></td>
<td class="loc"><pre>  },</pre></td>
</tr><tr id="L4064587546">
<td class="ln"><a href="#L4064587546">345</a></td>
<td class="loc"><pre>  {</pre></td>
</tr><tr id="L6095101632">
<td class="ln"><a href="#L6095101632">346</a></td>
<td class="loc"><pre>   &quot;cell_type&quot;: &quot;code&quot;,</pre></td>
</tr><tr id="L6850006574">
<td class="ln"><a href="#L6850006574">347</a></td>
<td class="loc"><pre>   &quot;execution_count&quot;: null,</pre></td>
</tr><tr id="L4422091709">
<td class="ln"><a href="#L4422091709">348</a></td>
<td class="loc"><pre>   &quot;metadata&quot;: {</pre></td>
</tr><tr id="L4203934511">
<td class="ln"><a href="#L4203934511">349</a></td>
<td class="loc"><pre>    &quot;collapsed&quot;: false</pre></td>
</tr><tr id="L4745030348">
<td class="ln"><a href="#L4745030348">350</a></td>
<td class="loc"><pre>   },</pre></td>
</tr><tr id="L3889314402">
<td class="ln"><a href="#L3889314402">351</a></td>
<td class="loc"><pre>   &quot;outputs&quot;: [],</pre></td>
</tr><tr id="L6188239864">
<td class="ln"><a href="#L6188239864">352</a></td>
<td class="loc"><pre>   &quot;source&quot;: [</pre></td>
</tr><tr id="L6473653126">
<td class="ln"><a href="#L6473653126">353</a></td>
<td class="loc"><pre>    &quot;import requests\n&quot;,</pre></td>
</tr><tr id="L4701335267">
<td class="ln"><a href="#L4701335267">354</a></td>
<td class="loc"><pre>    &quot;import base64 as ba\n&quot;,</pre></td>
</tr><tr id="L3946675801">
<td class="ln"><a href="#L3946675801">355</a></td>
<td class="loc"><pre>    &quot;import json as js\n&quot;,</pre></td>
</tr><tr id="L6211162111">
<td class="ln"><a href="#L6211162111">356</a></td>
<td class="loc"><pre>    &quot;\n&quot;,</pre></td>
</tr><tr id="L6462365549">
<td class="ln"><a href="#L6462365549">357</a></td>
<td class="loc"><pre>    &quot;s = requests.Session()\n&quot;,</pre></td>
</tr><tr id="L4574868222">
<td class="ln"><a href="#L4574868222">358</a></td>
<td class="loc"><pre>    &quot;s.auth = (&#39;[provided in class]&#39;, &#39;[privided in class]&#39;)\n&quot;,</pre></td>
</tr><tr id="L3785867888">
<td class="ln"><a href="#L3785867888">359</a></td>
<td class="loc"><pre>    &quot;\n&quot;,</pre></td>
</tr><tr id="L5166865677">
<td class="ln"><a href="#L5166865677">360</a></td>
<td class="loc"><pre>    &quot;r = s.get(&#39;https://apibeta.foundationcenter.org/v2.0/aggregates/funding&#39;)\n&quot;,</pre></td>
</tr><tr id="L3204255135">
<td class="ln"><a href="#L3204255135">361</a></td>
<td class="loc"><pre>    &quot;obj = json.loads(r.text)\n&quot;,</pre></td>
</tr><tr id="L5737167929">
<td class="ln"><a href="#L5737167929">362</a></td>
<td class="loc"><pre>    &quot;print(json.dumps(obj, indent=2))&quot;</pre></td>
</tr><tr id="L7196339395">
<td class="ln"><a href="#L7196339395">363</a></td>
<td class="loc"><pre>   ]</pre></td>
</tr><tr id="L5084799270">
<td class="ln"><a href="#L5084799270">364</a></td>
<td class="loc"><pre>  },</pre></td>
</tr><tr id="L3289567640">
<td class="ln"><a href="#L3289567640">365</a></td>
<td class="loc"><pre>  {</pre></td>
</tr><tr id="L5856919618">
<td class="ln"><a href="#L5856919618">366</a></td>
<td class="loc"><pre>   &quot;cell_type&quot;: &quot;markdown&quot;,</pre></td>
</tr><tr id="L7081865388">
<td class="ln"><a href="#L7081865388">367</a></td>
<td class="loc"><pre>   &quot;metadata&quot;: {},</pre></td>
</tr><tr id="L5196850491">
<td class="ln"><a href="#L5196850491">368</a></td>
<td class="loc"><pre>   &quot;source&quot;: [</pre></td>
</tr><tr id="L3435435441">
<td class="ln"><a href="#L3435435441">369</a></td>
<td class="loc"><pre>    &quot;### Question - Using the documentation at apibeta.foundationcenter.org, can you write a program that gets the top 10 2014 recipients by amounts of grants related to museums?&quot;</pre></td>
</tr><tr id="L5050010702">
<td class="ln"><a href="#L5050010702">370</a></td>
<td class="loc"><pre>   ]</pre></td>
</tr><tr id="L3590593760">
<td class="ln"><a href="#L3590593760">371</a></td>
<td class="loc"><pre>  },</pre></td>
</tr><tr id="L5352680826">
<td class="ln"><a href="#L5352680826">372</a></td>
<td class="loc"><pre>  {</pre></td>
</tr><tr id="L7315537412">
<td class="ln"><a href="#L7315537412">373</a></td>
<td class="loc"><pre>   &quot;cell_type&quot;: &quot;code&quot;,</pre></td>
</tr><tr id="L4935569509">
<td class="ln"><a href="#L4935569509">374</a></td>
<td class="loc"><pre>   &quot;execution_count&quot;: null,</pre></td>
</tr><tr id="L3710378199">
<td class="ln"><a href="#L3710378199">375</a></td>
<td class="loc"><pre>   &quot;metadata&quot;: {</pre></td>
</tr><tr id="L5437960577">
<td class="ln"><a href="#L5437960577">376</a></td>
<td class="loc"><pre>    &quot;collapsed&quot;: true</pre></td>
</tr><tr id="L7233438187">
<td class="ln"><a href="#L7233438187">377</a></td>
<td class="loc"><pre>   },</pre></td>
</tr><tr id="L4810380412">
<td class="ln"><a href="#L4810380412">378</a></td>
<td class="loc"><pre>   &quot;outputs&quot;: [],</pre></td>
</tr><tr id="L3552421106">
<td class="ln"><a href="#L3552421106">379</a></td>
<td class="loc"><pre>   &quot;source&quot;: []</pre></td>
</tr><tr id="L7071139991">
<td class="ln"><a href="#L7071139991">380</a></td>
<td class="loc"><pre>  }</pre></td>
</tr><tr id="L5846612005">
<td class="ln"><a href="#L5846612005">381</a></td>
<td class="loc"><pre> ],</pre></td>
</tr><tr id="L3279120811">
<td class="ln"><a href="#L3279120811">382</a></td>
<td class="loc"><pre> &quot;metadata&quot;: {</pre></td>
</tr><tr id="L5074213185">
<td class="ln"><a href="#L5074213185">383</a></td>
<td class="loc"><pre>  &quot;anaconda-cloud&quot;: {},</pre></td>
</tr><tr id="L7190529184">
<td class="ln"><a href="#L7190529184">384</a></td>
<td class="loc"><pre>  &quot;kernelspec&quot;: {</pre></td>
</tr><tr id="L5730464782">
<td class="ln"><a href="#L5730464782">385</a></td>
<td class="loc"><pre>   &quot;display_name&quot;: &quot;Python [default]&quot;,</pre></td>
</tr><tr id="L3197674948">
<td class="ln"><a href="#L3197674948">386</a></td>
<td class="loc"><pre>   &quot;language&quot;: &quot;python&quot;,</pre></td>
</tr><tr id="L5160932666">
<td class="ln"><a href="#L5160932666">387</a></td>
<td class="loc"><pre>   &quot;name&quot;: &quot;python3&quot;</pre></td>
</tr><tr id="L7050657993">
<td class="ln"><a href="#L7050657993">388</a></td>
<td class="loc"><pre>  },</pre></td>
</tr><tr id="L5624934451">
<td class="ln"><a href="#L5624934451">389</a></td>
<td class="loc"><pre>  &quot;language_info&quot;: {</pre></td>
</tr><tr id="L7222606296">
<td class="ln"><a href="#L7222606296">390</a></td>
<td class="loc"><pre>   &quot;codemirror_mode&quot;: {</pre></td>
</tr><tr id="L5427759462">
<td class="ln"><a href="#L5427759462">391</a></td>
<td class="loc"><pre>    &quot;name&quot;: &quot;ipython&quot;,</pre></td>
</tr><tr id="L3700316396">
<td class="ln"><a href="#L3700316396">392</a></td>
<td class="loc"><pre>    &quot;version&quot;: 3</pre></td>
</tr><tr id="L4924598402">
<td class="ln"><a href="#L4924598402">393</a></td>
<td class="loc"><pre>   },</pre></td>
</tr><tr id="L7309358559">
<td class="ln"><a href="#L7309358559">394</a></td>
<td class="loc"><pre>   &quot;file_extension&quot;: &quot;.py&quot;,</pre></td>
</tr><tr id="L5346346317">
<td class="ln"><a href="#L5346346317">395</a></td>
<td class="loc"><pre>   &quot;mimetype&quot;: &quot;text/x-python&quot;,</pre></td>
</tr><tr id="L3584136451">
<td class="ln"><a href="#L3584136451">396</a></td>
<td class="loc"><pre>   &quot;name&quot;: &quot;python&quot;,</pre></td>
</tr><tr id="L5043954809">
<td class="ln"><a href="#L5043954809">397</a></td>
<td class="loc"><pre>   &quot;nbconvert_exporter&quot;: &quot;python&quot;,</pre></td>
</tr><tr id="L7469642250">
<td class="ln"><a href="#L7469642250">398</a></td>
<td class="loc"><pre>   &quot;pygments_lexer&quot;: &quot;ipython3&quot;,</pre></td>
</tr><tr id="L5473337716">
<td class="ln"><a href="#L5473337716">399</a></td>
<td class="loc"><pre>   &quot;version&quot;: &quot;3.5.2&quot;</pre></td>
</tr><tr id="L3809184780">
<td class="ln"><a href="#L3809184780">400</a></td>
<td class="loc"><pre>  }</pre></td>
</tr><tr id="L4564098210">
<td class="ln"><a href="#L4564098210">401</a></td>
<td class="loc"><pre> },</pre></td>
</tr><tr id="L6593572152">
<td class="ln"><a href="#L6593572152">402</a></td>
<td class="loc"><pre> &quot;nbformat&quot;: 4,</pre></td>
</tr><tr id="L6342098374">
<td class="ln"><a href="#L6342098374">403</a></td>
<td class="loc"><pre> &quot;nbformat_minor&quot;: 0</pre></td>
</tr><tr id="L3760214051">
<td class="ln"><a href="#L3760214051">404</a></td>
<td class="loc"><pre>}</pre></td>
</tr>
</tbody>
</table>

    </div>
  </div>

  
<form id="tpl-comment-form" class="loc_comment_form hide" data-show-blame="true" action="/fc_training/comments?origin=file" accept-charset="UTF-8" method="post"><input name="utf8" type="hidden" value="&#x2713;" /><input type="hidden" name="authenticity_token" value="vLJitnfgU32b++HkC9KSFlGPPhO4elvPwnrWeUfgvS+UpX9KOpldArZa9b/1WwJ2cSsewrZeD7vWxkghdkxwZw==" />
  <input type="hidden" name="comment[file_path]" class="js-comment-filepath">
  <input type="hidden" name="comment[line_numbers]" class="js-comment-loc">
  <input type="hidden" name="comment[context_base64]" class="js-comment-context">
  <input type="hidden" name="comment[revision]" class="js-comment-revision">
  <input type="hidden" name="comment[code_review_id]" value="">

  <fieldset>
    <textarea name="comment[body]" cols="80" rows="5" class="loc_comment_textarea" placeholder="Leave a comment. Use @username and @team to notify users and teams." data-users="/fc_training/comments/notifies.json"></textarea>

    <div class="loc_comment_error hide">
      <p class="icon-warning icon-warning--red"></p>
    </div>

    <div class="loc_comment_actions loc_comment_actions--publish">
      <input type="submit" value="Comment on this line" data-comment-value="Comment on this line" data-editing-value="Save changes" class="button">
      <span class="sep">or</span>
      <a href="/fc_training/comments?origin=file&amp;preview=true" class="link-action js-preview-comment">Preview</a>
      <a href="/help/markdown.html" rel="help" class="link-syntax link-action">Markdown syntax</a>
      <button class="loc_comment_close js-close-ic-form">&times;</button>
    </div>

    <div class="loc_comment_actions loc_comment_actions--preview hide">
      <input type="submit" value="Comment on this line" data-comment-value="Comment on this line" data-editing-value="Save changes" class="button">
      <span class="sep">or</span>
      <a href="#" class="link-action js-cancel-preview">Keep editing</a>
    </div>
  </fieldset>
</form>
  <!-- Blame -->
  <div id="tpl-comment-blame" class="loc_comment_blame is-loading hide"></div>

<!-- Comment -->
<div id="tpl-comment" class="loc_comment hide">
  <div class="loc_comment_wrap text-markdown">
    <p>
      <span class="loc_comment_author"><span class="userpic size-small"><img src="" alt="" /><b></b></span> <strong></strong>:</span>
      <span class="loc_comment_footer">
  			<span class="loc_comment_edit hide">
          <a href="/fc_training/comments/-id-" class="js-comment-edit">Edit</a>
          or <a href="/fc_training/comments/-id-" class="js-comment-delete">delete</a>
          within the next <a href="#" class="loc_comment_anchor time-remaining">15 min</a>
        </span>

        <span class="loc_comment_meta">
          <a href="#" class="loc_comment_anchor"><time class="loc_comment_time" datetime=""></time></a>
            <span class="loc_comment_rev" data-ref-name="revision" data-current-ref="4"></span>
        </span>
      </span>
    </p>
  </div>
</div>

<!-- Comment Indicator -->
<div id="tpl-comment-indicator" class="hide">
  <div class="loc_comment_indicator js-show-comment">
    <span class="userpic size-small"><img src="" alt="" /><b></b></span>
  </div>
  <button class="loc_comment_collapse js-hide-comment hide">Hide</button>
</div>
</div>

        </div>
      </div>

      <div id="footer">
        <div class="wildbit">
  <a class="beanstalk-logo" href="http://beanstalkapp.com" title="Beanstalk &nbsp; version control for team leads">&nbsp;</a>
  <p class="vcard">&copy; 2007-2017, <a href="http://www.wildbit.com/" class="fn org url">Wildbit LLC</a>. All rights reserved.</p>
  <p>
    <a href="http://blog.beanstalkapp.com/">Blog</a> <span class="sep">&bull;</span> 
    <a href="http://twitter.com/beanstalkapp">Twitter</a> <span class="sep">&bull;</span>
    <a href="http://shop.wildbit.com">Shop</a> <span class="sep">&bull;</span>
    <a href="http://status.beanstalkapp.com/">System Status</a> <span class="sep">&bull;</span>
    <a href="http://wildbit.com/privacy-policy">Privacy Policy</a> <span class="sep">&bull;</span> 
    <a href="http://beanstalkapp.com/terms-of-service">Terms of Use</a>
  </p>
</div>

      </div>
    </div>
    
      <script>
  var _prum = [['id', '52094e69abe53d7851000000'],
    ['mark', 'firstbyte', (new Date()).getTime()]];
  (function() {
    var s = document.getElementsByTagName('script')[0]
        , p = document.createElement('script');
    p.async = 'async';
    p.src = '//rum-static.pingdom.net/prum.min.js';
    s.parentNode.insertBefore(p, s);
  })();
</script>

    <script type="text/javascript">
    var _cio = _cio || [];

    (function() {
      var a,b,c;a=function(f){return function(){_cio.push([f].
          concat(Array.prototype.slice.call(arguments,0)))}};b=["identify",
        "track"];for(c=0;c<b.length;c++){_cio[b[c]]=a(b[c])};
      var t = document.createElement('script'),
          s = document.getElementsByTagName('script')[0];
      t.async = true;
      t.id    = 'cio-tracker';
      t.setAttribute('data-site-id', 'b3f3284b0ecafe7a962e');
      t.src = 'https://assets.customer.io/assets/track.js';
      s.parentNode.insertBefore(t, s);
    })();

    _cio.identify({id: '79028'});
  </script>


    <script type="text/javascript">
  $(function(){
    Revisions.init({
      url: ':href',
      disabled: {
        revisions: [4]
      }
    });
  });
</script>
<div id="commits-container" class="hide">
  <div class="ref-wrap">
    <div class="ref-container ref-revisions hide" data-scope="revisions">
      <form action="#" action="get" class="ref-search">
        <fieldset class="ref-search-wrap">
          <input type="text" class="ref-search-field" placeholder="Search revisions" />
          <input type="submit" value="Search" class="action-search">
          <b class="action-clear hide">Reset</b>
        </fieldset>

        <fieldset class="ref-search-filter ref-search-filter--with-mode">

          <label class="select-cover fullwidth">
            <span class="select-cover_label i-user">All users</span>
            <select class="ref-filter-user" data-uri="/search/users.json?r=fc_training">
              <option value="">All users</option>
            </select>
          </label>

            <div class="ref-filter-mode">
              <a href="#" class="ref-mode_toggle i-repository" data-mode="repo" title="Show all commits and branches">Repository</a>
                <a href="#" class="ref-mode_toggle i-file disabled" data-mode="path" title="Only show commits and branches that changed this file">File</a>
            </div>
        </fieldset>
      </form>

      <ul class="ref-list"></ul>
    </div>
  </div>
</div>
  </body>
</html>
