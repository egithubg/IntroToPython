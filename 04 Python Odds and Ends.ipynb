<!DOCTYPE html>

<html lang="en" class="no-js">
  <head>
    <meta charset="utf-8">
<script type="text/javascript">window.NREUM||(NREUM={});NREUM.info={"beacon":"bam.nr-data.net","errorBeacon":"bam.nr-data.net","licenseKey":"57d55ed8a3","applicationID":"10682","transactionName":"cgpcFRZbVV5cQEpTEV4SQQQWG1BcXVcd","queueTime":0,"applicationTime":166,"agent":""}</script>
<script type="text/javascript">window.NREUM||(NREUM={}),__nr_require=function(e,t,n){function r(n){if(!t[n]){var o=t[n]={exports:{}};e[n][0].call(o.exports,function(t){var o=e[n][1][t];return r(o||t)},o,o.exports)}return t[n].exports}if("function"==typeof __nr_require)return __nr_require;for(var o=0;o<n.length;o++)r(n[o]);return r}({1:[function(e,t,n){function r(){}function o(e,t,n){return function(){return i(e,[(new Date).getTime()].concat(u(arguments)),t?null:this,n),t?void 0:this}}var i=e("handle"),a=e(2),u=e(3),c=e("ee").get("tracer"),f=NREUM;"undefined"==typeof window.newrelic&&(newrelic=f);var s=["setPageViewName","setCustomAttribute","setErrorHandler","finished","addToTrace","inlineHit","addRelease"],l="api-",p=l+"ixn-";a(s,function(e,t){f[t]=o(l+t,!0,"api")}),f.addPageAction=o(l+"addPageAction",!0),f.setCurrentRouteName=o(l+"routeName",!0),t.exports=newrelic,f.interaction=function(){return(new r).get()};var d=r.prototype={createTracer:function(e,t){var n={},r=this,o="function"==typeof t;return i(p+"tracer",[Date.now(),e,n],r),function(){if(c.emit((o?"":"no-")+"fn-start",[Date.now(),r,o],n),o)try{return t.apply(this,arguments)}finally{c.emit("fn-end",[Date.now()],n)}}}};a("setName,setAttribute,save,ignore,onEnd,getContext,end,get".split(","),function(e,t){d[t]=o(p+t)}),newrelic.noticeError=function(e){"string"==typeof e&&(e=new Error(e)),i("err",[e,(new Date).getTime()])}},{}],2:[function(e,t,n){function r(e,t){var n=[],r="",i=0;for(r in e)o.call(e,r)&&(n[i]=t(r,e[r]),i+=1);return n}var o=Object.prototype.hasOwnProperty;t.exports=r},{}],3:[function(e,t,n){function r(e,t,n){t||(t=0),"undefined"==typeof n&&(n=e?e.length:0);for(var r=-1,o=n-t||0,i=Array(o<0?0:o);++r<o;)i[r]=e[t+r];return i}t.exports=r},{}],ee:[function(e,t,n){function r(){}function o(e){function t(e){return e&&e instanceof r?e:e?c(e,u,i):i()}function n(n,r,o){if(!p.aborted){e&&e(n,r,o);for(var i=t(o),a=v(n),u=a.length,c=0;c<u;c++)a[c].apply(i,r);var f=s[w[n]];return f&&f.push([y,n,r,i]),i}}function d(e,t){b[e]=v(e).concat(t)}function v(e){return b[e]||[]}function g(e){return l[e]=l[e]||o(n)}function m(e,t){f(e,function(e,n){t=t||"feature",w[n]=t,t in s||(s[t]=[])})}var b={},w={},y={on:d,emit:n,get:g,listeners:v,context:t,buffer:m,abort:a,aborted:!1};return y}function i(){return new r}function a(){(s.api||s.feature)&&(p.aborted=!0,s=p.backlog={})}var u="nr@context",c=e("gos"),f=e(2),s={},l={},p=t.exports=o();p.backlog=s},{}],gos:[function(e,t,n){function r(e,t,n){if(o.call(e,t))return e[t];var r=n();if(Object.defineProperty&&Object.keys)try{return Object.defineProperty(e,t,{value:r,writable:!0,enumerable:!1}),r}catch(i){}return e[t]=r,r}var o=Object.prototype.hasOwnProperty;t.exports=r},{}],handle:[function(e,t,n){function r(e,t,n,r){o.buffer([e],r),o.emit(e,t,n)}var o=e("ee").get("handle");t.exports=r,r.ee=o},{}],id:[function(e,t,n){function r(e){var t=typeof e;return!e||"object"!==t&&"function"!==t?-1:e===window?0:a(e,i,function(){return o++})}var o=1,i="nr@id",a=e("gos");t.exports=r},{}],loader:[function(e,t,n){function r(){if(!h++){var e=y.info=NREUM.info,t=l.getElementsByTagName("script")[0];if(setTimeout(f.abort,3e4),!(e&&e.licenseKey&&e.applicationID&&t))return f.abort();c(b,function(t,n){e[t]||(e[t]=n)}),u("mark",["onload",a()],null,"api");var n=l.createElement("script");n.src="https://"+e.agent,t.parentNode.insertBefore(n,t)}}function o(){"complete"===l.readyState&&i()}function i(){u("mark",["domContent",a()],null,"api")}function a(){return(new Date).getTime()}var u=e("handle"),c=e(2),f=e("ee"),s=window,l=s.document,p="addEventListener",d="attachEvent",v=s.XMLHttpRequest,g=v&&v.prototype;NREUM.o={ST:setTimeout,CT:clearTimeout,XHR:v,REQ:s.Request,EV:s.Event,PR:s.Promise,MO:s.MutationObserver},e(1);var m=""+location,b={beacon:"bam.nr-data.net",errorBeacon:"bam.nr-data.net",agent:"js-agent.newrelic.com/nr-1016.min.js"},w=v&&g&&g[p]&&!/CriOS/.test(navigator.userAgent),y=t.exports={offset:a(),origin:m,features:{},xhrWrappable:w};l[p]?(l[p]("DOMContentLoaded",i,!1),s[p]("load",r,!1)):(l[d]("onreadystatechange",o),s[d]("onload",r)),u("mark",["firstbyte",a()],null,"api");var h=0},{}]},{},["loader"]);</script>
    <meta name="robots" content="noindex, nofollow">
    <meta name="viewport" content="width=1080">
    <meta name="globalsign-domain-verification" content="KpMEC6CPrdUBWUjMhQ81DWBefsL1xNbdHh1QkJt6yt" />
    
    <title>fc_training: Browser</title>

    <link rel="shortcut icon" href="https://assets.beanstalkapp.com/images/favicon.ico" type="image/x-icon">
<link rel="mask-icon" href="https://assets.beanstalkapp.com/images/icon-pinned-tab.svg" color="#5FAC6C">
<link rel="apple-touch-icon-precomposed" href="https://assets.beanstalkapp.com/images/apple-touch-icon-144x144-precomposed.png" sizes="144x144"> 
<link rel="apple-touch-icon-precomposed" href="https://assets.beanstalkapp.com/images/apple-touch-icon-114x114-precomposed.png" sizes="114x114"> 
<link rel="apple-touch-icon-precomposed" href="https://assets.beanstalkapp.com/images/apple-touch-icon-72x72-precomposed.png" sizes="72x72"> 
<link rel="apple-touch-icon-precomposed" href="https://assets.beanstalkapp.com/images/apple-touch-icon-precomposed.png">
<meta property="og:image" content="https://assets.beanstalkapp.com/images/apple-touch-icon-144x144-precomposed.png">

    <link rel="stylesheet" media="all" href="https://assets.beanstalkapp.com/stylesheets/global.css?1ac3c16d07f23ac188d327d52bb144f1" />
    <script src="//ajax.googleapis.com/ajax/libs/jquery/1.10.1/jquery.min.js"></script>
    <script src="https://d3dy5gmtp8yhk7.cloudfront.net/2.1/pusher.min.js"></script>
    <script src="https://assets.beanstalkapp.com/javascripts/bundle.application.min.js?15c393e61de67d4c02f0f9d0bfe59811"></script>


    <meta name="csrf-param" content="authenticity_token" />
<meta name="csrf-token" content="ux59zP4uituExuDYfXo62NPi9A6QLDbjRF3Z5KGPrheTCWAws1eEpKln9IOD86q480bU354IYpdQ4Ue8kCNjXw==" />
    <link title="FoundationCenter&#39;s Beanstalk" type="application/opensearchdescription+xml" rel="search" href="https://foundationcenter.beanstalkapp.com/opensearch.xml" />
    <meta name="current-user" content="350219" /><meta name="current-user-tzoffset" content="-18000" />

    
  </head>

  <body id="">
    
  <script>
    dataLayer = [{
      'siteType': 'application'
    }];
  </script>

  <!-- Google Tag Manager -->
  <noscript><iframe src="//www.googletagmanager.com/ns.html?id=GTM-PXZVN2"
                    height="0" width="0" style="display:none;visibility:hidden"></iframe></noscript>
  <script>(function(w,d,s,l,i){w[l]=w[l]||[];w[l].push({'gtm.start':
      new Date().getTime(),event:'gtm.js'});var f=d.getElementsByTagName(s)[0],
      j=d.createElement(s),dl=l!='dataLayer'?'&l='+l:'';j.async=true;j.src=
      '//www.googletagmanager.com/gtm.js?id='+i+dl;f.parentNode.insertBefore(j,f);
  })(window,document,'script','dataLayer','GTM-PXZVN2');</script>
  <!-- End Google Tag Manager -->

       <div id="viewer-settings" class="hide">
  <fieldset class="viewer-settings">

    <div class="form-row l-vertical setting-lang">
      <div class="form-label">
        <label for="viewer-settings-type">File Language:</label>
      </div>
      <div class="form-field">
        <select name="viewer-settings-type" id="settings-mode"><option value="">Automatic</option>
<option value="apache">Apache</option>
<option value="applescript">AppleScript</option>
<option value="actionscript">ActionScript</option>
<option value="bash">Bash</option>
<option value="bat">Batch</option>
<option value="befunge">Befunge</option>
<option value="boo">BOO</option>
<option value="brainfuck">Brainfuck</option>
<option value="c-objdump">C objdump</option>
<option value="c">C</option>
<option value="cheetah">Cheetah</option>
<option value="clojure">Clojure</option>
<option value="common-lisp">Common Lisp</option>
<option value="control">Control</option>
<option value="coffeescript">CoffeeScript</option>
<option value="cpp">C++</option>
<option value="cpp-objdump">C++ objdump</option>
<option value="csharp">C#</option>
<option value="css">CSS</option>
<option value="d-objdump">D objdump</option>
<option value="d">D</option>
<option value="pascal">Pascal</option>
<option value="diff">Diff</option>
<option value="dpatch">Darcs Patch</option>
<option value="dylan">Dylan</option>
<option value="rhtml">ERB HTML</option>
<option value="erb">ERB</option>
<option value="erlang">Erlang</option>
<option value="fortran">Fortran</option>
<option value="genshi">Genshi</option>
<option value="gnuplot">Gnuplot</option>
<option value="groff">Groff</option>
<option value="groovy">Groovy</option>
<option value="go">Google Go</option>
<option value="haskell">Haskell</option>
<option value="powershell">PowerShell</option>
<option value="html+php">PHP HTML</option>
<option value="haml">HAML</option>
<option value="html">(X)HTML</option>
<option value="io">Io</option>
<option value="java">Java</option>
<option value="javascript">JavaScript</option>
<option value="jsp">JSP</option>
<option value="json">JSON</option>
<option value="literate-haskell">Literate Haskell</option>
<option value="llvm">LLVM</option>
<option value="logtalk">Logtalk</option>
<option value="lua">Lua</option>
<option value="make">Makefile</option>
<option value="mako">Mako</option>
<option value="markdown">Markdown</option>
<option value="moocode">Moocode</option>
<option value="mupad">MuPAD</option>
<option value="myghty">Myghty</option>
<option value="nasm">NASM</option>
<option value="objective-c">Objective C</option>
<option value="matlab">MatLab</option>
<option value="ocaml">OCaml</option>
<option value="perl">Perl</option>
<option value="php">PHP</option>
<option value="python">Python</option>
<option value="ruby">Ruby</option>
<option value="redcode">Redcode</option>
<option value="sass">Sass</option>
<option value="scss">SCSS</option>
<option value="scala">Scala</option>
<option value="scheme">Scheme</option>
<option value="smalltalk">Smalltalk</option>
<option value="smarty">Smarty</option>
<option value="sql">SQL</option>
<option value="sqlite3">SQLite 3</option>
<option value="swift">Swift</option>
<option value="tcl">Tcl</option>
<option value="tcsh">tcsh</option>
<option value="latex">LaTeX</option>
<option value="text">Plain Text</option>
<option value="vb.net">Visual Basic .NET</option>
<option value="vim">Vim</option>
<option value="xml">XML</option>
<option value="xslt">XSLT</option>
<option value="yaml">YAML</option></select>
      </div>
    </div>

    <div class="form-row l-vertical">
      <div class="form-label">
        <label for="viewer-settings-type">Notifications:</label>
      </div>
      <div class="form-field">
        <form class="js-comments-subscribe" action="/fc_training/file_subscription?repo_path=trunk%2Fpython_01%2F_notebooks%2F04+Python+Odds+and+Ends.ipynb" accept-charset="UTF-8" method="post"><input name="utf8" type="hidden" value="&#x2713;" /><input type="hidden" name="authenticity_token" value="6i1DhJupkXtL+So+1C/NfVYMolLaFBtCuTSPcFlBRNXCOl541tCfBGZYPmUqpl0ddqiCg9QwTzatiBEoaO2JnQ==" />
          <fieldset>
            <button type="submit" name="subscribe" value="POST" class="link-subscribe"><u>Subscribe to comments</u></button>
            <button type="submit" name="unsubscribe" value="DELETE" class="link-unsubscribe hide"><u>Unsubscribe from comments</u></button>
          </fieldset>
</form>      </div>
    </div>

  </fieldset>
</div>


    
    
    <div id="container">
      <div id="top_announce_container"></div>
      
      <div class="header">
        <div class="metanav clearfix">
  <ul class="meta-global">
    <li class="nav-item">
      <a class="metanav-item" href="/"><u>Dashboard</u></a>
    </li>

    <li class="nav-item">
        <a class="metanav-item" href="/repositories"><u>Repositories</u> <span class="count">133</span></a> <a class="dd-arrow dd-arrow--metanav js-open-dropdown" data-dropdown="recent-repositories" title="Repositories" href="/navigation/repositories"></a>
        <div class="dropdown dropdown--metanav hide" id="recent-repositories"></div>
    </li>

      <li class="nav-item">
        <a class="metanav-item" href="/users"><u>Users</u> <span class="count">64</span></a>
      </li>
  </ul>

  <ul class="meta-personal">
    <li class="nav-item">
      <a class="metanav-item" href="/profile/edit"><span class="userpic size-small " title="Gordon Green"><img alt="Gordon Green" class="photo" src="https://secure.gravatar.com/avatar/7cb106702befb9ca1530d2456f593379?s=48&d=https://assets.beanstalkapp.com/images/users/default.gif" width="24" height="24" /><b></b></span> <u>Gordon Green</u></a>
    </li>

    
    <li class="nav-item">
      <a class="metanav-item" rel="nofollow" data-method="delete" href="/session"><u>Logout</u></a>
    </li>
    
    <li class="nav-item">
      <a title="Help" class="metanav-item metanav-item--help" rel="help" href="/help">Help</a>
    </li>
  </ul>
</div>

        <div class="header-bar clearfix">
  <h1 class="header-title">
    <span class="color-badge color-badge--repo color-badge--white "></span> <strong>fc_training</strong>
  </h1>

  <ul class="mainnav">
    <li class="nav-item">
      <a class="mainnav-item" href="/fc_training"><u>Activity</u></a>
    </li>

    <li class="nav-item">
      <a class="mainnav-item mainnav-item--current" href="/fc_training/browse"><u>Browse</u></a>
    </li>

    <li class="nav-item">
      <a class="mainnav-item" href="/fc_training/branches"><u>Branches</u></a>
    </li>

    <li class="nav-item" id="tour-reviews">
          <a class="mainnav-item" href="/fc_training/code_reviews"><u>Reviews</u></a>
    </li>

        <li class="nav-item">
              <a class="mainnav-item" href="/fc_training/environments"><u>Deployments</u></a>
        </li>

        <li class="nav-item">
          <a class="mainnav-item" href="/repositories/fc_training/edit"><u>Settings</u></a>
        </li>
  </ul>

  <div class="search">
  <form action="/search" accept-charset="UTF-8" method="get"><input name="utf8" type="hidden" value="&#x2713;" />
    <fieldset class="search-main">
      <a href="/search/users.json?r=fc_training" class="a-advanced-search js-open-dropdown" data-dropdown="advanced-search" title="Advanced search">Advanced search</a>
      <a href="/search/users.json?r=fc_training" class="userpic size-medium a-advanced-filter js-open-dropdown hide" data-dropdown="advanced-search"><b></b></a>

      <input type="hidden" name="u" id="search-by-user">

      <div class="search-field-wrap">
          <input type="hidden" name="r" id="r" value="fc_training" />
          <input type="search" name="q" id="q" class="search-field" placeholder="Search fc_training repository" />
        <a href="#" class="search-reset hide">Reset</a>
      </div>

      <input type="submit" class="search-submit">
    </fieldset>
</form>
  <div class="dropdown dropdown--search hide" id="advanced-search"></div>
</div>

</div>

      </div>
  
      <div id="page">
        <div class="content " id="">
          <div class="toolbar">
    <h2 class="toolbar-title icon-file">

        <span class="editable-name">04 Python Odds and Ends.ipynb</span>
        <form class="editable-name_form hide" action="/fc_training/rename" accept-charset="UTF-8" method="post"><input name="utf8" type="hidden" value="&#x2713;" /><input type="hidden" name="authenticity_token" value="TFEXKQ/iaUpI1Ol1WsQvafM8PEA5CWdAzs3kmrK3+kdkRgrVQptnNWV1/S6kTb8J05gckTctMzTacXrCgxs3Dw==" />
  <fieldset>
    <input type="text" name="new_filename" size="30" maxlength="255" placeholder="untitled" class="editable-name_input js-filename-input" value="04 Python Odds and Ends.ipynb" data-allow-moving="false">
    <input type="hidden" name="repo_path" id="repo_path" value="trunk/python_01/_notebooks/04 Python Odds and Ends.ipynb" />
    <input type="hidden" name="ref" id="ref" />
    <span class="editable-name_submit">
      <input type="submit" disabled value="Rename">
      <span class="sep">or</span>
      <a href="#" class="link-action">Cancel</a>
    </span>
  </fieldset>
</form>
    </h2>
  
  <span class="toolbar-sep"></span>

  <a class="button js-change-refs" rel="commits-container" data-ref-pattern="?ref=--scope-----ref--" data-repo-path="trunk/python_01/_notebooks/04 Python Odds and Ends.ipynb" href="/fc_training/navigation/hud_data.json?repo_path=trunk%2Fpython_01%2F_notebooks%2F04+Python+Odds+and+Ends.ipynb&amp;scope=commits"><span class="icon-arrow-ab">Revision: 4</span></a>
  <a class="button js-change-refs" rel="commits-container" data-ref-pattern="/fc_training/diff/trunk/python_01/_notebooks/04%20Python%20Odds%20and%20Ends.ipynb?target=--scope-----ref--" data-repo-path="trunk/python_01/_notebooks/04 Python Odds and Ends.ipynb" href="/fc_training/navigation/hud_data.json?repo_path=trunk%2Fpython_01%2F_notebooks%2F04+Python+Odds+and+Ends.ipynb&amp;scope=commits"><span class="icon-arrow-ab">Diff 4 to&hellip;</span></a>

  <ul class="tabs">
    <li class="tab--history"><a class="tab" href="/fc_training/history/trunk/python_01/_notebooks/04%20Python%20Odds%20and%20Ends.ipynb"><u>File history</u></a></li>
  </ul>
</div>


            
    <div class="js-code-comments" data-comments-uri="/fc_training/comments.json?repo_path=trunk%2Fpython_01%2F_notebooks%2F04+Python+Odds+and+Ends.ipynb&amp;revision=4">
  <div class="cv-container" data-file-revision="4">
    <div class="ct">
  <ul class="ct_actions">
      <li class="ct_actions_item">
    <a href="#" onclick="return false;" rel="tooltip" class="ct_button ct_button--preview disabled" title="Preview is not available for this file">
      <span class="ct_button_icon"></span> Preview
    </a>
  </li>

        <li class="ct_actions_item">
      <a href="/fc_training/edit//trunk/python_01/_notebooks/04%20Python%20Odds%20and%20Ends.ipynb" class="ct_button ct_button--edit">
        <span class="ct_button_icon"></span> Edit
      </a>
    </li>

      <li class="ct_actions_item">
    <a href="/fc_training/blame/trunk/python_01/_notebooks/04%20Python%20Odds%20and%20Ends.ipynb" class="ct_button ct_button--blame">
      <span class="ct_button_icon"></span> Blame
    </a>
  </li>

    <li class="ct_actions_item">
      <a href="/fc_training/download//trunk/python_01/_notebooks/04%20Python%20Odds%20and%20Ends.ipynb" class="ct_button ct_button--download">
        <span class="ct_button_icon"></span> Download
      </a>
    </li>
      <li class="ct_actions_item">
    <a href="#" class="ct_button ct_button--settings" rel="viewer-settings">
      <span class="ct_button_icon"></span> Settings
    </a>
  </li>

  </ul>

    <a href="#" class="ct_comments-toggle is-loading" title="Show inline comments"></a>

  <div class="ct_path">
      <a class="ct_path_rev" href="/fc_training/changesets/3">3</a>
    <a class="path_item" href="/fc_training/browse/trunk">trunk</a><span class="path_sep">/</span><a class="path_item" href="/fc_training/browse/trunk/python_01">python_01</a><span class="path_sep">/</span><a class="path_item" href="/fc_training/browse/trunk/python_01/_notebooks">_notebooks</a><span class="path_sep">/</span><a class="path_item path_item--current" href="/fc_training/browse//trunk/python_01/_notebooks/04%20Python%20Odds%20and%20Ends.ipynb">04 Python Odds and Ends.ipynb</a>
  </div>
</div>


    <div class="cv cv--commentable" data-blame-uri="/fc_training/blame_line/trunk/python_01/_notebooks/04%20Python%20Odds%20and%20Ends.ipynb">
        <table>
<tbody>
<tr id="L4519695282">
<td class="ln"><a href="#L4519695282">1</a></td>
<td class="loc"><pre>{</pre></td>
</tr><tr id="L2757616136">
<td class="ln"><a href="#L2757616136">2</a></td>
<td class="loc"><pre> &quot;cells&quot;: [</pre></td>
</tr><tr id="L4149916310">
<td class="ln"><a href="#L4149916310">3</a></td>
<td class="loc"><pre>  {</pre></td>
</tr><tr id="L6396198707">
<td class="ln"><a href="#L6396198707">4</a></td>
<td class="loc"><pre>   &quot;cell_type&quot;: &quot;markdown&quot;,</pre></td>
</tr><tr id="L4533604265">
<td class="ln"><a href="#L4533604265">5</a></td>
<td class="loc"><pre>   &quot;metadata&quot;: {},</pre></td>
</tr><tr id="L2806029839">
<td class="ln"><a href="#L2806029839">6</a></td>
<td class="loc"><pre>   &quot;source&quot;: [</pre></td>
</tr><tr id="L4098322045">
<td class="ln"><a href="#L4098322045">7</a></td>
<td class="loc"><pre>    &quot;## Odds and Ends&quot;</pre></td>
</tr><tr id="L6501726990">
<td class="ln"><a href="#L6501726990">8</a></td>
<td class="loc"><pre>   ]</pre></td>
</tr><tr id="L4673473408">
<td class="ln"><a href="#L4673473408">9</a></td>
<td class="loc"><pre>  },</pre></td>
</tr><tr id="L5014637020">
<td class="ln"><a href="#L5014637020">10</a></td>
<td class="loc"><pre>  {</pre></td>
</tr><tr id="L5903628658">
<td class="ln"><a href="#L5903628658">11</a></td>
<td class="loc"><pre>   &quot;cell_type&quot;: &quot;markdown&quot;,</pre></td>
</tr><tr id="L3638257864">
<td class="ln"><a href="#L3638257864">12</a></td>
<td class="loc"><pre>   &quot;metadata&quot;: {},</pre></td>
</tr><tr id="L3252459606">
<td class="ln"><a href="#L3252459606">13</a></td>
<td class="loc"><pre>   &quot;source&quot;: [</pre></td>
</tr><tr id="L5095622131">
<td class="ln"><a href="#L5095622131">14</a></td>
<td class="loc"><pre>    &quot;There are a few additional features of Python that come up frequently, and that may be good to know about before getting into more Python libraries.  These are **list comprehensions**, **lambda functions** and **objects**.&quot;</pre></td>
</tr><tr id="L5817496937">
<td class="ln"><a href="#L5817496937">15</a></td>
<td class="loc"><pre>   ]</pre></td>
</tr><tr id="L3519456463">
<td class="ln"><a href="#L3519456463">16</a></td>
<td class="loc"><pre>  },</pre></td>
</tr><tr id="L3368145981">
<td class="ln"><a href="#L3368145981">17</a></td>
<td class="loc"><pre>  {</pre></td>
</tr><tr id="L5252239822">
<td class="ln"><a href="#L5252239822">18</a></td>
<td class="loc"><pre>   &quot;cell_type&quot;: &quot;markdown&quot;,</pre></td>
</tr><tr id="L5939773760">
<td class="ln"><a href="#L5939773760">19</a></td>
<td class="loc"><pre>   &quot;metadata&quot;: {},</pre></td>
</tr><tr id="L4630026781">
<td class="ln"><a href="#L4630026781">20</a></td>
<td class="loc"><pre>   &quot;source&quot;: [</pre></td>
</tr><tr id="L6559853231">
<td class="ln"><a href="#L6559853231">21</a></td>
<td class="loc"><pre>    &quot;### List comprehensions\n&quot;,</pre></td>
</tr><tr id="L3993385737">
<td class="ln"><a href="#L3993385737">22</a></td>
<td class="loc"><pre>    &quot;\n&quot;,</pre></td>
</tr><tr id="L2634107795">
<td class="ln"><a href="#L2634107795">23</a></td>
<td class="loc"><pre>    &quot;We encountered these briefly before. This is a \&quot;pythonic\&quot; short-hand for list operations that lets you succinctly define operations on lists.  For example, this loop:&quot;</pre></td>
</tr><tr id="L4674934326">
<td class="ln"><a href="#L4674934326">24</a></td>
<td class="loc"><pre>   ]</pre></td>
</tr><tr id="L6503442088">
<td class="ln"><a href="#L6503442088">25</a></td>
<td class="loc"><pre>  },</pre></td>
</tr><tr id="L3969644306">
<td class="ln"><a href="#L3969644306">26</a></td>
<td class="loc"><pre>  {</pre></td>
</tr><tr id="L2644313980">
<td class="ln"><a href="#L2644313980">27</a></td>
<td class="loc"><pre>   &quot;cell_type&quot;: &quot;code&quot;,</pre></td>
</tr><tr id="L4533264907">
<td class="ln"><a href="#L4533264907">28</a></td>
<td class="loc"><pre>   &quot;execution_count&quot;: null,</pre></td>
</tr><tr id="L6395589249">
<td class="ln"><a href="#L6395589249">29</a></td>
<td class="loc"><pre>   &quot;metadata&quot;: {</pre></td>
</tr><tr id="L4780682078">
<td class="ln"><a href="#L4780682078">30</a></td>
<td class="loc"><pre>    &quot;collapsed&quot;: false</pre></td>
</tr><tr id="L6139714544">
<td class="ln"><a href="#L6139714544">31</a></td>
<td class="loc"><pre>   },</pre></td>
</tr><tr id="L4411181642">
<td class="ln"><a href="#L4411181642">32</a></td>
<td class="loc"><pre>   &quot;outputs&quot;: [],</pre></td>
</tr><tr id="L2481601236">
<td class="ln"><a href="#L2481601236">33</a></td>
<td class="loc"><pre>   &quot;source&quot;: [</pre></td>
</tr><tr id="L4790855541">
<td class="ln"><a href="#L4790855541">34</a></td>
<td class="loc"><pre>    &quot;import random\n&quot;,</pre></td>
</tr><tr id="L6115940327">
<td class="ln"><a href="#L6115940327">35</a></td>
<td class="loc"><pre>    &quot;\n&quot;,</pre></td>
</tr><tr id="L4354803281">
<td class="ln"><a href="#L4354803281">36</a></td>
<td class="loc"><pre>    &quot;my_list = []\n&quot;,</pre></td>
</tr><tr id="L2526541499">
<td class="ln"><a href="#L2526541499">37</a></td>
<td class="loc"><pre>    &quot;for i in range(10):\n&quot;,</pre></td>
</tr><tr id="L4953011020">
<td class="ln"><a href="#L4953011020">38</a></td>
<td class="loc"><pre>    &quot;    my_list.append(i + random.random())\n&quot;,</pre></td>
</tr><tr id="L6245327810">
<td class="ln"><a href="#L6245327810">39</a></td>
<td class="loc"><pre>    &quot;print (my_list)&quot;</pre></td>
</tr><tr id="L6001194399">
<td class="ln"><a href="#L6001194399">40</a></td>
<td class="loc"><pre>   ]</pre></td>
</tr><tr id="L5179311405">
<td class="ln"><a href="#L5179311405">41</a></td>
<td class="loc"><pre>  },</pre></td>
</tr><tr id="L3148665987">
<td class="ln"><a href="#L3148665987">42</a></td>
<td class="loc"><pre>  {</pre></td>
</tr><tr id="L3467355161">
<td class="ln"><a href="#L3467355161">43</a></td>
<td class="loc"><pre>   &quot;cell_type&quot;: &quot;markdown&quot;,</pre></td>
</tr><tr id="L5986269624">
<td class="ln"><a href="#L5986269624">44</a></td>
<td class="loc"><pre>   &quot;metadata&quot;: {},</pre></td>
</tr><tr id="L5197285670">
<td class="ln"><a href="#L5197285670">45</a></td>
<td class="loc"><pre>   &quot;source&quot;: [</pre></td>
</tr><tr id="L3201407116">
<td class="ln"><a href="#L3201407116">46</a></td>
<td class="loc"><pre>    &quot;Can be written more simply as:&quot;</pre></td>
</tr><tr id="L3419826178">
<td class="ln"><a href="#L3419826178">47</a></td>
<td class="loc"><pre>   ]</pre></td>
</tr><tr id="L5846433169">
<td class="ln"><a href="#L5846433169">48</a></td>
<td class="loc"><pre>  },</pre></td>
</tr><tr id="L5091790075">
<td class="ln"><a href="#L5091790075">49</a></td>
<td class="loc"><pre>  {</pre></td>
</tr><tr id="L5615781088">
<td class="ln"><a href="#L5615781088">50</a></td>
<td class="loc"><pre>   &quot;cell_type&quot;: &quot;code&quot;,</pre></td>
</tr><tr id="L5297337454">
<td class="ln"><a href="#L5297337454">51</a></td>
<td class="loc"><pre>   &quot;execution_count&quot;: null,</pre></td>
</tr><tr id="L3032982980">
<td class="ln"><a href="#L3032982980">52</a></td>
<td class="loc"><pre>   &quot;metadata&quot;: {</pre></td>
</tr><tr id="L3854619994">
<td class="ln"><a href="#L3854619994">53</a></td>
<td class="loc"><pre>    &quot;collapsed&quot;: false</pre></td>
</tr><tr id="L5568219383">
<td class="ln"><a href="#L5568219383">54</a></td>
<td class="loc"><pre>   },</pre></td>
</tr><tr id="L5350045797">
<td class="ln"><a href="#L5350045797">55</a></td>
<td class="loc"><pre>   &quot;outputs&quot;: [],</pre></td>
</tr><tr id="L3050990027">
<td class="ln"><a href="#L3050990027">56</a></td>
<td class="loc"><pre>   &quot;source&quot;: [</pre></td>
</tr><tr id="L3839727937">
<td class="ln"><a href="#L3839727937">57</a></td>
<td class="loc"><pre>    &quot;my_list = [i + random.random() for i in range(10)]\n&quot;,</pre></td>
</tr><tr id="L5728537810">
<td class="ln"><a href="#L5728537810">58</a></td>
<td class="loc"><pre>    &quot;print (my_list)&quot;</pre></td>
</tr><tr id="L5477071932">
<td class="ln"><a href="#L5477071932">59</a></td>
<td class="loc"><pre>   ]</pre></td>
</tr><tr id="L6302258977">
<td class="ln"><a href="#L6302258977">60</a></td>
<td class="loc"><pre>  },</pre></td>
</tr><tr id="L4876117931">
<td class="ln"><a href="#L4876117931">61</a></td>
<td class="loc"><pre>  {</pre></td>
</tr><tr id="L2308634117">
<td class="ln"><a href="#L2308634117">62</a></td>
<td class="loc"><pre>   &quot;cell_type&quot;: &quot;markdown&quot;,</pre></td>
</tr><tr id="L4305323671">
<td class="ln"><a href="#L4305323671">63</a></td>
<td class="loc"><pre>   &quot;metadata&quot;: {},</pre></td>
</tr><tr id="L6223928122">
<td class="ln"><a href="#L6223928122">64</a></td>
<td class="loc"><pre>   &quot;source&quot;: [</pre></td>
</tr><tr id="L4965952420">
<td class="ln"><a href="#L4965952420">65</a></td>
<td class="loc"><pre>    &quot;You can also add conditions to the comprehension:&quot;</pre></td>
</tr><tr id="L2433169934">
<td class="ln"><a href="#L2433169934">66</a></td>
<td class="loc"><pre>   ]</pre></td>
</tr><tr id="L4194323072">
<td class="ln"><a href="#L4194323072">67</a></td>
<td class="loc"><pre>  },</pre></td>
</tr><tr id="L6078553871">
<td class="ln"><a href="#L6078553871">68</a></td>
<td class="loc"><pre>  {</pre></td>
</tr><tr id="L4853346173">
<td class="ln"><a href="#L4853346173">69</a></td>
<td class="loc"><pre>   &quot;cell_type&quot;: &quot;code&quot;,</pre></td>
</tr><tr id="L6451865186">
<td class="ln"><a href="#L6451865186">70</a></td>
<td class="loc"><pre>   &quot;execution_count&quot;: null,</pre></td>
</tr><tr id="L4454930156">
<td class="ln"><a href="#L4454930156">71</a></td>
<td class="loc"><pre>   &quot;metadata&quot;: {</pre></td>
</tr><tr id="L2727479110">
<td class="ln"><a href="#L2727479110">72</a></td>
<td class="loc"><pre>    &quot;collapsed&quot;: false</pre></td>
</tr><tr id="L4153866200">
<td class="ln"><a href="#L4153866200">73</a></td>
<td class="loc"><pre>   },</pre></td>
</tr><tr id="L6340897401">
<td class="ln"><a href="#L6340897401">74</a></td>
<td class="loc"><pre>   &quot;outputs&quot;: [],</pre></td>
</tr><tr id="L4579498723">
<td class="ln"><a href="#L4579498723">75</a></td>
<td class="loc"><pre>   &quot;source&quot;: [</pre></td>
</tr><tr id="L2817280845">
<td class="ln"><a href="#L2817280845">76</a></td>
<td class="loc"><pre>    &quot;my_list = [i + random.random() for i in range(10) if i &gt; 5]\n&quot;,</pre></td>
</tr><tr id="L4075502527">
<td class="ln"><a href="#L4075502527">77</a></td>
<td class="loc"><pre>    &quot;print (my_list)&quot;</pre></td>
</tr><tr id="L6499348048">
<td class="ln"><a href="#L6499348048">78</a></td>
<td class="loc"><pre>   ]</pre></td>
</tr><tr id="L4704132798">
<td class="ln"><a href="#L4704132798">79</a></td>
<td class="loc"><pre>  },</pre></td>
</tr><tr id="L4196909731">
<td class="ln"><a href="#L4196909731">80</a></td>
<td class="loc"><pre>  {</pre></td>
</tr><tr id="L2434847289">
<td class="ln"><a href="#L2434847289">81</a></td>
<td class="loc"><pre>   &quot;cell_type&quot;: &quot;markdown&quot;,</pre></td>
</tr><tr id="L4967768959">
<td class="ln"><a href="#L4967768959">82</a></td>
<td class="loc"><pre>   &quot;metadata&quot;: {},</pre></td>
</tr><tr id="L6226375437">
<td class="ln"><a href="#L6226375437">83</a></td>
<td class="loc"><pre>   &quot;source&quot;: [</pre></td>
</tr><tr id="L4319772332">
<td class="ln"><a href="#L4319772332">84</a></td>
<td class="loc"><pre>    &quot;## Lambda Expressions&quot;</pre></td>
</tr><tr id="L2323484194">
<td class="ln"><a href="#L2323484194">85</a></td>
<td class="loc"><pre>   ]</pre></td>
</tr><tr id="L4890845080">
<td class="ln"><a href="#L4890845080">86</a></td>
<td class="loc"><pre>  },</pre></td>
</tr><tr id="L6316830470">
<td class="ln"><a href="#L6316830470">87</a></td>
<td class="loc"><pre>  {</pre></td>
</tr><tr id="L4425792149">
<td class="ln"><a href="#L4425792149">88</a></td>
<td class="loc"><pre>   &quot;cell_type&quot;: &quot;markdown&quot;,</pre></td>
</tr><tr id="L2462796295">
<td class="ln"><a href="#L2462796295">89</a></td>
<td class="loc"><pre>   &quot;metadata&quot;: {},</pre></td>
</tr><tr id="L4077704164">
<td class="ln"><a href="#L4077704164">90</a></td>
<td class="loc"><pre>   &quot;source&quot;: [</pre></td>
</tr><tr id="L2819343226">
<td class="ln"><a href="#L2819343226">91</a></td>
<td class="loc"><pre>    &quot;So far we defined functions using this syntax:&quot;</pre></td>
</tr><tr id="L4581421760">
<td class="ln"><a href="#L4581421760">92</a></td>
<td class="loc"><pre>   ]</pre></td>
</tr><tr id="L6343238222">
<td class="ln"><a href="#L6343238222">93</a></td>
<td class="loc"><pre>  },</pre></td>
</tr><tr id="L4168191979">
<td class="ln"><a href="#L4168191979">94</a></td>
<td class="loc"><pre>  {</pre></td>
</tr><tr id="L2742452065">
<td class="ln"><a href="#L2742452065">95</a></td>
<td class="loc"><pre>   &quot;cell_type&quot;: &quot;code&quot;,</pre></td>
</tr><tr id="L4470025943">
<td class="ln"><a href="#L4470025943">96</a></td>
<td class="loc"><pre>   &quot;execution_count&quot;: null,</pre></td>
</tr><tr id="L6466068037">
<td class="ln"><a href="#L6466068037">97</a></td>
<td class="loc"><pre>   &quot;metadata&quot;: {</pre></td>
</tr><tr id="L4041690070">
<td class="ln"><a href="#L4041690070">98</a></td>
<td class="loc"><pre>    &quot;collapsed&quot;: false</pre></td>
</tr><tr id="L2581609288">
<td class="ln"><a href="#L2581609288">99</a></td>
<td class="loc"><pre>   },</pre></td>
</tr><tr id="L2902422757">
<td class="ln"><a href="#L2902422757">100</a></td>
<td class="loc"><pre>   &quot;outputs&quot;: [],</pre></td>
</tr><tr id="L3724051575">
<td class="ln"><a href="#L3724051575">101</a></td>
<td class="loc"><pre>   &quot;source&quot;: [</pre></td>
</tr><tr id="L5754672577">
<td class="ln"><a href="#L5754672577">102</a></td>
<td class="loc"><pre>    &quot;def f(name):\n&quot;,</pre></td>
</tr><tr id="L5436220747">
<td class="ln"><a href="#L5436220747">103</a></td>
<td class="loc"><pre>    &quot;    print (\&quot;Hello \&quot; + name + \&quot;!\&quot;)\n&quot;,</pre></td>
</tr><tr id="L2913122542">
<td class="ln"><a href="#L2913122542">104</a></td>
<td class="loc"><pre>    &quot;    \n&quot;,</pre></td>
</tr><tr id="L3701852256">
<td class="ln"><a href="#L3701852256">105</a></td>
<td class="loc"><pre>    &quot;f(\&quot;Bunny Rabbit\&quot;)&quot;</pre></td>
</tr><tr id="L5697771994">
<td class="ln"><a href="#L5697771994">106</a></td>
<td class="loc"><pre>   ]</pre></td>
</tr><tr id="L5479590212">
<td class="ln"><a href="#L5479590212">107</a></td>
<td class="loc"><pre>  },</pre></td>
</tr><tr id="L3073703123">
<td class="ln"><a href="#L3073703123">108</a></td>
<td class="loc"><pre>  {</pre></td>
</tr><tr id="L3828616265">
<td class="ln"><a href="#L3828616265">109</a></td>
<td class="loc"><pre>   &quot;cell_type&quot;: &quot;markdown&quot;,</pre></td>
</tr><tr id="L3287582118">
<td class="ln"><a href="#L3287582118">110</a></td>
<td class="loc"><pre>   &quot;metadata&quot;: {},</pre></td>
</tr><tr id="L3606279480">
<td class="ln"><a href="#L3606279480">111</a></td>
<td class="loc"><pre>   &quot;source&quot;: [</pre></td>
</tr><tr id="L5870593154">
<td class="ln"><a href="#L5870593154">112</a></td>
<td class="loc"><pre>    &quot;f is now a function variable that can be reassigned:&quot;</pre></td>
</tr><tr id="L5048718348">
<td class="ln"><a href="#L5048718348">113</a></td>
<td class="loc"><pre>   ]</pre></td>
</tr><tr id="L3330918829">
<td class="ln"><a href="#L3330918829">114</a></td>
<td class="loc"><pre>  },</pre></td>
</tr><tr id="L3549346079">
<td class="ln"><a href="#L3549346079">115</a></td>
<td class="loc"><pre>  {</pre></td>
</tr><tr id="L5848426649">
<td class="ln"><a href="#L5848426649">116</a></td>
<td class="loc"><pre>   &quot;cell_type&quot;: &quot;code&quot;,</pre></td>
</tr><tr id="L5059450883">
<td class="ln"><a href="#L5059450883">117</a></td>
<td class="loc"><pre>   &quot;execution_count&quot;: null,</pre></td>
</tr><tr id="L3191868820">
<td class="ln"><a href="#L3191868820">118</a></td>
<td class="loc"><pre>   &quot;metadata&quot;: {</pre></td>
</tr><tr id="L3443064074">
<td class="ln"><a href="#L3443064074">119</a></td>
<td class="loc"><pre>    &quot;collapsed&quot;: false</pre></td>
</tr><tr id="L2596886115">
<td class="ln"><a href="#L2596886115">120</a></td>
<td class="loc"><pre>   },</pre></td>
</tr><tr id="L4023265017">
<td class="ln"><a href="#L4023265017">121</a></td>
<td class="loc"><pre>   &quot;outputs&quot;: [],</pre></td>
</tr><tr id="L6590789439">
<td class="ln"><a href="#L6590789439">122</a></td>
<td class="loc"><pre>   &quot;source&quot;: [</pre></td>
</tr><tr id="L4593846221">
<td class="ln"><a href="#L4593846221">123</a></td>
<td class="loc"><pre>    &quot;k = f\n&quot;,</pre></td>
</tr><tr id="L2679446124">
<td class="ln"><a href="#L2679446124">124</a></td>
<td class="loc"><pre>    &quot;k(\&quot;Harold\&quot;)&quot;</pre></td>
</tr><tr id="L3937659618">
<td class="ln"><a href="#L3937659618">125</a></td>
<td class="loc"><pre>   ]</pre></td>
</tr><tr id="L6470417240">
<td class="ln"><a href="#L6470417240">126</a></td>
<td class="loc"><pre>  },</pre></td>
</tr><tr id="L4709010374">
<td class="ln"><a href="#L4709010374">127</a></td>
<td class="loc"><pre>  {</pre></td>
</tr><tr id="L2837634645">
<td class="ln"><a href="#L2837634645">128</a></td>
<td class="loc"><pre>   &quot;cell_type&quot;: &quot;markdown&quot;,</pre></td>
</tr><tr id="L4062555847">
<td class="ln"><a href="#L4062555847">129</a></td>
<td class="loc"><pre>   &quot;metadata&quot;: {},</pre></td>
</tr><tr id="L2447517476">
<td class="ln"><a href="#L2447517476">130</a></td>
<td class="loc"><pre>   &quot;source&quot;: [</pre></td>
</tr><tr id="L4444215226">
<td class="ln"><a href="#L4444215226">131</a></td>
<td class="loc"><pre>    &quot;We can also use this syntax:&quot;</pre></td>
</tr><tr id="L6171690496">
<td class="ln"><a href="#L6171690496">132</a></td>
<td class="loc"><pre>   ]</pre></td>
</tr><tr id="L4745557646">
<td class="ln"><a href="#L4745557646">133</a></td>
<td class="loc"><pre>  },</pre></td>
</tr><tr id="L2562714411">
<td class="ln"><a href="#L2562714411">134</a></td>
<td class="loc"><pre>  {</pre></td>
</tr><tr id="L4323875745">
<td class="ln"><a href="#L4323875745">135</a></td>
<td class="loc"><pre>   &quot;cell_type&quot;: &quot;code&quot;,</pre></td>
</tr><tr id="L6086052375">
<td class="ln"><a href="#L6086052375">136</a></td>
<td class="loc"><pre>   &quot;execution_count&quot;: null,</pre></td>
</tr><tr id="L4828084869">
<td class="ln"><a href="#L4828084869">137</a></td>
<td class="loc"><pre>   &quot;metadata&quot;: {</pre></td>
</tr><tr id="L2416553750">
<td class="ln"><a href="#L2416553750">138</a></td>
<td class="loc"><pre>    &quot;collapsed&quot;: false</pre></td>
</tr><tr id="L4212055944">
<td class="ln"><a href="#L4212055944">139</a></td>
<td class="loc"><pre>   },</pre></td>
</tr><tr id="L3500390889">
<td class="ln"><a href="#L3500390889">140</a></td>
<td class="loc"><pre>   &quot;outputs&quot;: [],</pre></td>
</tr><tr id="L3114584435">
<td class="ln"><a href="#L3114584435">141</a></td>
<td class="loc"><pre>   &quot;source&quot;: [</pre></td>
</tr><tr id="L5144189117">
<td class="ln"><a href="#L5144189117">142</a></td>
<td class="loc"><pre>    &quot;f = lambda name: print(\&quot;Hello \&quot; + name + \&quot;!\&quot;)\n&quot;,</pre></td>
</tr><tr id="L6033172559">
<td class="ln"><a href="#L6033172559">143</a></td>
<td class="loc"><pre>    &quot;f(\&quot;Big Bear\&quot;)&quot;</pre></td>
</tr><tr id="L3388896754">
<td class="ln"><a href="#L3388896754">144</a></td>
<td class="loc"><pre>   ]</pre></td>
</tr><tr id="L3237578076">
<td class="ln"><a href="#L3237578076">145</a></td>
<td class="loc"><pre>  },</pre></td>
</tr><tr id="L5234513110">
<td class="ln"><a href="#L5234513110">146</a></td>
<td class="loc"><pre>  {</pre></td>
</tr><tr id="L5956379720">
<td class="ln"><a href="#L5956379720">147</a></td>
<td class="loc"><pre>   &quot;cell_type&quot;: &quot;markdown&quot;,</pre></td>
</tr><tr id="L3544728023">
<td class="ln"><a href="#L3544728023">148</a></td>
<td class="loc"><pre>   &quot;metadata&quot;: {},</pre></td>
</tr><tr id="L3360641349">
<td class="ln"><a href="#L3360641349">149</a></td>
<td class="loc"><pre>   &quot;source&quot;: [</pre></td>
</tr><tr id="L3884501162">
<td class="ln"><a href="#L3884501162">150</a></td>
<td class="loc"><pre>    &quot;What this syntax allows us to do is to create functions without names.  This comes up from time to time, but is especially commonly used when sorting lists containing more complex objects.  For example:&quot;</pre></td>
</tr><tr id="L2995763252">
<td class="ln"><a href="#L2995763252">151</a></td>
<td class="loc"><pre>   ]</pre></td>
</tr><tr id="L5261158782">
<td class="ln"><a href="#L5261158782">152</a></td>
<td class="loc"><pre>  },</pre></td>
</tr><tr id="L5646719248">
<td class="ln"><a href="#L5646719248">153</a></td>
<td class="loc"><pre>  {</pre></td>
</tr><tr id="L3807741105">
<td class="ln"><a href="#L3807741105">154</a></td>
<td class="loc"><pre>   &quot;cell_type&quot;: &quot;code&quot;,</pre></td>
</tr><tr id="L3086119963">
<td class="ln"><a href="#L3086119963">155</a></td>
<td class="loc"><pre>   &quot;execution_count&quot;: null,</pre></td>
</tr><tr id="L5384119701">
<td class="ln"><a href="#L5384119701">156</a></td>
<td class="loc"><pre>   &quot;metadata&quot;: {</pre></td>
</tr><tr id="L5535192327">
<td class="ln"><a href="#L5535192327">157</a></td>
<td class="loc"><pre>    &quot;collapsed&quot;: false</pre></td>
</tr><tr id="L3663941784">
<td class="ln"><a href="#L3663941784">158</a></td>
<td class="loc"><pre>   },</pre></td>
</tr><tr id="L2976137222">
<td class="ln"><a href="#L2976137222">159</a></td>
<td class="loc"><pre>   &quot;outputs&quot;: [],</pre></td>
</tr><tr id="L4273347431">
<td class="ln"><a href="#L4273347431">160</a></td>
<td class="loc"><pre>   &quot;source&quot;: [</pre></td>
</tr><tr id="L2343758837">
<td class="ln"><a href="#L2343758837">161</a></td>
<td class="loc"><pre>    &quot;state_tuples = [\n&quot;,</pre></td>
</tr><tr id="L4910201403">
<td class="ln"><a href="#L4910201403">162</a></td>
<td class="loc"><pre>    &quot;    (\&quot;CA\&quot;, \&quot;California\&quot;, 23187421), \n&quot;,</pre></td>
</tr><tr id="L6269225681">
<td class="ln"><a href="#L6269225681">163</a></td>
<td class="loc"><pre>    &quot;    (\&quot;NY\&quot;, \&quot;New York\&quot;, 12312983), \n&quot;,</pre></td>
</tr><tr id="L4224210800">
<td class="ln"><a href="#L4224210800">164</a></td>
<td class="loc"><pre>    &quot;    (\&quot;TX\&quot;, \&quot;Texas\&quot;, 9824783)\n&quot;,</pre></td>
</tr><tr id="L2395940830">
<td class="ln"><a href="#L2395940830">165</a></td>
<td class="loc"><pre>    &quot;]\n&quot;,</pre></td>
</tr><tr id="L4929779284">
<td class="ln"><a href="#L4929779284">166</a></td>
<td class="loc"><pre>    &quot;lst = sorted(state_tuples, key = lambda x: x[2], reverse = True)\n&quot;,</pre></td>
</tr><tr id="L6254855882">
<td class="ln"><a href="#L6254855882">167</a></td>
<td class="loc"><pre>    &quot;print (lst)&quot;</pre></td>
</tr><tr id="L4387152729">
<td class="ln"><a href="#L4387152729">168</a></td>
<td class="loc"><pre>   ]</pre></td>
</tr><tr id="L2524541891">
<td class="ln"><a href="#L2524541891">169</a></td>
<td class="loc"><pre>  },</pre></td>
</tr><tr id="L4122929704">
<td class="ln"><a href="#L4122929704">170</a></td>
<td class="loc"><pre>  {</pre></td>
</tr><tr id="L2763659958">
<td class="ln"><a href="#L2763659958">171</a></td>
<td class="loc"><pre>   &quot;cell_type&quot;: &quot;markdown&quot;,</pre></td>
</tr><tr id="L4492151548">
<td class="ln"><a href="#L4492151548">172</a></td>
<td class="loc"><pre>   &quot;metadata&quot;: {},</pre></td>
</tr><tr id="L6421986194">
<td class="ln"><a href="#L6421986194">173</a></td>
<td class="loc"><pre>   &quot;source&quot;: [</pre></td>
</tr><tr id="L4108527151">
<td class="ln"><a href="#L4108527151">174</a></td>
<td class="loc"><pre>    &quot;## Objects&quot;</pre></td>
</tr><tr id="L2783205021">
<td class="ln"><a href="#L2783205021">175</a></td>
<td class="loc"><pre>   ]</pre></td>
</tr><tr id="L4544366355">
<td class="ln"><a href="#L4544366355">176</a></td>
<td class="loc"><pre>  },</pre></td>
</tr><tr id="L6372882313">
<td class="ln"><a href="#L6372882313">177</a></td>
<td class="loc"><pre>  {</pre></td>
</tr><tr id="L3967119898">
<td class="ln"><a href="#L3967119898">178</a></td>
<td class="loc"><pre>   &quot;cell_type&quot;: &quot;markdown&quot;,</pre></td>
</tr><tr id="L2675090052">
<td class="ln"><a href="#L2675090052">179</a></td>
<td class="loc"><pre>   &quot;metadata&quot;: {},</pre></td>
</tr><tr id="L6261505757">
<td class="ln"><a href="#L6261505757">180</a></td>
<td class="loc"><pre>   &quot;source&quot;: [</pre></td>
</tr><tr id="L4935781999">
<td class="ln"><a href="#L4935781999">181</a></td>
<td class="loc"><pre>    &quot;Python also supports object-oriented programming.  Classes work like modules, but have a little extra functionality to support more object-oriented design patterns.  Here is a simple python class.  Note the keywords **class**, **object** (optional), **self**, and **__init__**.\n&quot;,</pre></td>
</tr><tr id="L2401820617">
<td class="ln"><a href="#L2401820617">182</a></td>
<td class="loc"><pre>    &quot;\n&quot;,</pre></td>
</tr><tr id="L4230983507">
<td class="ln"><a href="#L4230983507">183</a></td>
<td class="loc"><pre>    &quot;* **class** indicates that the following code is the class definition.\n&quot;,</pre></td>
</tr><tr id="L6279611126">
<td class="ln"><a href="#L6279611126">184</a></td>
<td class="loc"><pre>    &quot;* **object** is the parent class for the current object.\n&quot;,</pre></td>
</tr><tr id="L4920726120">
<td class="ln"><a href="#L4920726120">185</a></td>
<td class="loc"><pre>    &quot;* **self** is a reference to the current object, to which member variables can be added at run time.\n&quot;,</pre></td>
</tr><tr id="L2354422738">
<td class="ln"><a href="#L2354422738">186</a></td>
<td class="loc"><pre>    &quot;* **init** (preceded and followed by double underscores) is the constructor function called when the object is created.\n&quot;,</pre></td>
</tr><tr id="L4283593532">
<td class="ln"><a href="#L4283593532">187</a></td>
<td class="loc"><pre>    &quot;\n&quot;</pre></td>
</tr><tr id="L6157072075">
<td class="ln"><a href="#L6157072075">188</a></td>
<td class="loc"><pre>   ]</pre></td>
</tr><tr id="L4764370497">
<td class="ln"><a href="#L4764370497">189</a></td>
<td class="loc"><pre>  },</pre></td>
</tr><tr id="L6379409310">
<td class="ln"><a href="#L6379409310">190</a></td>
<td class="loc"><pre>  {</pre></td>
</tr><tr id="L4550491952">
<td class="ln"><a href="#L4550491952">191</a></td>
<td class="loc"><pre>   &quot;cell_type&quot;: &quot;code&quot;,</pre></td>
</tr><tr id="L2789453450">
<td class="ln"><a href="#L2789453450">192</a></td>
<td class="loc"><pre>   &quot;execution_count&quot;: null,</pre></td>
</tr><tr id="L4114931220">
<td class="ln"><a href="#L4114931220">193</a></td>
<td class="loc"><pre>   &quot;metadata&quot;: {</pre></td>
</tr><tr id="L6431986613">
<td class="ln"><a href="#L6431986613">194</a></td>
<td class="loc"><pre>    &quot;collapsed&quot;: false</pre></td>
</tr><tr id="L4503061287">
<td class="ln"><a href="#L4503061287">195</a></td>
<td class="loc"><pre>   },</pre></td>
</tr><tr id="L2774430353">
<td class="ln"><a href="#L2774430353">196</a></td>
<td class="loc"><pre>   &quot;outputs&quot;: [],</pre></td>
</tr><tr id="L4133069307">
<td class="ln"><a href="#L4133069307">197</a></td>
<td class="loc"><pre>   &quot;source&quot;: [</pre></td>
</tr><tr id="L6542493580">
<td class="ln"><a href="#L6542493580">198</a></td>
<td class="loc"><pre>    &quot;class animal(object):\n&quot;,</pre></td>
</tr><tr id="L4646336258">
<td class="ln"><a href="#L4646336258">199</a></td>
<td class="loc"><pre>    &quot;    def __init__(self):\n&quot;,</pre></td>
</tr><tr id="L2864321198">
<td class="ln"><a href="#L2864321198">200</a></td>
<td class="loc"><pre>    &quot;        self.name = \&quot;Bunny Rabbit\&quot;\n&quot;,</pre></td>
</tr><tr id="L3753837088">
<td class="ln"><a href="#L3753837088">201</a></td>
<td class="loc"><pre>    &quot;    def say_hello(self):\n&quot;,</pre></td>
</tr><tr id="L5784449946">
<td class="ln"><a href="#L5784449946">202</a></td>
<td class="loc"><pre>    &quot;        print (\&quot;Hello \&quot; + self.name + \&quot;!\&quot;)\n&quot;,</pre></td>
</tr><tr id="L5398127364">
<td class="ln"><a href="#L5398127364">203</a></td>
<td class="loc"><pre>    &quot;        \n&quot;,</pre></td>
</tr><tr id="L2950975141">
<td class="ln"><a href="#L2950975141">204</a></td>
<td class="loc"><pre>    &quot;a = animal()\n&quot;,</pre></td>
</tr><tr id="L3672325687">
<td class="ln"><a href="#L3672325687">205</a></td>
<td class="loc"><pre>    &quot;a.say_hello()&quot;</pre></td>
</tr><tr id="L5668237185">
<td class="ln"><a href="#L5668237185">206</a></td>
<td class="loc"><pre>   ]</pre></td>
</tr><tr id="L5517451019">
<td class="ln"><a href="#L5517451019">207</a></td>
<td class="loc"><pre>  },</pre></td>
</tr><tr id="L3111291516">
<td class="ln"><a href="#L3111291516">208</a></td>
<td class="loc"><pre>  {</pre></td>
</tr><tr id="L3799349778">
<td class="ln"><a href="#L3799349778">209</a></td>
<td class="loc"><pre>   &quot;cell_type&quot;: &quot;markdown&quot;,</pre></td>
</tr><tr id="L3249734637">
<td class="ln"><a href="#L3249734637">210</a></td>
<td class="loc"><pre>   &quot;metadata&quot;: {</pre></td>
</tr><tr id="L3635811167">
<td class="ln"><a href="#L3635811167">211</a></td>
<td class="loc"><pre>    &quot;collapsed&quot;: true</pre></td>
</tr><tr id="L5900133081">
<td class="ln"><a href="#L5900133081">212</a></td>
<td class="loc"><pre>   },</pre></td>
</tr><tr id="L5010862659">
<td class="ln"><a href="#L5010862659">213</a></td>
<td class="loc"><pre>   &quot;source&quot;: [</pre></td>
</tr><tr id="L3369025510">
<td class="ln"><a href="#L3369025510">214</a></td>
<td class="loc"><pre>    &quot;The __init__ function is the class constructor, invoked when thte object is created.  It can have whatever parameters you need, like any other function:&quot;</pre></td>
</tr><tr id="L3519565688">
<td class="ln"><a href="#L3519565688">215</a></td>
<td class="loc"><pre>   ]</pre></td>
</tr><tr id="L5818654402">
<td class="ln"><a href="#L5818654402">216</a></td>
<td class="loc"><pre>  },</pre></td>
</tr><tr id="L5097549388">
<td class="ln"><a href="#L5097549388">217</a></td>
<td class="loc"><pre>  {</pre></td>
</tr><tr id="L3229187003">
<td class="ln"><a href="#L3229187003">218</a></td>
<td class="loc"><pre>   &quot;cell_type&quot;: &quot;code&quot;,</pre></td>
</tr><tr id="L3414068049">
<td class="ln"><a href="#L3414068049">219</a></td>
<td class="loc"><pre>   &quot;execution_count&quot;: null,</pre></td>
</tr><tr id="L2626662444">
<td class="ln"><a href="#L2626662444">220</a></td>
<td class="loc"><pre>   &quot;metadata&quot;: {</pre></td>
</tr><tr id="L3985170594">
<td class="ln"><a href="#L3985170594">221</a></td>
<td class="loc"><pre>    &quot;collapsed&quot;: false</pre></td>
</tr><tr id="L6552686872">
<td class="ln"><a href="#L6552686872">222</a></td>
<td class="loc"><pre>   },</pre></td>
</tr><tr id="L4623630726">
<td class="ln"><a href="#L4623630726">223</a></td>
<td class="loc"><pre>   &quot;outputs&quot;: [],</pre></td>
</tr><tr id="L2649910307">
<td class="ln"><a href="#L2649910307">224</a></td>
<td class="loc"><pre>   &quot;source&quot;: [</pre></td>
</tr><tr id="L3975519417">
<td class="ln"><a href="#L3975519417">225</a></td>
<td class="loc"><pre>    &quot;class animal(object):\n&quot;,</pre></td>
</tr><tr id="L6508268799">
<td class="ln"><a href="#L6508268799">226</a></td>
<td class="loc"><pre>    &quot;    def __init__(self, name):\n&quot;,</pre></td>
</tr><tr id="L4679482765">
<td class="ln"><a href="#L4679482765">227</a></td>
<td class="loc"><pre>    &quot;        self.name = name\n&quot;,</pre></td>
</tr><tr id="L2808358910">
<td class="ln"><a href="#L2808358910">228</a></td>
<td class="loc"><pre>    &quot;    def say_hello(self):\n&quot;,</pre></td>
</tr><tr id="L4100151440">
<td class="ln"><a href="#L4100151440">229</a></td>
<td class="loc"><pre>    &quot;        print (\&quot;Hello \&quot; + self.name + \&quot;!\&quot;)\n&quot;,</pre></td>
</tr><tr id="L2477056363">
<td class="ln"><a href="#L2477056363">230</a></td>
<td class="loc"><pre>    &quot;        \n&quot;,</pre></td>
</tr><tr id="L4406358497">
<td class="ln"><a href="#L4406358497">231</a></td>
<td class="loc"><pre>    &quot;a = animal(\&quot;Big Bear\&quot;)\n&quot;,</pre></td>
</tr><tr id="L6133842007">
<td class="ln"><a href="#L6133842007">232</a></td>
<td class="loc"><pre>    &quot;a.say_hello()&quot;</pre></td>
</tr><tr id="L4775088325">
<td class="ln"><a href="#L4775088325">233</a></td>
<td class="loc"><pre>   ]</pre></td>
</tr><tr id="L2532941156">
<td class="ln"><a href="#L2532941156">234</a></td>
<td class="loc"><pre>  },</pre></td>
</tr><tr id="L4361973242">
<td class="ln"><a href="#L4361973242">235</a></td>
<td class="loc"><pre>  {</pre></td>
</tr><tr id="L6124158016">
<td class="ln"><a href="#L6124158016">236</a></td>
<td class="loc"><pre>   &quot;cell_type&quot;: &quot;markdown&quot;,</pre></td>
</tr><tr id="L4798303438">
<td class="ln"><a href="#L4798303438">237</a></td>
<td class="loc"><pre>   &quot;metadata&quot;: {},</pre></td>
</tr><tr id="L2387564861">
<td class="ln"><a href="#L2387564861">238</a></td>
<td class="loc"><pre>   &quot;source&quot;: [</pre></td>
</tr><tr id="L4249364943">
<td class="ln"><a href="#L4249364943">239</a></td>
<td class="loc"><pre>    &quot;Objects can then be used in lists, dictionaries, etc.  &quot;</pre></td>
</tr><tr id="L3471134642">
<td class="ln"><a href="#L3471134642">240</a></td>
<td class="loc"><pre>   ]</pre></td>
</tr><tr id="L3152166684">
<td class="ln"><a href="#L3152166684">241</a></td>
<td class="loc"><pre>  },</pre></td>
</tr><tr id="L5181763222">
<td class="ln"><a href="#L5181763222">242</a></td>
<td class="loc"><pre>  {</pre></td>
</tr><tr id="L6003924488">
<td class="ln"><a href="#L6003924488">243</a></td>
<td class="loc"><pre>   &quot;cell_type&quot;: &quot;code&quot;,</pre></td>
</tr><tr id="L3417904041">
<td class="ln"><a href="#L3417904041">244</a></td>
<td class="loc"><pre>   &quot;execution_count&quot;: null,</pre></td>
</tr><tr id="L3200254771">
<td class="ln"><a href="#L3200254771">245</a></td>
<td class="loc"><pre>   &quot;metadata&quot;: {</pre></td>
</tr><tr id="L5197181565">
<td class="ln"><a href="#L5197181565">246</a></td>
<td class="loc"><pre>    &quot;collapsed&quot;: false</pre></td>
</tr><tr id="L5985395215">
<td class="ln"><a href="#L5985395215">247</a></td>
<td class="loc"><pre>   },</pre></td>
</tr><tr id="L3574515584">
<td class="ln"><a href="#L3574515584">248</a></td>
<td class="loc"><pre>   &quot;outputs&quot;: [],</pre></td>
</tr><tr id="L3322525454">
<td class="ln"><a href="#L3322525454">249</a></td>
<td class="loc"><pre>   &quot;source&quot;: [</pre></td>
</tr><tr id="L3855498993">
<td class="ln"><a href="#L3855498993">250</a></td>
<td class="loc"><pre>    &quot;names = [\&quot;Wolf\&quot;, \&quot;Elephant\&quot;, \&quot;Lion\&quot;, \&quot;Bear\&quot;]\n&quot;,</pre></td>
</tr><tr id="L3033091675">
<td class="ln"><a href="#L3033091675">251</a></td>
<td class="loc"><pre>    &quot;animal_list = [animal(x) for x in names]\n&quot;,</pre></td>
</tr><tr id="L5298495445">
<td class="ln"><a href="#L5298495445">252</a></td>
<td class="loc"><pre>    &quot;for a in animal_list:\n&quot;,</pre></td>
</tr><tr id="L5617708871">
<td class="ln"><a href="#L5617708871">253</a></td>
<td class="loc"><pre>    &quot;    a.say_hello()&quot;</pre></td>
</tr><tr id="L3837002474">
<td class="ln"><a href="#L3837002474">254</a></td>
<td class="loc"><pre>   ]</pre></td>
</tr><tr id="L3048542836">
<td class="ln"><a href="#L3048542836">255</a></td>
<td class="loc"><pre>  },</pre></td>
</tr><tr id="L5346550718">
<td class="ln"><a href="#L5346550718">256</a></td>
<td class="loc"><pre>  {</pre></td>
</tr><tr id="L5564445520">
<td class="ln"><a href="#L5564445520">257</a></td>
<td class="loc"><pre>   &quot;cell_type&quot;: &quot;markdown&quot;,</pre></td>
</tr><tr id="L3693459135">
<td class="ln"><a href="#L3693459135">258</a></td>
<td class="loc"><pre>   &quot;metadata&quot;: {</pre></td>
</tr><tr id="L2938291789">
<td class="ln"><a href="#L2938291789">259</a></td>
<td class="loc"><pre>    &quot;collapsed&quot;: true</pre></td>
</tr><tr id="L4310920496">
<td class="ln"><a href="#L4310920496">260</a></td>
<td class="loc"><pre>   },</pre></td>
</tr><tr id="L2314509726">
<td class="ln"><a href="#L2314509726">261</a></td>
<td class="loc"><pre>   &quot;source&quot;: [</pre></td>
</tr><tr id="L4880944148">
<td class="ln"><a href="#L4880944148">262</a></td>
<td class="loc"><pre>    &quot;## Exceptions\n&quot;,</pre></td>
</tr><tr id="L6306806922">
<td class="ln"><a href="#L6306806922">263</a></td>
<td class="loc"><pre>    &quot;\n&quot;,</pre></td>
</tr><tr id="L4186878247">
<td class="ln"><a href="#L4186878247">264</a></td>
<td class="loc"><pre>    &quot;Exceptions allow you to protect against errors in your code without having to explicitly check for them wherever they might happen.  There are several situations where you might expect to encounter errors:\n&quot;,</pre></td>
</tr><tr id="L2424955317">
<td class="ln"><a href="#L2424955317">265</a></td>
<td class="loc"><pre>    &quot;\n&quot;,</pre></td>
</tr><tr id="L4958785531">
<td class="ln"><a href="#L4958785531">266</a></td>
<td class="loc"><pre>    &quot;* Any time you access a resource that might not be there, or that might be well-behaved like a file, database, or network connection\n&quot;,</pre></td>
</tr><tr id="L6217531537">
<td class="ln"><a href="#L6217531537">267</a></td>
<td class="loc"><pre>    &quot;* When you are dealing with numbers that might exceed the size of the bucket you&#39;re putting them in.\n&quot;,</pre></td>
</tr><tr id="L4349027586">
<td class="ln"><a href="#L4349027586">268</a></td>
<td class="loc"><pre>    &quot;* When doing division - dividing by zero is an error!\n&quot;,</pre></td>
</tr><tr id="L2554336652">
<td class="ln"><a href="#L2554336652">269</a></td>
<td class="loc"><pre>    &quot;* When using up a lot of memory.\n&quot;,</pre></td>
</tr><tr id="L4160265327">
<td class="ln"><a href="#L4160265327">270</a></td>
<td class="loc"><pre>    &quot;* When you are accessing data that might be missing in.\n&quot;,</pre></td>
</tr><tr id="L2734648541">
<td class="ln"><a href="#L2734648541">271</a></td>
<td class="loc"><pre>    &quot;* When you can&#39;t be certain of the datatype of the data, or the inferred data type is incorrect.\n&quot;,</pre></td>
</tr><tr id="L4463148371">
<td class="ln"><a href="#L4463148371">272</a></td>
<td class="loc"><pre>    &quot;\n&quot;,</pre></td>
</tr><tr id="L6459313609">
<td class="ln"><a href="#L6459313609">273</a></td>
<td class="loc"><pre>    &quot;Exceptions let you wrap a chunk of code in a block, and any time there is an error within that block, the code will jump to the code that you specify. In the old days, this used to be accomplished with GOTO statements, but GOTO statements could go anywhere, and developed a bad repution for leading to spaghetti code, since any chunk of code could jump anywhere else in your program.  Exceptions allow this kind of GOTO behavior, but limit it to a more restricted and well defined structure.\n&quot;,</pre></td>
</tr><tr id="L4070957160">
<td class="ln"><a href="#L4070957160">274</a></td>
<td class="loc"><pre>    &quot;\n&quot;,</pre></td>
</tr><tr id="L2812457206">
<td class="ln"><a href="#L2812457206">275</a></td>
<td class="loc"><pre>    &quot;Here is a typical example:&quot;</pre></td>
</tr><tr id="L4573626684">
<td class="ln"><a href="#L4573626684">276</a></td>
<td class="loc"><pre>   ]</pre></td>
</tr><tr id="L6335304146">
<td class="ln"><a href="#L6335304146">277</a></td>
<td class="loc"><pre>  },</pre></td>
</tr><tr id="L3929281601">
<td class="ln"><a href="#L3929281601">278</a></td>
<td class="loc"><pre>  {</pre></td>
</tr><tr id="L2704598219">
<td class="ln"><a href="#L2704598219">279</a></td>
<td class="loc"><pre>   &quot;cell_type&quot;: &quot;code&quot;,</pre></td>
</tr><tr id="L6231722166">
<td class="ln"><a href="#L6231722166">280</a></td>
<td class="loc"><pre>   &quot;execution_count&quot;: null,</pre></td>
</tr><tr id="L4973885480">
<td class="ln"><a href="#L4973885480">281</a></td>
<td class="loc"><pre>   &quot;metadata&quot;: {</pre></td>
</tr><tr id="L2439915922">
<td class="ln"><a href="#L2439915922">282</a></td>
<td class="loc"><pre>    &quot;collapsed&quot;: false</pre></td>
</tr><tr id="L4201208060">
<td class="ln"><a href="#L4201208060">283</a></td>
<td class="loc"><pre>   },</pre></td>
</tr><tr id="L6309135517">
<td class="ln"><a href="#L6309135517">284</a></td>
<td class="loc"><pre>   &quot;outputs&quot;: [],</pre></td>
</tr><tr id="L4882871343">
<td class="ln"><a href="#L4882871343">285</a></td>
<td class="loc"><pre>   &quot;source&quot;: [</pre></td>
</tr><tr id="L2316559753">
<td class="ln"><a href="#L2316559753">286</a></td>
<td class="loc"><pre>    &quot;import traceback\n&quot;,</pre></td>
</tr><tr id="L4313126163">
<td class="ln"><a href="#L4313126163">287</a></td>
<td class="loc"><pre>    &quot;\n&quot;,</pre></td>
</tr><tr id="L6186340484">
<td class="ln"><a href="#L6186340484">288</a></td>
<td class="loc"><pre>    &quot;x = 100\n&quot;,</pre></td>
</tr><tr id="L4726784026">
<td class="ln"><a href="#L4726784026">289</a></td>
<td class="loc"><pre>    &quot;y = 0\n&quot;,</pre></td>
</tr><tr id="L6349879797">
<td class="ln"><a href="#L6349879797">290</a></td>
<td class="loc"><pre>    &quot;try:\n&quot;,</pre></td>
</tr><tr id="L4588341607">
<td class="ln"><a href="#L4588341607">291</a></td>
<td class="loc"><pre>    &quot;    z = x/y\n&quot;,</pre></td>
</tr><tr id="L2827311313">
<td class="ln"><a href="#L2827311313">292</a></td>
<td class="loc"><pre>    &quot;except ZeroDivisionError:\n&quot;,</pre></td>
</tr><tr id="L4085393467">
<td class="ln"><a href="#L4085393467">293</a></td>
<td class="loc"><pre>    &quot;    print (\&quot;divide by zero\&quot;)&quot;</pre></td>
</tr><tr id="L6461765086">
<td class="ln"><a href="#L6461765086">294</a></td>
<td class="loc"><pre>   ]</pre></td>
</tr><tr id="L4464952688">
<td class="ln"><a href="#L4464952688">295</a></td>
<td class="loc"><pre>  },</pre></td>
</tr><tr id="L2736329930">
<td class="ln"><a href="#L2736329930">296</a></td>
<td class="loc"><pre>  {</pre></td>
</tr><tr id="L4162839636">
<td class="ln"><a href="#L4162839636">297</a></td>
<td class="loc"><pre>   &quot;cell_type&quot;: &quot;markdown&quot;,</pre></td>
</tr><tr id="L6571491779">
<td class="ln"><a href="#L6571491779">298</a></td>
<td class="loc"><pre>   &quot;metadata&quot;: {},</pre></td>
</tr><tr id="L4609020249">
<td class="ln"><a href="#L4609020249">299</a></td>
<td class="loc"><pre>   &quot;source&quot;: [</pre></td>
</tr><tr id="L2860230783">
<td class="ln"><a href="#L2860230783">300</a></td>
<td class="loc"><pre>    &quot;This defined a specific type of exception to check for.  You can also just use the type \&quot;Exception\&quot; to catch all types.  By referencing the Exception object, you can print out diagnostic information.&quot;</pre></td>
</tr><tr id="L3783055373">
<td class="ln"><a href="#L3783055373">301</a></td>
<td class="loc"><pre>   ]</pre></td>
</tr><tr id="L5780146595">
<td class="ln"><a href="#L5780146595">302</a></td>
<td class="loc"><pre>  },</pre></td>
</tr><tr id="L5427624249">
<td class="ln"><a href="#L5427624249">303</a></td>
<td class="loc"><pre>  {</pre></td>
</tr><tr id="L2972083352">
<td class="ln"><a href="#L2972083352">304</a></td>
<td class="loc"><pre>   &quot;cell_type&quot;: &quot;code&quot;,</pre></td>
</tr><tr id="L3659633670">
<td class="ln"><a href="#L3659633670">305</a></td>
<td class="loc"><pre>   &quot;execution_count&quot;: null,</pre></td>
</tr><tr id="L5689066924">
<td class="ln"><a href="#L5689066924">306</a></td>
<td class="loc"><pre>   &quot;metadata&quot;: {</pre></td>
</tr><tr id="L5504972066">
<td class="ln"><a href="#L5504972066">307</a></td>
<td class="loc"><pre>    &quot;collapsed&quot;: false</pre></td>
</tr><tr id="L3081777329">
<td class="ln"><a href="#L3081777329">308</a></td>
<td class="loc"><pre>   },</pre></td>
</tr><tr id="L3803668507">
<td class="ln"><a href="#L3803668507">309</a></td>
<td class="loc"><pre>   &quot;outputs&quot;: [],</pre></td>
</tr><tr id="L3278952896">
<td class="ln"><a href="#L3278952896">310</a></td>
<td class="loc"><pre>   &quot;source&quot;: [</pre></td>
</tr><tr id="L3631720782">
<td class="ln"><a href="#L3631720782">311</a></td>
<td class="loc"><pre>    &quot;x = 100\n&quot;,</pre></td>
</tr><tr id="L5929629924">
<td class="ln"><a href="#L5929629924">312</a></td>
<td class="loc"><pre>    &quot;y = 0\n&quot;,</pre></td>
</tr><tr id="L5006559354">
<td class="ln"><a href="#L5006559354">313</a></td>
<td class="loc"><pre>    &quot;try:\n&quot;,</pre></td>
</tr><tr id="L3356333527">
<td class="ln"><a href="#L3356333527">314</a></td>
<td class="loc"><pre>    &quot;    z = x/y\n&quot;,</pre></td>
</tr><tr id="L3540673861">
<td class="ln"><a href="#L3540673861">315</a></td>
<td class="loc"><pre>    &quot;except Exception as e:\n&quot;,</pre></td>
</tr><tr id="L5806175467">
<td class="ln"><a href="#L5806175467">316</a></td>
<td class="loc"><pre>    &quot;    print (\&quot;Something went wrong!\&quot;, e)&quot;</pre></td>
</tr><tr id="L5118379105">
<td class="ln"><a href="#L5118379105">317</a></td>
<td class="loc"><pre>   ]</pre></td>
</tr><tr id="L3233505778">
<td class="ln"><a href="#L3233505778">318</a></td>
<td class="loc"><pre>  },</pre></td>
</tr><tr id="L3384553820">
<td class="ln"><a href="#L3384553820">319</a></td>
<td class="loc"><pre>  {</pre></td>
</tr><tr id="L2622360065">
<td class="ln"><a href="#L2622360065">320</a></td>
<td class="loc"><pre>   &quot;cell_type&quot;: &quot;markdown&quot;,</pre></td>
</tr><tr id="L4014668427">
<td class="ln"><a href="#L4014668427">321</a></td>
<td class="loc"><pre>   &quot;metadata&quot;: {},</pre></td>
</tr><tr id="L6548597541">
<td class="ln"><a href="#L6548597541">322</a></td>
<td class="loc"><pre>   &quot;source&quot;: [</pre></td>
</tr><tr id="L4652850103">
<td class="ln"><a href="#L4652850103">323</a></td>
<td class="loc"><pre>    &quot;The _traceback_ module can also help by letting you output more detailed information about the error, like a stack trace (list of calling functions that led to the error), and the line number of the error.&quot;</pre></td>
</tr><tr id="L2670741018">
<td class="ln"><a href="#L2670741018">324</a></td>
<td class="loc"><pre>   ]</pre></td>
</tr><tr id="L3963041412">
<td class="ln"><a href="#L3963041412">325</a></td>
<td class="loc"><pre>  },</pre></td>
</tr><tr id="L6529378094">
<td class="ln"><a href="#L6529378094">326</a></td>
<td class="loc"><pre>  {</pre></td>
</tr><tr id="L4666791840">
<td class="ln"><a href="#L4666791840">327</a></td>
<td class="loc"><pre>   &quot;cell_type&quot;: &quot;code&quot;,</pre></td>
</tr><tr id="L2779157039">
<td class="ln"><a href="#L2779157039">328</a></td>
<td class="loc"><pre>   &quot;execution_count&quot;: null,</pre></td>
</tr><tr id="L4104225437">
<td class="ln"><a href="#L4104225437">329</a></td>
<td class="loc"><pre>   &quot;metadata&quot;: {</pre></td>
</tr><tr id="L2506554178">
<td class="ln"><a href="#L2506554178">330</a></td>
<td class="loc"><pre>    &quot;collapsed&quot;: false</pre></td>
</tr><tr id="L4402056140">
<td class="ln"><a href="#L4402056140">331</a></td>
<td class="loc"><pre>   },</pre></td>
</tr><tr id="L6163061350">
<td class="ln"><a href="#L6163061350">332</a></td>
<td class="loc"><pre>   &quot;outputs&quot;: [],</pre></td>
</tr><tr id="L4770999032">
<td class="ln"><a href="#L4770999032">333</a></td>
<td class="loc"><pre>   &quot;source&quot;: [</pre></td>
</tr><tr id="L2520463193">
<td class="ln"><a href="#L2520463193">334</a></td>
<td class="loc"><pre>    &quot;import traceback\n&quot;,</pre></td>
</tr><tr id="L4382803907">
<td class="ln"><a href="#L4382803907">335</a></td>
<td class="loc"><pre>    &quot;\n&quot;,</pre></td>
</tr><tr id="L6111467117">
<td class="ln"><a href="#L6111467117">336</a></td>
<td class="loc"><pre>    &quot;x = 100\n&quot;,</pre></td>
</tr><tr id="L4819412703">
<td class="ln"><a href="#L4819412703">337</a></td>
<td class="loc"><pre>    &quot;y = 0\n&quot;,</pre></td>
</tr><tr id="L2391638896">
<td class="ln"><a href="#L2391638896">338</a></td>
<td class="loc"><pre>    &quot;try:\n&quot;,</pre></td>
</tr><tr id="L4220163038">
<td class="ln"><a href="#L4220163038">339</a></td>
<td class="loc"><pre>    &quot;    z = x/y\n&quot;,</pre></td>
</tr><tr id="L3458688379">
<td class="ln"><a href="#L3458688379">340</a></td>
<td class="loc"><pre>    &quot;except Exception as e:\n&quot;,</pre></td>
</tr><tr id="L3173029137">
<td class="ln"><a href="#L3173029137">341</a></td>
<td class="loc"><pre>    &quot;    print (\&quot;Something went wrong!\&quot;, e)\n&quot;,</pre></td>
</tr><tr id="L5169038503">
<td class="ln"><a href="#L5169038503">342</a></td>
<td class="loc"><pre>    &quot;    traceback.print_exc()&quot;</pre></td>
</tr><tr id="L6024999989">
<td class="ln"><a href="#L6024999989">343</a></td>
<td class="loc"><pre>   ]</pre></td>
</tr><tr id="L3447368084">
<td class="ln"><a href="#L3447368084">344</a></td>
<td class="loc"><pre>  },</pre></td>
</tr><tr id="L3195918602">
<td class="ln"><a href="#L3195918602">345</a></td>
<td class="loc"><pre>  {</pre></td>
</tr><tr id="L5226432688">
<td class="ln"><a href="#L5226432688">346</a></td>
<td class="loc"><pre>   &quot;cell_type&quot;: &quot;markdown&quot;,</pre></td>
</tr><tr id="L5981337630">
<td class="ln"><a href="#L5981337630">347</a></td>
<td class="loc"><pre>   &quot;metadata&quot;: {},</pre></td>
</tr><tr id="L3553422765">
<td class="ln"><a href="#L3553422765">348</a></td>
<td class="loc"><pre>   &quot;source&quot;: [</pre></td>
</tr><tr id="L3335265567">
<td class="ln"><a href="#L3335265567">349</a></td>
<td class="loc"><pre>    &quot;Finally, the _finally_ clause lets you run some code at the end of your try block, whether or not there was an exception, which is occasionally useful if you want to, say, always return a valid value from your function whether or not there was an exception:&quot;</pre></td>
</tr><tr id="L3876361404">
<td class="ln"><a href="#L3876361404">350</a></td>
<td class="loc"><pre>   ]</pre></td>
</tr><tr id="L3020645458">
<td class="ln"><a href="#L3020645458">351</a></td>
<td class="loc"><pre>  },</pre></td>
</tr><tr id="L5319570920">
<td class="ln"><a href="#L5319570920">352</a></td>
<td class="loc"><pre>  {</pre></td>
</tr><tr id="L5604984182">
<td class="ln"><a href="#L5604984182">353</a></td>
<td class="loc"><pre>   &quot;cell_type&quot;: &quot;code&quot;,</pre></td>
</tr><tr id="L3832666323">
<td class="ln"><a href="#L3832666323">354</a></td>
<td class="loc"><pre>   &quot;execution_count&quot;: null,</pre></td>
</tr><tr id="L3078006857">
<td class="ln"><a href="#L3078006857">355</a></td>
<td class="loc"><pre>   &quot;metadata&quot;: {</pre></td>
</tr><tr id="L5342493167">
<td class="ln"><a href="#L5342493167">356</a></td>
<td class="loc"><pre>    &quot;collapsed&quot;: false</pre></td>
</tr><tr id="L5593696605">
<td class="ln"><a href="#L5593696605">357</a></td>
<td class="loc"><pre>   },</pre></td>
</tr><tr id="L3706199278">
<td class="ln"><a href="#L3706199278">358</a></td>
<td class="loc"><pre>   &quot;outputs&quot;: [],</pre></td>
</tr><tr id="L2917198944">
<td class="ln"><a href="#L2917198944">359</a></td>
<td class="loc"><pre>   &quot;source&quot;: [</pre></td>
</tr><tr id="L4298196733">
<td class="ln"><a href="#L4298196733">360</a></td>
<td class="loc"><pre>    &quot;x = 100\n&quot;,</pre></td>
</tr><tr id="L2335586191">
<td class="ln"><a href="#L2335586191">361</a></td>
<td class="loc"><pre>    &quot;y = 0\n&quot;,</pre></td>
</tr><tr id="L4868498985">
<td class="ln"><a href="#L4868498985">362</a></td>
<td class="loc"><pre>    &quot;try:\n&quot;,</pre></td>
</tr><tr id="L6327670451">
<td class="ln"><a href="#L6327670451">363</a></td>
<td class="loc"><pre>    &quot;    z = x/y\n&quot;,</pre></td>
</tr><tr id="L4216130326">
<td class="ln"><a href="#L4216130326">364</a></td>
<td class="loc"><pre>    &quot;    result = str(z)\n&quot;,</pre></td>
</tr><tr id="L2420898696">
<td class="ln"><a href="#L2420898696">365</a></td>
<td class="loc"><pre>    &quot;except Exception as e:\n&quot;,</pre></td>
</tr><tr id="L4988250674">
<td class="ln"><a href="#L4988250674">366</a></td>
<td class="loc"><pre>    &quot;    print (\&quot;Something went wrong!\&quot;, e)\n&quot;,</pre></td>
</tr><tr id="L6213196444">
<td class="ln"><a href="#L6213196444">367</a></td>
<td class="loc"><pre>    &quot;    result = \&quot;unknown\&quot;\n&quot;,</pre></td>
</tr><tr id="L4328181547">
<td class="ln"><a href="#L4328181547">368</a></td>
<td class="loc"><pre>    &quot;finally:\n&quot;,</pre></td>
</tr><tr id="L2566766497">
<td class="ln"><a href="#L2566766497">369</a></td>
<td class="loc"><pre>    &quot;    print (\&quot;The result is: \&quot;, result)&quot;</pre></td>
</tr><tr id="L4181341758">
<td class="ln"><a href="#L4181341758">370</a></td>
<td class="loc"><pre>   ]</pre></td>
</tr><tr id="L2721924816">
<td class="ln"><a href="#L2721924816">371</a></td>
<td class="loc"><pre>  },</pre></td>
</tr><tr id="L4484011882">
<td class="ln"><a href="#L4484011882">372</a></td>
<td class="loc"><pre>  {</pre></td>
</tr><tr id="L6446868468">
<td class="ln"><a href="#L6446868468">373</a></td>
<td class="loc"><pre>   &quot;cell_type&quot;: &quot;markdown&quot;,</pre></td>
</tr><tr id="L4066900565">
<td class="ln"><a href="#L4066900565">374</a></td>
<td class="loc"><pre>   &quot;metadata&quot;: {},</pre></td>
</tr><tr id="L2841709255">
<td class="ln"><a href="#L2841709255">375</a></td>
<td class="loc"><pre>   &quot;source&quot;: [</pre></td>
</tr><tr id="L4569291633">
<td class="ln"><a href="#L4569291633">376</a></td>
<td class="loc"><pre>    &quot;### Exercise: can you rewrite one of the examples from earlier that accesses a database or web service, and use Exceptions to handle cases where the database or service can&#39;t be reached? &quot;</pre></td>
</tr><tr id="L6364769243">
<td class="ln"><a href="#L6364769243">377</a></td>
<td class="loc"><pre>   ]</pre></td>
</tr><tr id="L3941711468">
<td class="ln"><a href="#L3941711468">378</a></td>
<td class="loc"><pre>  },</pre></td>
</tr><tr id="L2683752162">
<td class="ln"><a href="#L2683752162">379</a></td>
<td class="loc"><pre>  {</pre></td>
</tr><tr id="L6202471047">
<td class="ln"><a href="#L6202471047">380</a></td>
<td class="loc"><pre>   &quot;cell_type&quot;: &quot;code&quot;,</pre></td>
</tr><tr id="L4977943061">
<td class="ln"><a href="#L4977943061">381</a></td>
<td class="loc"><pre>   &quot;execution_count&quot;: null,</pre></td>
</tr><tr id="L2410451867">
<td class="ln"><a href="#L2410451867">382</a></td>
<td class="loc"><pre>   &quot;metadata&quot;: {</pre></td>
</tr><tr id="L4205544241">
<td class="ln"><a href="#L4205544241">383</a></td>
<td class="loc"><pre>    &quot;collapsed&quot;: true</pre></td>
</tr><tr id="L6321860240">
<td class="ln"><a href="#L6321860240">384</a></td>
<td class="loc"><pre>   },</pre></td>
</tr><tr id="L4861795838">
<td class="ln"><a href="#L4861795838">385</a></td>
<td class="loc"><pre>   &quot;outputs&quot;: [],</pre></td>
</tr><tr id="L2329006004">
<td class="ln"><a href="#L2329006004">386</a></td>
<td class="loc"><pre>   &quot;source&quot;: []</pre></td>
</tr><tr id="L4292263722">
<td class="ln"><a href="#L4292263722">387</a></td>
<td class="loc"><pre>  }</pre></td>
</tr><tr id="L6181989049">
<td class="ln"><a href="#L6181989049">388</a></td>
<td class="loc"><pre> ],</pre></td>
</tr><tr id="L4756265507">
<td class="ln"><a href="#L4756265507">389</a></td>
<td class="loc"><pre> &quot;metadata&quot;: {</pre></td>
</tr><tr id="L6353937352">
<td class="ln"><a href="#L6353937352">390</a></td>
<td class="loc"><pre>  &quot;anaconda-cloud&quot;: {},</pre></td>
</tr><tr id="L4559090518">
<td class="ln"><a href="#L4559090518">391</a></td>
<td class="loc"><pre>  &quot;kernelspec&quot;: {</pre></td>
</tr><tr id="L2831647452">
<td class="ln"><a href="#L2831647452">392</a></td>
<td class="loc"><pre>   &quot;display_name&quot;: &quot;Python [default]&quot;,</pre></td>
</tr><tr id="L4055929458">
<td class="ln"><a href="#L4055929458">393</a></td>
<td class="loc"><pre>   &quot;language&quot;: &quot;python&quot;,</pre></td>
</tr><tr id="L6440689615">
<td class="ln"><a href="#L6440689615">394</a></td>
<td class="loc"><pre>   &quot;name&quot;: &quot;python3&quot;</pre></td>
</tr><tr id="L4477677373">
<td class="ln"><a href="#L4477677373">395</a></td>
<td class="loc"><pre>  },</pre></td>
</tr><tr id="L2715467507">
<td class="ln"><a href="#L2715467507">396</a></td>
<td class="loc"><pre>  &quot;language_info&quot;: {</pre></td>
</tr><tr id="L4175285865">
<td class="ln"><a href="#L4175285865">397</a></td>
<td class="loc"><pre>   &quot;codemirror_mode&quot;: {</pre></td>
</tr><tr id="L6600973306">
<td class="ln"><a href="#L6600973306">398</a></td>
<td class="loc"><pre>    &quot;name&quot;: &quot;ipython&quot;,</pre></td>
</tr><tr id="L4604668772">
<td class="ln"><a href="#L4604668772">399</a></td>
<td class="loc"><pre>    &quot;version&quot;: 3</pre></td>
</tr><tr id="L2940515836">
<td class="ln"><a href="#L2940515836">400</a></td>
<td class="loc"><pre>   },</pre></td>
</tr><tr id="L3695429266">
<td class="ln"><a href="#L3695429266">401</a></td>
<td class="loc"><pre>   &quot;file_extension&quot;: &quot;.py&quot;,</pre></td>
</tr><tr id="L5724903208">
<td class="ln"><a href="#L5724903208">402</a></td>
<td class="loc"><pre>   &quot;mimetype&quot;: &quot;text/x-python&quot;,</pre></td>
</tr><tr id="L5473429430">
<td class="ln"><a href="#L5473429430">403</a></td>
<td class="loc"><pre>   &quot;name&quot;: &quot;python&quot;,</pre></td>
</tr><tr id="L2891545107">
<td class="ln"><a href="#L2891545107">404</a></td>
<td class="loc"><pre>   &quot;nbconvert_exporter&quot;: &quot;python&quot;,</pre></td>
</tr><tr id="L3747515017">
<td class="ln"><a href="#L3747515017">405</a></td>
<td class="loc"><pre>   &quot;pygments_lexer&quot;: &quot;ipython3&quot;,</pre></td>
</tr><tr id="L5744581423">
<td class="ln"><a href="#L5744581423">406</a></td>
<td class="loc"><pre>   &quot;version&quot;: &quot;3.5.2&quot;</pre></td>
</tr><tr id="L5458897821">
<td class="ln"><a href="#L5458897821">407</a></td>
<td class="loc"><pre>  }</pre></td>
</tr><tr id="L3035577902">
<td class="ln"><a href="#L3035577902">408</a></td>
<td class="loc"><pre> },</pre></td>
</tr><tr id="L3857206944">
<td class="ln"><a href="#L3857206944">409</a></td>
<td class="loc"><pre> &quot;nbformat&quot;: 4,</pre></td>
</tr><tr id="L3325019963">
<td class="ln"><a href="#L3325019963">410</a></td>
<td class="loc"><pre> &quot;nbformat_minor&quot;: 1</pre></td>
</tr><tr id="L3576215505">
<td class="ln"><a href="#L3576215505">411</a></td>
<td class="loc"><pre>}</pre></td>
</tr>
</tbody>
</table>

    </div>
  </div>

  
<form id="tpl-comment-form" class="loc_comment_form hide" data-show-blame="true" action="/fc_training/comments?origin=file" accept-charset="UTF-8" method="post"><input name="utf8" type="hidden" value="&#x2713;" /><input type="hidden" name="authenticity_token" value="prPCWv4x7NNirZzd0ILPxsKteYiT7ZSJyyKg56VuNTiOpN+ms0jirE8MiIYuC1+m4glZWZ3JwP3fnj6/lML4cA==" />
  <input type="hidden" name="comment[file_path]" class="js-comment-filepath">
  <input type="hidden" name="comment[line_numbers]" class="js-comment-loc">
  <input type="hidden" name="comment[context_base64]" class="js-comment-context">
  <input type="hidden" name="comment[revision]" class="js-comment-revision">
  <input type="hidden" name="comment[code_review_id]" value="">

  <fieldset>
    <textarea name="comment[body]" cols="80" rows="5" class="loc_comment_textarea" placeholder="Leave a comment. Use @username and @team to notify users and teams." data-users="/fc_training/comments/notifies.json"></textarea>

    <div class="loc_comment_error hide">
      <p class="icon-warning icon-warning--red"></p>
    </div>

    <div class="loc_comment_actions loc_comment_actions--publish">
      <input type="submit" value="Comment on this line" data-comment-value="Comment on this line" data-editing-value="Save changes" class="button">
      <span class="sep">or</span>
      <a href="/fc_training/comments?origin=file&amp;preview=true" class="link-action js-preview-comment">Preview</a>
      <a href="/help/markdown.html" rel="help" class="link-syntax link-action">Markdown syntax</a>
      <button class="loc_comment_close js-close-ic-form">&times;</button>
    </div>

    <div class="loc_comment_actions loc_comment_actions--preview hide">
      <input type="submit" value="Comment on this line" data-comment-value="Comment on this line" data-editing-value="Save changes" class="button">
      <span class="sep">or</span>
      <a href="#" class="link-action js-cancel-preview">Keep editing</a>
    </div>
  </fieldset>
</form>
  <!-- Blame -->
  <div id="tpl-comment-blame" class="loc_comment_blame is-loading hide"></div>

<!-- Comment -->
<div id="tpl-comment" class="loc_comment hide">
  <div class="loc_comment_wrap text-markdown">
    <p>
      <span class="loc_comment_author"><span class="userpic size-small"><img src="" alt="" /><b></b></span> <strong></strong>:</span>
      <span class="loc_comment_footer">
  			<span class="loc_comment_edit hide">
          <a href="/fc_training/comments/-id-" class="js-comment-edit">Edit</a>
          or <a href="/fc_training/comments/-id-" class="js-comment-delete">delete</a>
          within the next <a href="#" class="loc_comment_anchor time-remaining">15 min</a>
        </span>

        <span class="loc_comment_meta">
          <a href="#" class="loc_comment_anchor"><time class="loc_comment_time" datetime=""></time></a>
            <span class="loc_comment_rev" data-ref-name="revision" data-current-ref="4"></span>
        </span>
      </span>
    </p>
  </div>
</div>

<!-- Comment Indicator -->
<div id="tpl-comment-indicator" class="hide">
  <div class="loc_comment_indicator js-show-comment">
    <span class="userpic size-small"><img src="" alt="" /><b></b></span>
  </div>
  <button class="loc_comment_collapse js-hide-comment hide">Hide</button>
</div>
</div>

        </div>
      </div>

      <div id="footer">
        <div class="wildbit">
  <a class="beanstalk-logo" href="http://beanstalkapp.com" title="Beanstalk &nbsp; version control for team leads">&nbsp;</a>
  <p class="vcard">&copy; 2007-2017, <a href="http://www.wildbit.com/" class="fn org url">Wildbit LLC</a>. All rights reserved.</p>
  <p>
    <a href="http://blog.beanstalkapp.com/">Blog</a> <span class="sep">&bull;</span> 
    <a href="http://twitter.com/beanstalkapp">Twitter</a> <span class="sep">&bull;</span>
    <a href="http://shop.wildbit.com">Shop</a> <span class="sep">&bull;</span>
    <a href="http://status.beanstalkapp.com/">System Status</a> <span class="sep">&bull;</span>
    <a href="http://wildbit.com/privacy-policy">Privacy Policy</a> <span class="sep">&bull;</span> 
    <a href="http://beanstalkapp.com/terms-of-service">Terms of Use</a>
  </p>
</div>

      </div>
    </div>
    
      <script>
  var _prum = [['id', '52094e69abe53d7851000000'],
    ['mark', 'firstbyte', (new Date()).getTime()]];
  (function() {
    var s = document.getElementsByTagName('script')[0]
        , p = document.createElement('script');
    p.async = 'async';
    p.src = '//rum-static.pingdom.net/prum.min.js';
    s.parentNode.insertBefore(p, s);
  })();
</script>

    <script type="text/javascript">
    var _cio = _cio || [];

    (function() {
      var a,b,c;a=function(f){return function(){_cio.push([f].
          concat(Array.prototype.slice.call(arguments,0)))}};b=["identify",
        "track"];for(c=0;c<b.length;c++){_cio[b[c]]=a(b[c])};
      var t = document.createElement('script'),
          s = document.getElementsByTagName('script')[0];
      t.async = true;
      t.id    = 'cio-tracker';
      t.setAttribute('data-site-id', 'b3f3284b0ecafe7a962e');
      t.src = 'https://assets.customer.io/assets/track.js';
      s.parentNode.insertBefore(t, s);
    })();

    _cio.identify({id: '79028'});
  </script>


    <script type="text/javascript">
  $(function(){
    Revisions.init({
      url: ':href',
      disabled: {
        revisions: [4]
      }
    });
  });
</script>
<div id="commits-container" class="hide">
  <div class="ref-wrap">
    <div class="ref-container ref-revisions hide" data-scope="revisions">
      <form action="#" action="get" class="ref-search">
        <fieldset class="ref-search-wrap">
          <input type="text" class="ref-search-field" placeholder="Search revisions" />
          <input type="submit" value="Search" class="action-search">
          <b class="action-clear hide">Reset</b>
        </fieldset>

        <fieldset class="ref-search-filter ref-search-filter--with-mode">

          <label class="select-cover fullwidth">
            <span class="select-cover_label i-user">All users</span>
            <select class="ref-filter-user" data-uri="/search/users.json?r=fc_training">
              <option value="">All users</option>
            </select>
          </label>

            <div class="ref-filter-mode">
              <a href="#" class="ref-mode_toggle i-repository" data-mode="repo" title="Show all commits and branches">Repository</a>
                <a href="#" class="ref-mode_toggle i-file disabled" data-mode="path" title="Only show commits and branches that changed this file">File</a>
            </div>
        </fieldset>
      </form>

      <ul class="ref-list"></ul>
    </div>
  </div>
</div>
  </body>
</html>
