<!DOCTYPE html>

<html lang="en" class="no-js">
  <head>
    <meta charset="utf-8">
<script type="text/javascript">window.NREUM||(NREUM={});NREUM.info={"beacon":"bam.nr-data.net","errorBeacon":"bam.nr-data.net","licenseKey":"57d55ed8a3","applicationID":"10682","transactionName":"cgpcFRZbVV5cQEpTEV4SQQQWG1BcXVcd","queueTime":0,"applicationTime":152,"agent":""}</script>
<script type="text/javascript">window.NREUM||(NREUM={}),__nr_require=function(e,t,n){function r(n){if(!t[n]){var o=t[n]={exports:{}};e[n][0].call(o.exports,function(t){var o=e[n][1][t];return r(o||t)},o,o.exports)}return t[n].exports}if("function"==typeof __nr_require)return __nr_require;for(var o=0;o<n.length;o++)r(n[o]);return r}({1:[function(e,t,n){function r(){}function o(e,t,n){return function(){return i(e,[(new Date).getTime()].concat(u(arguments)),t?null:this,n),t?void 0:this}}var i=e("handle"),a=e(2),u=e(3),c=e("ee").get("tracer"),f=NREUM;"undefined"==typeof window.newrelic&&(newrelic=f);var s=["setPageViewName","setCustomAttribute","setErrorHandler","finished","addToTrace","inlineHit","addRelease"],l="api-",p=l+"ixn-";a(s,function(e,t){f[t]=o(l+t,!0,"api")}),f.addPageAction=o(l+"addPageAction",!0),f.setCurrentRouteName=o(l+"routeName",!0),t.exports=newrelic,f.interaction=function(){return(new r).get()};var d=r.prototype={createTracer:function(e,t){var n={},r=this,o="function"==typeof t;return i(p+"tracer",[Date.now(),e,n],r),function(){if(c.emit((o?"":"no-")+"fn-start",[Date.now(),r,o],n),o)try{return t.apply(this,arguments)}finally{c.emit("fn-end",[Date.now()],n)}}}};a("setName,setAttribute,save,ignore,onEnd,getContext,end,get".split(","),function(e,t){d[t]=o(p+t)}),newrelic.noticeError=function(e){"string"==typeof e&&(e=new Error(e)),i("err",[e,(new Date).getTime()])}},{}],2:[function(e,t,n){function r(e,t){var n=[],r="",i=0;for(r in e)o.call(e,r)&&(n[i]=t(r,e[r]),i+=1);return n}var o=Object.prototype.hasOwnProperty;t.exports=r},{}],3:[function(e,t,n){function r(e,t,n){t||(t=0),"undefined"==typeof n&&(n=e?e.length:0);for(var r=-1,o=n-t||0,i=Array(o<0?0:o);++r<o;)i[r]=e[t+r];return i}t.exports=r},{}],ee:[function(e,t,n){function r(){}function o(e){function t(e){return e&&e instanceof r?e:e?c(e,u,i):i()}function n(n,r,o){if(!p.aborted){e&&e(n,r,o);for(var i=t(o),a=v(n),u=a.length,c=0;c<u;c++)a[c].apply(i,r);var f=s[w[n]];return f&&f.push([y,n,r,i]),i}}function d(e,t){b[e]=v(e).concat(t)}function v(e){return b[e]||[]}function g(e){return l[e]=l[e]||o(n)}function m(e,t){f(e,function(e,n){t=t||"feature",w[n]=t,t in s||(s[t]=[])})}var b={},w={},y={on:d,emit:n,get:g,listeners:v,context:t,buffer:m,abort:a,aborted:!1};return y}function i(){return new r}function a(){(s.api||s.feature)&&(p.aborted=!0,s=p.backlog={})}var u="nr@context",c=e("gos"),f=e(2),s={},l={},p=t.exports=o();p.backlog=s},{}],gos:[function(e,t,n){function r(e,t,n){if(o.call(e,t))return e[t];var r=n();if(Object.defineProperty&&Object.keys)try{return Object.defineProperty(e,t,{value:r,writable:!0,enumerable:!1}),r}catch(i){}return e[t]=r,r}var o=Object.prototype.hasOwnProperty;t.exports=r},{}],handle:[function(e,t,n){function r(e,t,n,r){o.buffer([e],r),o.emit(e,t,n)}var o=e("ee").get("handle");t.exports=r,r.ee=o},{}],id:[function(e,t,n){function r(e){var t=typeof e;return!e||"object"!==t&&"function"!==t?-1:e===window?0:a(e,i,function(){return o++})}var o=1,i="nr@id",a=e("gos");t.exports=r},{}],loader:[function(e,t,n){function r(){if(!h++){var e=y.info=NREUM.info,t=l.getElementsByTagName("script")[0];if(setTimeout(f.abort,3e4),!(e&&e.licenseKey&&e.applicationID&&t))return f.abort();c(b,function(t,n){e[t]||(e[t]=n)}),u("mark",["onload",a()],null,"api");var n=l.createElement("script");n.src="https://"+e.agent,t.parentNode.insertBefore(n,t)}}function o(){"complete"===l.readyState&&i()}function i(){u("mark",["domContent",a()],null,"api")}function a(){return(new Date).getTime()}var u=e("handle"),c=e(2),f=e("ee"),s=window,l=s.document,p="addEventListener",d="attachEvent",v=s.XMLHttpRequest,g=v&&v.prototype;NREUM.o={ST:setTimeout,CT:clearTimeout,XHR:v,REQ:s.Request,EV:s.Event,PR:s.Promise,MO:s.MutationObserver},e(1);var m=""+location,b={beacon:"bam.nr-data.net",errorBeacon:"bam.nr-data.net",agent:"js-agent.newrelic.com/nr-1016.min.js"},w=v&&g&&g[p]&&!/CriOS/.test(navigator.userAgent),y=t.exports={offset:a(),origin:m,features:{},xhrWrappable:w};l[p]?(l[p]("DOMContentLoaded",i,!1),s[p]("load",r,!1)):(l[d]("onreadystatechange",o),s[d]("onload",r)),u("mark",["firstbyte",a()],null,"api");var h=0},{}]},{},["loader"]);</script>
    <meta name="robots" content="noindex, nofollow">
    <meta name="viewport" content="width=1080">
    <meta name="globalsign-domain-verification" content="KpMEC6CPrdUBWUjMhQ81DWBefsL1xNbdHh1QkJt6yt" />
    
    <title>fc_training: Browser</title>

    <link rel="shortcut icon" href="https://assets.beanstalkapp.com/images/favicon.ico" type="image/x-icon">
<link rel="mask-icon" href="https://assets.beanstalkapp.com/images/icon-pinned-tab.svg" color="#5FAC6C">
<link rel="apple-touch-icon-precomposed" href="https://assets.beanstalkapp.com/images/apple-touch-icon-144x144-precomposed.png" sizes="144x144"> 
<link rel="apple-touch-icon-precomposed" href="https://assets.beanstalkapp.com/images/apple-touch-icon-114x114-precomposed.png" sizes="114x114"> 
<link rel="apple-touch-icon-precomposed" href="https://assets.beanstalkapp.com/images/apple-touch-icon-72x72-precomposed.png" sizes="72x72"> 
<link rel="apple-touch-icon-precomposed" href="https://assets.beanstalkapp.com/images/apple-touch-icon-precomposed.png">
<meta property="og:image" content="https://assets.beanstalkapp.com/images/apple-touch-icon-144x144-precomposed.png">

    <link rel="stylesheet" media="all" href="https://assets.beanstalkapp.com/stylesheets/global.css?1ac3c16d07f23ac188d327d52bb144f1" />
    <script src="//ajax.googleapis.com/ajax/libs/jquery/1.10.1/jquery.min.js"></script>
    <script src="https://d3dy5gmtp8yhk7.cloudfront.net/2.1/pusher.min.js"></script>
    <script src="https://assets.beanstalkapp.com/javascripts/bundle.application.min.js?15c393e61de67d4c02f0f9d0bfe59811"></script>


    <meta name="csrf-param" content="authenticity_token" />
<meta name="csrf-token" content="eS+iO5Lfav4oe45YXIbTCrvd3wkrbDHarTCPSFTeGCxROL/H36ZkgQXamgOiD0Nqm3n/2CVIZa65jBEQZXLVZA==" />
    <link title="FoundationCenter&#39;s Beanstalk" type="application/opensearchdescription+xml" rel="search" href="https://foundationcenter.beanstalkapp.com/opensearch.xml" />
    <meta name="current-user" content="350219" /><meta name="current-user-tzoffset" content="-18000" />

    
  </head>

  <body id="">
    
  <script>
    dataLayer = [{
      'siteType': 'application'
    }];
  </script>

  <!-- Google Tag Manager -->
  <noscript><iframe src="//www.googletagmanager.com/ns.html?id=GTM-PXZVN2"
                    height="0" width="0" style="display:none;visibility:hidden"></iframe></noscript>
  <script>(function(w,d,s,l,i){w[l]=w[l]||[];w[l].push({'gtm.start':
      new Date().getTime(),event:'gtm.js'});var f=d.getElementsByTagName(s)[0],
      j=d.createElement(s),dl=l!='dataLayer'?'&l='+l:'';j.async=true;j.src=
      '//www.googletagmanager.com/gtm.js?id='+i+dl;f.parentNode.insertBefore(j,f);
  })(window,document,'script','dataLayer','GTM-PXZVN2');</script>
  <!-- End Google Tag Manager -->

       <div id="viewer-settings" class="hide">
  <fieldset class="viewer-settings">

    <div class="form-row l-vertical setting-lang">
      <div class="form-label">
        <label for="viewer-settings-type">File Language:</label>
      </div>
      <div class="form-field">
        <select name="viewer-settings-type" id="settings-mode"><option value="">Automatic</option>
<option value="apache">Apache</option>
<option value="applescript">AppleScript</option>
<option value="actionscript">ActionScript</option>
<option value="bash">Bash</option>
<option value="bat">Batch</option>
<option value="befunge">Befunge</option>
<option value="boo">BOO</option>
<option value="brainfuck">Brainfuck</option>
<option value="c-objdump">C objdump</option>
<option value="c">C</option>
<option value="cheetah">Cheetah</option>
<option value="clojure">Clojure</option>
<option value="common-lisp">Common Lisp</option>
<option value="control">Control</option>
<option value="coffeescript">CoffeeScript</option>
<option value="cpp">C++</option>
<option value="cpp-objdump">C++ objdump</option>
<option value="csharp">C#</option>
<option value="css">CSS</option>
<option value="d-objdump">D objdump</option>
<option value="d">D</option>
<option value="pascal">Pascal</option>
<option value="diff">Diff</option>
<option value="dpatch">Darcs Patch</option>
<option value="dylan">Dylan</option>
<option value="rhtml">ERB HTML</option>
<option value="erb">ERB</option>
<option value="erlang">Erlang</option>
<option value="fortran">Fortran</option>
<option value="genshi">Genshi</option>
<option value="gnuplot">Gnuplot</option>
<option value="groff">Groff</option>
<option value="groovy">Groovy</option>
<option value="go">Google Go</option>
<option value="haskell">Haskell</option>
<option value="powershell">PowerShell</option>
<option value="html+php">PHP HTML</option>
<option value="haml">HAML</option>
<option value="html">(X)HTML</option>
<option value="io">Io</option>
<option value="java">Java</option>
<option value="javascript">JavaScript</option>
<option value="jsp">JSP</option>
<option value="json">JSON</option>
<option value="literate-haskell">Literate Haskell</option>
<option value="llvm">LLVM</option>
<option value="logtalk">Logtalk</option>
<option value="lua">Lua</option>
<option value="make">Makefile</option>
<option value="mako">Mako</option>
<option value="markdown">Markdown</option>
<option value="moocode">Moocode</option>
<option value="mupad">MuPAD</option>
<option value="myghty">Myghty</option>
<option value="nasm">NASM</option>
<option value="objective-c">Objective C</option>
<option value="matlab">MatLab</option>
<option value="ocaml">OCaml</option>
<option value="perl">Perl</option>
<option value="php">PHP</option>
<option value="python">Python</option>
<option value="ruby">Ruby</option>
<option value="redcode">Redcode</option>
<option value="sass">Sass</option>
<option value="scss">SCSS</option>
<option value="scala">Scala</option>
<option value="scheme">Scheme</option>
<option value="smalltalk">Smalltalk</option>
<option value="smarty">Smarty</option>
<option value="sql">SQL</option>
<option value="sqlite3">SQLite 3</option>
<option value="swift">Swift</option>
<option value="tcl">Tcl</option>
<option value="tcsh">tcsh</option>
<option value="latex">LaTeX</option>
<option value="text">Plain Text</option>
<option value="vb.net">Visual Basic .NET</option>
<option value="vim">Vim</option>
<option value="xml">XML</option>
<option value="xslt">XSLT</option>
<option value="yaml">YAML</option></select>
      </div>
    </div>

    <div class="form-row l-vertical">
      <div class="form-label">
        <label for="viewer-settings-type">Notifications:</label>
      </div>
      <div class="form-field">
        <form class="js-comments-subscribe" action="/fc_training/file_subscription?repo_path=trunk%2Fpython_01%2F_notebooks%2F01_PythonIntroduction.ipynb" accept-charset="UTF-8" method="post"><input name="utf8" type="hidden" value="&#x2713;" /><input type="hidden" name="authenticity_token" value="h1BZ+E5h5anIZNQ/vidj/y0Sy6lXAsS3/Wi+31+XHOmvR0QEAxjr1uXFwGRArvOfDbbreFkmkMPp1CCHbjvRoQ==" />
          <fieldset>
            <button type="submit" name="subscribe" value="POST" class="link-subscribe"><u>Subscribe to comments</u></button>
            <button type="submit" name="unsubscribe" value="DELETE" class="link-unsubscribe hide"><u>Unsubscribe from comments</u></button>
          </fieldset>
</form>      </div>
    </div>

  </fieldset>
</div>


    
    
    <div id="container">
      <div id="top_announce_container"></div>
      
      <div class="header">
        <div class="metanav clearfix">
  <ul class="meta-global">
    <li class="nav-item">
      <a class="metanav-item" href="/"><u>Dashboard</u></a>
    </li>

    <li class="nav-item">
        <a class="metanav-item" href="/repositories"><u>Repositories</u> <span class="count">133</span></a> <a class="dd-arrow dd-arrow--metanav js-open-dropdown" data-dropdown="recent-repositories" title="Repositories" href="/navigation/repositories"></a>
        <div class="dropdown dropdown--metanav hide" id="recent-repositories"></div>
    </li>

      <li class="nav-item">
        <a class="metanav-item" href="/users"><u>Users</u> <span class="count">64</span></a>
      </li>
  </ul>

  <ul class="meta-personal">
    <li class="nav-item">
      <a class="metanav-item" href="/profile/edit"><span class="userpic size-small " title="Gordon Green"><img alt="Gordon Green" class="photo" src="https://secure.gravatar.com/avatar/7cb106702befb9ca1530d2456f593379?s=48&d=https://assets.beanstalkapp.com/images/users/default.gif" width="24" height="24" /><b></b></span> <u>Gordon Green</u></a>
    </li>

    
    <li class="nav-item">
      <a class="metanav-item" rel="nofollow" data-method="delete" href="/session"><u>Logout</u></a>
    </li>
    
    <li class="nav-item">
      <a title="Help" class="metanav-item metanav-item--help" rel="help" href="/help">Help</a>
    </li>
  </ul>
</div>

        <div class="header-bar clearfix">
  <h1 class="header-title">
    <span class="color-badge color-badge--repo color-badge--white "></span> <strong>fc_training</strong>
  </h1>

  <ul class="mainnav">
    <li class="nav-item">
      <a class="mainnav-item" href="/fc_training"><u>Activity</u></a>
    </li>

    <li class="nav-item">
      <a class="mainnav-item mainnav-item--current" href="/fc_training/browse"><u>Browse</u></a>
    </li>

    <li class="nav-item">
      <a class="mainnav-item" href="/fc_training/branches"><u>Branches</u></a>
    </li>

    <li class="nav-item" id="tour-reviews">
          <a class="mainnav-item" href="/fc_training/code_reviews"><u>Reviews</u></a>
    </li>

        <li class="nav-item">
              <a class="mainnav-item" href="/fc_training/environments"><u>Deployments</u></a>
        </li>

        <li class="nav-item">
          <a class="mainnav-item" href="/repositories/fc_training/edit"><u>Settings</u></a>
        </li>
  </ul>

  <div class="search">
  <form action="/search" accept-charset="UTF-8" method="get"><input name="utf8" type="hidden" value="&#x2713;" />
    <fieldset class="search-main">
      <a href="/search/users.json?r=fc_training" class="a-advanced-search js-open-dropdown" data-dropdown="advanced-search" title="Advanced search">Advanced search</a>
      <a href="/search/users.json?r=fc_training" class="userpic size-medium a-advanced-filter js-open-dropdown hide" data-dropdown="advanced-search"><b></b></a>

      <input type="hidden" name="u" id="search-by-user">

      <div class="search-field-wrap">
          <input type="hidden" name="r" id="r" value="fc_training" />
          <input type="search" name="q" id="q" class="search-field" placeholder="Search fc_training repository" />
        <a href="#" class="search-reset hide">Reset</a>
      </div>

      <input type="submit" class="search-submit">
    </fieldset>
</form>
  <div class="dropdown dropdown--search hide" id="advanced-search"></div>
</div>

</div>

      </div>
  
      <div id="page">
        <div class="content " id="">
          <div class="toolbar">
    <h2 class="toolbar-title icon-file">

        <span class="editable-name">01_PythonIntroduction.ipynb</span>
        <form class="editable-name_form hide" action="/fc_training/rename" accept-charset="UTF-8" method="post"><input name="utf8" type="hidden" value="&#x2713;" /><input type="hidden" name="authenticity_token" value="PuvojQ0ZmqRCv87UO7ywLr/ThTT8IM1OoA/H1Pkw+c8W/PVxQGCU228e2o/FNSBOn3el5fIEmTq0s1mMyJw0hw==" />
  <fieldset>
    <input type="text" name="new_filename" size="30" maxlength="255" placeholder="untitled" class="editable-name_input js-filename-input" value="01_PythonIntroduction.ipynb" data-allow-moving="false">
    <input type="hidden" name="repo_path" id="repo_path" value="trunk/python_01/_notebooks/01_PythonIntroduction.ipynb" />
    <input type="hidden" name="ref" id="ref" />
    <span class="editable-name_submit">
      <input type="submit" disabled value="Rename">
      <span class="sep">or</span>
      <a href="#" class="link-action">Cancel</a>
    </span>
  </fieldset>
</form>
    </h2>
  
  <span class="toolbar-sep"></span>

  <a class="button js-change-refs" rel="commits-container" data-ref-pattern="?ref=--scope-----ref--" data-repo-path="trunk/python_01/_notebooks/01_PythonIntroduction.ipynb" href="/fc_training/navigation/hud_data.json?repo_path=trunk%2Fpython_01%2F_notebooks%2F01_PythonIntroduction.ipynb&amp;scope=commits"><span class="icon-arrow-ab">Revision: 4</span></a>
  <a class="button js-change-refs" rel="commits-container" data-ref-pattern="/fc_training/diff/trunk/python_01/_notebooks/01_PythonIntroduction.ipynb?target=--scope-----ref--" data-repo-path="trunk/python_01/_notebooks/01_PythonIntroduction.ipynb" href="/fc_training/navigation/hud_data.json?repo_path=trunk%2Fpython_01%2F_notebooks%2F01_PythonIntroduction.ipynb&amp;scope=commits"><span class="icon-arrow-ab">Diff 4 to&hellip;</span></a>

  <ul class="tabs">
    <li class="tab--history"><a class="tab" href="/fc_training/history/trunk/python_01/_notebooks/01_PythonIntroduction.ipynb"><u>File history</u></a></li>
  </ul>
</div>


            
    <div class="js-code-comments" data-comments-uri="/fc_training/comments.json?repo_path=trunk%2Fpython_01%2F_notebooks%2F01_PythonIntroduction.ipynb&amp;revision=4">
  <div class="cv-container" data-file-revision="4">
    <div class="ct">
  <ul class="ct_actions">
      <li class="ct_actions_item">
    <a href="#" onclick="return false;" rel="tooltip" class="ct_button ct_button--preview disabled" title="Preview is not available for this file">
      <span class="ct_button_icon"></span> Preview
    </a>
  </li>

        <li class="ct_actions_item">
      <a href="/fc_training/edit//trunk/python_01/_notebooks/01_PythonIntroduction.ipynb" class="ct_button ct_button--edit">
        <span class="ct_button_icon"></span> Edit
      </a>
    </li>

      <li class="ct_actions_item">
    <a href="/fc_training/blame/trunk/python_01/_notebooks/01_PythonIntroduction.ipynb" class="ct_button ct_button--blame">
      <span class="ct_button_icon"></span> Blame
    </a>
  </li>

    <li class="ct_actions_item">
      <a href="/fc_training/download//trunk/python_01/_notebooks/01_PythonIntroduction.ipynb" class="ct_button ct_button--download">
        <span class="ct_button_icon"></span> Download
      </a>
    </li>
      <li class="ct_actions_item">
    <a href="#" class="ct_button ct_button--settings" rel="viewer-settings">
      <span class="ct_button_icon"></span> Settings
    </a>
  </li>

  </ul>

    <a href="#" class="ct_comments-toggle is-loading" title="Show inline comments"></a>

  <div class="ct_path">
      <a class="ct_path_rev" href="/fc_training/changesets/3">3</a>
    <a class="path_item" href="/fc_training/browse/trunk">trunk</a><span class="path_sep">/</span><a class="path_item" href="/fc_training/browse/trunk/python_01">python_01</a><span class="path_sep">/</span><a class="path_item" href="/fc_training/browse/trunk/python_01/_notebooks">_notebooks</a><span class="path_sep">/</span><a class="path_item path_item--current" href="/fc_training/browse//trunk/python_01/_notebooks/01_PythonIntroduction.ipynb">01_PythonIntroduction.ipynb</a>
  </div>
</div>


    <div class="cv cv--commentable" data-blame-uri="/fc_training/blame_line/trunk/python_01/_notebooks/01_PythonIntroduction.ipynb">
        <table>
<tbody>
<tr id="L5910718820">
<td class="ln"><a href="#L5910718820">1</a></td>
<td class="loc"><pre>{</pre></td>
</tr><tr id="L4148639674">
<td class="ln"><a href="#L4148639674">2</a></td>
<td class="loc"><pre> &quot;cells&quot;: [</pre></td>
</tr><tr id="L5540939848">
<td class="ln"><a href="#L5540939848">3</a></td>
<td class="loc"><pre>  {</pre></td>
</tr><tr id="L7787222245">
<td class="ln"><a href="#L7787222245">4</a></td>
<td class="loc"><pre>   &quot;cell_type&quot;: &quot;markdown&quot;,</pre></td>
</tr><tr id="L5924627803">
<td class="ln"><a href="#L5924627803">5</a></td>
<td class="loc"><pre>   &quot;metadata&quot;: {},</pre></td>
</tr><tr id="L4197053377">
<td class="ln"><a href="#L4197053377">6</a></td>
<td class="loc"><pre>   &quot;source&quot;: [</pre></td>
</tr><tr id="L5489345583">
<td class="ln"><a href="#L5489345583">7</a></td>
<td class="loc"><pre>    &quot;## Welcome to Python!&quot;</pre></td>
</tr><tr id="L7892750528">
<td class="ln"><a href="#L7892750528">8</a></td>
<td class="loc"><pre>   ]</pre></td>
</tr><tr id="L6064496946">
<td class="ln"><a href="#L6064496946">9</a></td>
<td class="loc"><pre>  },</pre></td>
</tr><tr id="L6405660558">
<td class="ln"><a href="#L6405660558">10</a></td>
<td class="loc"><pre>  {</pre></td>
</tr><tr id="L7294652196">
<td class="ln"><a href="#L7294652196">11</a></td>
<td class="loc"><pre>   &quot;cell_type&quot;: &quot;code&quot;,</pre></td>
</tr><tr id="L5029281402">
<td class="ln"><a href="#L5029281402">12</a></td>
<td class="loc"><pre>   &quot;execution_count&quot;: null,</pre></td>
</tr><tr id="L4643483144">
<td class="ln"><a href="#L4643483144">13</a></td>
<td class="loc"><pre>   &quot;metadata&quot;: {</pre></td>
</tr><tr id="L6486645669">
<td class="ln"><a href="#L6486645669">14</a></td>
<td class="loc"><pre>    &quot;collapsed&quot;: true</pre></td>
</tr><tr id="L7208520475">
<td class="ln"><a href="#L7208520475">15</a></td>
<td class="loc"><pre>   },</pre></td>
</tr><tr id="L4910480001">
<td class="ln"><a href="#L4910480001">16</a></td>
<td class="loc"><pre>   &quot;outputs&quot;: [],</pre></td>
</tr><tr id="L4759169519">
<td class="ln"><a href="#L4759169519">17</a></td>
<td class="loc"><pre>   &quot;source&quot;: [</pre></td>
</tr><tr id="L6643263360">
<td class="ln"><a href="#L6643263360">18</a></td>
<td class="loc"><pre>    &quot;%matplotlib inline&quot;</pre></td>
</tr><tr id="L7330797298">
<td class="ln"><a href="#L7330797298">19</a></td>
<td class="loc"><pre>   ]</pre></td>
</tr><tr id="L6021050319">
<td class="ln"><a href="#L6021050319">20</a></td>
<td class="loc"><pre>  },</pre></td>
</tr><tr id="L7950876769">
<td class="ln"><a href="#L7950876769">21</a></td>
<td class="loc"><pre>  {</pre></td>
</tr><tr id="L5384409275">
<td class="ln"><a href="#L5384409275">22</a></td>
<td class="loc"><pre>   &quot;cell_type&quot;: &quot;markdown&quot;,</pre></td>
</tr><tr id="L4025131333">
<td class="ln"><a href="#L4025131333">23</a></td>
<td class="loc"><pre>   &quot;metadata&quot;: {},</pre></td>
</tr><tr id="L6065957864">
<td class="ln"><a href="#L6065957864">24</a></td>
<td class="loc"><pre>   &quot;source&quot;: [</pre></td>
</tr><tr id="L7894465626">
<td class="ln"><a href="#L7894465626">25</a></td>
<td class="loc"><pre>    &quot;This notebook includes a quick overview of the elements of the Python language we will need to get started.   Each editable box contains a chunk of code that will execute when you press **shift + enter**.  Try it here - try it with and without the \&quot;print\&quot;:&quot;</pre></td>
</tr><tr id="L5360667844">
<td class="ln"><a href="#L5360667844">26</a></td>
<td class="loc"><pre>   ]</pre></td>
</tr><tr id="L4035337518">
<td class="ln"><a href="#L4035337518">27</a></td>
<td class="loc"><pre>  },</pre></td>
</tr><tr id="L5924288445">
<td class="ln"><a href="#L5924288445">28</a></td>
<td class="loc"><pre>  {</pre></td>
</tr><tr id="L7786612787">
<td class="ln"><a href="#L7786612787">29</a></td>
<td class="loc"><pre>   &quot;cell_type&quot;: &quot;code&quot;,</pre></td>
</tr><tr id="L6171705616">
<td class="ln"><a href="#L6171705616">30</a></td>
<td class="loc"><pre>   &quot;execution_count&quot;: null,</pre></td>
</tr><tr id="L7530738082">
<td class="ln"><a href="#L7530738082">31</a></td>
<td class="loc"><pre>   &quot;metadata&quot;: {</pre></td>
</tr><tr id="L5802205180">
<td class="ln"><a href="#L5802205180">32</a></td>
<td class="loc"><pre>    &quot;collapsed&quot;: false</pre></td>
</tr><tr id="L3872624774">
<td class="ln"><a href="#L3872624774">33</a></td>
<td class="loc"><pre>   },</pre></td>
</tr><tr id="L6181879079">
<td class="ln"><a href="#L6181879079">34</a></td>
<td class="loc"><pre>   &quot;outputs&quot;: [],</pre></td>
</tr><tr id="L7506963865">
<td class="ln"><a href="#L7506963865">35</a></td>
<td class="loc"><pre>   &quot;source&quot;: [</pre></td>
</tr><tr id="L5745826819">
<td class="ln"><a href="#L5745826819">36</a></td>
<td class="loc"><pre>    &quot;print (\&quot;Hello world!\&quot;)&quot;</pre></td>
</tr><tr id="L3917565037">
<td class="ln"><a href="#L3917565037">37</a></td>
<td class="loc"><pre>   ]</pre></td>
</tr><tr id="L6344034558">
<td class="ln"><a href="#L6344034558">38</a></td>
<td class="loc"><pre>  },</pre></td>
</tr><tr id="L7636351348">
<td class="ln"><a href="#L7636351348">39</a></td>
<td class="loc"><pre>  {</pre></td>
</tr><tr id="L7392217937">
<td class="ln"><a href="#L7392217937">40</a></td>
<td class="loc"><pre>   &quot;cell_type&quot;: &quot;markdown&quot;,</pre></td>
</tr><tr id="L6570334943">
<td class="ln"><a href="#L6570334943">41</a></td>
<td class="loc"><pre>   &quot;metadata&quot;: {},</pre></td>
</tr><tr id="L4539689525">
<td class="ln"><a href="#L4539689525">42</a></td>
<td class="loc"><pre>   &quot;source&quot;: [</pre></td>
</tr><tr id="L4858378699">
<td class="ln"><a href="#L4858378699">43</a></td>
<td class="loc"><pre>    &quot;### Variables\n&quot;,</pre></td>
</tr><tr id="L7377293162">
<td class="ln"><a href="#L7377293162">44</a></td>
<td class="loc"><pre>    &quot;\n&quot;,</pre></td>
</tr><tr id="L6588309208">
<td class="ln"><a href="#L6588309208">45</a></td>
<td class="loc"><pre>    &quot;A variable references a piece of data that you can store in memory for later use.  Variables can have one of several **types**, especially **string** (sequence of characters), **integer** (whole number), or **float** (number with decimals). Variables can have any name we want, without spaces, usually consisting of letters and underscores. \n&quot;,</pre></td>
</tr><tr id="L4592430654">
<td class="ln"><a href="#L4592430654">46</a></td>
<td class="loc"><pre>    &quot;\n&quot;,</pre></td>
</tr><tr id="L4810849716">
<td class="ln"><a href="#L4810849716">47</a></td>
<td class="loc"><pre>    &quot;You can put a value into a variable using the equals sign.  More details are &lt;a href=\&quot;http://www.python-course.eu/variables.php\&quot;&gt;here&lt;/a&gt;.\n&quot;,</pre></td>
</tr><tr id="L7237456707">
<td class="ln"><a href="#L7237456707">48</a></td>
<td class="loc"><pre>    &quot;\n&quot;,</pre></td>
</tr><tr id="L6482813613">
<td class="ln"><a href="#L6482813613">49</a></td>
<td class="loc"><pre>    &quot;Try running these commands to see variables in action:&quot;</pre></td>
</tr><tr id="L7006804626">
<td class="ln"><a href="#L7006804626">50</a></td>
<td class="loc"><pre>   ]</pre></td>
</tr><tr id="L6688360992">
<td class="ln"><a href="#L6688360992">51</a></td>
<td class="loc"><pre>  },</pre></td>
</tr><tr id="L4424006518">
<td class="ln"><a href="#L4424006518">52</a></td>
<td class="loc"><pre>  {</pre></td>
</tr><tr id="L5245643532">
<td class="ln"><a href="#L5245643532">53</a></td>
<td class="loc"><pre>   &quot;cell_type&quot;: &quot;code&quot;,</pre></td>
</tr><tr id="L6959242921">
<td class="ln"><a href="#L6959242921">54</a></td>
<td class="loc"><pre>   &quot;execution_count&quot;: null,</pre></td>
</tr><tr id="L6741069335">
<td class="ln"><a href="#L6741069335">55</a></td>
<td class="loc"><pre>   &quot;metadata&quot;: {</pre></td>
</tr><tr id="L4442013565">
<td class="ln"><a href="#L4442013565">56</a></td>
<td class="loc"><pre>    &quot;collapsed&quot;: false</pre></td>
</tr><tr id="L5230751475">
<td class="ln"><a href="#L5230751475">57</a></td>
<td class="loc"><pre>   },</pre></td>
</tr><tr id="L7119561348">
<td class="ln"><a href="#L7119561348">58</a></td>
<td class="loc"><pre>   &quot;outputs&quot;: [],</pre></td>
</tr><tr id="L6868095470">
<td class="ln"><a href="#L6868095470">59</a></td>
<td class="loc"><pre>   &quot;source&quot;: [</pre></td>
</tr><tr id="L7693282515">
<td class="ln"><a href="#L7693282515">60</a></td>
<td class="loc"><pre>    &quot;s = \&quot;Hello world\&quot;\n&quot;,</pre></td>
</tr><tr id="L6267141469">
<td class="ln"><a href="#L6267141469">61</a></td>
<td class="loc"><pre>    &quot;print (s)\n&quot;,</pre></td>
</tr><tr id="L3699657655">
<td class="ln"><a href="#L3699657655">62</a></td>
<td class="loc"><pre>    &quot;print (type(s))&quot;</pre></td>
</tr><tr id="L5696347209">
<td class="ln"><a href="#L5696347209">63</a></td>
<td class="loc"><pre>   ]</pre></td>
</tr><tr id="L7614951660">
<td class="ln"><a href="#L7614951660">64</a></td>
<td class="loc"><pre>  },</pre></td>
</tr><tr id="L6356975958">
<td class="ln"><a href="#L6356975958">65</a></td>
<td class="loc"><pre>  {</pre></td>
</tr><tr id="L3824193472">
<td class="ln"><a href="#L3824193472">66</a></td>
<td class="loc"><pre>   &quot;cell_type&quot;: &quot;markdown&quot;,</pre></td>
</tr><tr id="L5585346610">
<td class="ln"><a href="#L5585346610">67</a></td>
<td class="loc"><pre>   &quot;metadata&quot;: {},</pre></td>
</tr><tr id="L7469577409">
<td class="ln"><a href="#L7469577409">68</a></td>
<td class="loc"><pre>   &quot;source&quot;: [</pre></td>
</tr><tr id="L6244369711">
<td class="ln"><a href="#L6244369711">69</a></td>
<td class="loc"><pre>    &quot;Note that comments are preceded by the hash sign. &quot;</pre></td>
</tr><tr id="L7842888724">
<td class="ln"><a href="#L7842888724">70</a></td>
<td class="loc"><pre>   ]</pre></td>
</tr><tr id="L5845953694">
<td class="ln"><a href="#L5845953694">71</a></td>
<td class="loc"><pre>  },</pre></td>
</tr><tr id="L4118502648">
<td class="ln"><a href="#L4118502648">72</a></td>
<td class="loc"><pre>  {</pre></td>
</tr><tr id="L5544889738">
<td class="ln"><a href="#L5544889738">73</a></td>
<td class="loc"><pre>   &quot;cell_type&quot;: &quot;code&quot;,</pre></td>
</tr><tr id="L7731920939">
<td class="ln"><a href="#L7731920939">74</a></td>
<td class="loc"><pre>   &quot;execution_count&quot;: null,</pre></td>
</tr><tr id="L5970522261">
<td class="ln"><a href="#L5970522261">75</a></td>
<td class="loc"><pre>   &quot;metadata&quot;: {</pre></td>
</tr><tr id="L4208304383">
<td class="ln"><a href="#L4208304383">76</a></td>
<td class="loc"><pre>    &quot;collapsed&quot;: false</pre></td>
</tr><tr id="L5466526065">
<td class="ln"><a href="#L5466526065">77</a></td>
<td class="loc"><pre>   },</pre></td>
</tr><tr id="L7890371586">
<td class="ln"><a href="#L7890371586">78</a></td>
<td class="loc"><pre>   &quot;outputs&quot;: [],</pre></td>
</tr><tr id="L6095156336">
<td class="ln"><a href="#L6095156336">79</a></td>
<td class="loc"><pre>   &quot;source&quot;: [</pre></td>
</tr><tr id="L5587933269">
<td class="ln"><a href="#L5587933269">80</a></td>
<td class="loc"><pre>    &quot;f = 123.45\n&quot;,</pre></td>
</tr><tr id="L3825870827">
<td class="ln"><a href="#L3825870827">81</a></td>
<td class="loc"><pre>    &quot;print (f)\n&quot;,</pre></td>
</tr><tr id="L6358792497">
<td class="ln"><a href="#L6358792497">82</a></td>
<td class="loc"><pre>    &quot;print (type(f))\n&quot;,</pre></td>
</tr><tr id="L7617398975">
<td class="ln"><a href="#L7617398975">83</a></td>
<td class="loc"><pre>    &quot;\n&quot;,</pre></td>
</tr><tr id="L5710795870">
<td class="ln"><a href="#L5710795870">84</a></td>
<td class="loc"><pre>    &quot;s = str(f)  # str() forces the floating point number to be converted to a string.\n&quot;,</pre></td>
</tr><tr id="L3714507732">
<td class="ln"><a href="#L3714507732">85</a></td>
<td class="loc"><pre>    &quot;print(s)\n&quot;,</pre></td>
</tr><tr id="L6281868618">
<td class="ln"><a href="#L6281868618">86</a></td>
<td class="loc"><pre>    &quot;print (type(s))\n&quot;,</pre></td>
</tr><tr id="L7707854008">
<td class="ln"><a href="#L7707854008">87</a></td>
<td class="loc"><pre>    &quot;\n&quot;,</pre></td>
</tr><tr id="L5816815687">
<td class="ln"><a href="#L5816815687">88</a></td>
<td class="loc"><pre>    &quot;f = float(0)   # here, float() forces the zero to be interpreted as a floating-point number instead of an integer\n&quot;,</pre></td>
</tr><tr id="L3853819833">
<td class="ln"><a href="#L3853819833">89</a></td>
<td class="loc"><pre>    &quot;print (type(f))\n&quot;,</pre></td>
</tr><tr id="L5468727702">
<td class="ln"><a href="#L5468727702">90</a></td>
<td class="loc"><pre>    &quot;\n&quot;,</pre></td>
</tr><tr id="L4210366764">
<td class="ln"><a href="#L4210366764">91</a></td>
<td class="loc"><pre>    &quot;print(type(5))  # the decimal point forces the variable to a float as well\n&quot;,</pre></td>
</tr><tr id="L5972445298">
<td class="ln"><a href="#L5972445298">92</a></td>
<td class="loc"><pre>    &quot;print(type(5.0))&quot;</pre></td>
</tr><tr id="L7734261760">
<td class="ln"><a href="#L7734261760">93</a></td>
<td class="loc"><pre>   ]</pre></td>
</tr><tr id="L5559215517">
<td class="ln"><a href="#L5559215517">94</a></td>
<td class="loc"><pre>  },</pre></td>
</tr><tr id="L4133475603">
<td class="ln"><a href="#L4133475603">95</a></td>
<td class="loc"><pre>  {</pre></td>
</tr><tr id="L5861049481">
<td class="ln"><a href="#L5861049481">96</a></td>
<td class="loc"><pre>   &quot;cell_type&quot;: &quot;markdown&quot;,</pre></td>
</tr><tr id="L7857091575">
<td class="ln"><a href="#L7857091575">97</a></td>
<td class="loc"><pre>   &quot;metadata&quot;: {},</pre></td>
</tr><tr id="L5432713608">
<td class="ln"><a href="#L5432713608">98</a></td>
<td class="loc"><pre>   &quot;source&quot;: [</pre></td>
</tr><tr id="L3972632826">
<td class="ln"><a href="#L3972632826">99</a></td>
<td class="loc"><pre>    &quot;Python supports basic arithmetic operators, where are overloaded to support different types, but not all types.  For example:&quot;</pre></td>
</tr><tr id="L4293446295">
<td class="ln"><a href="#L4293446295">100</a></td>
<td class="loc"><pre>   ]</pre></td>
</tr><tr id="L5115075113">
<td class="ln"><a href="#L5115075113">101</a></td>
<td class="loc"><pre>  },</pre></td>
</tr><tr id="L7145696115">
<td class="ln"><a href="#L7145696115">102</a></td>
<td class="loc"><pre>  {</pre></td>
</tr><tr id="L6827244285">
<td class="ln"><a href="#L6827244285">103</a></td>
<td class="loc"><pre>   &quot;cell_type&quot;: &quot;code&quot;,</pre></td>
</tr><tr id="L4304146080">
<td class="ln"><a href="#L4304146080">104</a></td>
<td class="loc"><pre>   &quot;execution_count&quot;: null,</pre></td>
</tr><tr id="L5092875794">
<td class="ln"><a href="#L5092875794">105</a></td>
<td class="loc"><pre>   &quot;metadata&quot;: {</pre></td>
</tr><tr id="L7088795532">
<td class="ln"><a href="#L7088795532">106</a></td>
<td class="loc"><pre>    &quot;collapsed&quot;: false</pre></td>
</tr><tr id="L6870613750">
<td class="ln"><a href="#L6870613750">107</a></td>
<td class="loc"><pre>   },</pre></td>
</tr><tr id="L4464726661">
<td class="ln"><a href="#L4464726661">108</a></td>
<td class="loc"><pre>   &quot;outputs&quot;: [],</pre></td>
</tr><tr id="L5219639803">
<td class="ln"><a href="#L5219639803">109</a></td>
<td class="loc"><pre>   &quot;source&quot;: [</pre></td>
</tr><tr id="L4678605656">
<td class="ln"><a href="#L4678605656">110</a></td>
<td class="loc"><pre>    &quot;print (s + \&quot;!\&quot;)\n&quot;,</pre></td>
</tr><tr id="L4997303018">
<td class="ln"><a href="#L4997303018">111</a></td>
<td class="loc"><pre>    &quot;print (f + 0.5)\n&quot;,</pre></td>
</tr><tr id="L7261616692">
<td class="ln"><a href="#L7261616692">112</a></td>
<td class="loc"><pre>    &quot;print (s + 0.5)  # Note that this causes an error! How might you fix this?&quot;</pre></td>
</tr><tr id="L6439741886">
<td class="ln"><a href="#L6439741886">113</a></td>
<td class="loc"><pre>   ]</pre></td>
</tr><tr id="L4721942367">
<td class="ln"><a href="#L4721942367">114</a></td>
<td class="loc"><pre>  },</pre></td>
</tr><tr id="L4940369617">
<td class="ln"><a href="#L4940369617">115</a></td>
<td class="loc"><pre>  {</pre></td>
</tr><tr id="L7239450187">
<td class="ln"><a href="#L7239450187">116</a></td>
<td class="loc"><pre>   &quot;cell_type&quot;: &quot;markdown&quot;,</pre></td>
</tr><tr id="L6450474421">
<td class="ln"><a href="#L6450474421">117</a></td>
<td class="loc"><pre>   &quot;metadata&quot;: {},</pre></td>
</tr><tr id="L4582892358">
<td class="ln"><a href="#L4582892358">118</a></td>
<td class="loc"><pre>   &quot;source&quot;: [</pre></td>
</tr><tr id="L4834087612">
<td class="ln"><a href="#L4834087612">119</a></td>
<td class="loc"><pre>    &quot;The built-in dir() function can help you keep track of the variables you have created; del deletes them:&quot;</pre></td>
</tr><tr id="L3987909653">
<td class="ln"><a href="#L3987909653">120</a></td>
<td class="loc"><pre>   ]</pre></td>
</tr><tr id="L5414288555">
<td class="ln"><a href="#L5414288555">121</a></td>
<td class="loc"><pre>  },</pre></td>
</tr><tr id="L7981812977">
<td class="ln"><a href="#L7981812977">122</a></td>
<td class="loc"><pre>  {</pre></td>
</tr><tr id="L5984869759">
<td class="ln"><a href="#L5984869759">123</a></td>
<td class="loc"><pre>   &quot;cell_type&quot;: &quot;code&quot;,</pre></td>
</tr><tr id="L4070469662">
<td class="ln"><a href="#L4070469662">124</a></td>
<td class="loc"><pre>   &quot;execution_count&quot;: null,</pre></td>
</tr><tr id="L5328683156">
<td class="ln"><a href="#L5328683156">125</a></td>
<td class="loc"><pre>   &quot;metadata&quot;: {</pre></td>
</tr><tr id="L7861440778">
<td class="ln"><a href="#L7861440778">126</a></td>
<td class="loc"><pre>    &quot;collapsed&quot;: false</pre></td>
</tr><tr id="L6100033912">
<td class="ln"><a href="#L6100033912">127</a></td>
<td class="loc"><pre>   },</pre></td>
</tr><tr id="L4228658183">
<td class="ln"><a href="#L4228658183">128</a></td>
<td class="loc"><pre>   &quot;outputs&quot;: [],</pre></td>
</tr><tr id="L5453579385">
<td class="ln"><a href="#L5453579385">129</a></td>
<td class="loc"><pre>   &quot;source&quot;: [</pre></td>
</tr><tr id="L3838541014">
<td class="ln"><a href="#L3838541014">130</a></td>
<td class="loc"><pre>    &quot;test_variable = 0\n&quot;,</pre></td>
</tr><tr id="L5835238764">
<td class="ln"><a href="#L5835238764">131</a></td>
<td class="loc"><pre>    &quot;print (dir())\n&quot;,</pre></td>
</tr><tr id="L7562714034">
<td class="ln"><a href="#L7562714034">132</a></td>
<td class="loc"><pre>    &quot;del(test_variable)\n&quot;,</pre></td>
</tr><tr id="L6136581184">
<td class="ln"><a href="#L6136581184">133</a></td>
<td class="loc"><pre>    &quot;print (dir())&quot;</pre></td>
</tr><tr id="L3953737949">
<td class="ln"><a href="#L3953737949">134</a></td>
<td class="loc"><pre>   ]</pre></td>
</tr><tr id="L5714899283">
<td class="ln"><a href="#L5714899283">135</a></td>
<td class="loc"><pre>  },</pre></td>
</tr><tr id="L7477075913">
<td class="ln"><a href="#L7477075913">136</a></td>
<td class="loc"><pre>  {</pre></td>
</tr><tr id="L6219108407">
<td class="ln"><a href="#L6219108407">137</a></td>
<td class="loc"><pre>   &quot;cell_type&quot;: &quot;markdown&quot;,</pre></td>
</tr><tr id="L3807577288">
<td class="ln"><a href="#L3807577288">138</a></td>
<td class="loc"><pre>   &quot;metadata&quot;: {},</pre></td>
</tr><tr id="L5603079482">
<td class="ln"><a href="#L5603079482">139</a></td>
<td class="loc"><pre>   &quot;source&quot;: [</pre></td>
</tr><tr id="L4891414427">
<td class="ln"><a href="#L4891414427">140</a></td>
<td class="loc"><pre>    &quot;### Lists and Dictionaries \n&quot;,</pre></td>
</tr><tr id="L4505607973">
<td class="ln"><a href="#L4505607973">141</a></td>
<td class="loc"><pre>    &quot;\n&quot;,</pre></td>
</tr><tr id="L6535212655">
<td class="ln"><a href="#L6535212655">142</a></td>
<td class="loc"><pre>    &quot;Lists are the workhorse collection type for managing series of similar variables.  They consist of a series of elements, indicated by square brackets. For more information on lists and dictionaries, see: https://docs.python.org/3/tutorial/datastructures.html.&quot;</pre></td>
</tr><tr id="L7424196097">
<td class="ln"><a href="#L7424196097">143</a></td>
<td class="loc"><pre>   ]</pre></td>
</tr><tr id="L4779920292">
<td class="ln"><a href="#L4779920292">144</a></td>
<td class="loc"><pre>  },</pre></td>
</tr><tr id="L4628601614">
<td class="ln"><a href="#L4628601614">145</a></td>
<td class="loc"><pre>  {</pre></td>
</tr><tr id="L6625536648">
<td class="ln"><a href="#L6625536648">146</a></td>
<td class="loc"><pre>   &quot;cell_type&quot;: &quot;code&quot;,</pre></td>
</tr><tr id="L7347403258">
<td class="ln"><a href="#L7347403258">147</a></td>
<td class="loc"><pre>   &quot;execution_count&quot;: null,</pre></td>
</tr><tr id="L4935751561">
<td class="ln"><a href="#L4935751561">148</a></td>
<td class="loc"><pre>   &quot;metadata&quot;: {</pre></td>
</tr><tr id="L4751664887">
<td class="ln"><a href="#L4751664887">149</a></td>
<td class="loc"><pre>    &quot;collapsed&quot;: false</pre></td>
</tr><tr id="L5275524700">
<td class="ln"><a href="#L5275524700">150</a></td>
<td class="loc"><pre>   },</pre></td>
</tr><tr id="L4386786790">
<td class="ln"><a href="#L4386786790">151</a></td>
<td class="loc"><pre>   &quot;outputs&quot;: [],</pre></td>
</tr><tr id="L6652182320">
<td class="ln"><a href="#L6652182320">152</a></td>
<td class="loc"><pre>   &quot;source&quot;: [</pre></td>
</tr><tr id="L7037742786">
<td class="ln"><a href="#L7037742786">153</a></td>
<td class="loc"><pre>    &quot;my_list = [1,2,9,6,2]\n&quot;,</pre></td>
</tr><tr id="L5198764643">
<td class="ln"><a href="#L5198764643">154</a></td>
<td class="loc"><pre>    &quot;print (my_list)&quot;</pre></td>
</tr><tr id="L4477143501">
<td class="ln"><a href="#L4477143501">155</a></td>
<td class="loc"><pre>   ]</pre></td>
</tr><tr id="L6775143239">
<td class="ln"><a href="#L6775143239">156</a></td>
<td class="loc"><pre>  },</pre></td>
</tr><tr id="L6926215865">
<td class="ln"><a href="#L6926215865">157</a></td>
<td class="loc"><pre>  {</pre></td>
</tr><tr id="L5054965322">
<td class="ln"><a href="#L5054965322">158</a></td>
<td class="loc"><pre>   &quot;cell_type&quot;: &quot;markdown&quot;,</pre></td>
</tr><tr id="L4367160760">
<td class="ln"><a href="#L4367160760">159</a></td>
<td class="loc"><pre>   &quot;metadata&quot;: {},</pre></td>
</tr><tr id="L5664370969">
<td class="ln"><a href="#L5664370969">160</a></td>
<td class="loc"><pre>   &quot;source&quot;: [</pre></td>
</tr><tr id="L3734782375">
<td class="ln"><a href="#L3734782375">161</a></td>
<td class="loc"><pre>    &quot;Individual elements are accessed by a sequential index number, also surrounded by square brackets, starting with zero. Negative numbers wrap to the end of the list.  Note the error when we access an index number past the end of the list:&quot;</pre></td>
</tr><tr id="L6301224941">
<td class="ln"><a href="#L6301224941">162</a></td>
<td class="loc"><pre>   ]</pre></td>
</tr><tr id="L7660249219">
<td class="ln"><a href="#L7660249219">163</a></td>
<td class="loc"><pre>  },</pre></td>
</tr><tr id="L5615234338">
<td class="ln"><a href="#L5615234338">164</a></td>
<td class="loc"><pre>  {</pre></td>
</tr><tr id="L3786964368">
<td class="ln"><a href="#L3786964368">165</a></td>
<td class="loc"><pre>   &quot;cell_type&quot;: &quot;code&quot;,</pre></td>
</tr><tr id="L6320802822">
<td class="ln"><a href="#L6320802822">166</a></td>
<td class="loc"><pre>   &quot;execution_count&quot;: null,</pre></td>
</tr><tr id="L7645879420">
<td class="ln"><a href="#L7645879420">167</a></td>
<td class="loc"><pre>   &quot;metadata&quot;: {</pre></td>
</tr><tr id="L5778176267">
<td class="ln"><a href="#L5778176267">168</a></td>
<td class="loc"><pre>    &quot;collapsed&quot;: false</pre></td>
</tr><tr id="L3915565429">
<td class="ln"><a href="#L3915565429">169</a></td>
<td class="loc"><pre>   },</pre></td>
</tr><tr id="L5513953242">
<td class="ln"><a href="#L5513953242">170</a></td>
<td class="loc"><pre>   &quot;outputs&quot;: [],</pre></td>
</tr><tr id="L4154683496">
<td class="ln"><a href="#L4154683496">171</a></td>
<td class="loc"><pre>   &quot;source&quot;: [</pre></td>
</tr><tr id="L5883175086">
<td class="ln"><a href="#L5883175086">172</a></td>
<td class="loc"><pre>    &quot;print (my_list[2])\n&quot;,</pre></td>
</tr><tr id="L7813009732">
<td class="ln"><a href="#L7813009732">173</a></td>
<td class="loc"><pre>    &quot;print (my_list[-1])\n&quot;,</pre></td>
</tr><tr id="L5499550689">
<td class="ln"><a href="#L5499550689">174</a></td>
<td class="loc"><pre>    &quot;print (my_list[99])  # Note that this causes an error!&quot;</pre></td>
</tr><tr id="L4174228559">
<td class="ln"><a href="#L4174228559">175</a></td>
<td class="loc"><pre>   ]</pre></td>
</tr><tr id="L5935389893">
<td class="ln"><a href="#L5935389893">176</a></td>
<td class="loc"><pre>  },</pre></td>
</tr><tr id="L7763905851">
<td class="ln"><a href="#L7763905851">177</a></td>
<td class="loc"><pre>  {</pre></td>
</tr><tr id="L5358143436">
<td class="ln"><a href="#L5358143436">178</a></td>
<td class="loc"><pre>   &quot;cell_type&quot;: &quot;markdown&quot;,</pre></td>
</tr><tr id="L4066113590">
<td class="ln"><a href="#L4066113590">179</a></td>
<td class="loc"><pre>   &quot;metadata&quot;: {},</pre></td>
</tr><tr id="L7652529295">
<td class="ln"><a href="#L7652529295">180</a></td>
<td class="loc"><pre>   &quot;source&quot;: [</pre></td>
</tr><tr id="L6326805537">
<td class="ln"><a href="#L6326805537">181</a></td>
<td class="loc"><pre>    &quot;A new list can be created with empty brackets or list():&quot;</pre></td>
</tr><tr id="L3792844155">
<td class="ln"><a href="#L3792844155">182</a></td>
<td class="loc"><pre>   ]</pre></td>
</tr><tr id="L5622007045">
<td class="ln"><a href="#L5622007045">183</a></td>
<td class="loc"><pre>  },</pre></td>
</tr><tr id="L7670634664">
<td class="ln"><a href="#L7670634664">184</a></td>
<td class="loc"><pre>  {</pre></td>
</tr><tr id="L6311749658">
<td class="ln"><a href="#L6311749658">185</a></td>
<td class="loc"><pre>   &quot;cell_type&quot;: &quot;code&quot;,</pre></td>
</tr><tr id="L3745446276">
<td class="ln"><a href="#L3745446276">186</a></td>
<td class="loc"><pre>   &quot;execution_count&quot;: null,</pre></td>
</tr><tr id="L5674617070">
<td class="ln"><a href="#L5674617070">187</a></td>
<td class="loc"><pre>   &quot;metadata&quot;: {</pre></td>
</tr><tr id="L7548095613">
<td class="ln"><a href="#L7548095613">188</a></td>
<td class="loc"><pre>    &quot;collapsed&quot;: false</pre></td>
</tr><tr id="L6155394035">
<td class="ln"><a href="#L6155394035">189</a></td>
<td class="loc"><pre>   },</pre></td>
</tr><tr id="L7770432848">
<td class="ln"><a href="#L7770432848">190</a></td>
<td class="loc"><pre>   &quot;outputs&quot;: [],</pre></td>
</tr><tr id="L5941515490">
<td class="ln"><a href="#L5941515490">191</a></td>
<td class="loc"><pre>   &quot;source&quot;: [</pre></td>
</tr><tr id="L4180476988">
<td class="ln"><a href="#L4180476988">192</a></td>
<td class="loc"><pre>    &quot;another_list = []\n&quot;,</pre></td>
</tr><tr id="L5505954758">
<td class="ln"><a href="#L5505954758">193</a></td>
<td class="loc"><pre>    &quot;print (type(another_list))\n&quot;,</pre></td>
</tr><tr id="L7823010151">
<td class="ln"><a href="#L7823010151">194</a></td>
<td class="loc"><pre>    &quot;another_list = list()\n&quot;,</pre></td>
</tr><tr id="L5894084825">
<td class="ln"><a href="#L5894084825">195</a></td>
<td class="loc"><pre>    &quot;print (type(another_list))&quot;</pre></td>
</tr><tr id="L4165453891">
<td class="ln"><a href="#L4165453891">196</a></td>
<td class="loc"><pre>   ]</pre></td>
</tr><tr id="L5524092845">
<td class="ln"><a href="#L5524092845">197</a></td>
<td class="loc"><pre>  },</pre></td>
</tr><tr id="L7933517118">
<td class="ln"><a href="#L7933517118">198</a></td>
<td class="loc"><pre>  {</pre></td>
</tr><tr id="L6037359796">
<td class="ln"><a href="#L6037359796">199</a></td>
<td class="loc"><pre>   &quot;cell_type&quot;: &quot;markdown&quot;,</pre></td>
</tr><tr id="L4255344736">
<td class="ln"><a href="#L4255344736">200</a></td>
<td class="loc"><pre>   &quot;metadata&quot;: {},</pre></td>
</tr><tr id="L5144860626">
<td class="ln"><a href="#L5144860626">201</a></td>
<td class="loc"><pre>   &quot;source&quot;: [</pre></td>
</tr><tr id="L7175473484">
<td class="ln"><a href="#L7175473484">202</a></td>
<td class="loc"><pre>    &quot;There are several useful built-in functions that let you manipulate and query lists:&quot;</pre></td>
</tr><tr id="L6789150902">
<td class="ln"><a href="#L6789150902">203</a></td>
<td class="loc"><pre>   ]</pre></td>
</tr><tr id="L4341998679">
<td class="ln"><a href="#L4341998679">204</a></td>
<td class="loc"><pre>  },</pre></td>
</tr><tr id="L5063349225">
<td class="ln"><a href="#L5063349225">205</a></td>
<td class="loc"><pre>  {</pre></td>
</tr><tr id="L7059260723">
<td class="ln"><a href="#L7059260723">206</a></td>
<td class="loc"><pre>   &quot;cell_type&quot;: &quot;code&quot;,</pre></td>
</tr><tr id="L6908474557">
<td class="ln"><a href="#L6908474557">207</a></td>
<td class="loc"><pre>   &quot;execution_count&quot;: null,</pre></td>
</tr><tr id="L4502315054">
<td class="ln"><a href="#L4502315054">208</a></td>
<td class="loc"><pre>   &quot;metadata&quot;: {</pre></td>
</tr><tr id="L5190373316">
<td class="ln"><a href="#L5190373316">209</a></td>
<td class="loc"><pre>    &quot;collapsed&quot;: false</pre></td>
</tr><tr id="L4640758175">
<td class="ln"><a href="#L4640758175">210</a></td>
<td class="loc"><pre>   },</pre></td>
</tr><tr id="L5026834705">
<td class="ln"><a href="#L5026834705">211</a></td>
<td class="loc"><pre>   &quot;outputs&quot;: [],</pre></td>
</tr><tr id="L7291156619">
<td class="ln"><a href="#L7291156619">212</a></td>
<td class="loc"><pre>   &quot;source&quot;: [</pre></td>
</tr><tr id="L6401886197">
<td class="ln"><a href="#L6401886197">213</a></td>
<td class="loc"><pre>    &quot;lst = [1,9,4,7]\n&quot;,</pre></td>
</tr><tr id="L4760049048">
<td class="ln"><a href="#L4760049048">214</a></td>
<td class="loc"><pre>    &quot;print (lst)\n&quot;,</pre></td>
</tr><tr id="L4910589226">
<td class="ln"><a href="#L4910589226">215</a></td>
<td class="loc"><pre>    &quot;\n&quot;,</pre></td>
</tr><tr id="L7209677940">
<td class="ln"><a href="#L7209677940">216</a></td>
<td class="loc"><pre>    &quot;print(lst.index(9))  # Gets the index of an item in the list.\n&quot;,</pre></td>
</tr><tr id="L6488572926">
<td class="ln"><a href="#L6488572926">217</a></td>
<td class="loc"><pre>    &quot;\n&quot;,</pre></td>
</tr><tr id="L4620210541">
<td class="ln"><a href="#L4620210541">218</a></td>
<td class="loc"><pre>    &quot;lst.append(5)  # Appends a single item\n&quot;,</pre></td>
</tr><tr id="L4805091587">
<td class="ln"><a href="#L4805091587">219</a></td>
<td class="loc"><pre>    &quot;print(lst)\n&quot;,</pre></td>
</tr><tr id="L4017685982">
<td class="ln"><a href="#L4017685982">220</a></td>
<td class="loc"><pre>    &quot;\n&quot;,</pre></td>
</tr><tr id="L5376194132">
<td class="ln"><a href="#L5376194132">221</a></td>
<td class="loc"><pre>    &quot;lst.insert(0, 99)  # Inserts a single item\n&quot;,</pre></td>
</tr><tr id="L7943710410">
<td class="ln"><a href="#L7943710410">222</a></td>
<td class="loc"><pre>    &quot;print(lst)\n&quot;,</pre></td>
</tr><tr id="L6014654264">
<td class="ln"><a href="#L6014654264">223</a></td>
<td class="loc"><pre>    &quot;\n&quot;,</pre></td>
</tr><tr id="L4040933845">
<td class="ln"><a href="#L4040933845">224</a></td>
<td class="loc"><pre>    &quot;lst.extend( [25, 24, 23, 22] )  # Appends a list of items\n&quot;,</pre></td>
</tr><tr id="L5366542955">
<td class="ln"><a href="#L5366542955">225</a></td>
<td class="loc"><pre>    &quot;print(lst)\n&quot;,</pre></td>
</tr><tr id="L7899292337">
<td class="ln"><a href="#L7899292337">226</a></td>
<td class="loc"><pre>    &quot;\n&quot;,</pre></td>
</tr><tr id="L6070506303">
<td class="ln"><a href="#L6070506303">227</a></td>
<td class="loc"><pre>    &quot;print (sum(lst))  # adds up the items\n&quot;,</pre></td>
</tr><tr id="L4199382448">
<td class="ln"><a href="#L4199382448">228</a></td>
<td class="loc"><pre>    &quot;print (len(lst))  # returns the number of items&quot;</pre></td>
</tr><tr id="L5491174978">
<td class="ln"><a href="#L5491174978">229</a></td>
<td class="loc"><pre>   ]</pre></td>
</tr><tr id="L3868079901">
<td class="ln"><a href="#L3868079901">230</a></td>
<td class="loc"><pre>  },</pre></td>
</tr><tr id="L5797382035">
<td class="ln"><a href="#L5797382035">231</a></td>
<td class="loc"><pre>  {</pre></td>
</tr><tr id="L7524865545">
<td class="ln"><a href="#L7524865545">232</a></td>
<td class="loc"><pre>   &quot;cell_type&quot;: &quot;code&quot;,</pre></td>
</tr><tr id="L6166111863">
<td class="ln"><a href="#L6166111863">233</a></td>
<td class="loc"><pre>   &quot;execution_count&quot;: null,</pre></td>
</tr><tr id="L3923964694">
<td class="ln"><a href="#L3923964694">234</a></td>
<td class="loc"><pre>   &quot;metadata&quot;: {</pre></td>
</tr><tr id="L5752996780">
<td class="ln"><a href="#L5752996780">235</a></td>
<td class="loc"><pre>    &quot;collapsed&quot;: false</pre></td>
</tr><tr id="L7515181554">
<td class="ln"><a href="#L7515181554">236</a></td>
<td class="loc"><pre>   },</pre></td>
</tr><tr id="L6189326976">
<td class="ln"><a href="#L6189326976">237</a></td>
<td class="loc"><pre>   &quot;outputs&quot;: [],</pre></td>
</tr><tr id="L3778588399">
<td class="ln"><a href="#L3778588399">238</a></td>
<td class="loc"><pre>   &quot;source&quot;: [</pre></td>
</tr><tr id="L5640388481">
<td class="ln"><a href="#L5640388481">239</a></td>
<td class="loc"><pre>    &quot;a = max(lst)\n&quot;,</pre></td>
</tr><tr id="L4862158180">
<td class="ln"><a href="#L4862158180">240</a></td>
<td class="loc"><pre>    &quot;b = min(lst)\n&quot;,</pre></td>
</tr><tr id="L4543190222">
<td class="ln"><a href="#L4543190222">241</a></td>
<td class="loc"><pre>    &quot;print (a, b) # note that print can handle a flexible number of parameters\n&quot;,</pre></td>
</tr><tr id="L6572786760">
<td class="ln"><a href="#L6572786760">242</a></td>
<td class="loc"><pre>    &quot;\n&quot;,</pre></td>
</tr><tr id="L7394948026">
<td class="ln"><a href="#L7394948026">243</a></td>
<td class="loc"><pre>    &quot;my_sorted_list = sorted(lst)  # Sorts the list and makes a copy\n&quot;,</pre></td>
</tr><tr id="L4808927579">
<td class="ln"><a href="#L4808927579">244</a></td>
<td class="loc"><pre>    &quot;print (\&quot;Sorted list:\&quot;, my_sorted_list)\n&quot;,</pre></td>
</tr><tr id="L4591278309">
<td class="ln"><a href="#L4591278309">245</a></td>
<td class="loc"><pre>    &quot;print (\&quot;Original unsorted list:\&quot;, lst)\n&quot;,</pre></td>
</tr><tr id="L6588205103">
<td class="ln"><a href="#L6588205103">246</a></td>
<td class="loc"><pre>    &quot;lst.sort(reverse=True)  # Sorts the list\n&quot;,</pre></td>
</tr><tr id="L7376418753">
<td class="ln"><a href="#L7376418753">247</a></td>
<td class="loc"><pre>    &quot;print (\&quot;Reverse-sorted in place:\&quot;, lst)&quot;</pre></td>
</tr><tr id="L4965539122">
<td class="ln"><a href="#L4965539122">248</a></td>
<td class="loc"><pre>   ]</pre></td>
</tr><tr id="L4713548992">
<td class="ln"><a href="#L4713548992">249</a></td>
<td class="loc"><pre>  },</pre></td>
</tr><tr id="L5246522531">
<td class="ln"><a href="#L5246522531">250</a></td>
<td class="loc"><pre>  {</pre></td>
</tr><tr id="L4424115213">
<td class="ln"><a href="#L4424115213">251</a></td>
<td class="loc"><pre>   &quot;cell_type&quot;: &quot;markdown&quot;,</pre></td>
</tr><tr id="L6689518983">
<td class="ln"><a href="#L6689518983">252</a></td>
<td class="loc"><pre>   &quot;metadata&quot;: {},</pre></td>
</tr><tr id="L7008732409">
<td class="ln"><a href="#L7008732409">253</a></td>
<td class="loc"><pre>   &quot;source&quot;: [</pre></td>
</tr><tr id="L5228026012">
<td class="ln"><a href="#L5228026012">254</a></td>
<td class="loc"><pre>    &quot;Array indexing lets you slice and dice lists:&quot;</pre></td>
</tr><tr id="L4439566374">
<td class="ln"><a href="#L4439566374">255</a></td>
<td class="loc"><pre>   ]</pre></td>
</tr><tr id="L6737574256">
<td class="ln"><a href="#L6737574256">256</a></td>
<td class="loc"><pre>  },</pre></td>
</tr><tr id="L6955469058">
<td class="ln"><a href="#L6955469058">257</a></td>
<td class="loc"><pre>  {</pre></td>
</tr><tr id="L5084482673">
<td class="ln"><a href="#L5084482673">258</a></td>
<td class="loc"><pre>   &quot;cell_type&quot;: &quot;code&quot;,</pre></td>
</tr><tr id="L4329315327">
<td class="ln"><a href="#L4329315327">259</a></td>
<td class="loc"><pre>   &quot;execution_count&quot;: null,</pre></td>
</tr><tr id="L5701944034">
<td class="ln"><a href="#L5701944034">260</a></td>
<td class="loc"><pre>   &quot;metadata&quot;: {</pre></td>
</tr><tr id="L3705533264">
<td class="ln"><a href="#L3705533264">261</a></td>
<td class="loc"><pre>    &quot;collapsed&quot;: false</pre></td>
</tr><tr id="L6271967686">
<td class="ln"><a href="#L6271967686">262</a></td>
<td class="loc"><pre>   },</pre></td>
</tr><tr id="L7697830460">
<td class="ln"><a href="#L7697830460">263</a></td>
<td class="loc"><pre>   &quot;outputs&quot;: [],</pre></td>
</tr><tr id="L5577901785">
<td class="ln"><a href="#L5577901785">264</a></td>
<td class="loc"><pre>   &quot;source&quot;: [</pre></td>
</tr><tr id="L3815978855">
<td class="ln"><a href="#L3815978855">265</a></td>
<td class="loc"><pre>    &quot;print (lst)\n&quot;,</pre></td>
</tr><tr id="L6349809069">
<td class="ln"><a href="#L6349809069">266</a></td>
<td class="loc"><pre>    &quot;print(lst[0:3])  # The first three elemensts in the list\n&quot;,</pre></td>
</tr><tr id="L7608555075">
<td class="ln"><a href="#L7608555075">267</a></td>
<td class="loc"><pre>    &quot;print(lst[-2])  # The second-to-last item in the list\n&quot;,</pre></td>
</tr><tr id="L5740051124">
<td class="ln"><a href="#L5740051124">268</a></td>
<td class="loc"><pre>    &quot;print(lst[:3])  &quot;</pre></td>
</tr><tr id="L3945360190">
<td class="ln"><a href="#L3945360190">269</a></td>
<td class="loc"><pre>   ]</pre></td>
</tr><tr id="L5551288865">
<td class="ln"><a href="#L5551288865">270</a></td>
<td class="loc"><pre>  },</pre></td>
</tr><tr id="L4125672079">
<td class="ln"><a href="#L4125672079">271</a></td>
<td class="loc"><pre>  {</pre></td>
</tr><tr id="L5854171909">
<td class="ln"><a href="#L5854171909">272</a></td>
<td class="loc"><pre>   &quot;cell_type&quot;: &quot;markdown&quot;,</pre></td>
</tr><tr id="L7850337147">
<td class="ln"><a href="#L7850337147">273</a></td>
<td class="loc"><pre>   &quot;metadata&quot;: {},</pre></td>
</tr><tr id="L5461980698">
<td class="ln"><a href="#L5461980698">274</a></td>
<td class="loc"><pre>   &quot;source&quot;: [</pre></td>
</tr><tr id="L4203480744">
<td class="ln"><a href="#L4203480744">275</a></td>
<td class="loc"><pre>    &quot;Note that strings work similarly&quot;</pre></td>
</tr><tr id="L5964650222">
<td class="ln"><a href="#L5964650222">276</a></td>
<td class="loc"><pre>   ]</pre></td>
</tr><tr id="L7726327684">
<td class="ln"><a href="#L7726327684">277</a></td>
<td class="loc"><pre>  },</pre></td>
</tr><tr id="L5320305139">
<td class="ln"><a href="#L5320305139">278</a></td>
<td class="loc"><pre>  {</pre></td>
</tr><tr id="L4095621757">
<td class="ln"><a href="#L4095621757">279</a></td>
<td class="loc"><pre>   &quot;cell_type&quot;: &quot;code&quot;,</pre></td>
</tr><tr id="L7622745704">
<td class="ln"><a href="#L7622745704">280</a></td>
<td class="loc"><pre>   &quot;execution_count&quot;: null,</pre></td>
</tr><tr id="L6364909018">
<td class="ln"><a href="#L6364909018">281</a></td>
<td class="loc"><pre>   &quot;metadata&quot;: {</pre></td>
</tr><tr id="L3830939460">
<td class="ln"><a href="#L3830939460">282</a></td>
<td class="loc"><pre>    &quot;collapsed&quot;: false</pre></td>
</tr><tr id="L5592231598">
<td class="ln"><a href="#L5592231598">283</a></td>
<td class="loc"><pre>   },</pre></td>
</tr><tr id="L7700159055">
<td class="ln"><a href="#L7700159055">284</a></td>
<td class="loc"><pre>   &quot;outputs&quot;: [],</pre></td>
</tr><tr id="L6273894881">
<td class="ln"><a href="#L6273894881">285</a></td>
<td class="loc"><pre>   &quot;source&quot;: [</pre></td>
</tr><tr id="L3707583291">
<td class="ln"><a href="#L3707583291">286</a></td>
<td class="loc"><pre>    &quot;name_str = &#39;Foundation Center&#39;\n&quot;,</pre></td>
</tr><tr id="L5704149701">
<td class="ln"><a href="#L5704149701">287</a></td>
<td class="loc"><pre>    &quot;print(name_str[0:3])  # The first three elemensts in the list\n&quot;,</pre></td>
</tr><tr id="L7577364022">
<td class="ln"><a href="#L7577364022">288</a></td>
<td class="loc"><pre>    &quot;print(name_str[-2])  # The second-to-last item in the list\n&quot;,</pre></td>
</tr><tr id="L6117807564">
<td class="ln"><a href="#L6117807564">289</a></td>
<td class="loc"><pre>    &quot;print(name_str[:3])&quot;</pre></td>
</tr><tr id="L7740903335">
<td class="ln"><a href="#L7740903335">290</a></td>
<td class="loc"><pre>   ]</pre></td>
</tr><tr id="L5979365145">
<td class="ln"><a href="#L5979365145">291</a></td>
<td class="loc"><pre>  },</pre></td>
</tr><tr id="L4218334851">
<td class="ln"><a href="#L4218334851">292</a></td>
<td class="loc"><pre>  {</pre></td>
</tr><tr id="L5476417005">
<td class="ln"><a href="#L5476417005">293</a></td>
<td class="loc"><pre>   &quot;cell_type&quot;: &quot;markdown&quot;,</pre></td>
</tr><tr id="L7852788624">
<td class="ln"><a href="#L7852788624">294</a></td>
<td class="loc"><pre>   &quot;metadata&quot;: {},</pre></td>
</tr><tr id="L5855976226">
<td class="ln"><a href="#L5855976226">295</a></td>
<td class="loc"><pre>   &quot;source&quot;: [</pre></td>
</tr><tr id="L4127353468">
<td class="ln"><a href="#L4127353468">296</a></td>
<td class="loc"><pre>    &quot;Dictionaries are also very common in Python.  They consist of key / value pairs, indicated by curly braces:&quot;</pre></td>
</tr><tr id="L5553863174">
<td class="ln"><a href="#L5553863174">297</a></td>
<td class="loc"><pre>   ]</pre></td>
</tr><tr id="L7962515317">
<td class="ln"><a href="#L7962515317">298</a></td>
<td class="loc"><pre>  },</pre></td>
</tr><tr id="L6000043787">
<td class="ln"><a href="#L6000043787">299</a></td>
<td class="loc"><pre>  {</pre></td>
</tr><tr id="L4251254321">
<td class="ln"><a href="#L4251254321">300</a></td>
<td class="loc"><pre>   &quot;cell_type&quot;: &quot;code&quot;,</pre></td>
</tr><tr id="L5174078911">
<td class="ln"><a href="#L5174078911">301</a></td>
<td class="loc"><pre>   &quot;execution_count&quot;: null,</pre></td>
</tr><tr id="L7171170133">
<td class="ln"><a href="#L7171170133">302</a></td>
<td class="loc"><pre>   &quot;metadata&quot;: {</pre></td>
</tr><tr id="L6818647787">
<td class="ln"><a href="#L6818647787">303</a></td>
<td class="loc"><pre>    &quot;collapsed&quot;: false</pre></td>
</tr><tr id="L4363106890">
<td class="ln"><a href="#L4363106890">304</a></td>
<td class="loc"><pre>   },</pre></td>
</tr><tr id="L5050657208">
<td class="ln"><a href="#L5050657208">305</a></td>
<td class="loc"><pre>   &quot;outputs&quot;: [],</pre></td>
</tr><tr id="L7080090462">
<td class="ln"><a href="#L7080090462">306</a></td>
<td class="loc"><pre>   &quot;source&quot;: [</pre></td>
</tr><tr id="L6895995604">
<td class="ln"><a href="#L6895995604">307</a></td>
<td class="loc"><pre>    &quot;my_dictionary = { \&quot;word\&quot;: \&quot;the\&quot;, \&quot;count\&quot;: 123456789 }\n&quot;,</pre></td>
</tr><tr id="L4472800867">
<td class="ln"><a href="#L4472800867">308</a></td>
<td class="loc"><pre>    &quot;print (my_dictionary)&quot;</pre></td>
</tr><tr id="L5194692045">
<td class="ln"><a href="#L5194692045">309</a></td>
<td class="loc"><pre>   ]</pre></td>
</tr><tr id="L4669976434">
<td class="ln"><a href="#L4669976434">310</a></td>
<td class="loc"><pre>  },</pre></td>
</tr><tr id="L5022744320">
<td class="ln"><a href="#L5022744320">311</a></td>
<td class="loc"><pre>  {</pre></td>
</tr><tr id="L7320653462">
<td class="ln"><a href="#L7320653462">312</a></td>
<td class="loc"><pre>   &quot;cell_type&quot;: &quot;markdown&quot;,</pre></td>
</tr><tr id="L6397582892">
<td class="ln"><a href="#L6397582892">313</a></td>
<td class="loc"><pre>   &quot;metadata&quot;: {},</pre></td>
</tr><tr id="L4747357065">
<td class="ln"><a href="#L4747357065">314</a></td>
<td class="loc"><pre>   &quot;source&quot;: [</pre></td>
</tr><tr id="L4931697399">
<td class="ln"><a href="#L4931697399">315</a></td>
<td class="loc"><pre>    &quot;Individual elements are accessed the key, also using *square* brackets, for example:&quot;</pre></td>
</tr><tr id="L7197199005">
<td class="ln"><a href="#L7197199005">316</a></td>
<td class="loc"><pre>   ]</pre></td>
</tr><tr id="L6509402643">
<td class="ln"><a href="#L6509402643">317</a></td>
<td class="loc"><pre>  },</pre></td>
</tr><tr id="L4624529316">
<td class="ln"><a href="#L4624529316">318</a></td>
<td class="loc"><pre>  {</pre></td>
</tr><tr id="L4775577358">
<td class="ln"><a href="#L4775577358">319</a></td>
<td class="loc"><pre>   &quot;cell_type&quot;: &quot;code&quot;,</pre></td>
</tr><tr id="L4013383603">
<td class="ln"><a href="#L4013383603">320</a></td>
<td class="loc"><pre>   &quot;execution_count&quot;: null,</pre></td>
</tr><tr id="L5405691965">
<td class="ln"><a href="#L5405691965">321</a></td>
<td class="loc"><pre>   &quot;metadata&quot;: {</pre></td>
</tr><tr id="L7939621079">
<td class="ln"><a href="#L7939621079">322</a></td>
<td class="loc"><pre>    &quot;collapsed&quot;: false,</pre></td>
</tr><tr id="L6043873641">
<td class="ln"><a href="#L6043873641">323</a></td>
<td class="loc"><pre>    &quot;scrolled&quot;: true</pre></td>
</tr><tr id="L4061764556">
<td class="ln"><a href="#L4061764556">324</a></td>
<td class="loc"><pre>   },</pre></td>
</tr><tr id="L5354064950">
<td class="ln"><a href="#L5354064950">325</a></td>
<td class="loc"><pre>   &quot;outputs&quot;: [],</pre></td>
</tr><tr id="L7920401632">
<td class="ln"><a href="#L7920401632">326</a></td>
<td class="loc"><pre>   &quot;source&quot;: [</pre></td>
</tr><tr id="L6057815378">
<td class="ln"><a href="#L6057815378">327</a></td>
<td class="loc"><pre>    &quot;print (my_dictionary[\&quot;word\&quot;])\n&quot;,</pre></td>
</tr><tr id="L4170180577">
<td class="ln"><a href="#L4170180577">328</a></td>
<td class="loc"><pre>    &quot;print (my_dictionary[\&quot;count\&quot;])&quot;</pre></td>
</tr><tr id="L5495248975">
<td class="ln"><a href="#L5495248975">329</a></td>
<td class="loc"><pre>   ]</pre></td>
</tr><tr id="L3897577716">
<td class="ln"><a href="#L3897577716">330</a></td>
<td class="loc"><pre>  },</pre></td>
</tr><tr id="L5793079678">
<td class="ln"><a href="#L5793079678">331</a></td>
<td class="loc"><pre>  {</pre></td>
</tr><tr id="L7554084888">
<td class="ln"><a href="#L7554084888">332</a></td>
<td class="loc"><pre>   &quot;cell_type&quot;: &quot;markdown&quot;,</pre></td>
</tr><tr id="L6162022570">
<td class="ln"><a href="#L6162022570">333</a></td>
<td class="loc"><pre>   &quot;metadata&quot;: {},</pre></td>
</tr><tr id="L3911486731">
<td class="ln"><a href="#L3911486731">334</a></td>
<td class="loc"><pre>   &quot;source&quot;: [</pre></td>
</tr><tr id="L5773827445">
<td class="ln"><a href="#L5773827445">335</a></td>
<td class="loc"><pre>    &quot;The keys and values can be accessed as lists:&quot;</pre></td>
</tr><tr id="L7502490655">
<td class="ln"><a href="#L7502490655">336</a></td>
<td class="loc"><pre>   ]</pre></td>
</tr><tr id="L6210436241">
<td class="ln"><a href="#L6210436241">337</a></td>
<td class="loc"><pre>  },</pre></td>
</tr><tr id="L3782662434">
<td class="ln"><a href="#L3782662434">338</a></td>
<td class="loc"><pre>  {</pre></td>
</tr><tr id="L5611186576">
<td class="ln"><a href="#L5611186576">339</a></td>
<td class="loc"><pre>   &quot;cell_type&quot;: &quot;code&quot;,</pre></td>
</tr><tr id="L4849711917">
<td class="ln"><a href="#L4849711917">340</a></td>
<td class="loc"><pre>   &quot;execution_count&quot;: null,</pre></td>
</tr><tr id="L4564052675">
<td class="ln"><a href="#L4564052675">341</a></td>
<td class="loc"><pre>   &quot;metadata&quot;: {</pre></td>
</tr><tr id="L6560062041">
<td class="ln"><a href="#L6560062041">342</a></td>
<td class="loc"><pre>    &quot;collapsed&quot;: false,</pre></td>
</tr><tr id="L7416023527">
<td class="ln"><a href="#L7416023527">343</a></td>
<td class="loc"><pre>    &quot;scrolled&quot;: true</pre></td>
</tr><tr id="L4838391622">
<td class="ln"><a href="#L4838391622">344</a></td>
<td class="loc"><pre>   },</pre></td>
</tr><tr id="L4586942140">
<td class="ln"><a href="#L4586942140">345</a></td>
<td class="loc"><pre>   &quot;outputs&quot;: [],</pre></td>
</tr><tr id="L6617456226">
<td class="ln"><a href="#L6617456226">346</a></td>
<td class="loc"><pre>   &quot;source&quot;: [</pre></td>
</tr><tr id="L7372361168">
<td class="ln"><a href="#L7372361168">347</a></td>
<td class="loc"><pre>    &quot;print (my_dictionary.keys())\n&quot;,</pre></td>
</tr><tr id="L4944446303">
<td class="ln"><a href="#L4944446303">348</a></td>
<td class="loc"><pre>    &quot;print (my_dictionary.values())&quot;</pre></td>
</tr><tr id="L4726289105">
<td class="ln"><a href="#L4726289105">349</a></td>
<td class="loc"><pre>   ]</pre></td>
</tr><tr id="L5267384942">
<td class="ln"><a href="#L5267384942">350</a></td>
<td class="loc"><pre>  },</pre></td>
</tr><tr id="L4411668996">
<td class="ln"><a href="#L4411668996">351</a></td>
<td class="loc"><pre>  {</pre></td>
</tr><tr id="L6710594458">
<td class="ln"><a href="#L6710594458">352</a></td>
<td class="loc"><pre>   &quot;cell_type&quot;: &quot;markdown&quot;,</pre></td>
</tr><tr id="L6996007720">
<td class="ln"><a href="#L6996007720">353</a></td>
<td class="loc"><pre>   &quot;metadata&quot;: {},</pre></td>
</tr><tr id="L5223689861">
<td class="ln"><a href="#L5223689861">354</a></td>
<td class="loc"><pre>   &quot;source&quot;: [</pre></td>
</tr><tr id="L4469030395">
<td class="ln"><a href="#L4469030395">355</a></td>
<td class="loc"><pre>    &quot;With both lists and dictionaries, you can test whether or not they contain individual elements:&quot;</pre></td>
</tr><tr id="L6733516705">
<td class="ln"><a href="#L6733516705">356</a></td>
<td class="loc"><pre>   ]</pre></td>
</tr><tr id="L6984720143">
<td class="ln"><a href="#L6984720143">357</a></td>
<td class="loc"><pre>  },</pre></td>
</tr><tr id="L5097222816">
<td class="ln"><a href="#L5097222816">358</a></td>
<td class="loc"><pre>  {</pre></td>
</tr><tr id="L4308222482">
<td class="ln"><a href="#L4308222482">359</a></td>
<td class="loc"><pre>   &quot;cell_type&quot;: &quot;code&quot;,</pre></td>
</tr><tr id="L5689220271">
<td class="ln"><a href="#L5689220271">360</a></td>
<td class="loc"><pre>   &quot;execution_count&quot;: null,</pre></td>
</tr><tr id="L3726609729">
<td class="ln"><a href="#L3726609729">361</a></td>
<td class="loc"><pre>   &quot;metadata&quot;: {</pre></td>
</tr><tr id="L6259522523">
<td class="ln"><a href="#L6259522523">362</a></td>
<td class="loc"><pre>    &quot;collapsed&quot;: false,</pre></td>
</tr><tr id="L7718693989">
<td class="ln"><a href="#L7718693989">363</a></td>
<td class="loc"><pre>    &quot;scrolled&quot;: true</pre></td>
</tr><tr id="L5607153864">
<td class="ln"><a href="#L5607153864">364</a></td>
<td class="loc"><pre>   },</pre></td>
</tr><tr id="L3811922234">
<td class="ln"><a href="#L3811922234">365</a></td>
<td class="loc"><pre>   &quot;outputs&quot;: [],</pre></td>
</tr><tr id="L6379274212">
<td class="ln"><a href="#L6379274212">366</a></td>
<td class="loc"><pre>   &quot;source&quot;: [</pre></td>
</tr><tr id="L7604219982">
<td class="ln"><a href="#L7604219982">367</a></td>
<td class="loc"><pre>    &quot;if (\&quot;word\&quot; in my_dictionary.keys()):  # Note colon sets off if/else statements\n&quot;,</pre></td>
</tr><tr id="L5719205085">
<td class="ln"><a href="#L5719205085">368</a></td>
<td class="loc"><pre>    &quot;    print (my_dictionary[\&quot;word\&quot;])\n&quot;,</pre></td>
</tr><tr id="L3957790035">
<td class="ln"><a href="#L3957790035">369</a></td>
<td class="loc"><pre>    &quot;else:\n&quot;,</pre></td>
</tr><tr id="L5572365296">
<td class="ln"><a href="#L5572365296">370</a></td>
<td class="loc"><pre>    &quot;    print (\&quot;Word not found\&quot;)\n&quot;,</pre></td>
</tr><tr id="L4112948354">
<td class="ln"><a href="#L4112948354">371</a></td>
<td class="loc"><pre>    &quot;\n&quot;,</pre></td>
</tr><tr id="L5875035420">
<td class="ln"><a href="#L5875035420">372</a></td>
<td class="loc"><pre>    &quot;if (25 in lst):\n&quot;,</pre></td>
</tr><tr id="L7837892006">
<td class="ln"><a href="#L7837892006">373</a></td>
<td class="loc"><pre>    &quot;    print (\&quot;25 found!\&quot;)&quot;</pre></td>
</tr><tr id="L5457924103">
<td class="ln"><a href="#L5457924103">374</a></td>
<td class="loc"><pre>   ]</pre></td>
</tr><tr id="L4232732793">
<td class="ln"><a href="#L4232732793">375</a></td>
<td class="loc"><pre>  },</pre></td>
</tr><tr id="L5960315171">
<td class="ln"><a href="#L5960315171">376</a></td>
<td class="loc"><pre>  {</pre></td>
</tr><tr id="L7755792781">
<td class="ln"><a href="#L7755792781">377</a></td>
<td class="loc"><pre>   &quot;cell_type&quot;: &quot;markdown&quot;,</pre></td>
</tr><tr id="L5332735006">
<td class="ln"><a href="#L5332735006">378</a></td>
<td class="loc"><pre>   &quot;metadata&quot;: {},</pre></td>
</tr><tr id="L4074775700">
<td class="ln"><a href="#L4074775700">379</a></td>
<td class="loc"><pre>   &quot;source&quot;: [</pre></td>
</tr><tr id="L7593494585">
<td class="ln"><a href="#L7593494585">380</a></td>
<td class="loc"><pre>    &quot;Lists and loops go together!&quot;</pre></td>
</tr><tr id="L6368966599">
<td class="ln"><a href="#L6368966599">381</a></td>
<td class="loc"><pre>   ]</pre></td>
</tr><tr id="L3801475405">
<td class="ln"><a href="#L3801475405">382</a></td>
<td class="loc"><pre>  },</pre></td>
</tr><tr id="L5596567779">
<td class="ln"><a href="#L5596567779">383</a></td>
<td class="loc"><pre>  {</pre></td>
</tr><tr id="L7712883778">
<td class="ln"><a href="#L7712883778">384</a></td>
<td class="loc"><pre>   &quot;cell_type&quot;: &quot;code&quot;,</pre></td>
</tr><tr id="L6252819376">
<td class="ln"><a href="#L6252819376">385</a></td>
<td class="loc"><pre>   &quot;execution_count&quot;: null,</pre></td>
</tr><tr id="L3720029542">
<td class="ln"><a href="#L3720029542">386</a></td>
<td class="loc"><pre>   &quot;metadata&quot;: {</pre></td>
</tr><tr id="L5683287260">
<td class="ln"><a href="#L5683287260">387</a></td>
<td class="loc"><pre>    &quot;collapsed&quot;: false,</pre></td>
</tr><tr id="L7573012587">
<td class="ln"><a href="#L7573012587">388</a></td>
<td class="loc"><pre>    &quot;scrolled&quot;: true</pre></td>
</tr><tr id="L6147289045">
<td class="ln"><a href="#L6147289045">389</a></td>
<td class="loc"><pre>   },</pre></td>
</tr><tr id="L7744960890">
<td class="ln"><a href="#L7744960890">390</a></td>
<td class="loc"><pre>   &quot;outputs&quot;: [],</pre></td>
</tr><tr id="L5950114056">
<td class="ln"><a href="#L5950114056">391</a></td>
<td class="loc"><pre>   &quot;source&quot;: [</pre></td>
</tr><tr id="L4222670990">
<td class="ln"><a href="#L4222670990">392</a></td>
<td class="loc"><pre>    &quot;for s in my_dictionary.keys():\n&quot;,</pre></td>
</tr><tr id="L5446952996">
<td class="ln"><a href="#L5446952996">393</a></td>
<td class="loc"><pre>    &quot;    print (my_dictionary[s])&quot;</pre></td>
</tr><tr id="L7831713153">
<td class="ln"><a href="#L7831713153">394</a></td>
<td class="loc"><pre>   ]</pre></td>
</tr><tr id="L5868700911">
<td class="ln"><a href="#L5868700911">395</a></td>
<td class="loc"><pre>  },</pre></td>
</tr><tr id="L4106491045">
<td class="ln"><a href="#L4106491045">396</a></td>
<td class="loc"><pre>  {</pre></td>
</tr><tr id="L5566309403">
<td class="ln"><a href="#L5566309403">397</a></td>
<td class="loc"><pre>   &quot;cell_type&quot;: &quot;markdown&quot;,</pre></td>
</tr><tr id="L7991996844">
<td class="ln"><a href="#L7991996844">398</a></td>
<td class="loc"><pre>   &quot;metadata&quot;: {},</pre></td>
</tr><tr id="L5995692310">
<td class="ln"><a href="#L5995692310">399</a></td>
<td class="loc"><pre>   &quot;source&quot;: [</pre></td>
</tr><tr id="L4331539374">
<td class="ln"><a href="#L4331539374">400</a></td>
<td class="loc"><pre>    &quot;You can also iterate over both simultaneously:&quot;</pre></td>
</tr><tr id="L5086452804">
<td class="ln"><a href="#L5086452804">401</a></td>
<td class="loc"><pre>   ]</pre></td>
</tr><tr id="L7115926746">
<td class="ln"><a href="#L7115926746">402</a></td>
<td class="loc"><pre>  },</pre></td>
</tr><tr id="L6864452968">
<td class="ln"><a href="#L6864452968">403</a></td>
<td class="loc"><pre>  {</pre></td>
</tr><tr id="L4282568645">
<td class="ln"><a href="#L4282568645">404</a></td>
<td class="loc"><pre>   &quot;cell_type&quot;: &quot;code&quot;,</pre></td>
</tr><tr id="L5138538555">
<td class="ln"><a href="#L5138538555">405</a></td>
<td class="loc"><pre>   &quot;execution_count&quot;: null,</pre></td>
</tr><tr id="L7135604961">
<td class="ln"><a href="#L7135604961">406</a></td>
<td class="loc"><pre>   &quot;metadata&quot;: {</pre></td>
</tr><tr id="L6849921359">
<td class="ln"><a href="#L6849921359">407</a></td>
<td class="loc"><pre>    &quot;collapsed&quot;: false</pre></td>
</tr><tr id="L4426601440">
<td class="ln"><a href="#L4426601440">408</a></td>
<td class="loc"><pre>   },</pre></td>
</tr><tr id="L5248230482">
<td class="ln"><a href="#L5248230482">409</a></td>
<td class="loc"><pre>   &quot;outputs&quot;: [],</pre></td>
</tr><tr id="L4716043501">
<td class="ln"><a href="#L4716043501">410</a></td>
<td class="loc"><pre>   &quot;source&quot;: [</pre></td>
</tr><tr id="L4967239043">
<td class="ln"><a href="#L4967239043">411</a></td>
<td class="loc"><pre>    &quot;for k, v in my_dictionary.items():\n&quot;,</pre></td>
</tr><tr id="L7232764953">
<td class="ln"><a href="#L7232764953">412</a></td>
<td class="loc"><pre>    &quot;    print (\&quot;{0} is the key; {1} is the value\&quot;.format(k, v))  # Note the string placeholders and format call.&quot;</pre></td>
</tr><tr id="L6478130343">
<td class="ln"><a href="#L6478130343">413</a></td>
<td class="loc"><pre>   ]</pre></td>
</tr><tr id="L4701544710">
<td class="ln"><a href="#L4701544710">414</a></td>
<td class="loc"><pre>  },</pre></td>
</tr><tr id="L4986950012">
<td class="ln"><a href="#L4986950012">415</a></td>
<td class="loc"><pre>  {</pre></td>
</tr><tr id="L7284817954">
<td class="ln"><a href="#L7284817954">416</a></td>
<td class="loc"><pre>   &quot;cell_type&quot;: &quot;markdown&quot;,</pre></td>
</tr><tr id="L6429126800">
<td class="ln"><a href="#L6429126800">417</a></td>
<td class="loc"><pre>   &quot;metadata&quot;: {},</pre></td>
</tr><tr id="L4545422623">
<td class="ln"><a href="#L4545422623">418</a></td>
<td class="loc"><pre>   &quot;source&quot;: [</pre></td>
</tr><tr id="L4864120209">
<td class="ln"><a href="#L4864120209">419</a></td>
<td class="loc"><pre>    &quot;The range() built-in function returns a sequential series, which can be cast to a lst:&quot;</pre></td>
</tr><tr id="L4093405744">
<td class="ln"><a href="#L4093405744">420</a></td>
<td class="loc"><pre>   ]</pre></td>
</tr><tr id="L5318326722">
<td class="ln"><a href="#L5318326722">421</a></td>
<td class="loc"><pre>  },</pre></td>
</tr><tr id="L7884639068">
<td class="ln"><a href="#L7884639068">422</a></td>
<td class="loc"><pre>  {</pre></td>
</tr><tr id="L6089415398">
<td class="ln"><a href="#L6089415398">423</a></td>
<td class="loc"><pre>   &quot;cell_type&quot;: &quot;code&quot;,</pre></td>
</tr><tr id="L3982011975">
<td class="ln"><a href="#L3982011975">424</a></td>
<td class="loc"><pre>   &quot;execution_count&quot;: null,</pre></td>
</tr><tr id="L5441158585">
<td class="ln"><a href="#L5441158585">425</a></td>
<td class="loc"><pre>   &quot;metadata&quot;: {</pre></td>
</tr><tr id="L7975128931">
<td class="ln"><a href="#L7975128931">426</a></td>
<td class="loc"><pre>    &quot;collapsed&quot;: false,</pre></td>
</tr><tr id="L6012526285">
<td class="ln"><a href="#L6012526285">427</a></td>
<td class="loc"><pre>    &quot;scrolled&quot;: true</pre></td>
</tr><tr id="L4123193950">
<td class="ln"><a href="#L4123193950">428</a></td>
<td class="loc"><pre>   },</pre></td>
</tr><tr id="L5549572564">
<td class="ln"><a href="#L5549572564">429</a></td>
<td class="loc"><pre>   &quot;outputs&quot;: [],</pre></td>
</tr><tr id="L3942857583">
<td class="ln"><a href="#L3942857583">430</a></td>
<td class="loc"><pre>   &quot;source&quot;: [</pre></td>
</tr><tr id="L5738359553">
<td class="ln"><a href="#L5738359553">431</a></td>
<td class="loc"><pre>    &quot;print(list(range(5)))  # 0 to n-1\n&quot;,</pre></td>
</tr><tr id="L7466982043">
<td class="ln"><a href="#L7466982043">432</a></td>
<td class="loc"><pre>    &quot;print(list(range(1, 5)))  # m to n-1\n&quot;,</pre></td>
</tr><tr id="L6241782309">
<td class="ln"><a href="#L6241782309">433</a></td>
<td class="loc"><pre>    &quot;print(list(range(0, 100, 5)))  # m to n-1 step x&quot;</pre></td>
</tr><tr id="L3865935752">
<td class="ln"><a href="#L3865935752">434</a></td>
<td class="loc"><pre>   ]</pre></td>
</tr><tr id="L5828816634">
<td class="ln"><a href="#L5828816634">435</a></td>
<td class="loc"><pre>  },</pre></td>
</tr><tr id="L7589846692">
<td class="ln"><a href="#L7589846692">436</a></td>
<td class="loc"><pre>  {</pre></td>
</tr><tr id="L6130421262">
<td class="ln"><a href="#L6130421262">437</a></td>
<td class="loc"><pre>   &quot;cell_type&quot;: &quot;markdown&quot;,</pre></td>
</tr><tr id="L3703292829">
<td class="ln"><a href="#L3703292829">438</a></td>
<td class="loc"><pre>   &quot;metadata&quot;: {},</pre></td>
</tr><tr id="L5699990291">
<td class="ln"><a href="#L5699990291">439</a></td>
<td class="loc"><pre>   &quot;source&quot;: [</pre></td>
</tr><tr id="L4802597042">
<td class="ln"><a href="#L4802597042">440</a></td>
<td class="loc"><pre>    &quot;*List comprehensions* use a special variation of the bracket notation to iterate over a list.&quot;</pre></td>
</tr><tr id="L4618510656">
<td class="ln"><a href="#L4618510656">441</a></td>
<td class="loc"><pre>   ]</pre></td>
</tr><tr id="L6648999894">
<td class="ln"><a href="#L6648999894">442</a></td>
<td class="loc"><pre>  },</pre></td>
</tr><tr id="L7336525932">
<td class="ln"><a href="#L7336525932">443</a></td>
<td class="loc"><pre>  {</pre></td>
</tr><tr id="L4885253321">
<td class="ln"><a href="#L4885253321">444</a></td>
<td class="loc"><pre>   &quot;cell_type&quot;: &quot;code&quot;,</pre></td>
</tr><tr id="L4532739383">
<td class="ln"><a href="#L4532739383">445</a></td>
<td class="loc"><pre>   &quot;execution_count&quot;: null,</pre></td>
</tr><tr id="L6528789469">
<td class="ln"><a href="#L6528789469">446</a></td>
<td class="loc"><pre>   &quot;metadata&quot;: {</pre></td>
</tr><tr id="L7451589715">
<td class="ln"><a href="#L7451589715">447</a></td>
<td class="loc"><pre>    &quot;collapsed&quot;: false</pre></td>
</tr><tr id="L5024602340">
<td class="ln"><a href="#L5024602340">448</a></td>
<td class="loc"><pre>   },</pre></td>
</tr><tr id="L4638796110">
<td class="ln"><a href="#L4638796110">449</a></td>
<td class="loc"><pre>   &quot;outputs&quot;: [],</pre></td>
</tr><tr id="L5188149233">
<td class="ln"><a href="#L5188149233">450</a></td>
<td class="loc"><pre>   &quot;source&quot;: [</pre></td>
</tr><tr id="L4500344959">
<td class="ln"><a href="#L4500344959">451</a></td>
<td class="loc"><pre>    &quot;a = range(10)\n&quot;,</pre></td>
</tr><tr id="L6764790037">
<td class="ln"><a href="#L6764790037">452</a></td>
<td class="loc"><pre>    &quot;print (a)\n&quot;,</pre></td>
</tr><tr id="L6949155243">
<td class="ln"><a href="#L6949155243">453</a></td>
<td class="loc"><pre>    &quot;b = [n/10.0 for n in a]\n&quot;,</pre></td>
</tr><tr id="L5303180298">
<td class="ln"><a href="#L5303180298">454</a></td>
<td class="loc"><pre>    &quot;print (b)&quot;</pre></td>
</tr><tr id="L4380101752">
<td class="ln"><a href="#L4380101752">455</a></td>
<td class="loc"><pre>   ]</pre></td>
</tr><tr id="L6679051550">
<td class="ln"><a href="#L6679051550">456</a></td>
<td class="loc"><pre>  },</pre></td>
</tr><tr id="L7031844244">
<td class="ln"><a href="#L7031844244">457</a></td>
<td class="loc"><pre>  {</pre></td>
</tr><tr id="L5142374435">
<td class="ln"><a href="#L5142374435">458</a></td>
<td class="loc"><pre>   &quot;cell_type&quot;: &quot;markdown&quot;,</pre></td>
</tr><tr id="L4253636749">
<td class="ln"><a href="#L4253636749">459</a></td>
<td class="loc"><pre>   &quot;metadata&quot;: {},</pre></td>
</tr><tr id="L5642891060">
<td class="ln"><a href="#L5642891060">460</a></td>
<td class="loc"><pre>   &quot;source&quot;: [</pre></td>
</tr><tr id="L3780279998">
<td class="ln"><a href="#L3780279998">461</a></td>
<td class="loc"><pre>    &quot;Finally, you can zip lists together into &quot;</pre></td>
</tr><tr id="L6347673176">
<td class="ln"><a href="#L6347673176">462</a></td>
<td class="loc"><pre>   ]</pre></td>
</tr><tr id="L7639981546">
<td class="ln"><a href="#L7639981546">463</a></td>
<td class="loc"><pre>  },</pre></td>
</tr><tr id="L5653752651">
<td class="ln"><a href="#L5653752651">464</a></td>
<td class="loc"><pre>  {</pre></td>
</tr><tr id="L3757980341">
<td class="ln"><a href="#L3757980341">465</a></td>
<td class="loc"><pre>   &quot;cell_type&quot;: &quot;code&quot;,</pre></td>
</tr><tr id="L6290868831">
<td class="ln"><a href="#L6290868831">466</a></td>
<td class="loc"><pre>   &quot;execution_count&quot;: null,</pre></td>
</tr><tr id="L7683185105">
<td class="ln"><a href="#L7683185105">467</a></td>
<td class="loc"><pre>   &quot;metadata&quot;: {</pre></td>
</tr><tr id="L5799622498">
<td class="ln"><a href="#L5799622498">468</a></td>
<td class="loc"><pre>    &quot;collapsed&quot;: false,</pre></td>
</tr><tr id="L3870033616">
<td class="ln"><a href="#L3870033616">469</a></td>
<td class="loc"><pre>    &quot;scrolled&quot;: true</pre></td>
</tr><tr id="L5493390963">
<td class="ln"><a href="#L5493390963">470</a></td>
<td class="loc"><pre>   },</pre></td>
</tr><tr id="L4201360893">
<td class="ln"><a href="#L4201360893">471</a></td>
<td class="loc"><pre>   &quot;outputs&quot;: [],</pre></td>
</tr><tr id="L5928968087">
<td class="ln"><a href="#L5928968087">472</a></td>
<td class="loc"><pre>   &quot;source&quot;: [</pre></td>
</tr><tr id="L7791300393">
<td class="ln"><a href="#L7791300393">473</a></td>
<td class="loc"><pre>    &quot;list1 = [\&quot;a\&quot;, \&quot;b\&quot;, \&quot;c\&quot;]\n&quot;,</pre></td>
</tr><tr id="L5536627340">
<td class="ln"><a href="#L5536627340">474</a></td>
<td class="loc"><pre>    &quot;list2 = [123, 945, 876]\n&quot;,</pre></td>
</tr><tr id="L4144589302">
<td class="ln"><a href="#L4144589302">475</a></td>
<td class="loc"><pre>    &quot;t = zip(list1, list2) # zip create an iterable object that combines the two lists \n&quot;,</pre></td>
</tr><tr id="L5906635680">
<td class="ln"><a href="#L5906635680">476</a></td>
<td class="loc"><pre>    &quot;print (dict(zip(list1, list2)))  # This can then be converted to a list (of tuples - like immutablelists) - or a dictionary\n&quot;,</pre></td>
</tr><tr id="L7802129170">
<td class="ln"><a href="#L7802129170">477</a></td>
<td class="loc"><pre>    &quot;print (list(zip(list1, list2)))&quot;</pre></td>
</tr><tr id="L5378672289">
<td class="ln"><a href="#L5378672289">478</a></td>
<td class="loc"><pre>   ]</pre></td>
</tr><tr id="L4019402255">
<td class="ln"><a href="#L4019402255">479</a></td>
<td class="loc"><pre>  },</pre></td>
</tr><tr id="L7681249718">
<td class="ln"><a href="#L7681249718">480</a></td>
<td class="loc"><pre>  {</pre></td>
</tr><tr id="L6288548428">
<td class="ln"><a href="#L6288548428">481</a></td>
<td class="loc"><pre>   &quot;cell_type&quot;: &quot;markdown&quot;,</pre></td>
</tr><tr id="L3755799250">
<td class="ln"><a href="#L3755799250">482</a></td>
<td class="loc"><pre>   &quot;metadata&quot;: {},</pre></td>
</tr><tr id="L5651678048">
<td class="ln"><a href="#L5651678048">483</a></td>
<td class="loc"><pre>   &quot;source&quot;: [</pre></td>
</tr><tr id="L7624873405">
<td class="ln"><a href="#L7624873405">484</a></td>
<td class="loc"><pre>    &quot;***\n&quot;,</pre></td>
</tr><tr id="L6333490739">
<td class="ln"><a href="#L6333490739">485</a></td>
<td class="loc"><pre>    &quot;### Questions\n&quot;,</pre></td>
</tr><tr id="L3765974761">
<td class="ln"><a href="#L3765974761">486</a></td>
<td class="loc"><pre>    &quot;\n&quot;,</pre></td>
</tr><tr id="L5627905879">
<td class="ln"><a href="#L5627905879">487</a></td>
<td class="loc"><pre>    &quot;Here is a list of the populations of the 50 states from geonames.org. Run the cell to load the numbers into the state_populations variable:&quot;</pre></td>
</tr><tr id="L7519341032">
<td class="ln"><a href="#L7519341032">488</a></td>
<td class="loc"><pre>   ]</pre></td>
</tr><tr id="L6193617498">
<td class="ln"><a href="#L6193617498">489</a></td>
<td class="loc"><pre>  },</pre></td>
</tr><tr id="L7800333045">
<td class="ln"><a href="#L7800333045">490</a></td>
<td class="loc"><pre>  {</pre></td>
</tr><tr id="L5904176011">
<td class="ln"><a href="#L5904176011">491</a></td>
<td class="loc"><pre>   &quot;cell_type&quot;: &quot;code&quot;,</pre></td>
</tr><tr id="L4141990417">
<td class="ln"><a href="#L4141990417">492</a></td>
<td class="loc"><pre>   &quot;execution_count&quot;: null,</pre></td>
</tr><tr id="L5534970527">
<td class="ln"><a href="#L5534970527">493</a></td>
<td class="loc"><pre>   &quot;metadata&quot;: {</pre></td>
</tr><tr id="L7776593662">
<td class="ln"><a href="#L7776593662">494</a></td>
<td class="loc"><pre>    &quot;collapsed&quot;: false,</pre></td>
</tr><tr id="L5914384244">
<td class="ln"><a href="#L5914384244">495</a></td>
<td class="loc"><pre>    &quot;scrolled&quot;: true</pre></td>
</tr><tr id="L4186900010">
<td class="ln"><a href="#L4186900010">496</a></td>
<td class="loc"><pre>   },</pre></td>
</tr><tr id="L5478561432">
<td class="ln"><a href="#L5478561432">497</a></td>
<td class="loc"><pre>   &quot;outputs&quot;: [],</pre></td>
</tr><tr id="L7903583015">
<td class="ln"><a href="#L7903583015">498</a></td>
<td class="loc"><pre>   &quot;source&quot;: [</pre></td>
</tr><tr id="L6074665881">
<td class="ln"><a href="#L6074665881">499</a></td>
<td class="loc"><pre>    &quot;state_populations = [\n&quot;,</pre></td>
</tr><tr id="L4310725091">
<td class="ln"><a href="#L4310725091">500</a></td>
<td class="loc"><pre>    &quot;    4530315,\n&quot;,</pre></td>
</tr><tr id="L5098914381">
<td class="ln"><a href="#L5098914381">501</a></td>
<td class="loc"><pre>    &quot;    660633,\n&quot;,</pre></td>
</tr><tr id="L7094801095">
<td class="ln"><a href="#L7094801095">502</a></td>
<td class="loc"><pre>    &quot;    5863809,\n&quot;,</pre></td>
</tr><tr id="L6877160249">
<td class="ln"><a href="#L6877160249">503</a></td>
<td class="loc"><pre>    &quot;    2757631,\n&quot;,</pre></td>
</tr><tr id="L4286887388">
<td class="ln"><a href="#L4286887388">504</a></td>
<td class="loc"><pre>    &quot;    37691912,\n&quot;,</pre></td>
</tr><tr id="L5109024358">
<td class="ln"><a href="#L5109024358">505</a></td>
<td class="loc"><pre>    &quot;    4678630,\n&quot;,</pre></td>
</tr><tr id="L7139677872">
<td class="ln"><a href="#L7139677872">506</a></td>
<td class="loc"><pre>    &quot;    3527249,\n&quot;,</pre></td>
</tr><tr id="L6820718402">
<td class="ln"><a href="#L6820718402">507</a></td>
<td class="loc"><pre>    &quot;    838549,\n&quot;,</pre></td>
</tr><tr id="L4413909425">
<td class="ln"><a href="#L4413909425">508</a></td>
<td class="loc"><pre>    &quot;    552433,\n&quot;,</pre></td>
</tr><tr id="L5269338687">
<td class="ln"><a href="#L5269338687">509</a></td>
<td class="loc"><pre>    &quot;    17671452,\n&quot;,</pre></td>
</tr><tr id="L4728505124">
<td class="ln"><a href="#L4728505124">510</a></td>
<td class="loc"><pre>    &quot;    8975842,\n&quot;,</pre></td>
</tr><tr id="L4946424718">
<td class="ln"><a href="#L4946424718">511</a></td>
<td class="loc"><pre>    &quot;    1284220,\n&quot;,</pre></td>
</tr><tr id="L7245472264">
<td class="ln"><a href="#L7245472264">512</a></td>
<td class="loc"><pre>    &quot;    1416564,\n&quot;,</pre></td>
</tr><tr id="L6457004666">
<td class="ln"><a href="#L6457004666">513</a></td>
<td class="loc"><pre>    &quot;    12772888,\n&quot;,</pre></td>
</tr><tr id="L4672030491">
<td class="ln"><a href="#L4672030491">514</a></td>
<td class="loc"><pre>    &quot;    6265933,\n&quot;,</pre></td>
</tr><tr id="L4991268773">
<td class="ln"><a href="#L4991268773">515</a></td>
<td class="loc"><pre>    &quot;    2955010,\n&quot;,</pre></td>
</tr><tr id="L7255614959">
<td class="ln"><a href="#L7255614959">516</a></td>
<td class="loc"><pre>    &quot;    2740759,\n&quot;,</pre></td>
</tr><tr id="L6433199745">
<td class="ln"><a href="#L6433199745">517</a></td>
<td class="loc"><pre>    &quot;    4206074,\n&quot;,</pre></td>
</tr><tr id="L4566530802">
<td class="ln"><a href="#L4566530802">518</a></td>
<td class="loc"><pre>    &quot;    4515939,\n&quot;,</pre></td>
</tr><tr id="L4851428224">
<td class="ln"><a href="#L4851428224">519</a></td>
<td class="loc"><pre>    &quot;    1325518,\n&quot;,</pre></td>
</tr><tr id="L4072281185">
<td class="ln"><a href="#L4072281185">520</a></td>
<td class="loc"><pre>    &quot;    5624246,\n&quot;,</pre></td>
</tr><tr id="L5331035087">
<td class="ln"><a href="#L5331035087">521</a></td>
<td class="loc"><pre>    &quot;    6433422,\n&quot;,</pre></td>
</tr><tr id="L7863825733">
<td class="ln"><a href="#L7863825733">522</a></td>
<td class="loc"><pre>    &quot;    9883360,\n&quot;,</pre></td>
</tr><tr id="L6101877947">
<td class="ln"><a href="#L6101877947">523</a></td>
<td class="loc"><pre>    &quot;    5141953,\n&quot;,</pre></td>
</tr><tr id="L3986085978">
<td class="ln"><a href="#L3986085978">524</a></td>
<td class="loc"><pre>    &quot;    2901371,\n&quot;,</pre></td>
</tr><tr id="L5411956712">
<td class="ln"><a href="#L5411956712">525</a></td>
<td class="loc"><pre>    &quot;    5768151,\n&quot;,</pre></td>
</tr><tr id="L7979448622">
<td class="ln"><a href="#L7979448622">526</a></td>
<td class="loc"><pre>    &quot;    930698,\n&quot;,</pre></td>
</tr><tr id="L5983013060">
<td class="ln"><a href="#L5983013060">527</a></td>
<td class="loc"><pre>    &quot;    1757399,\n&quot;,</pre></td>
</tr><tr id="L4110715955">
<td class="ln"><a href="#L4110715955">528</a></td>
<td class="loc"><pre>    &quot;    2399532,\n&quot;,</pre></td>
</tr><tr id="L5570403261">
<td class="ln"><a href="#L5570403261">529</a></td>
<td class="loc"><pre>    &quot;    1316216,\n&quot;,</pre></td>
</tr><tr id="L3955565986">
<td class="ln"><a href="#L3955565986">530</a></td>
<td class="loc"><pre>    &quot;    8751436,\n&quot;,</pre></td>
</tr><tr id="L5717234960">
<td class="ln"><a href="#L5717234960">531</a></td>
<td class="loc"><pre>    &quot;    1912684,\n&quot;,</pre></td>
</tr><tr id="L7479444614">
<td class="ln"><a href="#L7479444614">532</a></td>
<td class="loc"><pre>    &quot;    19274244,\n&quot;,</pre></td>
</tr><tr id="L6220968956">
<td class="ln"><a href="#L6220968956">533</a></td>
<td class="loc"><pre>    &quot;    8611367,\n&quot;,</pre></td>
</tr><tr id="L3836733849">
<td class="ln"><a href="#L3836733849">534</a></td>
<td class="loc"><pre>    &quot;    630529,\n&quot;,</pre></td>
</tr><tr id="L5832890663">
<td class="ln"><a href="#L5832890663">535</a></td>
<td class="loc"><pre>    &quot;    11467123,\n&quot;,</pre></td>
</tr><tr id="L7560333421">
<td class="ln"><a href="#L7560333421">536</a></td>
<td class="loc"><pre>    &quot;    3547049,\n&quot;,</pre></td>
</tr><tr id="L6134740995">
<td class="ln"><a href="#L6134740995">537</a></td>
<td class="loc"><pre>    &quot;    3642919,\n&quot;,</pre></td>
</tr><tr id="L3724123508">
<td class="ln"><a href="#L3724123508">538</a></td>
<td class="loc"><pre>    &quot;    12440621,\n&quot;,</pre></td>
</tr><tr id="L5687512318">
<td class="ln"><a href="#L5687512318">539</a></td>
<td class="loc"><pre>    &quot;    1050292,\n&quot;,</pre></td>
</tr><tr id="L4773361375">
<td class="ln"><a href="#L4773361375">540</a></td>
<td class="loc"><pre>    &quot;    4229842,\n&quot;,</pre></td>
</tr><tr id="L4622550865">
<td class="ln"><a href="#L4622550865">541</a></td>
<td class="loc"><pre>    &quot;    770184,\n&quot;,</pre></td>
</tr><tr id="L6619518411">
<td class="ln"><a href="#L6619518411">542</a></td>
<td class="loc"><pre>    &quot;    5935099,\n&quot;,</pre></td>
</tr><tr id="L7340877365">
<td class="ln"><a href="#L7340877365">543</a></td>
<td class="loc"><pre>    &quot;    22875689,\n&quot;,</pre></td>
</tr><tr id="L4897993432">
<td class="ln"><a href="#L4897993432">544</a></td>
<td class="loc"><pre>    &quot;    2427340,\n&quot;,</pre></td>
</tr><tr id="L4511646570">
<td class="ln"><a href="#L4511646570">545</a></td>
<td class="loc"><pre>    &quot;    624501,\n&quot;,</pre></td>
</tr><tr id="L6541218228">
<td class="ln"><a href="#L6541218228">546</a></td>
<td class="loc"><pre>    &quot;    7642884,\n&quot;,</pre></td>
</tr><tr id="L7430742590">
<td class="ln"><a href="#L7430742590">547</a></td>
<td class="loc"><pre>    &quot;    6271775,\n&quot;,</pre></td>
</tr><tr id="L5020266157">
<td class="ln"><a href="#L5020266157">548</a></td>
<td class="loc"><pre>    &quot;    1817871,\n&quot;,</pre></td>
</tr><tr id="L4668260163">
<td class="ln"><a href="#L4668260163">549</a></td>
<td class="loc"><pre>    &quot;    5535168,\n&quot;,</pre></td>
</tr><tr id="L5192189472">
<td class="ln"><a href="#L5192189472">550</a></td>
<td class="loc"><pre>    &quot;    505907\n&quot;,</pre></td>
</tr><tr id="L4471109266">
<td class="ln"><a href="#L4471109266">551</a></td>
<td class="loc"><pre>    &quot;]&quot;</pre></td>
</tr><tr id="L6769141516">
<td class="ln"><a href="#L6769141516">552</a></td>
<td class="loc"><pre>   ]</pre></td>
</tr><tr id="L6919673718">
<td class="ln"><a href="#L6919673718">553</a></td>
<td class="loc"><pre>  },</pre></td>
</tr><tr id="L5282087447">
<td class="ln"><a href="#L5282087447">554</a></td>
<td class="loc"><pre>  {</pre></td>
</tr><tr id="L4392841897">
<td class="ln"><a href="#L4392841897">555</a></td>
<td class="loc"><pre>   &quot;cell_type&quot;: &quot;markdown&quot;,</pre></td>
</tr><tr id="L6658204403">
<td class="ln"><a href="#L6658204403">556</a></td>
<td class="loc"><pre>   &quot;metadata&quot;: {},</pre></td>
</tr><tr id="L7044273021">
<td class="ln"><a href="#L7044273021">557</a></td>
<td class="loc"><pre>   &quot;source&quot;: [</pre></td>
</tr><tr id="L5171838446">
<td class="ln"><a href="#L5171838446">558</a></td>
<td class="loc"><pre>    &quot;***\n&quot;,</pre></td>
</tr><tr id="L4249300612">
<td class="ln"><a href="#L4249300612">559</a></td>
<td class="loc"><pre>    &quot;### 1. Write some code below that prints:\n&quot;,</pre></td>
</tr><tr id="L5613410653">
<td class="ln"><a href="#L5613410653">560</a></td>
<td class="loc"><pre>    &quot;* The number of states\n&quot;,</pre></td>
</tr><tr id="L3784632531">
<td class="ln"><a href="#L3784632531">561</a></td>
<td class="loc"><pre>    &quot;* The total population of all states\n&quot;,</pre></td>
</tr><tr id="L6318438473">
<td class="ln"><a href="#L6318438473">562</a></td>
<td class="loc"><pre>    &quot;* The maximum population\n&quot;,</pre></td>
</tr><tr id="L7644022711">
<td class="ln"><a href="#L7644022711">563</a></td>
<td class="loc"><pre>    &quot;* The average population\n&quot;,</pre></td>
</tr><tr id="L5666182486">
<td class="ln"><a href="#L5666182486">564</a></td>
<td class="loc"><pre>    &quot;* The top 10 populations&quot;</pre></td>
</tr><tr id="L3737134316">
<td class="ln"><a href="#L3737134316">565</a></td>
<td class="loc"><pre>   ]</pre></td>
</tr><tr id="L6303609906">
<td class="ln"><a href="#L6303609906">566</a></td>
<td class="loc"><pre>  },</pre></td>
</tr><tr id="L7662093248">
<td class="ln"><a href="#L7662093248">567</a></td>
<td class="loc"><pre>  {</pre></td>
</tr><tr id="L5795565871">
<td class="ln"><a href="#L5795565871">568</a></td>
<td class="loc"><pre>   &quot;cell_type&quot;: &quot;code&quot;,</pre></td>
</tr><tr id="L3899285697">
<td class="ln"><a href="#L3899285697">569</a></td>
<td class="loc"><pre>   &quot;execution_count&quot;: null,</pre></td>
</tr><tr id="L5497743518">
<td class="ln"><a href="#L5497743518">570</a></td>
<td class="loc"><pre>   &quot;metadata&quot;: {</pre></td>
</tr><tr id="L4171880468">
<td class="ln"><a href="#L4171880468">571</a></td>
<td class="loc"><pre>    &quot;collapsed&quot;: false</pre></td>
</tr><tr id="L5933009290">
<td class="ln"><a href="#L5933009290">572</a></td>
<td class="loc"><pre>   },</pre></td>
</tr><tr id="L7762065656">
<td class="ln"><a href="#L7762065656">573</a></td>
<td class="loc"><pre>   &quot;outputs&quot;: [],</pre></td>
</tr><tr id="L5515781269">
<td class="ln"><a href="#L5515781269">574</a></td>
<td class="loc"><pre>   &quot;source&quot;: []</pre></td>
</tr><tr id="L4157019179">
<td class="ln"><a href="#L4157019179">575</a></td>
<td class="loc"><pre>  },</pre></td>
</tr><tr id="L5885543793">
<td class="ln"><a href="#L5885543793">576</a></td>
<td class="loc"><pre>  {</pre></td>
</tr><tr id="L7814870271">
<td class="ln"><a href="#L7814870271">577</a></td>
<td class="loc"><pre>   &quot;cell_type&quot;: &quot;markdown&quot;,</pre></td>
</tr><tr id="L5407924336">
<td class="ln"><a href="#L5407924336">578</a></td>
<td class="loc"><pre>   &quot;metadata&quot;: {},</pre></td>
</tr><tr id="L4015345666">
<td class="ln"><a href="#L4015345666">579</a></td>
<td class="loc"><pre>   &quot;source&quot;: [</pre></td>
</tr><tr id="L7668820971">
<td class="ln"><a href="#L7668820971">580</a></td>
<td class="loc"><pre>    &quot;***\n&quot;,</pre></td>
</tr><tr id="L6309395541">
<td class="ln"><a href="#L6309395541">581</a></td>
<td class="loc"><pre>    &quot;### 2. Use the data loaded below to:\n&quot;,</pre></td>
</tr><tr id="L3743059135">
<td class="ln"><a href="#L3743059135">582</a></td>
<td class="loc"><pre>    &quot;\n&quot;,</pre></td>
</tr><tr id="L5672770865">
<td class="ln"><a href="#L5672770865">583</a></td>
<td class="loc"><pre>    &quot;* figure out what the highest and lowest per-capita arts funding is.\n&quot;,</pre></td>
</tr><tr id="L7654354900">
<td class="ln"><a href="#L7654354900">584</a></td>
<td class="loc"><pre>    &quot;* figure out what states those amounts refer to\n&quot;,</pre></td>
</tr><tr id="L6329139294">
<td class="ln"><a href="#L6329139294">585</a></td>
<td class="loc"><pre>    &quot;* create a dictionary where the keys are state names, and the values are per-capita arts funding.\n&quot;,</pre></td>
</tr><tr id="L3795210424">
<td class="ln"><a href="#L3795210424">586</a></td>
<td class="loc"><pre>    &quot;\n&quot;,</pre></td>
</tr><tr id="L5623865674">
<td class="ln"><a href="#L5623865674">587</a></td>
<td class="loc"><pre>    &quot;The arts_funding_data file contains, in the same order:\n&quot;,</pre></td>
</tr><tr id="L7498265529">
<td class="ln"><a href="#L7498265529">588</a></td>
<td class="loc"><pre>    &quot;* state_names\n&quot;,</pre></td>
</tr><tr id="L6206342215">
<td class="ln"><a href="#L6206342215">589</a></td>
<td class="loc"><pre>    &quot;* state_populations\n&quot;,</pre></td>
</tr><tr id="L7821180204">
<td class="ln"><a href="#L7821180204">590</a></td>
<td class="loc"><pre>    &quot;* state_arts_funding&quot;</pre></td>
</tr><tr id="L5891747222">
<td class="ln"><a href="#L5891747222">591</a></td>
<td class="loc"><pre>   ]</pre></td>
</tr><tr id="L4163083264">
<td class="ln"><a href="#L4163083264">592</a></td>
<td class="loc"><pre>  },</pre></td>
</tr><tr id="L5522230386">
<td class="ln"><a href="#L5522230386">593</a></td>
<td class="loc"><pre>  {</pre></td>
</tr><tr id="L7772242195">
<td class="ln"><a href="#L7772242195">594</a></td>
<td class="loc"><pre>   &quot;cell_type&quot;: &quot;code&quot;,</pre></td>
</tr><tr id="L5943865757">
<td class="ln"><a href="#L5943865757">595</a></td>
<td class="loc"><pre>   &quot;execution_count&quot;: null,</pre></td>
</tr><tr id="L4182859767">
<td class="ln"><a href="#L4182859767">596</a></td>
<td class="loc"><pre>   &quot;metadata&quot;: {</pre></td>
</tr><tr id="L5507797129">
<td class="ln"><a href="#L5507797129">597</a></td>
<td class="loc"><pre>    &quot;collapsed&quot;: false</pre></td>
</tr><tr id="L7916307706">
<td class="ln"><a href="#L7916307706">598</a></td>
<td class="loc"><pre>   },</pre></td>
</tr><tr id="L6053590408">
<td class="ln"><a href="#L6053590408">599</a></td>
<td class="loc"><pre>   &quot;outputs&quot;: [],</pre></td>
</tr><tr id="L4339646492">
<td class="ln"><a href="#L4339646492">600</a></td>
<td class="loc"><pre>   &quot;source&quot;: [</pre></td>
</tr><tr id="L5061537958">
<td class="ln"><a href="#L5061537958">601</a></td>
<td class="loc"><pre>    &quot;import arts_funding_data as d  # Import runs the content of the reference file; \&quot;as\&quot; gives it an alias.\n&quot;,</pre></td>
</tr><tr id="L7057416432">
<td class="ln"><a href="#L7057416432">602</a></td>
<td class="loc"><pre>    &quot;\n&quot;,</pre></td>
</tr><tr id="L6906089858">
<td class="ln"><a href="#L6906089858">603</a></td>
<td class="loc"><pre>    &quot;print (d.state_names, d.state_populations, d.state_arts_funding)&quot;</pre></td>
</tr><tr id="L4257676323">
<td class="ln"><a href="#L4257676323">604</a></td>
<td class="loc"><pre>   ]</pre></td>
</tr><tr id="L5146684557">
<td class="ln"><a href="#L5146684557">605</a></td>
<td class="loc"><pre>  },</pre></td>
</tr><tr id="L7177329927">
<td class="ln"><a href="#L7177329927">606</a></td>
<td class="loc"><pre>  {</pre></td>
</tr><tr id="L6791515513">
<td class="ln"><a href="#L6791515513">607</a></td>
<td class="loc"><pre>   &quot;cell_type&quot;: &quot;code&quot;,</pre></td>
</tr><tr id="L4384442378">
<td class="ln"><a href="#L4384442378">608</a></td>
<td class="loc"><pre>   &quot;execution_count&quot;: null,</pre></td>
</tr><tr id="L5307267192">
<td class="ln"><a href="#L5307267192">609</a></td>
<td class="loc"><pre>   &quot;metadata&quot;: {</pre></td>
</tr><tr id="L4757713115">
<td class="ln"><a href="#L4757713115">610</a></td>
<td class="loc"><pre>    &quot;collapsed&quot;: false</pre></td>
</tr><tr id="L4908761445">
<td class="ln"><a href="#L4908761445">611</a></td>
<td class="loc"><pre>   },</pre></td>
</tr><tr id="L7207817135">
<td class="ln"><a href="#L7207817135">612</a></td>
<td class="loc"><pre>   &quot;outputs&quot;: [],</pre></td>
</tr><tr id="L6486204481">
<td class="ln"><a href="#L6486204481">613</a></td>
<td class="loc"><pre>   &quot;source&quot;: []</pre></td>
</tr><tr id="L4643106020">
<td class="ln"><a href="#L4643106020">614</a></td>
<td class="loc"><pre>  },</pre></td>
</tr><tr id="L5028642126">
<td class="ln"><a href="#L5028642126">615</a></td>
<td class="loc"><pre>  {</pre></td>
</tr><tr id="L7292996552">
<td class="ln"><a href="#L7292996552">616</a></td>
<td class="loc"><pre>   &quot;cell_type&quot;: &quot;markdown&quot;,</pre></td>
</tr><tr id="L6404267066">
<td class="ln"><a href="#L6404267066">617</a></td>
<td class="loc"><pre>   &quot;metadata&quot;: {},</pre></td>
</tr><tr id="L4536826057">
<td class="ln"><a href="#L4536826057">618</a></td>
<td class="loc"><pre>   &quot;source&quot;: [</pre></td>
</tr><tr id="L4889594167">
<td class="ln"><a href="#L4889594167">619</a></td>
<td class="loc"><pre>    &quot;***\n&quot;,</pre></td>
</tr><tr id="L4034895514">
<td class="ln"><a href="#L4034895514">620</a></td>
<td class="loc"><pre>    &quot;### Some basic plots&quot;</pre></td>
</tr><tr id="L5359963688">
<td class="ln"><a href="#L5359963688">621</a></td>
<td class="loc"><pre>   ]</pre></td>
</tr><tr id="L7892746094">
<td class="ln"><a href="#L7892746094">622</a></td>
<td class="loc"><pre>  },</pre></td>
</tr><tr id="L6064500484">
<td class="ln"><a href="#L6064500484">623</a></td>
<td class="loc"><pre>  {</pre></td>
</tr><tr id="L4023736993">
<td class="ln"><a href="#L4023736993">624</a></td>
<td class="loc"><pre>   &quot;cell_type&quot;: &quot;markdown&quot;,</pre></td>
</tr><tr id="L5382752783">
<td class="ln"><a href="#L5382752783">625</a></td>
<td class="loc"><pre>   &quot;metadata&quot;: {},</pre></td>
</tr><tr id="L7950236549">
<td class="ln"><a href="#L7950236549">626</a></td>
<td class="loc"><pre>   &quot;source&quot;: [</pre></td>
</tr><tr id="L6020672251">
<td class="ln"><a href="#L6020672251">627</a></td>
<td class="loc"><pre>    &quot;Matplotlib is a basic plotting library comonly used in Python.  The notebook environment lets you display plots inline with your code; outside of notebooks, they come up as separate windows.&quot;</pre></td>
</tr><tr id="L4148635276">
<td class="ln"><a href="#L4148635276">628</a></td>
<td class="loc"><pre>   ]</pre></td>
</tr><tr id="L5540943350">
<td class="ln"><a href="#L5540943350">629</a></td>
<td class="loc"><pre>  },</pre></td>
</tr><tr id="L3917909849">
<td class="ln"><a href="#L3917909849">630</a></td>
<td class="loc"><pre>  {</pre></td>
</tr><tr id="L5746433767">
<td class="ln"><a href="#L5746433767">631</a></td>
<td class="loc"><pre>   &quot;cell_type&quot;: &quot;code&quot;,</pre></td>
</tr><tr id="L7508651565">
<td class="ln"><a href="#L7508651565">632</a></td>
<td class="loc"><pre>   &quot;execution_count&quot;: null,</pre></td>
</tr><tr id="L6183304643">
<td class="ln"><a href="#L6183304643">633</a></td>
<td class="loc"><pre>   &quot;metadata&quot;: {</pre></td>
</tr><tr id="L3874114402">
<td class="ln"><a href="#L3874114402">634</a></td>
<td class="loc"><pre>    &quot;collapsed&quot;: false</pre></td>
</tr><tr id="L5803956944">
<td class="ln"><a href="#L5803956944">635</a></td>
<td class="loc"><pre>   },</pre></td>
</tr><tr id="L7531407942">
<td class="ln"><a href="#L7531407942">636</a></td>
<td class="loc"><pre>   &quot;outputs&quot;: [],</pre></td>
</tr><tr id="L6172113340">
<td class="ln"><a href="#L6172113340">637</a></td>
<td class="loc"><pre>   &quot;source&quot;: [</pre></td>
</tr><tr id="L3762296651">
<td class="ln"><a href="#L3762296651">638</a></td>
<td class="loc"><pre>    &quot;import matplotlib\n&quot;,</pre></td>
</tr><tr id="L5657798325">
<td class="ln"><a href="#L5657798325">639</a></td>
<td class="loc"><pre>    &quot;import matplotlib.pyplot as plt\n&quot;,</pre></td>
</tr><tr id="L4811259160">
<td class="ln"><a href="#L4811259160">640</a></td>
<td class="loc"><pre>    &quot;import arts_funding_data as d \n&quot;,</pre></td>
</tr><tr id="L4593102250">
<td class="ln"><a href="#L4593102250">641</a></td>
<td class="loc"><pre>    &quot;\n&quot;,</pre></td>
</tr><tr id="L6590061556">
<td class="ln"><a href="#L6590061556">642</a></td>
<td class="loc"><pre>    &quot;plt.hist(d.state_populations) # Histogram\n&quot;,</pre></td>
</tr><tr id="L7378783358">
<td class="ln"><a href="#L7378783358">643</a></td>
<td class="loc"><pre>    &quot;plt.show()\n&quot;,</pre></td>
</tr><tr id="L4859805983">
<td class="ln"><a href="#L4859805983">644</a></td>
<td class="loc"><pre>    &quot;plt.scatter(d.state_populations, d.state_arts_funding) # Scatterplot\n&quot;,</pre></td>
</tr><tr id="L4541378961">
<td class="ln"><a href="#L4541378961">645</a></td>
<td class="loc"><pre>    &quot;plt.show()\n&quot;,</pre></td>
</tr><tr id="L6570942475">
<td class="ln"><a href="#L6570942475">646</a></td>
<td class="loc"><pre>    &quot;plt.bar(range(len(d.state_arts_funding)), height=d.state_arts_funding)\n&quot;,</pre></td>
</tr><tr id="L7392563317">
<td class="ln"><a href="#L7392563317">647</a></td>
<td class="loc"><pre>    &quot;plt.show()&quot;</pre></td>
</tr><tr id="L4982867206">
<td class="ln"><a href="#L4982867206">648</a></td>
<td class="loc"><pre>   ]</pre></td>
</tr><tr id="L4697208188">
<td class="ln"><a href="#L4697208188">649</a></td>
<td class="loc"><pre>  },</pre></td>
</tr><tr id="L5230373847">
<td class="ln"><a href="#L5230373847">650</a></td>
<td class="loc"><pre>  {</pre></td>
</tr><tr id="L4441373801">
<td class="ln"><a href="#L4441373801">651</a></td>
<td class="loc"><pre>   &quot;cell_type&quot;: &quot;markdown&quot;,</pre></td>
</tr><tr id="L6739414195">
<td class="ln"><a href="#L6739414195">652</a></td>
<td class="loc"><pre>   &quot;metadata&quot;: {},</pre></td>
</tr><tr id="L6957849917">
<td class="ln"><a href="#L6957849917">653</a></td>
<td class="loc"><pre>   &quot;source&quot;: [</pre></td>
</tr><tr id="L5244186592">
<td class="ln"><a href="#L5244186592">654</a></td>
<td class="loc"><pre>    &quot;Subplot command lets you tile plots as needed. See http://matplotlib.org/users/pyplot_tutorial.html for more examples.&quot;</pre></td>
</tr><tr id="L4422287442">
<td class="ln"><a href="#L4422287442">655</a></td>
<td class="loc"><pre>   ]</pre></td>
</tr><tr id="L6687658188">
<td class="ln"><a href="#L6687658188">656</a></td>
<td class="loc"><pre>  },</pre></td>
</tr><tr id="L7006363958">
<td class="ln"><a href="#L7006363958">657</a></td>
<td class="loc"><pre>  {</pre></td>
</tr><tr id="L5134201797">
<td class="ln"><a href="#L5134201797">658</a></td>
<td class="loc"><pre>   &quot;cell_type&quot;: &quot;code&quot;,</pre></td>
</tr><tr id="L4278486075">
<td class="ln"><a href="#L4278486075">659</a></td>
<td class="loc"><pre>   &quot;execution_count&quot;: null,</pre></td>
</tr><tr id="L5583952790">
<td class="ln"><a href="#L5583952790">660</a></td>
<td class="loc"><pre>   &quot;metadata&quot;: {</pre></td>
</tr><tr id="L3822537516">
<td class="ln"><a href="#L3822537516">661</a></td>
<td class="loc"><pre>    &quot;collapsed&quot;: false,</pre></td>
</tr><tr id="L6356335218">
<td class="ln"><a href="#L6356335218">662</a></td>
<td class="loc"><pre>    &quot;scrolled&quot;: true</pre></td>
</tr><tr id="L7614573056">
<td class="ln"><a href="#L7614573056">663</a></td>
<td class="loc"><pre>   },</pre></td>
</tr><tr id="L5695905693">
<td class="ln"><a href="#L5695905693">664</a></td>
<td class="loc"><pre>   &quot;outputs&quot;: [],</pre></td>
</tr><tr id="L3698954003">
<td class="ln"><a href="#L3698954003">665</a></td>
<td class="loc"><pre>   &quot;source&quot;: [</pre></td>
</tr><tr id="L6265421449">
<td class="ln"><a href="#L6265421449">666</a></td>
<td class="loc"><pre>    &quot;plt.subplot(1,3,1)  # Num rows, num columns, current plot index\n&quot;,</pre></td>
</tr><tr id="L7691824631">
<td class="ln"><a href="#L7691824631">667</a></td>
<td class="loc"><pre>    &quot;plt.hist(d.state_populations) # Histogram\n&quot;,</pre></td>
</tr><tr id="L5824504712">
<td class="ln"><a href="#L5824504712">668</a></td>
<td class="loc"><pre>    &quot;plt.subplot(1,3,2)\n&quot;,</pre></td>
</tr><tr id="L3861893882">
<td class="ln"><a href="#L3861893882">669</a></td>
<td class="loc"><pre>    &quot;plt.scatter(d.state_populations, d.state_arts_funding) # Scatterplot\n&quot;,</pre></td>
</tr><tr id="L5468015189">
<td class="ln"><a href="#L5468015189">670</a></td>
<td class="loc"><pre>    &quot;plt.subplot(1,3,3)\n&quot;,</pre></td>
</tr><tr id="L4210055659">
<td class="ln"><a href="#L4210055659">671</a></td>
<td class="loc"><pre>    &quot;plt.bar(range(len(d.state_arts_funding)), height=d.state_arts_funding)\n&quot;,</pre></td>
</tr><tr id="L5971192625">
<td class="ln"><a href="#L5971192625">672</a></td>
<td class="loc"><pre>    &quot;plt.show()&quot;</pre></td>
</tr><tr id="L7732329151">
<td class="ln"><a href="#L7732329151">673</a></td>
<td class="loc"><pre>   ]</pre></td>
</tr><tr id="L5545234014">
<td class="ln"><a href="#L5545234014">674</a></td>
<td class="loc"><pre>  },</pre></td>
</tr><tr id="L4119109076">
<td class="ln"><a href="#L4119109076">675</a></td>
<td class="loc"><pre>  {</pre></td>
</tr><tr id="L5847641930">
<td class="ln"><a href="#L5847641930">676</a></td>
<td class="loc"><pre>   &quot;cell_type&quot;: &quot;markdown&quot;,</pre></td>
</tr><tr id="L7844314808">
<td class="ln"><a href="#L7844314808">677</a></td>
<td class="loc"><pre>   &quot;metadata&quot;: {},</pre></td>
</tr><tr id="L5437116999">
<td class="ln"><a href="#L5437116999">678</a></td>
<td class="loc"><pre>   &quot;source&quot;: [</pre></td>
</tr><tr id="L3977699769">
<td class="ln"><a href="#L3977699769">679</a></td>
<td class="loc"><pre>    &quot;***\n&quot;,</pre></td>
</tr><tr id="L7706199572">
<td class="ln"><a href="#L7706199572">680</a></td>
<td class="loc"><pre>    &quot;### 3. Using this information, create a bar chart of the top 10 states for per-capita arts grant funding.&quot;</pre></td>
</tr><tr id="L6280476318">
<td class="ln"><a href="#L6280476318">681</a></td>
<td class="loc"><pre>   ]</pre></td>
</tr><tr id="L3714131704">
<td class="ln"><a href="#L3714131704">682</a></td>
<td class="loc"><pre>  },</pre></td>
</tr><tr id="L5710157706">
<td class="ln"><a href="#L5710157706">683</a></td>
<td class="loc"><pre>  {</pre></td>
</tr><tr id="L7616692779">
<td class="ln"><a href="#L7616692779">684</a></td>
<td class="loc"><pre>   &quot;cell_type&quot;: &quot;code&quot;,</pre></td>
</tr><tr id="L6358348437">
<td class="ln"><a href="#L6358348437">685</a></td>
<td class="loc"><pre>   &quot;execution_count&quot;: null,</pre></td>
</tr><tr id="L3824411391">
<td class="ln"><a href="#L3824411391">686</a></td>
<td class="loc"><pre>   &quot;metadata&quot;: {</pre></td>
</tr><tr id="L5586211697">
<td class="ln"><a href="#L5586211697">687</a></td>
<td class="loc"><pre>    &quot;collapsed&quot;: false</pre></td>
</tr><tr id="L7460339202">
<td class="ln"><a href="#L7460339202">688</a></td>
<td class="loc"><pre>   },</pre></td>
</tr><tr id="L6235811440">
<td class="ln"><a href="#L6235811440">689</a></td>
<td class="loc"><pre>   &quot;outputs&quot;: [],</pre></td>
</tr><tr id="L7858845395">
<td class="ln"><a href="#L7858845395">690</a></td>
<td class="loc"><pre>   &quot;source&quot;: []</pre></td>
</tr><tr id="L5862541149">
<td class="ln"><a href="#L5862541149">691</a></td>
<td class="loc"><pre>  },</pre></td>
</tr><tr id="L4133885367">
<td class="ln"><a href="#L4133885367">692</a></td>
<td class="loc"><pre>  {</pre></td>
</tr><tr id="L5559887433">
<td class="ln"><a href="#L5559887433">693</a></td>
<td class="loc"><pre>   &quot;cell_type&quot;: &quot;markdown&quot;,</pre></td>
</tr><tr id="L7734866668">
<td class="ln"><a href="#L7734866668">694</a></td>
<td class="loc"><pre>   &quot;metadata&quot;: {},</pre></td>
</tr><tr id="L5972788054">
<td class="ln"><a href="#L5972788054">695</a></td>
<td class="loc"><pre>   &quot;source&quot;: [</pre></td>
</tr><tr id="L4211790272">
<td class="ln"><a href="#L4211790272">696</a></td>
<td class="loc"><pre>    &quot;## Functions&quot;</pre></td>
</tr><tr id="L5470413362">
<td class="ln"><a href="#L5470413362">697</a></td>
<td class="loc"><pre>   ]</pre></td>
</tr><tr id="L7878143681">
<td class="ln"><a href="#L7878143681">698</a></td>
<td class="loc"><pre>  },</pre></td>
</tr><tr id="L6083297071">
<td class="ln"><a href="#L6083297071">699</a></td>
<td class="loc"><pre>  {</pre></td>
</tr><tr id="L4369131013">
<td class="ln"><a href="#L4369131013">700</a></td>
<td class="loc"><pre>   &quot;cell_type&quot;: &quot;markdown&quot;,</pre></td>
</tr><tr id="L5057189499">
<td class="ln"><a href="#L5057189499">701</a></td>
<td class="loc"><pre>   &quot;metadata&quot;: {},</pre></td>
</tr><tr id="L7086655265">
<td class="ln"><a href="#L7086655265">702</a></td>
<td class="loc"><pre>   &quot;source&quot;: [</pre></td>
</tr><tr id="L6902052751">
<td class="ln"><a href="#L6902052751">703</a></td>
<td class="loc"><pre>    &quot;In Pythone, functions are indicated by parentheses following the name. Functions must first be *defined* before they can be used.  \n&quot;,</pre></td>
</tr><tr id="L4245250542">
<td class="ln"><a href="#L4245250542">704</a></td>
<td class="loc"><pre>    &quot;\n&quot;,</pre></td>
</tr><tr id="L5167534724">
<td class="ln"><a href="#L5167534724">705</a></td>
<td class="loc"><pre>    &quot;Note the colon following the function definition. Also, note that in Python indentation is significant - it knows the second line below is part of the function because it is indented following the function name:&quot;</pre></td>
</tr><tr id="L7164592922">
<td class="ln"><a href="#L7164592922">706</a></td>
<td class="loc"><pre>   ]</pre></td>
</tr><tr id="L6812611496">
<td class="ln"><a href="#L6812611496">707</a></td>
<td class="loc"><pre>  },</pre></td>
</tr><tr id="L4388494871">
<td class="ln"><a href="#L4388494871">708</a></td>
<td class="loc"><pre>  {</pre></td>
</tr><tr id="L5278011049">
<td class="ln"><a href="#L5278011049">709</a></td>
<td class="loc"><pre>   &quot;cell_type&quot;: &quot;code&quot;,</pre></td>
</tr><tr id="L4753364678">
<td class="ln"><a href="#L4753364678">710</a></td>
<td class="loc"><pre>   &quot;execution_count&quot;: null,</pre></td>
</tr><tr id="L4938245948">
<td class="ln"><a href="#L4938245948">711</a></td>
<td class="loc"><pre>   &quot;metadata&quot;: {</pre></td>
</tr><tr id="L7203780066">
<td class="ln"><a href="#L7203780066">712</a></td>
<td class="loc"><pre>    &quot;collapsed&quot;: false</pre></td>
</tr><tr id="L6515443280">
<td class="ln"><a href="#L6515443280">713</a></td>
<td class="loc"><pre>   },</pre></td>
</tr><tr id="L4663956141">
<td class="ln"><a href="#L4663956141">714</a></td>
<td class="loc"><pre>   &quot;outputs&quot;: [],</pre></td>
</tr><tr id="L5016216387">
<td class="ln"><a href="#L5016216387">715</a></td>
<td class="loc"><pre>   &quot;source&quot;: [</pre></td>
</tr><tr id="L7314092505">
<td class="ln"><a href="#L7314092505">716</a></td>
<td class="loc"><pre>    &quot;def say_hello():\n&quot;,</pre></td>
</tr><tr id="L6391530087">
<td class="ln"><a href="#L6391530087">717</a></td>
<td class="loc"><pre>    &quot;    print (\&quot;Hello world\&quot;)&quot;</pre></td>
</tr><tr id="L4507569880">
<td class="ln"><a href="#L4507569880">718</a></td>
<td class="loc"><pre>   ]</pre></td>
</tr><tr id="L4893646698">
<td class="ln"><a href="#L4893646698">719</a></td>
<td class="loc"><pre>  },</pre></td>
</tr><tr id="L4064135303">
<td class="ln"><a href="#L4064135303">720</a></td>
<td class="loc"><pre>  {</pre></td>
</tr><tr id="L5355927545">
<td class="ln"><a href="#L5355927545">721</a></td>
<td class="loc"><pre>   &quot;cell_type&quot;: &quot;markdown&quot;,</pre></td>
</tr><tr id="L7922231715">
<td class="ln"><a href="#L7922231715">722</a></td>
<td class="loc"><pre>   &quot;metadata&quot;: {},</pre></td>
</tr><tr id="L6060153101">
<td class="ln"><a href="#L6060153101">723</a></td>
<td class="loc"><pre>   &quot;source&quot;: [</pre></td>
</tr><tr id="L4011000944">
<td class="ln"><a href="#L4011000944">724</a></td>
<td class="loc"><pre>    &quot;Functions are *called* by using the parentheses only, without the \&quot;def\&quot; or colon:&quot;</pre></td>
</tr><tr id="L5403849730">
<td class="ln"><a href="#L5403849730">725</a></td>
<td class="loc"><pre>   ]</pre></td>
</tr><tr id="L7937811868">
<td class="ln"><a href="#L7937811868">726</a></td>
<td class="loc"><pre>  },</pre></td>
</tr><tr id="L6041523494">
<td class="ln"><a href="#L6041523494">727</a></td>
<td class="loc"><pre>  {</pre></td>
</tr><tr id="L4152967317">
<td class="ln"><a href="#L4152967317">728</a></td>
<td class="loc"><pre>   &quot;cell_type&quot;: &quot;code&quot;,</pre></td>
</tr><tr id="L5511475243">
<td class="ln"><a href="#L5511475243">729</a></td>
<td class="loc"><pre>   &quot;execution_count&quot;: null,</pre></td>
</tr><tr id="L3913873736">
<td class="ln"><a href="#L3913873736">730</a></td>
<td class="loc"><pre>   &quot;metadata&quot;: {</pre></td>
</tr><tr id="L5775673530">
<td class="ln"><a href="#L5775673530">731</a></td>
<td class="loc"><pre>    &quot;collapsed&quot;: false</pre></td>
</tr><tr id="L7504304228">
<td class="ln"><a href="#L7504304228">732</a></td>
<td class="loc"><pre>   },</pre></td>
</tr><tr id="L6212790222">
<td class="ln"><a href="#L6212790222">733</a></td>
<td class="loc"><pre>   &quot;outputs&quot;: [],</pre></td>
</tr><tr id="L3895211311">
<td class="ln"><a href="#L3895211311">734</a></td>
<td class="loc"><pre>   &quot;source&quot;: [</pre></td>
</tr><tr id="L5791220929">
<td class="ln"><a href="#L5791220929">735</a></td>
<td class="loc"><pre>    &quot;say_hello()&quot;</pre></td>
</tr><tr id="L7552259163">
<td class="ln"><a href="#L7552259163">736</a></td>
<td class="loc"><pre>   ]</pre></td>
</tr><tr id="L6159688677">
<td class="ln"><a href="#L6159688677">737</a></td>
<td class="loc"><pre>  },</pre></td>
</tr><tr id="L3732828502">
<td class="ln"><a href="#L3732828502">738</a></td>
<td class="loc"><pre>  {</pre></td>
</tr><tr id="L5662130412">
<td class="ln"><a href="#L5662130412">739</a></td>
<td class="loc"><pre>   &quot;cell_type&quot;: &quot;markdown&quot;,</pre></td>
</tr><tr id="L4832387849">
<td class="ln"><a href="#L4832387849">740</a></td>
<td class="loc"><pre>   &quot;metadata&quot;: {},</pre></td>
</tr><tr id="L4580397943">
<td class="ln"><a href="#L4580397943">741</a></td>
<td class="loc"><pre>   &quot;source&quot;: [</pre></td>
</tr><tr id="L6610879005">
<td class="ln"><a href="#L6610879005">742</a></td>
<td class="loc"><pre>    &quot;Within the parentheses, *arguments* can be *passed* to the function, which operates on the parameter.  For example:&quot;</pre></td>
</tr><tr id="L7366324883">
<td class="ln"><a href="#L7366324883">743</a></td>
<td class="loc"><pre>   ]</pre></td>
</tr><tr id="L4855736050">
<td class="ln"><a href="#L4855736050">744</a></td>
<td class="loc"><pre>  },</pre></td>
</tr><tr id="L4570584960">
<td class="ln"><a href="#L4570584960">745</a></td>
<td class="loc"><pre>  {</pre></td>
</tr><tr id="L6566626838">
<td class="ln"><a href="#L6566626838">746</a></td>
<td class="loc"><pre>   &quot;cell_type&quot;: &quot;code&quot;,</pre></td>
</tr><tr id="L7422080684">
<td class="ln"><a href="#L7422080684">747</a></td>
<td class="loc"><pre>   &quot;execution_count&quot;: null,</pre></td>
</tr><tr id="L4995341083">
<td class="ln"><a href="#L4995341083">748</a></td>
<td class="loc"><pre>   &quot;metadata&quot;: {</pre></td>
</tr><tr id="L4676373413">
<td class="ln"><a href="#L4676373413">749</a></td>
<td class="loc"><pre>    &quot;collapsed&quot;: false</pre></td>
</tr><tr id="L5217669578">
<td class="ln"><a href="#L5217669578">750</a></td>
<td class="loc"><pre>   },</pre></td>
</tr><tr id="L4462502456">
<td class="ln"><a href="#L4462502456">751</a></td>
<td class="loc"><pre>   &quot;outputs&quot;: [],</pre></td>
</tr><tr id="L6726955742">
<td class="ln"><a href="#L6726955742">752</a></td>
<td class="loc"><pre>   &quot;source&quot;: [</pre></td>
</tr><tr id="L6978667348">
<td class="ln"><a href="#L6978667348">753</a></td>
<td class="loc"><pre>    &quot;def say_hello(name):\n&quot;,</pre></td>
</tr><tr id="L5273392561">
<td class="ln"><a href="#L5273392561">754</a></td>
<td class="loc"><pre>    &quot;    print (\&quot;hello, \&quot; + name + \&quot;!\&quot;)&quot;</pre></td>
</tr><tr id="L4418217535">
<td class="ln"><a href="#L4418217535">755</a></td>
<td class="loc"><pre>   ]</pre></td>
</tr><tr id="L6717175509">
<td class="ln"><a href="#L6717175509">756</a></td>
<td class="loc"><pre>  },</pre></td>
</tr><tr id="L7002048363">
<td class="ln"><a href="#L7002048363">757</a></td>
<td class="loc"><pre>  {</pre></td>
</tr><tr id="L5113367004">
<td class="ln"><a href="#L5113367004">758</a></td>
<td class="loc"><pre>   &quot;cell_type&quot;: &quot;markdown&quot;,</pre></td>
</tr><tr id="L4290959974">
<td class="ln"><a href="#L4290959974">759</a></td>
<td class="loc"><pre>   &quot;metadata&quot;: {},</pre></td>
</tr><tr id="L5604771211">
<td class="ln"><a href="#L5604771211">760</a></td>
<td class="loc"><pre>   &quot;source&quot;: [</pre></td>
</tr><tr id="L3810079989">
<td class="ln"><a href="#L3810079989">761</a></td>
<td class="loc"><pre>    &quot;This then lets us use the function with multiple different values:&quot;</pre></td>
</tr><tr id="L6377464991">
<td class="ln"><a href="#L6377464991">762</a></td>
<td class="loc"><pre>   ]</pre></td>
</tr><tr id="L7601869841">
<td class="ln"><a href="#L7601869841">763</a></td>
<td class="loc"><pre>  },</pre></td>
</tr><tr id="L5691591028">
<td class="ln"><a href="#L5691591028">764</a></td>
<td class="loc"><pre>  {</pre></td>
</tr><tr id="L3728472318">
<td class="ln"><a href="#L3728472318">765</a></td>
<td class="loc"><pre>   &quot;cell_type&quot;: &quot;code&quot;,</pre></td>
</tr><tr id="L6261352600">
<td class="ln"><a href="#L6261352600">766</a></td>
<td class="loc"><pre>   &quot;execution_count&quot;: null,</pre></td>
</tr><tr id="L7721031722">
<td class="ln"><a href="#L7721031722">767</a></td>
<td class="loc"><pre>   &quot;metadata&quot;: {</pre></td>
</tr><tr id="L5837192601">
<td class="ln"><a href="#L5837192601">768</a></td>
<td class="loc"><pre>    &quot;collapsed&quot;: false</pre></td>
</tr><tr id="L3840781607">
<td class="ln"><a href="#L3840781607">769</a></td>
<td class="loc"><pre>   },</pre></td>
</tr><tr id="L5455557708">
<td class="ln"><a href="#L5455557708">770</a></td>
<td class="loc"><pre>   &quot;outputs&quot;: [],</pre></td>
</tr><tr id="L4230874038">
<td class="ln"><a href="#L4230874038">771</a></td>
<td class="loc"><pre>   &quot;source&quot;: [</pre></td>
</tr><tr id="L5958489440">
<td class="ln"><a href="#L5958489440">772</a></td>
<td class="loc"><pre>    &quot;say_hello(\&quot;there\&quot;)\n&quot;,</pre></td>
</tr><tr id="L7753458898">
<td class="ln"><a href="#L7753458898">773</a></td>
<td class="loc"><pre>    &quot;say_hello(\&quot;bunny rabbit\&quot;)\n&quot;,</pre></td>
</tr><tr id="L5574752307">
<td class="ln"><a href="#L5574752307">774</a></td>
<td class="loc"><pre>    &quot;s = \&quot;Horatio Hornblower\&quot;\n&quot;,</pre></td>
</tr><tr id="L4114794429">
<td class="ln"><a href="#L4114794429">775</a></td>
<td class="loc"><pre>    &quot;say_hello(s)&quot;</pre></td>
</tr><tr id="L5876848983">
<td class="ln"><a href="#L5876848983">776</a></td>
<td class="loc"><pre>   ]</pre></td>
</tr><tr id="L7840245993">
<td class="ln"><a href="#L7840245993">777</a></td>
<td class="loc"><pre>  },</pre></td>
</tr><tr id="L5416004698">
<td class="ln"><a href="#L5416004698">778</a></td>
<td class="loc"><pre>  {</pre></td>
</tr><tr id="L3990387688">
<td class="ln"><a href="#L3990387688">779</a></td>
<td class="loc"><pre>   &quot;cell_type&quot;: &quot;markdown&quot;,</pre></td>
</tr><tr id="L7710515197">
<td class="ln"><a href="#L7710515197">780</a></td>
<td class="loc"><pre>   &quot;metadata&quot;: {},</pre></td>
</tr><tr id="L6250958963">
<td class="ln"><a href="#L6250958963">781</a></td>
<td class="loc"><pre>   &quot;source&quot;: [</pre></td>
</tr><tr id="L3718201641">
<td class="ln"><a href="#L3718201641">782</a></td>
<td class="loc"><pre>    &quot;Functions can also be set up to return values, using the keyword \&quot;return\&quot;:&quot;</pre></td>
</tr><tr id="L5680951703">
<td class="ln"><a href="#L5680951703">783</a></td>
<td class="loc"><pre>   ]</pre></td>
</tr><tr id="L7595875318">
<td class="ln"><a href="#L7595875318">784</a></td>
<td class="loc"><pre>  },</pre></td>
</tr><tr id="L6370806924">
<td class="ln"><a href="#L6370806924">785</a></td>
<td class="loc"><pre>  {</pre></td>
</tr><tr id="L3803282706">
<td class="ln"><a href="#L3803282706">786</a></td>
<td class="loc"><pre>   &quot;cell_type&quot;: &quot;code&quot;,</pre></td>
</tr><tr id="L5598916000">
<td class="ln"><a href="#L5598916000">787</a></td>
<td class="loc"><pre>   &quot;execution_count&quot;: null,</pre></td>
</tr><tr id="L7489562639">
<td class="ln"><a href="#L7489562639">788</a></td>
<td class="loc"><pre>   &quot;metadata&quot;: {</pre></td>
</tr><tr id="L6231726241">
<td class="ln"><a href="#L6231726241">789</a></td>
<td class="loc"><pre>    &quot;collapsed&quot;: true</pre></td>
</tr><tr id="L7829328062">
<td class="ln"><a href="#L7829328062">790</a></td>
<td class="loc"><pre>   },</pre></td>
</tr><tr id="L5866856756">
<td class="ln"><a href="#L5866856756">791</a></td>
<td class="loc"><pre>   &quot;outputs&quot;: [],</pre></td>
</tr><tr id="L4104679402">
<td class="ln"><a href="#L4104679402">792</a></td>
<td class="loc"><pre>   &quot;source&quot;: [</pre></td>
</tr><tr id="L5563957336">
<td class="ln"><a href="#L5563957336">793</a></td>
<td class="loc"><pre>    &quot;def square(n):\n&quot;,</pre></td>
</tr><tr id="L7747325109">
<td class="ln"><a href="#L7747325109">794</a></td>
<td class="loc"><pre>    &quot;    return (n ** 2)&quot;</pre></td>
</tr><tr id="L5951970635">
<td class="ln"><a href="#L5951970635">795</a></td>
<td class="loc"><pre>   ]</pre></td>
</tr><tr id="L4224494545">
<td class="ln"><a href="#L4224494545">796</a></td>
<td class="loc"><pre>  },</pre></td>
</tr><tr id="L5449284703">
<td class="ln"><a href="#L5449284703">797</a></td>
<td class="loc"><pre>  {</pre></td>
</tr><tr id="L7874058448">
<td class="ln"><a href="#L7874058448">798</a></td>
<td class="loc"><pre>   &quot;cell_type&quot;: &quot;markdown&quot;,</pre></td>
</tr><tr id="L6112520546">
<td class="ln"><a href="#L6112520546">799</a></td>
<td class="loc"><pre>   &quot;metadata&quot;: {},</pre></td>
</tr><tr id="L4447528210">
<td class="ln"><a href="#L4447528210">800</a></td>
<td class="loc"><pre>   &quot;source&quot;: [</pre></td>
</tr><tr id="L5235725728">
<td class="ln"><a href="#L5235725728">801</a></td>
<td class="loc"><pre>    &quot;The returned values can then be assigned to variables, for example:&quot;</pre></td>
</tr><tr id="L6964216822">
<td class="ln"><a href="#L6964216822">802</a></td>
<td class="loc"><pre>   ]</pre></td>
</tr><tr id="L6746584204">
<td class="ln"><a href="#L6746584204">803</a></td>
<td class="loc"><pre>  },</pre></td>
</tr><tr id="L4433193257">
<td class="ln"><a href="#L4433193257">804</a></td>
<td class="loc"><pre>  {</pre></td>
</tr><tr id="L5255338391">
<td class="ln"><a href="#L5255338391">805</a></td>
<td class="loc"><pre>   &quot;cell_type&quot;: &quot;code&quot;,</pre></td>
</tr><tr id="L7016499197">
<td class="ln"><a href="#L7016499197">806</a></td>
<td class="loc"><pre>   &quot;execution_count&quot;: null,</pre></td>
</tr><tr id="L6697547891">
<td class="ln"><a href="#L6697547891">807</a></td>
<td class="loc"><pre>   &quot;metadata&quot;: {</pre></td>
</tr><tr id="L4277099780">
<td class="ln"><a href="#L4277099780">808</a></td>
<td class="loc"><pre>    &quot;collapsed&quot;: false</pre></td>
</tr><tr id="L5132537198">
<td class="ln"><a href="#L5132537198">809</a></td>
<td class="loc"><pre>   },</pre></td>
</tr><tr id="L4600026065">
<td class="ln"><a href="#L4600026065">810</a></td>
<td class="loc"><pre>   &quot;outputs&quot;: [],</pre></td>
</tr><tr id="L4817937503">
<td class="ln"><a href="#L4817937503">811</a></td>
<td class="loc"><pre>   &quot;source&quot;: [</pre></td>
</tr><tr id="L7384380597">
<td class="ln"><a href="#L7384380597">812</a></td>
<td class="loc"><pre>    &quot;b = square(4)\n&quot;,</pre></td>
</tr><tr id="L6595904843">
<td class="ln"><a href="#L6595904843">813</a></td>
<td class="loc"><pre>    &quot;c = b * square(b)\n&quot;,</pre></td>
</tr><tr id="L4550957034">
<td class="ln"><a href="#L4550957034">814</a></td>
<td class="loc"><pre>    &quot;print (c)&quot;</pre></td>
</tr><tr id="L4870187096">
<td class="ln"><a href="#L4870187096">815</a></td>
<td class="loc"><pre>   ]</pre></td>
</tr><tr id="L7404026046">
<td class="ln"><a href="#L7404026046">816</a></td>
<td class="loc"><pre>  },</pre></td>
</tr><tr id="L6581602612">
<td class="ln"><a href="#L6581602612">817</a></td>
<td class="loc"><pre>  {</pre></td>
</tr><tr id="L4695018435">
<td class="ln"><a href="#L4695018435">818</a></td>
<td class="loc"><pre>   &quot;cell_type&quot;: &quot;markdown&quot;,</pre></td>
</tr><tr id="L4979907629">
<td class="ln"><a href="#L4979907629">819</a></td>
<td class="loc"><pre>   &quot;metadata&quot;: {},</pre></td>
</tr><tr id="L4211180436">
<td class="ln"><a href="#L4211180436">820</a></td>
<td class="loc"><pre>   &quot;source&quot;: [</pre></td>
</tr><tr id="L5469942558">
<td class="ln"><a href="#L5469942558">821</a></td>
<td class="loc"><pre>    &quot;Python functions can return multiple values.&quot;</pre></td>
</tr><tr id="L7735337592">
<td class="ln"><a href="#L7735337592">822</a></td>
<td class="loc"><pre>   ]</pre></td>
</tr><tr id="L5973398026">
<td class="ln"><a href="#L5973398026">823</a></td>
<td class="loc"><pre>  },</pre></td>
</tr><tr id="L4134487979">
<td class="ln"><a href="#L4134487979">824</a></td>
<td class="loc"><pre>  {</pre></td>
</tr><tr id="L5560366869">
<td class="ln"><a href="#L5560366869">825</a></td>
<td class="loc"><pre>   &quot;cell_type&quot;: &quot;code&quot;,</pre></td>
</tr><tr id="L7858366079">
<td class="ln"><a href="#L7858366079">826</a></td>
<td class="loc"><pre>   &quot;execution_count&quot;: null,</pre></td>
</tr><tr id="L5861938673">
<td class="ln"><a href="#L5861938673">827</a></td>
<td class="loc"><pre>   &quot;metadata&quot;: {</pre></td>
</tr><tr id="L3971808130">
<td class="ln"><a href="#L3971808130">828</a></td>
<td class="loc"><pre>    &quot;collapsed&quot;: false,</pre></td>
</tr><tr id="L5431503600">
<td class="ln"><a href="#L5431503600">829</a></td>
<td class="loc"><pre>    &quot;scrolled&quot;: true</pre></td>
</tr><tr id="L3824988755">
<td class="ln"><a href="#L3824988755">830</a></td>
<td class="loc"><pre>   },</pre></td>
</tr><tr id="L5586649565">
<td class="ln"><a href="#L5586649565">831</a></td>
<td class="loc"><pre>   &quot;outputs&quot;: [],</pre></td>
</tr><tr id="L7616254775">
<td class="ln"><a href="#L7616254775">832</a></td>
<td class="loc"><pre>   &quot;source&quot;: [</pre></td>
</tr><tr id="L6357770953">
<td class="ln"><a href="#L6357770953">833</a></td>
<td class="loc"><pre>    &quot;def sqr_sqrt(x):\n&quot;,</pre></td>
</tr><tr id="L3713562220">
<td class="ln"><a href="#L3713562220">834</a></td>
<td class="loc"><pre>    &quot;    return x**2, x**.5\n&quot;,</pre></td>
</tr><tr id="L5709710806">
<td class="ln"><a href="#L5709710806">835</a></td>
<td class="loc"><pre>    &quot;sqr_sqrt(100)&quot;</pre></td>
</tr><tr id="L7706646336">
<td class="ln"><a href="#L7706646336">836</a></td>
<td class="loc"><pre>   ]</pre></td>
</tr><tr id="L6281045682">
<td class="ln"><a href="#L6281045682">837</a></td>
<td class="loc"><pre>  },</pre></td>
</tr><tr id="L3854707265">
<td class="ln"><a href="#L3854707265">838</a></td>
<td class="loc"><pre>  {</pre></td>
</tr><tr id="L5818087855">
<td class="ln"><a href="#L5818087855">839</a></td>
<td class="loc"><pre>   &quot;cell_type&quot;: &quot;markdown&quot;,</pre></td>
</tr><tr id="L4919666702">
<td class="ln"><a href="#L4919666702">840</a></td>
<td class="loc"><pre>   &quot;metadata&quot;: {},</pre></td>
</tr><tr id="L4768864420">
<td class="ln"><a href="#L4768864420">841</a></td>
<td class="loc"><pre>   &quot;source&quot;: [</pre></td>
</tr><tr id="L6496340218">
<td class="ln"><a href="#L6496340218">842</a></td>
<td class="loc"><pre>    &quot;Built-in functions are often grouped into *modules*, for example, random - returns a random number between zero and one.  The dot notation means that you are referencing something that is contained in another, in this case the rand function within the random module.&quot;</pre></td>
</tr><tr id="L7217707400">
<td class="ln"><a href="#L7217707400">843</a></td>
<td class="loc"><pre>   ]</pre></td>
</tr><tr id="L5034796069">
<td class="ln"><a href="#L5034796069">844</a></td>
<td class="loc"><pre>  },</pre></td>
</tr><tr id="L4648457371">
<td class="ln"><a href="#L4648457371">845</a></td>
<td class="loc"><pre>  {</pre></td>
</tr><tr id="L6410634497">
<td class="ln"><a href="#L6410634497">846</a></td>
<td class="loc"><pre>   &quot;cell_type&quot;: &quot;code&quot;,</pre></td>
</tr><tr id="L7300167023">
<td class="ln"><a href="#L7300167023">847</a></td>
<td class="loc"><pre>   &quot;execution_count&quot;: null,</pre></td>
</tr><tr id="L4873953280">
<td class="ln"><a href="#L4873953280">848</a></td>
<td class="loc"><pre>   &quot;metadata&quot;: {</pre></td>
</tr><tr id="L4521955442">
<td class="ln"><a href="#L4521955442">849</a></td>
<td class="loc"><pre>    &quot;collapsed&quot;: false,</pre></td>
</tr><tr id="L5071116493">
<td class="ln"><a href="#L5071116493">850</a></td>
<td class="loc"><pre>    &quot;scrolled&quot;: true</pre></td>
</tr><tr id="L4350028131">
<td class="ln"><a href="#L4350028131">851</a></td>
<td class="loc"><pre>   },</pre></td>
</tr><tr id="L6917552057">
<td class="ln"><a href="#L6917552057">852</a></td>
<td class="loc"><pre>   &quot;outputs&quot;: [],</pre></td>
</tr><tr id="L7068076103">
<td class="ln"><a href="#L7068076103">853</a></td>
<td class="loc"><pre>   &quot;source&quot;: [</pre></td>
</tr><tr id="L5153608934">
<td class="ln"><a href="#L5153608934">854</a></td>
<td class="loc"><pre>    &quot;import random \n&quot;,</pre></td>
</tr><tr id="L4264355164">
<td class="ln"><a href="#L4264355164">855</a></td>
<td class="loc"><pre>    &quot;random.randint(1, 10)&quot;</pre></td>
</tr><tr id="L6797112258">
<td class="ln"><a href="#L6797112258">856</a></td>
<td class="loc"><pre>   ]</pre></td>
</tr><tr id="L7183172656">
<td class="ln"><a href="#L7183172656">857</a></td>
<td class="loc"><pre>  },</pre></td>
</tr><tr id="L5292921023">
<td class="ln"><a href="#L5292921023">858</a></td>
<td class="loc"><pre>  {</pre></td>
</tr><tr id="L4370374961">
<td class="ln"><a href="#L4370374961">859</a></td>
<td class="loc"><pre>   &quot;cell_type&quot;: &quot;markdown&quot;,</pre></td>
</tr><tr id="L5761812112">
<td class="ln"><a href="#L5761812112">860</a></td>
<td class="loc"><pre>   &quot;metadata&quot;: {},</pre></td>
</tr><tr id="L3933042210">
<td class="ln"><a href="#L3933042210">861</a></td>
<td class="loc"><pre>   &quot;source&quot;: [</pre></td>
</tr><tr id="L6197356412">
<td class="ln"><a href="#L6197356412">862</a></td>
<td class="loc"><pre>    &quot;###  Flow Control\n&quot;,</pre></td>
</tr><tr id="L7522948870">
<td class="ln"><a href="#L7522948870">863</a></td>
<td class="loc"><pre>    &quot;\n&quot;,</pre></td>
</tr><tr id="L5805081255">
<td class="ln"><a href="#L5805081255">864</a></td>
<td class="loc"><pre>    &quot;*for*-*in* iterates over items; *if*-*else* conditionally selected between statements.  Note the colon and indentation define which statements are included in the conditional blocks.&quot;</pre></td>
</tr><tr id="L3876041241">
<td class="ln"><a href="#L3876041241">865</a></td>
<td class="loc"><pre>   ]</pre></td>
</tr><tr id="L6175122307">
<td class="ln"><a href="#L6175122307">866</a></td>
<td class="loc"><pre>  },</pre></td>
</tr><tr id="L7533613805">
<td class="ln"><a href="#L7533613805">867</a></td>
<td class="loc"><pre>  {</pre></td>
</tr><tr id="L5647154814">
<td class="ln"><a href="#L5647154814">868</a></td>
<td class="loc"><pre>   &quot;cell_type&quot;: &quot;code&quot;,</pre></td>
</tr><tr id="L3750882804">
<td class="ln"><a href="#L3750882804">869</a></td>
<td class="loc"><pre>   &quot;execution_count&quot;: null,</pre></td>
</tr><tr id="L5374572367">
<td class="ln"><a href="#L5374572367">870</a></td>
<td class="loc"><pre>   &quot;metadata&quot;: {</pre></td>
</tr><tr id="L4048701153">
<td class="ln"><a href="#L4048701153">871</a></td>
<td class="loc"><pre>    &quot;collapsed&quot;: false</pre></td>
</tr><tr id="L6079321659">
<td class="ln"><a href="#L6079321659">872</a></td>
<td class="loc"><pre>   },</pre></td>
</tr><tr id="L7908369861">
<td class="ln"><a href="#L7908369861">873</a></td>
<td class="loc"><pre>   &quot;outputs&quot;: [],</pre></td>
</tr><tr id="L5385204584">
<td class="ln"><a href="#L5385204584">874</a></td>
<td class="loc"><pre>   &quot;source&quot;: [</pre></td>
</tr><tr id="L4026434266">
<td class="ln"><a href="#L4026434266">875</a></td>
<td class="loc"><pre>    &quot;x = range(10)\n&quot;,</pre></td>
</tr><tr id="L6022353476">
<td class="ln"><a href="#L6022353476">876</a></td>
<td class="loc"><pre>    &quot;for a in x:\n&quot;,</pre></td>
</tr><tr id="L7951671726">
<td class="ln"><a href="#L7951671726">877</a></td>
<td class="loc"><pre>    &quot;    if a &gt; random.random() * 10:\n&quot;,</pre></td>
</tr><tr id="L5531103037">
<td class="ln"><a href="#L5531103037">878</a></td>
<td class="loc"><pre>    &quot;        print (a)\n&quot;,</pre></td>
</tr><tr id="L4138516147">
<td class="ln"><a href="#L4138516147">879</a></td>
<td class="loc"><pre>    &quot;    else:\n&quot;,</pre></td>
</tr><tr id="L7532010266">
<td class="ln"><a href="#L7532010266">880</a></td>
<td class="loc"><pre>    &quot;        print (\&quot;false\&quot;)\n&quot;,</pre></td>
</tr><tr id="L6172593064">
<td class="ln"><a href="#L6172593064">881</a></td>
<td class="loc"><pre>    &quot;print (\&quot;all done\&quot;)&quot;</pre></td>
</tr><tr id="L3873634798">
<td class="ln"><a href="#L3873634798">882</a></td>
<td class="loc"><pre>   ]</pre></td>
</tr><tr id="L5803354756">
<td class="ln"><a href="#L5803354756">883</a></td>
<td class="loc"><pre>  },</pre></td>
</tr><tr id="L7508041505">
<td class="ln"><a href="#L7508041505">884</a></td>
<td class="loc"><pre>  {</pre></td>
</tr><tr id="L6182834063">
<td class="ln"><a href="#L6182834063">885</a></td>
<td class="loc"><pre>   &quot;cell_type&quot;: &quot;markdown&quot;,</pre></td>
</tr><tr id="L3918380549">
<td class="ln"><a href="#L3918380549">886</a></td>
<td class="loc"><pre>   &quot;metadata&quot;: {},</pre></td>
</tr><tr id="L5747043963">
<td class="ln"><a href="#L5747043963">887</a></td>
<td class="loc"><pre>   &quot;source&quot;: [</pre></td>
</tr><tr id="L7635067660">
<td class="ln"><a href="#L7635067660">888</a></td>
<td class="loc"><pre>    &quot;***\n&quot;,</pre></td>
</tr><tr id="L6343152502">
<td class="ln"><a href="#L6343152502">889</a></td>
<td class="loc"><pre>    &quot;### 4. Write a function that creates a scatterplot between two lists of numbers.  Test it with 5 different sets random numbers.&quot;</pre></td>
</tr><tr id="L7949666777">
<td class="ln"><a href="#L7949666777">890</a></td>
<td class="loc"><pre>   ]</pre></td>
</tr><tr id="L6020225639">
<td class="ln"><a href="#L6020225639">891</a></td>
<td class="loc"><pre>  },</pre></td>
</tr><tr id="L4024183469">
<td class="ln"><a href="#L4024183469">892</a></td>
<td class="loc"><pre>  {</pre></td>
</tr><tr id="L5383322435">
<td class="ln"><a href="#L5383322435">893</a></td>
<td class="loc"><pre>   &quot;cell_type&quot;: &quot;code&quot;,</pre></td>
</tr><tr id="L7893323234">
<td class="ln"><a href="#L7893323234">894</a></td>
<td class="loc"><pre>   &quot;execution_count&quot;: null,</pre></td>
</tr><tr id="L6064938576">
<td class="ln"><a href="#L6064938576">895</a></td>
<td class="loc"><pre>   &quot;metadata&quot;: {</pre></td>
</tr><tr id="L4034457286">
<td class="ln"><a href="#L4034457286">896</a></td>
<td class="loc"><pre>    &quot;collapsed&quot;: false</pre></td>
</tr><tr id="L5359386428">
<td class="ln"><a href="#L5359386428">897</a></td>
<td class="loc"><pre>   },</pre></td>
</tr><tr id="L7787827659">
<td class="ln"><a href="#L7787827659">898</a></td>
<td class="loc"><pre>   &quot;outputs&quot;: [],</pre></td>
</tr><tr id="L5925102133">
<td class="ln"><a href="#L5925102133">899</a></td>
<td class="loc"><pre>   &quot;source&quot;: []</pre></td>
</tr><tr id="L4459952895">
<td class="ln"><a href="#L4459952895">900</a></td>
<td class="loc"><pre>  },</pre></td>
</tr><tr id="L5214874481">
<td class="ln"><a href="#L5214874481">901</a></td>
<td class="loc"><pre>  {</pre></td>
</tr><tr id="L6976952875">
<td class="ln"><a href="#L6976952875">902</a></td>
<td class="loc"><pre>   &quot;cell_type&quot;: &quot;markdown&quot;,</pre></td>
</tr><tr id="L6725487253">
<td class="ln"><a href="#L6725487253">903</a></td>
<td class="loc"><pre>   &quot;metadata&quot;: {},</pre></td>
</tr><tr id="L4403707640">
<td class="ln"><a href="#L4403707640">904</a></td>
<td class="loc"><pre>   &quot;source&quot;: [</pre></td>
</tr><tr id="L5259685770">
<td class="ln"><a href="#L5259685770">905</a></td>
<td class="loc"><pre>    &quot;### Sets and Tuples&quot;</pre></td>
</tr><tr id="L6987259412">
<td class="ln"><a href="#L6987259412">906</a></td>
<td class="loc"><pre>   ]</pre></td>
</tr><tr id="L6701584030">
<td class="ln"><a href="#L6701584030">907</a></td>
<td class="loc"><pre>  },</pre></td>
</tr><tr id="L4298179341">
<td class="ln"><a href="#L4298179341">908</a></td>
<td class="loc"><pre>  {</pre></td>
</tr><tr id="L5119816611">
<td class="ln"><a href="#L5119816611">909</a></td>
<td class="loc"><pre>   &quot;cell_type&quot;: &quot;markdown&quot;,</pre></td>
</tr><tr id="L4579174848">
<td class="ln"><a href="#L4579174848">910</a></td>
<td class="loc"><pre>   &quot;metadata&quot;: {},</pre></td>
</tr><tr id="L4830362162">
<td class="ln"><a href="#L4830362162">911</a></td>
<td class="loc"><pre>   &quot;source&quot;: [</pre></td>
</tr><tr id="L7363283692">
<td class="ln"><a href="#L7363283692">912</a></td>
<td class="loc"><pre>    &quot;List features include that you can find it by index number, data need not be unique, the contents can be heterogeneous and the structure is changeable.\n&quot;,</pre></td>
</tr><tr id="L6608640854">
<td class="ln"><a href="#L6608640854">913</a></td>
<td class="loc"><pre>    &quot;\n&quot;,</pre></td>
</tr><tr id="L4555304375">
<td class="ln"><a href="#L4555304375">914</a></td>
<td class="loc"><pre>    &quot;In contrast, a *set* is a collection of unique item, useful when data needs to be unique, and when you need to carry out set operations on your data. You can use sets to extract unique items from lists, by casting lists as sets.&quot;</pre></td>
</tr><tr id="L4840701513">
<td class="ln"><a href="#L4840701513">915</a></td>
<td class="loc"><pre>   ]</pre></td>
</tr><tr id="L7408062163">
<td class="ln"><a href="#L7408062163">916</a></td>
<td class="loc"><pre>  },</pre></td>
</tr><tr id="L6552362845">
<td class="ln"><a href="#L6552362845">917</a></td>
<td class="loc"><pre>  {</pre></td>
</tr><tr id="L4682297806">
<td class="ln"><a href="#L4682297806">918</a></td>
<td class="loc"><pre>   &quot;cell_type&quot;: &quot;code&quot;,</pre></td>
</tr><tr id="L5000987236">
<td class="ln"><a href="#L5000987236">919</a></td>
<td class="loc"><pre>   &quot;execution_count&quot;: null,</pre></td>
</tr><tr id="L4223917437">
<td class="ln"><a href="#L4223917437">920</a></td>
<td class="loc"><pre>   &quot;metadata&quot;: {</pre></td>
</tr><tr id="L5448846579">
<td class="ln"><a href="#L5448846579">921</a></td>
<td class="loc"><pre>    &quot;collapsed&quot;: false</pre></td>
</tr><tr id="L7747763369">
<td class="ln"><a href="#L7747763369">922</a></td>
<td class="loc"><pre>   },</pre></td>
</tr><tr id="L5952547863">
<td class="ln"><a href="#L5952547863">923</a></td>
<td class="loc"><pre>   &quot;outputs&quot;: [],</pre></td>
</tr><tr id="L4105249142">
<td class="ln"><a href="#L4105249142">924</a></td>
<td class="loc"><pre>   &quot;source&quot;: [</pre></td>
</tr><tr id="L5564403980">
<td class="ln"><a href="#L5564403980">925</a></td>
<td class="loc"><pre>    &quot;my_list = [1,2,2,3]\n&quot;,</pre></td>
</tr><tr id="L7828881554">
<td class="ln"><a href="#L7828881554">926</a></td>
<td class="loc"><pre>    &quot;print (my_list)\n&quot;,</pre></td>
</tr><tr id="L5866287136">
<td class="ln"><a href="#L5866287136">927</a></td>
<td class="loc"><pre>    &quot;s1 = set(my_list)\n&quot;,</pre></td>
</tr><tr id="L3992675727">
<td class="ln"><a href="#L3992675727">928</a></td>
<td class="loc"><pre>    &quot;print (s1)\n&quot;,</pre></td>
</tr><tr id="L5419062561">
<td class="ln"><a href="#L5419062561">929</a></td>
<td class="loc"><pre>    &quot;s2 = {3,4,5}\n&quot;,</pre></td>
</tr><tr id="L3803892798">
<td class="ln"><a href="#L3803892798">930</a></td>
<td class="loc"><pre>    &quot;print (s2)\n&quot;,</pre></td>
</tr><tr id="L5599386548">
<td class="ln"><a href="#L5599386548">931</a></td>
<td class="loc"><pre>    &quot;print (type(s2))&quot;</pre></td>
</tr><tr id="L7595404650">
<td class="ln"><a href="#L7595404650">932</a></td>
<td class="loc"><pre>   ]</pre></td>
</tr><tr id="L6370196696">
<td class="ln"><a href="#L6370196696">933</a></td>
<td class="loc"><pre>  },</pre></td>
</tr><tr id="L3717599285">
<td class="ln"><a href="#L3717599285">934</a></td>
<td class="loc"><pre>  {</pre></td>
</tr><tr id="L5680472011">
<td class="ln"><a href="#L5680472011">935</a></td>
<td class="loc"><pre>   &quot;cell_type&quot;: &quot;markdown&quot;,</pre></td>
</tr><tr id="L7710994769">
<td class="ln"><a href="#L7710994769">936</a></td>
<td class="loc"><pre>   &quot;metadata&quot;: {},</pre></td>
</tr><tr id="L6251561183">
<td class="ln"><a href="#L6251561183">937</a></td>
<td class="loc"><pre>   &quot;source&quot;: [</pre></td>
</tr><tr id="L3842266192">
<td class="ln"><a href="#L3842266192">938</a></td>
<td class="loc"><pre>    &quot;Set operators can occasionally be handy:&quot;</pre></td>
</tr><tr id="L5838955490">
<td class="ln"><a href="#L5838955490">939</a></td>
<td class="loc"><pre>   ]</pre></td>
</tr><tr id="L4923735555">
<td class="ln"><a href="#L4923735555">940</a></td>
<td class="loc"><pre>  },</pre></td>
</tr><tr id="L4739657325">
<td class="ln"><a href="#L4739657325">941</a></td>
<td class="loc"><pre>  {</pre></td>
</tr><tr id="L6500654887">
<td class="ln"><a href="#L6500654887">942</a></td>
<td class="loc"><pre>   &quot;cell_type&quot;: &quot;code&quot;,</pre></td>
</tr><tr id="L7188189081">
<td class="ln"><a href="#L7188189081">943</a></td>
<td class="loc"><pre>   &quot;execution_count&quot;: null,</pre></td>
</tr><tr id="L5013666300">
<td class="ln"><a href="#L5013666300">944</a></td>
<td class="loc"><pre>   &quot;metadata&quot;: {</pre></td>
</tr><tr id="L4661160582">
<td class="ln"><a href="#L4661160582">945</a></td>
<td class="loc"><pre>    &quot;collapsed&quot;: false</pre></td>
</tr><tr id="L6389816080">
<td class="ln"><a href="#L6389816080">946</a></td>
<td class="loc"><pre>   },</pre></td>
</tr><tr id="L7312624546">
<td class="ln"><a href="#L7312624546">947</a></td>
<td class="loc"><pre>   &quot;outputs&quot;: [],</pre></td>
</tr><tr id="L4903454225">
<td class="ln"><a href="#L4903454225">948</a></td>
<td class="loc"><pre>   &quot;source&quot;: [</pre></td>
</tr><tr id="L4517656223">
<td class="ln"><a href="#L4517656223">949</a></td>
<td class="loc"><pre>    &quot;print (s1 | s2) # Union\n&quot;,</pre></td>
</tr><tr id="L5041909444">
<td class="ln"><a href="#L5041909444">950</a></td>
<td class="loc"><pre>    &quot;print (s1 &amp; s2) # Intersection\n&quot;,</pre></td>
</tr><tr id="L4354096942">
<td class="ln"><a href="#L4354096942">951</a></td>
<td class="loc"><pre>    &quot;print (s1 - s2) # Difference\n&quot;,</pre></td>
</tr><tr id="L6888033768">
<td class="ln"><a href="#L6888033768">952</a></td>
<td class="loc"><pre>    &quot;print (s1 ^ s2) # Symmetric difference - elements unique to both&quot;</pre></td>
</tr><tr id="L7072390746">
<td class="ln"><a href="#L7072390746">953</a></td>
<td class="loc"><pre>   ]</pre></td>
</tr><tr id="L5166312123">
<td class="ln"><a href="#L5166312123">954</a></td>
<td class="loc"><pre>  },</pre></td>
</tr><tr id="L4243225413">
<td class="ln"><a href="#L4243225413">955</a></td>
<td class="loc"><pre>  {</pre></td>
</tr><tr id="L6809569743">
<td class="ln"><a href="#L6809569743">956</a></td>
<td class="loc"><pre>   &quot;cell_type&quot;: &quot;markdown&quot;,</pre></td>
</tr><tr id="L7162354273">
<td class="ln"><a href="#L7162354273">957</a></td>
<td class="loc"><pre>   &quot;metadata&quot;: {},</pre></td>
</tr><tr id="L5288621778">
<td class="ln"><a href="#L5288621778">958</a></td>
<td class="loc"><pre>   &quot;source&quot;: [</pre></td>
</tr><tr id="L4399875936">
<td class="ln"><a href="#L4399875936">959</a></td>
<td class="loc"><pre>    &quot;A tuple is a collection of items, not necessarily unique. They are lighter-weight than lists, and don&#39;t support as many ancillary operations like inserting or appending.  Good for things where you know there will always be the same number of items, like coordinate pairs, where you know there are always two numeric elements, versus polygon vertex lists, which can contain an unpredictable number of items.\n&quot;</pre></td>
</tr><tr id="L5766127745">
<td class="ln"><a href="#L5766127745">960</a></td>
<td class="loc"><pre>   ]</pre></td>
</tr><tr id="L3903524847">
<td class="ln"><a href="#L3903524847">961</a></td>
<td class="loc"><pre>  },</pre></td>
</tr><tr id="L6201426341">
<td class="ln"><a href="#L6201426341">962</a></td>
<td class="loc"><pre>  {</pre></td>
</tr><tr id="L7493742875">
<td class="ln"><a href="#L7493742875">963</a></td>
<td class="loc"><pre>   &quot;cell_type&quot;: &quot;code&quot;,</pre></td>
</tr><tr id="L5784263802">
<td class="ln"><a href="#L5784263802">964</a></td>
<td class="loc"><pre>   &quot;execution_count&quot;: null,</pre></td>
</tr><tr id="L3888499720">
<td class="ln"><a href="#L3888499720">965</a></td>
<td class="loc"><pre>   &quot;metadata&quot;: {</pre></td>
</tr><tr id="L6153993614">
<td class="ln"><a href="#L6153993614">966</a></td>
<td class="loc"><pre>    &quot;collapsed&quot;: false</pre></td>
</tr><tr id="L7546318116">
<td class="ln"><a href="#L7546318116">967</a></td>
<td class="loc"><pre>   },</pre></td>
</tr><tr id="L5676378259">
<td class="ln"><a href="#L5676378259">968</a></td>
<td class="loc"><pre>   &quot;outputs&quot;: [],</pre></td>
</tr><tr id="L3746797597">
<td class="ln"><a href="#L3746797597">969</a></td>
<td class="loc"><pre>   &quot;source&quot;: [</pre></td>
</tr><tr id="L5345055042">
<td class="ln"><a href="#L5345055042">970</a></td>
<td class="loc"><pre>    &quot;t1 = (1,2,3)\n&quot;,</pre></td>
</tr><tr id="L4053016752">
<td class="ln"><a href="#L4053016752">971</a></td>
<td class="loc"><pre>    &quot;print (t1)\n&quot;,</pre></td>
</tr><tr id="L6050115686">
<td class="ln"><a href="#L6050115686">972</a></td>
<td class="loc"><pre>    &quot;t2 = (6,) # For python to know this single item is a tuple and not just a number with parens around it, it needs the trailing comma\n&quot;,</pre></td>
</tr><tr id="L7912439772">
<td class="ln"><a href="#L7912439772">973</a></td>
<td class="loc"><pre>    &quot;print (t1 + t2)&quot;</pre></td>
</tr><tr id="L5397663033">
<td class="ln"><a href="#L5397663033">974</a></td>
<td class="loc"><pre>   ]</pre></td>
</tr><tr id="L4005616839">
<td class="ln"><a href="#L4005616839">975</a></td>
<td class="loc"><pre>  },</pre></td>
</tr><tr id="L6035057741">
<td class="ln"><a href="#L6035057741">976</a></td>
<td class="loc"><pre>  {</pre></td>
</tr><tr id="L7930543075">
<td class="ln"><a href="#L7930543075">977</a></td>
<td class="loc"><pre>   &quot;cell_type&quot;: &quot;code&quot;,</pre></td>
</tr><tr id="L5527017812">
<td class="ln"><a href="#L5527017812">978</a></td>
<td class="loc"><pre>   &quot;execution_count&quot;: null,</pre></td>
</tr><tr id="L4167739614">
<td class="ln"><a href="#L4167739614">979</a></td>
<td class="loc"><pre>   &quot;metadata&quot;: {</pre></td>
</tr><tr id="L7552828679">
<td class="ln"><a href="#L7552828679">980</a></td>
<td class="loc"><pre>    &quot;collapsed&quot;: true</pre></td>
</tr><tr id="L6160135545">
<td class="ln"><a href="#L6160135545">981</a></td>
<td class="loc"><pre>   },</pre></td>
</tr><tr id="L3894764579">
<td class="ln"><a href="#L3894764579">982</a></td>
<td class="loc"><pre>   &quot;outputs&quot;: [],</pre></td>
</tr><tr id="L5790651533">
<td class="ln"><a href="#L5790651533">983</a></td>
<td class="loc"><pre>   &quot;source&quot;: []</pre></td>
</tr><tr id="L7503726832">
<td class="ln"><a href="#L7503726832">984</a></td>
<td class="loc"><pre>  }</pre></td>
</tr><tr id="L6212352386">
<td class="ln"><a href="#L6212352386">985</a></td>
<td class="loc"><pre> ],</pre></td>
</tr><tr id="L3914311708">
<td class="ln"><a href="#L3914311708">986</a></td>
<td class="loc"><pre> &quot;metadata&quot;: {</pre></td>
</tr><tr id="L5776251046">
<td class="ln"><a href="#L5776251046">987</a></td>
<td class="loc"><pre>  &quot;anaconda-cloud&quot;: {},</pre></td>
</tr><tr id="L7647755541">
<td class="ln"><a href="#L7647755541">988</a></td>
<td class="loc"><pre>  &quot;kernelspec&quot;: {</pre></td>
</tr><tr id="L6322040235">
<td class="ln"><a href="#L6322040235">989</a></td>
<td class="loc"><pre>   &quot;display_name&quot;: &quot;Python [default]&quot;,</pre></td>
</tr><tr id="L7937209288">
<td class="ln"><a href="#L7937209288">990</a></td>
<td class="loc"><pre>   &quot;language&quot;: &quot;python&quot;,</pre></td>
</tr><tr id="L6041044026">
<td class="ln"><a href="#L6041044026">991</a></td>
<td class="loc"><pre>   &quot;name&quot;: &quot;python3&quot;</pre></td>
</tr><tr id="L4011480292">
<td class="ln"><a href="#L4011480292">992</a></td>
<td class="loc"><pre>  },</pre></td>
</tr><tr id="L5404452174">
<td class="ln"><a href="#L5404452174">993</a></td>
<td class="loc"><pre>  &quot;language_info&quot;: {</pre></td>
</tr><tr id="L7922841519">
<td class="ln"><a href="#L7922841519">994</a></td>
<td class="loc"><pre>   &quot;codemirror_mode&quot;: {</pre></td>
</tr><tr id="L6060623937">
<td class="ln"><a href="#L6060623937">995</a></td>
<td class="loc"><pre>    &quot;name&quot;: &quot;ipython&quot;,</pre></td>
</tr><tr id="L4063664347">
<td class="ln"><a href="#L4063664347">996</a></td>
<td class="loc"><pre>    &quot;version&quot;: 3</pre></td>
</tr><tr id="L5355317605">
<td class="ln"><a href="#L5355317605">997</a></td>
<td class="loc"><pre>   },</pre></td>
</tr><tr id="L7766715350">
<td class="ln"><a href="#L7766715350">998</a></td>
<td class="loc"><pre>   &quot;file_extension&quot;: &quot;.py&quot;,</pre></td>
</tr><tr id="L5937790060">
<td class="ln"><a href="#L5937790060">999</a></td>
<td class="loc"><pre>   &quot;mimetype&quot;: &quot;text/x-python&quot;,</pre></td>
</tr><tr id="L6720920772">
<td class="ln"><a href="#L6720920772">1000</a></td>
<td class="loc"><pre>   &quot;name&quot;: &quot;python&quot;,</pre></td>
</tr><tr id="L6972116270">
<td class="ln"><a href="#L6972116270">1001</a></td>
<td class="loc"><pre>   &quot;nbconvert_exporter&quot;: &quot;python&quot;,</pre></td>
</tr><tr id="L5211110376">
<td class="ln"><a href="#L5211110376">1002</a></td>
<td class="loc"><pre>   &quot;pygments_lexer&quot;: &quot;ipython3&quot;,</pre></td>
</tr><tr id="L4456475738">
<td class="ln"><a href="#L4456475738">1003</a></td>
<td class="loc"><pre>   &quot;version&quot;: &quot;3.5.2&quot;</pre></td>
</tr><tr id="L6706421947">
<td class="ln"><a href="#L6706421947">1004</a></td>
<td class="loc"><pre>  }</pre></td>
</tr><tr id="L6991827269">
<td class="ln"><a href="#L6991827269">1005</a></td>
<td class="loc"><pre> },</pre></td>
</tr><tr id="L5263163343">
<td class="ln"><a href="#L5263163343">1006</a></td>
<td class="loc"><pre> &quot;nbformat&quot;: 4,</pre></td>
</tr><tr id="L4407472225">
<td class="ln"><a href="#L4407472225">1007</a></td>
<td class="loc"><pre> &quot;nbformat_minor&quot;: 0</pre></td>
</tr><tr id="L6835512530">
<td class="ln"><a href="#L6835512530">1008</a></td>
<td class="loc"><pre>}</pre></td>
</tr>
</tbody>
</table>

    </div>
  </div>

  
<form id="tpl-comment-form" class="loc_comment_form hide" data-show-blame="true" action="/fc_training/comments?origin=file" accept-charset="UTF-8" method="post"><input name="utf8" type="hidden" value="&#x2713;" /><input type="hidden" name="authenticity_token" value="JKb3cPtokDeEHHuVFXfWuGWAjCd/uPNivm7QnUJhz5EMseqMthGeSKm9b87r/kbYRSSs9nGcpxaq0k7Fc80C2Q==" />
  <input type="hidden" name="comment[file_path]" class="js-comment-filepath">
  <input type="hidden" name="comment[line_numbers]" class="js-comment-loc">
  <input type="hidden" name="comment[context_base64]" class="js-comment-context">
  <input type="hidden" name="comment[revision]" class="js-comment-revision">
  <input type="hidden" name="comment[code_review_id]" value="">

  <fieldset>
    <textarea name="comment[body]" cols="80" rows="5" class="loc_comment_textarea" placeholder="Leave a comment. Use @username and @team to notify users and teams." data-users="/fc_training/comments/notifies.json"></textarea>

    <div class="loc_comment_error hide">
      <p class="icon-warning icon-warning--red"></p>
    </div>

    <div class="loc_comment_actions loc_comment_actions--publish">
      <input type="submit" value="Comment on this line" data-comment-value="Comment on this line" data-editing-value="Save changes" class="button">
      <span class="sep">or</span>
      <a href="/fc_training/comments?origin=file&amp;preview=true" class="link-action js-preview-comment">Preview</a>
      <a href="/help/markdown.html" rel="help" class="link-syntax link-action">Markdown syntax</a>
      <button class="loc_comment_close js-close-ic-form">&times;</button>
    </div>

    <div class="loc_comment_actions loc_comment_actions--preview hide">
      <input type="submit" value="Comment on this line" data-comment-value="Comment on this line" data-editing-value="Save changes" class="button">
      <span class="sep">or</span>
      <a href="#" class="link-action js-cancel-preview">Keep editing</a>
    </div>
  </fieldset>
</form>
  <!-- Blame -->
  <div id="tpl-comment-blame" class="loc_comment_blame is-loading hide"></div>

<!-- Comment -->
<div id="tpl-comment" class="loc_comment hide">
  <div class="loc_comment_wrap text-markdown">
    <p>
      <span class="loc_comment_author"><span class="userpic size-small"><img src="" alt="" /><b></b></span> <strong></strong>:</span>
      <span class="loc_comment_footer">
  			<span class="loc_comment_edit hide">
          <a href="/fc_training/comments/-id-" class="js-comment-edit">Edit</a>
          or <a href="/fc_training/comments/-id-" class="js-comment-delete">delete</a>
          within the next <a href="#" class="loc_comment_anchor time-remaining">15 min</a>
        </span>

        <span class="loc_comment_meta">
          <a href="#" class="loc_comment_anchor"><time class="loc_comment_time" datetime=""></time></a>
            <span class="loc_comment_rev" data-ref-name="revision" data-current-ref="4"></span>
        </span>
      </span>
    </p>
  </div>
</div>

<!-- Comment Indicator -->
<div id="tpl-comment-indicator" class="hide">
  <div class="loc_comment_indicator js-show-comment">
    <span class="userpic size-small"><img src="" alt="" /><b></b></span>
  </div>
  <button class="loc_comment_collapse js-hide-comment hide">Hide</button>
</div>
</div>

        </div>
      </div>

      <div id="footer">
        <div class="wildbit">
  <a class="beanstalk-logo" href="http://beanstalkapp.com" title="Beanstalk &nbsp; version control for team leads">&nbsp;</a>
  <p class="vcard">&copy; 2007-2017, <a href="http://www.wildbit.com/" class="fn org url">Wildbit LLC</a>. All rights reserved.</p>
  <p>
    <a href="http://blog.beanstalkapp.com/">Blog</a> <span class="sep">&bull;</span> 
    <a href="http://twitter.com/beanstalkapp">Twitter</a> <span class="sep">&bull;</span>
    <a href="http://shop.wildbit.com">Shop</a> <span class="sep">&bull;</span>
    <a href="http://status.beanstalkapp.com/">System Status</a> <span class="sep">&bull;</span>
    <a href="http://wildbit.com/privacy-policy">Privacy Policy</a> <span class="sep">&bull;</span> 
    <a href="http://beanstalkapp.com/terms-of-service">Terms of Use</a>
  </p>
</div>

      </div>
    </div>
    
      <script>
  var _prum = [['id', '52094e69abe53d7851000000'],
    ['mark', 'firstbyte', (new Date()).getTime()]];
  (function() {
    var s = document.getElementsByTagName('script')[0]
        , p = document.createElement('script');
    p.async = 'async';
    p.src = '//rum-static.pingdom.net/prum.min.js';
    s.parentNode.insertBefore(p, s);
  })();
</script>

    <script type="text/javascript">
    var _cio = _cio || [];

    (function() {
      var a,b,c;a=function(f){return function(){_cio.push([f].
          concat(Array.prototype.slice.call(arguments,0)))}};b=["identify",
        "track"];for(c=0;c<b.length;c++){_cio[b[c]]=a(b[c])};
      var t = document.createElement('script'),
          s = document.getElementsByTagName('script')[0];
      t.async = true;
      t.id    = 'cio-tracker';
      t.setAttribute('data-site-id', 'b3f3284b0ecafe7a962e');
      t.src = 'https://assets.customer.io/assets/track.js';
      s.parentNode.insertBefore(t, s);
    })();

    _cio.identify({id: '79028'});
  </script>


    <script type="text/javascript">
  $(function(){
    Revisions.init({
      url: ':href',
      disabled: {
        revisions: [4]
      }
    });
  });
</script>
<div id="commits-container" class="hide">
  <div class="ref-wrap">
    <div class="ref-container ref-revisions hide" data-scope="revisions">
      <form action="#" action="get" class="ref-search">
        <fieldset class="ref-search-wrap">
          <input type="text" class="ref-search-field" placeholder="Search revisions" />
          <input type="submit" value="Search" class="action-search">
          <b class="action-clear hide">Reset</b>
        </fieldset>

        <fieldset class="ref-search-filter ref-search-filter--with-mode">

          <label class="select-cover fullwidth">
            <span class="select-cover_label i-user">All users</span>
            <select class="ref-filter-user" data-uri="/search/users.json?r=fc_training">
              <option value="">All users</option>
            </select>
          </label>

            <div class="ref-filter-mode">
              <a href="#" class="ref-mode_toggle i-repository" data-mode="repo" title="Show all commits and branches">Repository</a>
                <a href="#" class="ref-mode_toggle i-file disabled" data-mode="path" title="Only show commits and branches that changed this file">File</a>
            </div>
        </fieldset>
      </form>

      <ul class="ref-list"></ul>
    </div>
  </div>
</div>
  </body>
</html>
