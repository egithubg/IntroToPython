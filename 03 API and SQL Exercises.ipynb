<!DOCTYPE html>

<html lang="en" class="no-js">
  <head>
    <meta charset="utf-8">
<script type="text/javascript">window.NREUM||(NREUM={});NREUM.info={"beacon":"bam.nr-data.net","errorBeacon":"bam.nr-data.net","licenseKey":"57d55ed8a3","applicationID":"10682","transactionName":"cgpcFRZbVV5cQEpTEV4SQQQWG1BcXVcd","queueTime":0,"applicationTime":193,"agent":""}</script>
<script type="text/javascript">window.NREUM||(NREUM={}),__nr_require=function(e,t,n){function r(n){if(!t[n]){var o=t[n]={exports:{}};e[n][0].call(o.exports,function(t){var o=e[n][1][t];return r(o||t)},o,o.exports)}return t[n].exports}if("function"==typeof __nr_require)return __nr_require;for(var o=0;o<n.length;o++)r(n[o]);return r}({1:[function(e,t,n){function r(){}function o(e,t,n){return function(){return i(e,[(new Date).getTime()].concat(u(arguments)),t?null:this,n),t?void 0:this}}var i=e("handle"),a=e(2),u=e(3),c=e("ee").get("tracer"),f=NREUM;"undefined"==typeof window.newrelic&&(newrelic=f);var s=["setPageViewName","setCustomAttribute","setErrorHandler","finished","addToTrace","inlineHit","addRelease"],l="api-",p=l+"ixn-";a(s,function(e,t){f[t]=o(l+t,!0,"api")}),f.addPageAction=o(l+"addPageAction",!0),f.setCurrentRouteName=o(l+"routeName",!0),t.exports=newrelic,f.interaction=function(){return(new r).get()};var d=r.prototype={createTracer:function(e,t){var n={},r=this,o="function"==typeof t;return i(p+"tracer",[Date.now(),e,n],r),function(){if(c.emit((o?"":"no-")+"fn-start",[Date.now(),r,o],n),o)try{return t.apply(this,arguments)}finally{c.emit("fn-end",[Date.now()],n)}}}};a("setName,setAttribute,save,ignore,onEnd,getContext,end,get".split(","),function(e,t){d[t]=o(p+t)}),newrelic.noticeError=function(e){"string"==typeof e&&(e=new Error(e)),i("err",[e,(new Date).getTime()])}},{}],2:[function(e,t,n){function r(e,t){var n=[],r="",i=0;for(r in e)o.call(e,r)&&(n[i]=t(r,e[r]),i+=1);return n}var o=Object.prototype.hasOwnProperty;t.exports=r},{}],3:[function(e,t,n){function r(e,t,n){t||(t=0),"undefined"==typeof n&&(n=e?e.length:0);for(var r=-1,o=n-t||0,i=Array(o<0?0:o);++r<o;)i[r]=e[t+r];return i}t.exports=r},{}],ee:[function(e,t,n){function r(){}function o(e){function t(e){return e&&e instanceof r?e:e?c(e,u,i):i()}function n(n,r,o){if(!p.aborted){e&&e(n,r,o);for(var i=t(o),a=v(n),u=a.length,c=0;c<u;c++)a[c].apply(i,r);var f=s[w[n]];return f&&f.push([y,n,r,i]),i}}function d(e,t){b[e]=v(e).concat(t)}function v(e){return b[e]||[]}function g(e){return l[e]=l[e]||o(n)}function m(e,t){f(e,function(e,n){t=t||"feature",w[n]=t,t in s||(s[t]=[])})}var b={},w={},y={on:d,emit:n,get:g,listeners:v,context:t,buffer:m,abort:a,aborted:!1};return y}function i(){return new r}function a(){(s.api||s.feature)&&(p.aborted=!0,s=p.backlog={})}var u="nr@context",c=e("gos"),f=e(2),s={},l={},p=t.exports=o();p.backlog=s},{}],gos:[function(e,t,n){function r(e,t,n){if(o.call(e,t))return e[t];var r=n();if(Object.defineProperty&&Object.keys)try{return Object.defineProperty(e,t,{value:r,writable:!0,enumerable:!1}),r}catch(i){}return e[t]=r,r}var o=Object.prototype.hasOwnProperty;t.exports=r},{}],handle:[function(e,t,n){function r(e,t,n,r){o.buffer([e],r),o.emit(e,t,n)}var o=e("ee").get("handle");t.exports=r,r.ee=o},{}],id:[function(e,t,n){function r(e){var t=typeof e;return!e||"object"!==t&&"function"!==t?-1:e===window?0:a(e,i,function(){return o++})}var o=1,i="nr@id",a=e("gos");t.exports=r},{}],loader:[function(e,t,n){function r(){if(!h++){var e=y.info=NREUM.info,t=l.getElementsByTagName("script")[0];if(setTimeout(f.abort,3e4),!(e&&e.licenseKey&&e.applicationID&&t))return f.abort();c(b,function(t,n){e[t]||(e[t]=n)}),u("mark",["onload",a()],null,"api");var n=l.createElement("script");n.src="https://"+e.agent,t.parentNode.insertBefore(n,t)}}function o(){"complete"===l.readyState&&i()}function i(){u("mark",["domContent",a()],null,"api")}function a(){return(new Date).getTime()}var u=e("handle"),c=e(2),f=e("ee"),s=window,l=s.document,p="addEventListener",d="attachEvent",v=s.XMLHttpRequest,g=v&&v.prototype;NREUM.o={ST:setTimeout,CT:clearTimeout,XHR:v,REQ:s.Request,EV:s.Event,PR:s.Promise,MO:s.MutationObserver},e(1);var m=""+location,b={beacon:"bam.nr-data.net",errorBeacon:"bam.nr-data.net",agent:"js-agent.newrelic.com/nr-1016.min.js"},w=v&&g&&g[p]&&!/CriOS/.test(navigator.userAgent),y=t.exports={offset:a(),origin:m,features:{},xhrWrappable:w};l[p]?(l[p]("DOMContentLoaded",i,!1),s[p]("load",r,!1)):(l[d]("onreadystatechange",o),s[d]("onload",r)),u("mark",["firstbyte",a()],null,"api");var h=0},{}]},{},["loader"]);</script>
    <meta name="robots" content="noindex, nofollow">
    <meta name="viewport" content="width=1080">
    <meta name="globalsign-domain-verification" content="KpMEC6CPrdUBWUjMhQ81DWBefsL1xNbdHh1QkJt6yt" />
    
    <title>fc_training: Browser</title>

    <link rel="shortcut icon" href="https://assets.beanstalkapp.com/images/favicon.ico" type="image/x-icon">
<link rel="mask-icon" href="https://assets.beanstalkapp.com/images/icon-pinned-tab.svg" color="#5FAC6C">
<link rel="apple-touch-icon-precomposed" href="https://assets.beanstalkapp.com/images/apple-touch-icon-144x144-precomposed.png" sizes="144x144"> 
<link rel="apple-touch-icon-precomposed" href="https://assets.beanstalkapp.com/images/apple-touch-icon-114x114-precomposed.png" sizes="114x114"> 
<link rel="apple-touch-icon-precomposed" href="https://assets.beanstalkapp.com/images/apple-touch-icon-72x72-precomposed.png" sizes="72x72"> 
<link rel="apple-touch-icon-precomposed" href="https://assets.beanstalkapp.com/images/apple-touch-icon-precomposed.png">
<meta property="og:image" content="https://assets.beanstalkapp.com/images/apple-touch-icon-144x144-precomposed.png">

    <link rel="stylesheet" media="all" href="https://assets.beanstalkapp.com/stylesheets/global.css?1ac3c16d07f23ac188d327d52bb144f1" />
    <script src="//ajax.googleapis.com/ajax/libs/jquery/1.10.1/jquery.min.js"></script>
    <script src="https://d3dy5gmtp8yhk7.cloudfront.net/2.1/pusher.min.js"></script>
    <script src="https://assets.beanstalkapp.com/javascripts/bundle.application.min.js?15c393e61de67d4c02f0f9d0bfe59811"></script>


    <meta name="csrf-param" content="authenticity_token" />
<meta name="csrf-token" content="CgctPX3cCL0mMYVocdYJFc0xzs7haQE7oSZv0nrc33QiEDDBMKUGwguQkTOPX5l17ZXuH+9NVU+1mvGKS3ASPA==" />
    <link title="FoundationCenter&#39;s Beanstalk" type="application/opensearchdescription+xml" rel="search" href="https://foundationcenter.beanstalkapp.com/opensearch.xml" />
    <meta name="current-user" content="350219" /><meta name="current-user-tzoffset" content="-18000" />

    
  </head>

  <body id="">
    
  <script>
    dataLayer = [{
      'siteType': 'application'
    }];
  </script>

  <!-- Google Tag Manager -->
  <noscript><iframe src="//www.googletagmanager.com/ns.html?id=GTM-PXZVN2"
                    height="0" width="0" style="display:none;visibility:hidden"></iframe></noscript>
  <script>(function(w,d,s,l,i){w[l]=w[l]||[];w[l].push({'gtm.start':
      new Date().getTime(),event:'gtm.js'});var f=d.getElementsByTagName(s)[0],
      j=d.createElement(s),dl=l!='dataLayer'?'&l='+l:'';j.async=true;j.src=
      '//www.googletagmanager.com/gtm.js?id='+i+dl;f.parentNode.insertBefore(j,f);
  })(window,document,'script','dataLayer','GTM-PXZVN2');</script>
  <!-- End Google Tag Manager -->

       <div id="viewer-settings" class="hide">
  <fieldset class="viewer-settings">

    <div class="form-row l-vertical setting-lang">
      <div class="form-label">
        <label for="viewer-settings-type">File Language:</label>
      </div>
      <div class="form-field">
        <select name="viewer-settings-type" id="settings-mode"><option value="">Automatic</option>
<option value="apache">Apache</option>
<option value="applescript">AppleScript</option>
<option value="actionscript">ActionScript</option>
<option value="bash">Bash</option>
<option value="bat">Batch</option>
<option value="befunge">Befunge</option>
<option value="boo">BOO</option>
<option value="brainfuck">Brainfuck</option>
<option value="c-objdump">C objdump</option>
<option value="c">C</option>
<option value="cheetah">Cheetah</option>
<option value="clojure">Clojure</option>
<option value="common-lisp">Common Lisp</option>
<option value="control">Control</option>
<option value="coffeescript">CoffeeScript</option>
<option value="cpp">C++</option>
<option value="cpp-objdump">C++ objdump</option>
<option value="csharp">C#</option>
<option value="css">CSS</option>
<option value="d-objdump">D objdump</option>
<option value="d">D</option>
<option value="pascal">Pascal</option>
<option value="diff">Diff</option>
<option value="dpatch">Darcs Patch</option>
<option value="dylan">Dylan</option>
<option value="rhtml">ERB HTML</option>
<option value="erb">ERB</option>
<option value="erlang">Erlang</option>
<option value="fortran">Fortran</option>
<option value="genshi">Genshi</option>
<option value="gnuplot">Gnuplot</option>
<option value="groff">Groff</option>
<option value="groovy">Groovy</option>
<option value="go">Google Go</option>
<option value="haskell">Haskell</option>
<option value="powershell">PowerShell</option>
<option value="html+php">PHP HTML</option>
<option value="haml">HAML</option>
<option value="html">(X)HTML</option>
<option value="io">Io</option>
<option value="java">Java</option>
<option value="javascript">JavaScript</option>
<option value="jsp">JSP</option>
<option value="json">JSON</option>
<option value="literate-haskell">Literate Haskell</option>
<option value="llvm">LLVM</option>
<option value="logtalk">Logtalk</option>
<option value="lua">Lua</option>
<option value="make">Makefile</option>
<option value="mako">Mako</option>
<option value="markdown">Markdown</option>
<option value="moocode">Moocode</option>
<option value="mupad">MuPAD</option>
<option value="myghty">Myghty</option>
<option value="nasm">NASM</option>
<option value="objective-c">Objective C</option>
<option value="matlab">MatLab</option>
<option value="ocaml">OCaml</option>
<option value="perl">Perl</option>
<option value="php">PHP</option>
<option value="python">Python</option>
<option value="ruby">Ruby</option>
<option value="redcode">Redcode</option>
<option value="sass">Sass</option>
<option value="scss">SCSS</option>
<option value="scala">Scala</option>
<option value="scheme">Scheme</option>
<option value="smalltalk">Smalltalk</option>
<option value="smarty">Smarty</option>
<option value="sql">SQL</option>
<option value="sqlite3">SQLite 3</option>
<option value="swift">Swift</option>
<option value="tcl">Tcl</option>
<option value="tcsh">tcsh</option>
<option value="latex">LaTeX</option>
<option value="text">Plain Text</option>
<option value="vb.net">Visual Basic .NET</option>
<option value="vim">Vim</option>
<option value="xml">XML</option>
<option value="xslt">XSLT</option>
<option value="yaml">YAML</option></select>
      </div>
    </div>

    <div class="form-row l-vertical">
      <div class="form-label">
        <label for="viewer-settings-type">Notifications:</label>
      </div>
      <div class="form-field">
        <form class="js-comments-subscribe" action="/fc_training/file_subscription?repo_path=trunk%2Fpython_01%2F_notebooks%2F03+API+and+SQL+Exercises.ipynb" accept-charset="UTF-8" method="post"><input name="utf8" type="hidden" value="&#x2713;" /><input type="hidden" name="authenticity_token" value="khlrz/d2Bj13iCBNSQZKxKf510Yj7SGDTEjZMxB3Ix66DnYzug8IQlopNBa3j9qkh133ly3JdfdY9EdrIdvuVg==" />
          <fieldset>
            <button type="submit" name="subscribe" value="POST" class="link-subscribe"><u>Subscribe to comments</u></button>
            <button type="submit" name="unsubscribe" value="DELETE" class="link-unsubscribe hide"><u>Unsubscribe from comments</u></button>
          </fieldset>
</form>      </div>
    </div>

  </fieldset>
</div>


    
    
    <div id="container">
      <div id="top_announce_container"></div>
      
      <div class="header">
        <div class="metanav clearfix">
  <ul class="meta-global">
    <li class="nav-item">
      <a class="metanav-item" href="/"><u>Dashboard</u></a>
    </li>

    <li class="nav-item">
        <a class="metanav-item" href="/repositories"><u>Repositories</u> <span class="count">133</span></a> <a class="dd-arrow dd-arrow--metanav js-open-dropdown" data-dropdown="recent-repositories" title="Repositories" href="/navigation/repositories"></a>
        <div class="dropdown dropdown--metanav hide" id="recent-repositories"></div>
    </li>

      <li class="nav-item">
        <a class="metanav-item" href="/users"><u>Users</u> <span class="count">64</span></a>
      </li>
  </ul>

  <ul class="meta-personal">
    <li class="nav-item">
      <a class="metanav-item" href="/profile/edit"><span class="userpic size-small " title="Gordon Green"><img alt="Gordon Green" class="photo" src="https://secure.gravatar.com/avatar/7cb106702befb9ca1530d2456f593379?s=48&d=https://assets.beanstalkapp.com/images/users/default.gif" width="24" height="24" /><b></b></span> <u>Gordon Green</u></a>
    </li>

    
    <li class="nav-item">
      <a class="metanav-item" rel="nofollow" data-method="delete" href="/session"><u>Logout</u></a>
    </li>
    
    <li class="nav-item">
      <a title="Help" class="metanav-item metanav-item--help" rel="help" href="/help">Help</a>
    </li>
  </ul>
</div>

        <div class="header-bar clearfix">
  <h1 class="header-title">
    <span class="color-badge color-badge--repo color-badge--white "></span> <strong>fc_training</strong>
  </h1>

  <ul class="mainnav">
    <li class="nav-item">
      <a class="mainnav-item" href="/fc_training"><u>Activity</u></a>
    </li>

    <li class="nav-item">
      <a class="mainnav-item mainnav-item--current" href="/fc_training/browse"><u>Browse</u></a>
    </li>

    <li class="nav-item">
      <a class="mainnav-item" href="/fc_training/branches"><u>Branches</u></a>
    </li>

    <li class="nav-item" id="tour-reviews">
          <a class="mainnav-item" href="/fc_training/code_reviews"><u>Reviews</u></a>
    </li>

        <li class="nav-item">
              <a class="mainnav-item" href="/fc_training/environments"><u>Deployments</u></a>
        </li>

        <li class="nav-item">
          <a class="mainnav-item" href="/repositories/fc_training/edit"><u>Settings</u></a>
        </li>
  </ul>

  <div class="search">
  <form action="/search" accept-charset="UTF-8" method="get"><input name="utf8" type="hidden" value="&#x2713;" />
    <fieldset class="search-main">
      <a href="/search/users.json?r=fc_training" class="a-advanced-search js-open-dropdown" data-dropdown="advanced-search" title="Advanced search">Advanced search</a>
      <a href="/search/users.json?r=fc_training" class="userpic size-medium a-advanced-filter js-open-dropdown hide" data-dropdown="advanced-search"><b></b></a>

      <input type="hidden" name="u" id="search-by-user">

      <div class="search-field-wrap">
          <input type="hidden" name="r" id="r" value="fc_training" />
          <input type="search" name="q" id="q" class="search-field" placeholder="Search fc_training repository" />
        <a href="#" class="search-reset hide">Reset</a>
      </div>

      <input type="submit" class="search-submit">
    </fieldset>
</form>
  <div class="dropdown dropdown--search hide" id="advanced-search"></div>
</div>

</div>

      </div>
  
      <div id="page">
        <div class="content " id="">
          <div class="toolbar">
    <h2 class="toolbar-title icon-file">

        <span class="editable-name">03 API and SQL Exercises.ipynb</span>
        <form class="editable-name_form hide" action="/fc_training/rename" accept-charset="UTF-8" method="post"><input name="utf8" type="hidden" value="&#x2713;" /><input type="hidden" name="authenticity_token" value="J5YCx8T//y35wJrvzrNR+KoEZLCqIGpy15dskC4fPI4PgR87iYbxUtRhjrQwOsGYiqBEYaQEPgbDK/LIH7Pxxg==" />
  <fieldset>
    <input type="text" name="new_filename" size="30" maxlength="255" placeholder="untitled" class="editable-name_input js-filename-input" value="03 API and SQL Exercises.ipynb" data-allow-moving="false">
    <input type="hidden" name="repo_path" id="repo_path" value="trunk/python_01/_notebooks/03 API and SQL Exercises.ipynb" />
    <input type="hidden" name="ref" id="ref" />
    <span class="editable-name_submit">
      <input type="submit" disabled value="Rename">
      <span class="sep">or</span>
      <a href="#" class="link-action">Cancel</a>
    </span>
  </fieldset>
</form>
    </h2>
  
  <span class="toolbar-sep"></span>

  <a class="button js-change-refs" rel="commits-container" data-ref-pattern="?ref=--scope-----ref--" data-repo-path="trunk/python_01/_notebooks/03 API and SQL Exercises.ipynb" href="/fc_training/navigation/hud_data.json?repo_path=trunk%2Fpython_01%2F_notebooks%2F03+API+and+SQL+Exercises.ipynb&amp;scope=commits"><span class="icon-arrow-ab">Revision: 4</span></a>
  <a class="button js-change-refs" rel="commits-container" data-ref-pattern="/fc_training/diff/trunk/python_01/_notebooks/03%20API%20and%20SQL%20Exercises.ipynb?target=--scope-----ref--" data-repo-path="trunk/python_01/_notebooks/03 API and SQL Exercises.ipynb" href="/fc_training/navigation/hud_data.json?repo_path=trunk%2Fpython_01%2F_notebooks%2F03+API+and+SQL+Exercises.ipynb&amp;scope=commits"><span class="icon-arrow-ab">Diff 4 to&hellip;</span></a>

  <ul class="tabs">
    <li class="tab--history"><a class="tab" href="/fc_training/history/trunk/python_01/_notebooks/03%20API%20and%20SQL%20Exercises.ipynb"><u>File history</u></a></li>
  </ul>
</div>


            
    <div class="js-code-comments" data-comments-uri="/fc_training/comments.json?repo_path=trunk%2Fpython_01%2F_notebooks%2F03+API+and+SQL+Exercises.ipynb&amp;revision=4">
  <div class="cv-container" data-file-revision="4">
    <div class="ct">
  <ul class="ct_actions">
      <li class="ct_actions_item">
    <a href="#" onclick="return false;" rel="tooltip" class="ct_button ct_button--preview disabled" title="Preview is not available for this file">
      <span class="ct_button_icon"></span> Preview
    </a>
  </li>

        <li class="ct_actions_item">
      <a href="/fc_training/edit//trunk/python_01/_notebooks/03%20API%20and%20SQL%20Exercises.ipynb" class="ct_button ct_button--edit">
        <span class="ct_button_icon"></span> Edit
      </a>
    </li>

      <li class="ct_actions_item">
    <a href="/fc_training/blame/trunk/python_01/_notebooks/03%20API%20and%20SQL%20Exercises.ipynb" class="ct_button ct_button--blame">
      <span class="ct_button_icon"></span> Blame
    </a>
  </li>

    <li class="ct_actions_item">
      <a href="/fc_training/download//trunk/python_01/_notebooks/03%20API%20and%20SQL%20Exercises.ipynb" class="ct_button ct_button--download">
        <span class="ct_button_icon"></span> Download
      </a>
    </li>
      <li class="ct_actions_item">
    <a href="#" class="ct_button ct_button--settings" rel="viewer-settings">
      <span class="ct_button_icon"></span> Settings
    </a>
  </li>

  </ul>

    <a href="#" class="ct_comments-toggle is-loading" title="Show inline comments"></a>

  <div class="ct_path">
      <a class="ct_path_rev" href="/fc_training/changesets/3">3</a>
    <a class="path_item" href="/fc_training/browse/trunk">trunk</a><span class="path_sep">/</span><a class="path_item" href="/fc_training/browse/trunk/python_01">python_01</a><span class="path_sep">/</span><a class="path_item" href="/fc_training/browse/trunk/python_01/_notebooks">_notebooks</a><span class="path_sep">/</span><a class="path_item path_item--current" href="/fc_training/browse//trunk/python_01/_notebooks/03%20API%20and%20SQL%20Exercises.ipynb">03 API and SQL Exercises.ipynb</a>
  </div>
</div>


    <div class="cv cv--commentable" data-blame-uri="/fc_training/blame_line/trunk/python_01/_notebooks/03%20API%20and%20SQL%20Exercises.ipynb">
        <table>
<tbody>
<tr id="L2739827014">
<td class="ln"><a href="#L2739827014">1</a></td>
<td class="loc"><pre>{</pre></td>
</tr><tr id="L977747868">
<td class="ln"><a href="#L977747868">2</a></td>
<td class="loc"><pre> &quot;cells&quot;: [</pre></td>
</tr><tr id="L2370048042">
<td class="ln"><a href="#L2370048042">3</a></td>
<td class="loc"><pre>  {</pre></td>
</tr><tr id="L4616330439">
<td class="ln"><a href="#L4616330439">4</a></td>
<td class="loc"><pre>   &quot;cell_type&quot;: &quot;markdown&quot;,</pre></td>
</tr><tr id="L2753735997">
<td class="ln"><a href="#L2753735997">5</a></td>
<td class="loc"><pre>   &quot;metadata&quot;: {},</pre></td>
</tr><tr id="L1026161571">
<td class="ln"><a href="#L1026161571">6</a></td>
<td class="loc"><pre>   &quot;source&quot;: [</pre></td>
</tr><tr id="L2318453777">
<td class="ln"><a href="#L2318453777">7</a></td>
<td class="loc"><pre>    &quot;## API and SQL Exercises&quot;</pre></td>
</tr><tr id="L4721858722">
<td class="ln"><a href="#L4721858722">8</a></td>
<td class="loc"><pre>   ]</pre></td>
</tr><tr id="L2893605140">
<td class="ln"><a href="#L2893605140">9</a></td>
<td class="loc"><pre>  },</pre></td>
</tr><tr id="L3234768752">
<td class="ln"><a href="#L3234768752">10</a></td>
<td class="loc"><pre>  {</pre></td>
</tr><tr id="L4123760390">
<td class="ln"><a href="#L4123760390">11</a></td>
<td class="loc"><pre>   &quot;cell_type&quot;: &quot;markdown&quot;,</pre></td>
</tr><tr id="L1858389596">
<td class="ln"><a href="#L1858389596">12</a></td>
<td class="loc"><pre>   &quot;metadata&quot;: {},</pre></td>
</tr><tr id="L1472591338">
<td class="ln"><a href="#L1472591338">13</a></td>
<td class="loc"><pre>   &quot;source&quot;: [</pre></td>
</tr><tr id="L3315753863">
<td class="ln"><a href="#L3315753863">14</a></td>
<td class="loc"><pre>    &quot;The geoplace_key for Mexico is 3996063 (you can look this up using the /lookup/location end point).  Using the /list/grants apibeta endpoint, add up the total amount of the top 10 grants to recipients in Mexico. &quot;</pre></td>
</tr><tr id="L4037628669">
<td class="ln"><a href="#L4037628669">15</a></td>
<td class="loc"><pre>   ]</pre></td>
</tr><tr id="L1739588195">
<td class="ln"><a href="#L1739588195">16</a></td>
<td class="loc"><pre>  },</pre></td>
</tr><tr id="L1588277713">
<td class="ln"><a href="#L1588277713">17</a></td>
<td class="loc"><pre>  {</pre></td>
</tr><tr id="L3472371554">
<td class="ln"><a href="#L3472371554">18</a></td>
<td class="loc"><pre>   &quot;cell_type&quot;: &quot;code&quot;,</pre></td>
</tr><tr id="L4159905492">
<td class="ln"><a href="#L4159905492">19</a></td>
<td class="loc"><pre>   &quot;execution_count&quot;: null,</pre></td>
</tr><tr id="L2850158513">
<td class="ln"><a href="#L2850158513">20</a></td>
<td class="loc"><pre>   &quot;metadata&quot;: {</pre></td>
</tr><tr id="L4779984963">
<td class="ln"><a href="#L4779984963">21</a></td>
<td class="loc"><pre>    &quot;collapsed&quot;: true</pre></td>
</tr><tr id="L2213517469">
<td class="ln"><a href="#L2213517469">22</a></td>
<td class="loc"><pre>   },</pre></td>
</tr><tr id="L854239527">
<td class="ln"><a href="#L854239527">23</a></td>
<td class="loc"><pre>   &quot;outputs&quot;: [],</pre></td>
</tr><tr id="L2895066058">
<td class="ln"><a href="#L2895066058">24</a></td>
<td class="loc"><pre>   &quot;source&quot;: []</pre></td>
</tr><tr id="L4723573820">
<td class="ln"><a href="#L4723573820">25</a></td>
<td class="loc"><pre>  },</pre></td>
</tr><tr id="L2189776038">
<td class="ln"><a href="#L2189776038">26</a></td>
<td class="loc"><pre>  {</pre></td>
</tr><tr id="L864445712">
<td class="ln"><a href="#L864445712">27</a></td>
<td class="loc"><pre>   &quot;cell_type&quot;: &quot;markdown&quot;,</pre></td>
</tr><tr id="L2753396639">
<td class="ln"><a href="#L2753396639">28</a></td>
<td class="loc"><pre>   &quot;metadata&quot;: {},</pre></td>
</tr><tr id="L4615720981">
<td class="ln"><a href="#L4615720981">29</a></td>
<td class="loc"><pre>   &quot;source&quot;: [</pre></td>
</tr><tr id="L3000813810">
<td class="ln"><a href="#L3000813810">30</a></td>
<td class="loc"><pre>    &quot;Supposed we wanted to get place identifiers mentioned in the grantmaker limitations text, for grantmakes located in Brooklyn.  You can get this text from the fc_sample database with a query like the following:\n&quot;,</pre></td>
</tr><tr id="L4359846276">
<td class="ln"><a href="#L4359846276">31</a></td>
<td class="loc"><pre>    &quot;\n&quot;,</pre></td>
</tr><tr id="L2631313374">
<td class="ln"><a href="#L2631313374">32</a></td>
<td class="loc"><pre>    &quot;SELECT a.fcdbwin_gm_key, \n&quot;,</pre></td>
</tr><tr id="L701732968">
<td class="ln"><a href="#L701732968">33</a></td>
<td class="loc"><pre>    &quot;       a.NAME, \n&quot;,</pre></td>
</tr><tr id="L3010987273">
<td class="ln"><a href="#L3010987273">34</a></td>
<td class="loc"><pre>    &quot;       b.description \n&quot;,</pre></td>
</tr><tr id="L4336072059">
<td class="ln"><a href="#L4336072059">35</a></td>
<td class="loc"><pre>    &quot;FROM   grantmaker a \n&quot;,</pre></td>
</tr><tr id="L2574935013">
<td class="ln"><a href="#L2574935013">36</a></td>
<td class="loc"><pre>    &quot;       INNER JOIN long_text b \n&quot;,</pre></td>
</tr><tr id="L746673231">
<td class="ln"><a href="#L746673231">37</a></td>
<td class="loc"><pre>    &quot;               ON a.gm_key = b.gm_key \n&quot;,</pre></td>
</tr><tr id="L3173142752">
<td class="ln"><a href="#L3173142752">38</a></td>
<td class="loc"><pre>    &quot;WHERE  b.text_type = &#39;LM&#39; \n&quot;,</pre></td>
</tr><tr id="L4465459542">
<td class="ln"><a href="#L4465459542">39</a></td>
<td class="loc"><pre>    &quot;       AND a.state = &#39;NY&#39; \n&quot;,</pre></td>
</tr><tr id="L4221326131">
<td class="ln"><a href="#L4221326131">40</a></td>
<td class="loc"><pre>    &quot;       AND a.county = &#39;Kings&#39; \n&quot;,</pre></td>
</tr><tr id="L3399443137">
<td class="ln"><a href="#L3399443137">41</a></td>
<td class="loc"><pre>    &quot;       \n&quot;,</pre></td>
</tr><tr id="L1368797719">
<td class="ln"><a href="#L1368797719">42</a></td>
<td class="loc"><pre>    &quot;The api call has this format:\n&quot;,</pre></td>
</tr><tr id="L1687486893">
<td class="ln"><a href="#L1687486893">43</a></td>
<td class="loc"><pre>    &quot;\n&quot;,</pre></td>
</tr><tr id="L4206401356">
<td class="ln"><a href="#L4206401356">44</a></td>
<td class="loc"><pre>    &quot;https://apibeta.foundationcenter.org/v2.0/text/locations?text=[text]\n&quot;,</pre></td>
</tr><tr id="L3417417402">
<td class="ln"><a href="#L3417417402">45</a></td>
<td class="loc"><pre>    &quot;\n&quot;,</pre></td>
</tr><tr id="L1421538848">
<td class="ln"><a href="#L1421538848">46</a></td>
<td class="loc"><pre>    &quot;Write a program that gets the unique geoplace_keys referenced in this text for those grantmakers.&quot;</pre></td>
</tr><tr id="L1639957910">
<td class="ln"><a href="#L1639957910">47</a></td>
<td class="loc"><pre>   ]</pre></td>
</tr><tr id="L4066564901">
<td class="ln"><a href="#L4066564901">48</a></td>
<td class="loc"><pre>  },</pre></td>
</tr><tr id="L3311921807">
<td class="ln"><a href="#L3311921807">49</a></td>
<td class="loc"><pre>  {</pre></td>
</tr><tr id="L3835912820">
<td class="ln"><a href="#L3835912820">50</a></td>
<td class="loc"><pre>   &quot;cell_type&quot;: &quot;code&quot;,</pre></td>
</tr><tr id="L3517469186">
<td class="ln"><a href="#L3517469186">51</a></td>
<td class="loc"><pre>   &quot;execution_count&quot;: null,</pre></td>
</tr><tr id="L1253114712">
<td class="ln"><a href="#L1253114712">52</a></td>
<td class="loc"><pre>   &quot;metadata&quot;: {</pre></td>
</tr><tr id="L2074751726">
<td class="ln"><a href="#L2074751726">53</a></td>
<td class="loc"><pre>    &quot;collapsed&quot;: true</pre></td>
</tr><tr id="L3788351115">
<td class="ln"><a href="#L3788351115">54</a></td>
<td class="loc"><pre>   },</pre></td>
</tr><tr id="L3570177529">
<td class="ln"><a href="#L3570177529">55</a></td>
<td class="loc"><pre>   &quot;outputs&quot;: [],</pre></td>
</tr><tr id="L1271121759">
<td class="ln"><a href="#L1271121759">56</a></td>
<td class="loc"><pre>   &quot;source&quot;: []</pre></td>
</tr><tr id="L2059859669">
<td class="ln"><a href="#L2059859669">57</a></td>
<td class="loc"><pre>  },</pre></td>
</tr><tr id="L3948669542">
<td class="ln"><a href="#L3948669542">58</a></td>
<td class="loc"><pre>  {</pre></td>
</tr><tr id="L3697203664">
<td class="ln"><a href="#L3697203664">59</a></td>
<td class="loc"><pre>   &quot;cell_type&quot;: &quot;markdown&quot;,</pre></td>
</tr><tr id="L4522390709">
<td class="ln"><a href="#L4522390709">60</a></td>
<td class="loc"><pre>   &quot;metadata&quot;: {},</pre></td>
</tr><tr id="L3096249663">
<td class="ln"><a href="#L3096249663">61</a></td>
<td class="loc"><pre>   &quot;source&quot;: [</pre></td>
</tr><tr id="L528765849">
<td class="ln"><a href="#L528765849">62</a></td>
<td class="loc"><pre>    &quot;Supposed we wanted to get a sense of how grant funding is distributed among SDGs (sustainable development goals) for smal Ford Foundation grants in 2011.  ApiBeta has an endpoint that does this, text/taxonomies.  Here is a sample API call:\n&quot;,</pre></td>
</tr><tr id="L2525455403">
<td class="ln"><a href="#L2525455403">63</a></td>
<td class="loc"><pre>    &quot;\n&quot;,</pre></td>
</tr><tr id="L4444059854">
<td class="ln"><a href="#L4444059854">64</a></td>
<td class="loc"><pre>    &quot;https://apibeta.foundationcenter.org/v2.0/text/taxonomies?text=[text]&amp;taxonomy=sdg&amp;threshold=60&amp;chunk_text=false\n&quot;,</pre></td>
</tr><tr id="L3186084152">
<td class="ln"><a href="#L3186084152">65</a></td>
<td class="loc"><pre>    &quot; \n&quot;,</pre></td>
</tr><tr id="L653301666">
<td class="ln"><a href="#L653301666">66</a></td>
<td class="loc"><pre>    &quot;We can get the grant description texts using a query something like this:\n&quot;,</pre></td>
</tr><tr id="L2414454804">
<td class="ln"><a href="#L2414454804">67</a></td>
<td class="loc"><pre>    &quot;\n&quot;,</pre></td>
</tr><tr id="L4298685603">
<td class="ln"><a href="#L4298685603">68</a></td>
<td class="loc"><pre>    &quot;SELECT grant_key, \n&quot;,</pre></td>
</tr><tr id="L3073477905">
<td class="ln"><a href="#L3073477905">69</a></td>
<td class="loc"><pre>    &quot;       description, \n&quot;,</pre></td>
</tr><tr id="L4671996918">
<td class="ln"><a href="#L4671996918">70</a></td>
<td class="loc"><pre>    &quot;       amount \n&quot;,</pre></td>
</tr><tr id="L2675061888">
<td class="ln"><a href="#L2675061888">71</a></td>
<td class="loc"><pre>    &quot;FROM   grants a \n&quot;,</pre></td>
</tr><tr id="L947610842">
<td class="ln"><a href="#L947610842">72</a></td>
<td class="loc"><pre>    &quot;       INNER JOIN grantmaker b \n&quot;,</pre></td>
</tr><tr id="L2373997932">
<td class="ln"><a href="#L2373997932">73</a></td>
<td class="loc"><pre>    &quot;               ON a.gm_link = b.gm_key \n&quot;,</pre></td>
</tr><tr id="L4561029133">
<td class="ln"><a href="#L4561029133">74</a></td>
<td class="loc"><pre>    &quot;WHERE  b.fcdbwin_gm_key = &#39;FORD010&#39; \n&quot;,</pre></td>
</tr><tr id="L2799630455">
<td class="ln"><a href="#L2799630455">75</a></td>
<td class="loc"><pre>    &quot;       AND Year(a.date_issued) = 2011 \n&quot;,</pre></td>
</tr><tr id="L1037412577">
<td class="ln"><a href="#L1037412577">76</a></td>
<td class="loc"><pre>    &quot;       AND amount &lt; 50000 \n&quot;,</pre></td>
</tr><tr id="L2295634259">
<td class="ln"><a href="#L2295634259">77</a></td>
<td class="loc"><pre>    &quot;       AND Len(Isnull(description, &#39;&#39;)) &gt; 100 \n&quot;,</pre></td>
</tr><tr id="L4719479780">
<td class="ln"><a href="#L4719479780">78</a></td>
<td class="loc"><pre>    &quot;\n&quot;,</pre></td>
</tr><tr id="L2924264530">
<td class="ln"><a href="#L2924264530">79</a></td>
<td class="loc"><pre>    &quot;Using the python features we&#39;ve covered in class about dictionaries, sql, and web services, write a program that gets the grant descriptions and amounts from the database, gets the SDG goal codes based on the grant text, and sums up the grant amounts per SDG goal.&quot;</pre></td>
</tr><tr id="L2417041463">
<td class="ln"><a href="#L2417041463">80</a></td>
<td class="loc"><pre>   ]</pre></td>
</tr><tr id="L654979021">
<td class="ln"><a href="#L654979021">81</a></td>
<td class="loc"><pre>  },</pre></td>
</tr><tr id="L3187900691">
<td class="ln"><a href="#L3187900691">82</a></td>
<td class="loc"><pre>  {</pre></td>
</tr><tr id="L4446507169">
<td class="ln"><a href="#L4446507169">83</a></td>
<td class="loc"><pre>   &quot;cell_type&quot;: &quot;markdown&quot;,</pre></td>
</tr><tr id="L2539904064">
<td class="ln"><a href="#L2539904064">84</a></td>
<td class="loc"><pre>   &quot;metadata&quot;: {},</pre></td>
</tr><tr id="L543615926">
<td class="ln"><a href="#L543615926">85</a></td>
<td class="loc"><pre>   &quot;source&quot;: [</pre></td>
</tr><tr id="L3110976812">
<td class="ln"><a href="#L3110976812">86</a></td>
<td class="loc"><pre>    &quot;## Answers\n&quot;,</pre></td>
</tr><tr id="L4536962202">
<td class="ln"><a href="#L4536962202">87</a></td>
<td class="loc"><pre>    &quot;\n&quot;,</pre></td>
</tr><tr id="L2645923881">
<td class="ln"><a href="#L2645923881">88</a></td>
<td class="loc"><pre>    &quot;From our class session on these problems - note that this code won&#39;t run within a notebook - you will need to create the geo file and call it from your main python code outside of the notebook, e.g., within pycharm.&quot;</pre></td>
</tr><tr id="L682928027">
<td class="ln"><a href="#L682928027">89</a></td>
<td class="loc"><pre>   ]</pre></td>
</tr><tr id="L2297835896">
<td class="ln"><a href="#L2297835896">90</a></td>
<td class="loc"><pre>  },</pre></td>
</tr><tr id="L1039474958">
<td class="ln"><a href="#L1039474958">91</a></td>
<td class="loc"><pre>  {</pre></td>
</tr><tr id="L2801553492">
<td class="ln"><a href="#L2801553492">92</a></td>
<td class="loc"><pre>   &quot;cell_type&quot;: &quot;code&quot;,</pre></td>
</tr><tr id="L4563369954">
<td class="ln"><a href="#L4563369954">93</a></td>
<td class="loc"><pre>   &quot;execution_count&quot;: null,</pre></td>
</tr><tr id="L2388323711">
<td class="ln"><a href="#L2388323711">94</a></td>
<td class="loc"><pre>   &quot;metadata&quot;: {</pre></td>
</tr><tr id="L962583797">
<td class="ln"><a href="#L962583797">95</a></td>
<td class="loc"><pre>    &quot;collapsed&quot;: true</pre></td>
</tr><tr id="L2690157675">
<td class="ln"><a href="#L2690157675">96</a></td>
<td class="loc"><pre>   },</pre></td>
</tr><tr id="L4686199769">
<td class="ln"><a href="#L4686199769">97</a></td>
<td class="loc"><pre>   &quot;outputs&quot;: [],</pre></td>
</tr><tr id="L2261821802">
<td class="ln"><a href="#L2261821802">98</a></td>
<td class="loc"><pre>   &quot;source&quot;: [</pre></td>
</tr><tr id="L801741020">
<td class="ln"><a href="#L801741020">99</a></td>
<td class="loc"><pre>    &quot;# Contents of geo.py:\n&quot;,</pre></td>
</tr><tr id="L1122554489">
<td class="ln"><a href="#L1122554489">100</a></td>
<td class="loc"><pre>    &quot;\n&quot;,</pre></td>
</tr><tr id="L1944183307">
<td class="ln"><a href="#L1944183307">101</a></td>
<td class="loc"><pre>    &quot;import requests\n&quot;,</pre></td>
</tr><tr id="L3974804309">
<td class="ln"><a href="#L3974804309">102</a></td>
<td class="loc"><pre>    &quot;import json\n&quot;,</pre></td>
</tr><tr id="L3656352479">
<td class="ln"><a href="#L3656352479">103</a></td>
<td class="loc"><pre>    &quot;\n&quot;,</pre></td>
</tr><tr id="L1133254274">
<td class="ln"><a href="#L1133254274">104</a></td>
<td class="loc"><pre>    &quot;s = requests.Session()\n&quot;,</pre></td>
</tr><tr id="L1921983988">
<td class="ln"><a href="#L1921983988">105</a></td>
<td class="loc"><pre>    &quot;s.auth = (&#39;[provided in class]&#39;, &#39;[provided in class]&#39;)\n&quot;,</pre></td>
</tr><tr id="L3917903726">
<td class="ln"><a href="#L3917903726">106</a></td>
<td class="loc"><pre>    &quot;\n&quot;,</pre></td>
</tr><tr id="L3699721944">
<td class="ln"><a href="#L3699721944">107</a></td>
<td class="loc"><pre>    &quot;def anything(item):\n&quot;,</pre></td>
</tr><tr id="L1293834855">
<td class="ln"><a href="#L1293834855">108</a></td>
<td class="loc"><pre>    &quot;\n&quot;,</pre></td>
</tr><tr id="L2048747997">
<td class="ln"><a href="#L2048747997">109</a></td>
<td class="loc"><pre>    &quot;    r = s.get(&#39;https://apibeta.foundationcenter.org/v2.0/text/locations?text=&#39; + item)\n&quot;,</pre></td>
</tr><tr id="L1507713850">
<td class="ln"><a href="#L1507713850">110</a></td>
<td class="loc"><pre>    &quot;\n&quot;,</pre></td>
</tr><tr id="L1826411212">
<td class="ln"><a href="#L1826411212">111</a></td>
<td class="loc"><pre>    &quot;    obj = json.loads(r.text)\n&quot;,</pre></td>
</tr><tr id="L4090724886">
<td class="ln"><a href="#L4090724886">112</a></td>
<td class="loc"><pre>    &quot;    lst = obj[\&quot;data\&quot;][\&quot;results\&quot;]\n&quot;,</pre></td>
</tr><tr id="L3268850080">
<td class="ln"><a href="#L3268850080">113</a></td>
<td class="loc"><pre>    &quot;    x = []\n&quot;,</pre></td>
</tr><tr id="L1551050561">
<td class="ln"><a href="#L1551050561">114</a></td>
<td class="loc"><pre>    &quot;\n&quot;,</pre></td>
</tr><tr id="L1769477811">
<td class="ln"><a href="#L1769477811">115</a></td>
<td class="loc"><pre>    &quot;    for i in range(len(lst)):\n&quot;,</pre></td>
</tr><tr id="L4068558381">
<td class="ln"><a href="#L4068558381">116</a></td>
<td class="loc"><pre>    &quot;        y = lst[i][\&quot;geoplace_key\&quot;]\n&quot;,</pre></td>
</tr><tr id="L3279582615">
<td class="ln"><a href="#L3279582615">117</a></td>
<td class="loc"><pre>    &quot;        z = lst[i][\&quot;name\&quot;]\n&quot;,</pre></td>
</tr><tr id="L1412000552">
<td class="ln"><a href="#L1412000552">118</a></td>
<td class="loc"><pre>    &quot;        r = (y, z)\n&quot;,</pre></td>
</tr><tr id="L1663195806">
<td class="ln"><a href="#L1663195806">119</a></td>
<td class="loc"><pre>    &quot;        x.append(r)\n&quot;,</pre></td>
</tr><tr id="L817017847">
<td class="ln"><a href="#L817017847">120</a></td>
<td class="loc"><pre>    &quot;\n&quot;,</pre></td>
</tr><tr id="L2243396749">
<td class="ln"><a href="#L2243396749">121</a></td>
<td class="loc"><pre>    &quot;    return x&quot;</pre></td>
</tr><tr id="L4810921171">
<td class="ln"><a href="#L4810921171">122</a></td>
<td class="loc"><pre>   ]</pre></td>
</tr><tr id="L2813977953">
<td class="ln"><a href="#L2813977953">123</a></td>
<td class="loc"><pre>  },</pre></td>
</tr><tr id="L899577856">
<td class="ln"><a href="#L899577856">124</a></td>
<td class="loc"><pre>  {</pre></td>
</tr><tr id="L2157791350">
<td class="ln"><a href="#L2157791350">125</a></td>
<td class="loc"><pre>   &quot;cell_type&quot;: &quot;code&quot;,</pre></td>
</tr><tr id="L4690548972">
<td class="ln"><a href="#L4690548972">126</a></td>
<td class="loc"><pre>   &quot;execution_count&quot;: null,</pre></td>
</tr><tr id="L2929142106">
<td class="ln"><a href="#L2929142106">127</a></td>
<td class="loc"><pre>   &quot;metadata&quot;: {</pre></td>
</tr><tr id="L1057766377">
<td class="ln"><a href="#L1057766377">128</a></td>
<td class="loc"><pre>    &quot;collapsed&quot;: false</pre></td>
</tr><tr id="L2282687579">
<td class="ln"><a href="#L2282687579">129</a></td>
<td class="loc"><pre>   },</pre></td>
</tr><tr id="L667649208">
<td class="ln"><a href="#L667649208">130</a></td>
<td class="loc"><pre>   &quot;outputs&quot;: [],</pre></td>
</tr><tr id="L2664346958">
<td class="ln"><a href="#L2664346958">131</a></td>
<td class="loc"><pre>   &quot;source&quot;: [</pre></td>
</tr><tr id="L4391822228">
<td class="ln"><a href="#L4391822228">132</a></td>
<td class="loc"><pre>    &quot;# Content of main script file:\n&quot;,</pre></td>
</tr><tr id="L2965689378">
<td class="ln"><a href="#L2965689378">133</a></td>
<td class="loc"><pre>    &quot;\n&quot;,</pre></td>
</tr><tr id="L782846143">
<td class="ln"><a href="#L782846143">134</a></td>
<td class="loc"><pre>    &quot;import pyodbc\n&quot;,</pre></td>
</tr><tr id="L2544007477">
<td class="ln"><a href="#L2544007477">135</a></td>
<td class="loc"><pre>    &quot;import geo\n&quot;,</pre></td>
</tr><tr id="L4306184107">
<td class="ln"><a href="#L4306184107">136</a></td>
<td class="loc"><pre>    &quot;\n&quot;,</pre></td>
</tr><tr id="L3048216601">
<td class="ln"><a href="#L3048216601">137</a></td>
<td class="loc"><pre>    &quot;cnxn = pyodbc.connect(\&quot;DRIVER={SQL Server};SERVER=172.16.7.121;DATABASE=fc_sample;uid=python_class_user;pwd=[provided in class]\&quot;)\n&quot;,</pre></td>
</tr><tr id="L636685482">
<td class="ln"><a href="#L636685482">138</a></td>
<td class="loc"><pre>    &quot;sql = \&quot;SELECT top 10 a.fcdbwin_gm_key, a.NAME, b.description FROM grantmaker a INNER JOIN long_text b ON a.gm_key = b.gm_key WHERE b.text_type = &#39;LM&#39; AND a.state = &#39;NY&#39; AND a.county = &#39;Kings&#39;\&quot;\n&quot;,</pre></td>
</tr><tr id="L2432187676">
<td class="ln"><a href="#L2432187676">139</a></td>
<td class="loc"><pre>    &quot;cursor = cnxn.cursor()\n&quot;,</pre></td>
</tr><tr id="L1720522621">
<td class="ln"><a href="#L1720522621">140</a></td>
<td class="loc"><pre>    &quot;limitation = []\n&quot;,</pre></td>
</tr><tr id="L1334716167">
<td class="ln"><a href="#L1334716167">141</a></td>
<td class="loc"><pre>    &quot;\n&quot;,</pre></td>
</tr><tr id="L3364320849">
<td class="ln"><a href="#L3364320849">142</a></td>
<td class="loc"><pre>    &quot;for row in cursor.execute(sql):\n&quot;,</pre></td>
</tr><tr id="L4253304291">
<td class="ln"><a href="#L4253304291">143</a></td>
<td class="loc"><pre>    &quot;    limitation.append(row[2])\n&quot;,</pre></td>
</tr><tr id="L1609028486">
<td class="ln"><a href="#L1609028486">144</a></td>
<td class="loc"><pre>    &quot;\n&quot;,</pre></td>
</tr><tr id="L1457709808">
<td class="ln"><a href="#L1457709808">145</a></td>
<td class="loc"><pre>    &quot;cursor.close()\n&quot;,</pre></td>
</tr><tr id="L3454644842">
<td class="ln"><a href="#L3454644842">146</a></td>
<td class="loc"><pre>    &quot;q = []\n&quot;,</pre></td>
</tr><tr id="L4176511452">
<td class="ln"><a href="#L4176511452">147</a></td>
<td class="loc"><pre>    &quot;\n&quot;,</pre></td>
</tr><tr id="L1764859755">
<td class="ln"><a href="#L1764859755">148</a></td>
<td class="loc"><pre>    &quot;for item in limitation:\n&quot;,</pre></td>
</tr><tr id="L1580773081">
<td class="ln"><a href="#L1580773081">149</a></td>
<td class="loc"><pre>    &quot;    x = geo.anything(item)\n&quot;,</pre></td>
</tr><tr id="L2104632894">
<td class="ln"><a href="#L2104632894">150</a></td>
<td class="loc"><pre>    &quot;    q.append(x)\n&quot;,</pre></td>
</tr><tr id="L1215894984">
<td class="ln"><a href="#L1215894984">151</a></td>
<td class="loc"><pre>    &quot;pair = zip(q, limitation)\n&quot;,</pre></td>
</tr><tr id="L3481290514">
<td class="ln"><a href="#L3481290514">152</a></td>
<td class="loc"><pre>    &quot;\n&quot;,</pre></td>
</tr><tr id="L3866850980">
<td class="ln"><a href="#L3866850980">153</a></td>
<td class="loc"><pre>    &quot;print(list(pair))\n&quot;</pre></td>
</tr><tr id="L2027872837">
<td class="ln"><a href="#L2027872837">154</a></td>
<td class="loc"><pre>   ]</pre></td>
</tr><tr id="L1306251695">
<td class="ln"><a href="#L1306251695">155</a></td>
<td class="loc"><pre>  },</pre></td>
</tr><tr id="L3604251433">
<td class="ln"><a href="#L3604251433">156</a></td>
<td class="loc"><pre>  {</pre></td>
</tr><tr id="L3755324059">
<td class="ln"><a href="#L3755324059">157</a></td>
<td class="loc"><pre>   &quot;cell_type&quot;: &quot;code&quot;,</pre></td>
</tr><tr id="L1884073516">
<td class="ln"><a href="#L1884073516">158</a></td>
<td class="loc"><pre>   &quot;execution_count&quot;: null,</pre></td>
</tr><tr id="L1196268954">
<td class="ln"><a href="#L1196268954">159</a></td>
<td class="loc"><pre>   &quot;metadata&quot;: {</pre></td>
</tr><tr id="L2493479163">
<td class="ln"><a href="#L2493479163">160</a></td>
<td class="loc"><pre>    &quot;collapsed&quot;: true</pre></td>
</tr><tr id="L563890569">
<td class="ln"><a href="#L563890569">161</a></td>
<td class="loc"><pre>   },</pre></td>
</tr><tr id="L3130333135">
<td class="ln"><a href="#L3130333135">162</a></td>
<td class="loc"><pre>   &quot;outputs&quot;: [],</pre></td>
</tr><tr id="L4489357413">
<td class="ln"><a href="#L4489357413">163</a></td>
<td class="loc"><pre>   &quot;source&quot;: []</pre></td>
</tr><tr id="L2444342532">
<td class="ln"><a href="#L2444342532">164</a></td>
<td class="loc"><pre>  },</pre></td>
</tr><tr id="L616072562">
<td class="ln"><a href="#L616072562">165</a></td>
<td class="loc"><pre>  {</pre></td>
</tr><tr id="L3149911016">
<td class="ln"><a href="#L3149911016">166</a></td>
<td class="loc"><pre>   &quot;cell_type&quot;: &quot;code&quot;,</pre></td>
</tr><tr id="L4474987614">
<td class="ln"><a href="#L4474987614">167</a></td>
<td class="loc"><pre>   &quot;execution_count&quot;: null,</pre></td>
</tr><tr id="L2607284461">
<td class="ln"><a href="#L2607284461">168</a></td>
<td class="loc"><pre>   &quot;metadata&quot;: {</pre></td>
</tr><tr id="L744673623">
<td class="ln"><a href="#L744673623">169</a></td>
<td class="loc"><pre>    &quot;collapsed&quot;: true</pre></td>
</tr><tr id="L2343061436">
<td class="ln"><a href="#L2343061436">170</a></td>
<td class="loc"><pre>   },</pre></td>
</tr><tr id="L983791690">
<td class="ln"><a href="#L983791690">171</a></td>
<td class="loc"><pre>   &quot;outputs&quot;: [],</pre></td>
</tr><tr id="L2712283280">
<td class="ln"><a href="#L2712283280">172</a></td>
<td class="loc"><pre>   &quot;source&quot;: []</pre></td>
</tr><tr id="L4642117926">
<td class="ln"><a href="#L4642117926">173</a></td>
<td class="loc"><pre>  }</pre></td>
</tr><tr id="L2328658883">
<td class="ln"><a href="#L2328658883">174</a></td>
<td class="loc"><pre> ],</pre></td>
</tr><tr id="L1003336753">
<td class="ln"><a href="#L1003336753">175</a></td>
<td class="loc"><pre> &quot;metadata&quot;: {</pre></td>
</tr><tr id="L2764498087">
<td class="ln"><a href="#L2764498087">176</a></td>
<td class="loc"><pre>  &quot;anaconda-cloud&quot;: {},</pre></td>
</tr><tr id="L4593014045">
<td class="ln"><a href="#L4593014045">177</a></td>
<td class="loc"><pre>  &quot;kernelspec&quot;: {</pre></td>
</tr><tr id="L2187251630">
<td class="ln"><a href="#L2187251630">178</a></td>
<td class="loc"><pre>   &quot;display_name&quot;: &quot;Python [default]&quot;,</pre></td>
</tr><tr id="L895221784">
<td class="ln"><a href="#L895221784">179</a></td>
<td class="loc"><pre>   &quot;language&quot;: &quot;python&quot;,</pre></td>
</tr><tr id="L4481637489">
<td class="ln"><a href="#L4481637489">180</a></td>
<td class="loc"><pre>   &quot;name&quot;: &quot;python3&quot;</pre></td>
</tr><tr id="L3155913731">
<td class="ln"><a href="#L3155913731">181</a></td>
<td class="loc"><pre>  },</pre></td>
</tr><tr id="L621952349">
<td class="ln"><a href="#L621952349">182</a></td>
<td class="loc"><pre>  &quot;language_info&quot;: {</pre></td>
</tr><tr id="L2451115239">
<td class="ln"><a href="#L2451115239">183</a></td>
<td class="loc"><pre>   &quot;codemirror_mode&quot;: {</pre></td>
</tr><tr id="L4499742858">
<td class="ln"><a href="#L4499742858">184</a></td>
<td class="loc"><pre>    &quot;name&quot;: &quot;ipython&quot;,</pre></td>
</tr><tr id="L3140857852">
<td class="ln"><a href="#L3140857852">185</a></td>
<td class="loc"><pre>    &quot;version&quot;: 3</pre></td>
</tr><tr id="L574554470">
<td class="ln"><a href="#L574554470">186</a></td>
<td class="loc"><pre>   },</pre></td>
</tr><tr id="L2503725264">
<td class="ln"><a href="#L2503725264">187</a></td>
<td class="loc"><pre>   &quot;file_extension&quot;: &quot;.py&quot;,</pre></td>
</tr><tr id="L4377203807">
<td class="ln"><a href="#L4377203807">188</a></td>
<td class="loc"><pre>   &quot;mimetype&quot;: &quot;text/x-python&quot;,</pre></td>
</tr><tr id="L2984502229">
<td class="ln"><a href="#L2984502229">189</a></td>
<td class="loc"><pre>   &quot;name&quot;: &quot;python&quot;,</pre></td>
</tr><tr id="L4599541042">
<td class="ln"><a href="#L4599541042">190</a></td>
<td class="loc"><pre>   &quot;nbconvert_exporter&quot;: &quot;python&quot;,</pre></td>
</tr><tr id="L2770623684">
<td class="ln"><a href="#L2770623684">191</a></td>
<td class="loc"><pre>   &quot;pygments_lexer&quot;: &quot;ipython3&quot;,</pre></td>
</tr><tr id="L1009585182">
<td class="ln"><a href="#L1009585182">192</a></td>
<td class="loc"><pre>   &quot;version&quot;: &quot;3.5.2&quot;</pre></td>
</tr><tr id="L2335062952">
<td class="ln"><a href="#L2335062952">193</a></td>
<td class="loc"><pre>  }</pre></td>
</tr><tr id="L4652118345">
<td class="ln"><a href="#L4652118345">194</a></td>
<td class="loc"><pre> },</pre></td>
</tr><tr id="L2723193019">
<td class="ln"><a href="#L2723193019">195</a></td>
<td class="loc"><pre> &quot;nbformat&quot;: 4,</pre></td>
</tr><tr id="L994562085">
<td class="ln"><a href="#L994562085">196</a></td>
<td class="loc"><pre> &quot;nbformat_minor&quot;: 1</pre></td>
</tr><tr id="L2353201039">
<td class="ln"><a href="#L2353201039">197</a></td>
<td class="loc"><pre>}</pre></td>
</tr>
</tbody>
</table>

    </div>
  </div>

  
<form id="tpl-comment-form" class="loc_comment_form hide" data-show-blame="true" action="/fc_training/comments?origin=file" accept-charset="UTF-8" method="post"><input name="utf8" type="hidden" value="&#x2713;" /><input type="hidden" name="authenticity_token" value="AOjvxTRV1HO1ypzqFeqMPXEaI3OnpH1QCMdo/0TwZ0Ao//I5eSzaDJhriLHrYxxdUb4DoqmAKSQce/andVyqCA==" />
  <input type="hidden" name="comment[file_path]" class="js-comment-filepath">
  <input type="hidden" name="comment[line_numbers]" class="js-comment-loc">
  <input type="hidden" name="comment[context_base64]" class="js-comment-context">
  <input type="hidden" name="comment[revision]" class="js-comment-revision">
  <input type="hidden" name="comment[code_review_id]" value="">

  <fieldset>
    <textarea name="comment[body]" cols="80" rows="5" class="loc_comment_textarea" placeholder="Leave a comment. Use @username and @team to notify users and teams." data-users="/fc_training/comments/notifies.json"></textarea>

    <div class="loc_comment_error hide">
      <p class="icon-warning icon-warning--red"></p>
    </div>

    <div class="loc_comment_actions loc_comment_actions--publish">
      <input type="submit" value="Comment on this line" data-comment-value="Comment on this line" data-editing-value="Save changes" class="button">
      <span class="sep">or</span>
      <a href="/fc_training/comments?origin=file&amp;preview=true" class="link-action js-preview-comment">Preview</a>
      <a href="/help/markdown.html" rel="help" class="link-syntax link-action">Markdown syntax</a>
      <button class="loc_comment_close js-close-ic-form">&times;</button>
    </div>

    <div class="loc_comment_actions loc_comment_actions--preview hide">
      <input type="submit" value="Comment on this line" data-comment-value="Comment on this line" data-editing-value="Save changes" class="button">
      <span class="sep">or</span>
      <a href="#" class="link-action js-cancel-preview">Keep editing</a>
    </div>
  </fieldset>
</form>
  <!-- Blame -->
  <div id="tpl-comment-blame" class="loc_comment_blame is-loading hide"></div>

<!-- Comment -->
<div id="tpl-comment" class="loc_comment hide">
  <div class="loc_comment_wrap text-markdown">
    <p>
      <span class="loc_comment_author"><span class="userpic size-small"><img src="" alt="" /><b></b></span> <strong></strong>:</span>
      <span class="loc_comment_footer">
  			<span class="loc_comment_edit hide">
          <a href="/fc_training/comments/-id-" class="js-comment-edit">Edit</a>
          or <a href="/fc_training/comments/-id-" class="js-comment-delete">delete</a>
          within the next <a href="#" class="loc_comment_anchor time-remaining">15 min</a>
        </span>

        <span class="loc_comment_meta">
          <a href="#" class="loc_comment_anchor"><time class="loc_comment_time" datetime=""></time></a>
            <span class="loc_comment_rev" data-ref-name="revision" data-current-ref="4"></span>
        </span>
      </span>
    </p>
  </div>
</div>

<!-- Comment Indicator -->
<div id="tpl-comment-indicator" class="hide">
  <div class="loc_comment_indicator js-show-comment">
    <span class="userpic size-small"><img src="" alt="" /><b></b></span>
  </div>
  <button class="loc_comment_collapse js-hide-comment hide">Hide</button>
</div>
</div>

        </div>
      </div>

      <div id="footer">
        <div class="wildbit">
  <a class="beanstalk-logo" href="http://beanstalkapp.com" title="Beanstalk &nbsp; version control for team leads">&nbsp;</a>
  <p class="vcard">&copy; 2007-2017, <a href="http://www.wildbit.com/" class="fn org url">Wildbit LLC</a>. All rights reserved.</p>
  <p>
    <a href="http://blog.beanstalkapp.com/">Blog</a> <span class="sep">&bull;</span> 
    <a href="http://twitter.com/beanstalkapp">Twitter</a> <span class="sep">&bull;</span>
    <a href="http://shop.wildbit.com">Shop</a> <span class="sep">&bull;</span>
    <a href="http://status.beanstalkapp.com/">System Status</a> <span class="sep">&bull;</span>
    <a href="http://wildbit.com/privacy-policy">Privacy Policy</a> <span class="sep">&bull;</span> 
    <a href="http://beanstalkapp.com/terms-of-service">Terms of Use</a>
  </p>
</div>

      </div>
    </div>
    
      <script>
  var _prum = [['id', '52094e69abe53d7851000000'],
    ['mark', 'firstbyte', (new Date()).getTime()]];
  (function() {
    var s = document.getElementsByTagName('script')[0]
        , p = document.createElement('script');
    p.async = 'async';
    p.src = '//rum-static.pingdom.net/prum.min.js';
    s.parentNode.insertBefore(p, s);
  })();
</script>

    <script type="text/javascript">
    var _cio = _cio || [];

    (function() {
      var a,b,c;a=function(f){return function(){_cio.push([f].
          concat(Array.prototype.slice.call(arguments,0)))}};b=["identify",
        "track"];for(c=0;c<b.length;c++){_cio[b[c]]=a(b[c])};
      var t = document.createElement('script'),
          s = document.getElementsByTagName('script')[0];
      t.async = true;
      t.id    = 'cio-tracker';
      t.setAttribute('data-site-id', 'b3f3284b0ecafe7a962e');
      t.src = 'https://assets.customer.io/assets/track.js';
      s.parentNode.insertBefore(t, s);
    })();

    _cio.identify({id: '79028'});
  </script>


    <script type="text/javascript">
  $(function(){
    Revisions.init({
      url: ':href',
      disabled: {
        revisions: [4]
      }
    });
  });
</script>
<div id="commits-container" class="hide">
  <div class="ref-wrap">
    <div class="ref-container ref-revisions hide" data-scope="revisions">
      <form action="#" action="get" class="ref-search">
        <fieldset class="ref-search-wrap">
          <input type="text" class="ref-search-field" placeholder="Search revisions" />
          <input type="submit" value="Search" class="action-search">
          <b class="action-clear hide">Reset</b>
        </fieldset>

        <fieldset class="ref-search-filter ref-search-filter--with-mode">

          <label class="select-cover fullwidth">
            <span class="select-cover_label i-user">All users</span>
            <select class="ref-filter-user" data-uri="/search/users.json?r=fc_training">
              <option value="">All users</option>
            </select>
          </label>

            <div class="ref-filter-mode">
              <a href="#" class="ref-mode_toggle i-repository" data-mode="repo" title="Show all commits and branches">Repository</a>
                <a href="#" class="ref-mode_toggle i-file disabled" data-mode="path" title="Only show commits and branches that changed this file">File</a>
            </div>
        </fieldset>
      </form>

      <ul class="ref-list"></ul>
    </div>
  </div>
</div>
  </body>
</html>
